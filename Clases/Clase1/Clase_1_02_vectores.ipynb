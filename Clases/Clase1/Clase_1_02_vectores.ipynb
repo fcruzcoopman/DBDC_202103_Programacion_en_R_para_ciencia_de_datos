{
  "nbformat": 4,
  "nbformat_minor": 0,
  "metadata": {
    "colab": {
      "name": "Clase_1_02_vectores.ipynb",
      "provenance": [],
      "collapsed_sections": [],
      "include_colab_link": true
    },
    "kernelspec": {
      "name": "ir",
      "display_name": "R"
    }
  },
  "cells": [
    {
      "cell_type": "markdown",
      "metadata": {
        "id": "view-in-github",
        "colab_type": "text"
      },
      "source": [
        "<a href=\"https://colab.research.google.com/github/majorquev/DBDC_202103_Programacion_en_R_para_ciencia_de_datos/blob/main/Clases/Clase1/Clase_1_02_vectores.ipynb\" target=\"_parent\"><img src=\"https://colab.research.google.com/assets/colab-badge.svg\" alt=\"Open In Colab\"/></a>"
      ]
    },
    {
      "cell_type": "markdown",
      "metadata": {
        "collapsed": true,
        "id": "Yb2RXjL2Igun"
      },
      "source": [
        "# Parte 1: Introducción a R (continuación)\n",
        "\n",
        "**Autor:** Miguel Jorquera Viguera<br>\n",
        "**E-mail:** majorquev@gmail.com<br>\n",
        "**Ayudante:** Jorge Arévalo Labarca <br>\n",
        "**E-mail ayudante:** jorge.arevalol@usach.cl\n",
        "\n"
      ]
    },
    {
      "cell_type": "markdown",
      "metadata": {
        "id": "d_bHZs66Iguo"
      },
      "source": [
        "## 3. Vectores y matrices\n",
        "\n",
        "### 3.1 Vectores\n",
        "\n",
        "En R, así como en la mayoría de los lenguajes de programación, uno de los objetos más usuales para almacenar información son los vectores, los que corresponden a arreglos unidimensionales que almacenan un mismo tipo de dato en cada una de sus entradas.\n",
        "\n",
        "Todo vector en R se puede declarar con la letra \"c\" seguido de los elementos que lo componen entre paréntesis y separados por comas."
      ]
    },
    {
      "cell_type": "code",
      "metadata": {
        "id": "ljQ0JcsTIgup"
      },
      "source": [
        "# Declaración de dos vectores\n",
        "v1 <- c(1,2.2, 6, 1500)\n",
        "v2 <- c('hola', 'soy','miguel')"
      ],
      "execution_count": null,
      "outputs": []
    },
    {
      "cell_type": "code",
      "metadata": {
        "id": "WtKlquMlH0ga",
        "colab": {
          "base_uri": "https://localhost:8080/",
          "height": 34
        },
        "outputId": "915f298f-8b1e-4d80-a882-76a9c4bce712"
      },
      "source": [
        "v1"
      ],
      "execution_count": null,
      "outputs": [
        {
          "output_type": "display_data",
          "data": {
            "text/plain": [
              "[1]    1.0    2.2    6.0 1500.0"
            ],
            "text/latex": "\\begin{enumerate*}\n\\item 1\n\\item 2.2\n\\item 6\n\\item 1500\n\\end{enumerate*}\n",
            "text/markdown": "1. 1\n2. 2.2\n3. 6\n4. 1500\n\n\n",
            "text/html": [
              "<style>\n",
              ".list-inline {list-style: none; margin:0; padding: 0}\n",
              ".list-inline>li {display: inline-block}\n",
              ".list-inline>li:not(:last-child)::after {content: \"\\00b7\"; padding: 0 .5ex}\n",
              "</style>\n",
              "<ol class=list-inline><li>1</li><li>2.2</li><li>6</li><li>1500</li></ol>\n"
            ]
          },
          "metadata": {
            "tags": []
          }
        }
      ]
    },
    {
      "cell_type": "code",
      "metadata": {
        "id": "GxHhDdS4Iguy",
        "colab": {
          "base_uri": "https://localhost:8080/",
          "height": 51
        },
        "outputId": "2084fe0c-e653-415d-a198-c375b71cf8ce"
      },
      "source": [
        "# clase y tipo de dato\n",
        "class(v1)\n",
        "typeof(v1)"
      ],
      "execution_count": null,
      "outputs": [
        {
          "output_type": "display_data",
          "data": {
            "text/plain": [
              "[1] \"numeric\""
            ],
            "text/latex": "'numeric'",
            "text/markdown": "'numeric'",
            "text/html": [
              "'numeric'"
            ]
          },
          "metadata": {
            "tags": []
          }
        },
        {
          "output_type": "display_data",
          "data": {
            "text/plain": [
              "[1] \"double\""
            ],
            "text/latex": "'double'",
            "text/markdown": "'double'",
            "text/html": [
              "'double'"
            ]
          },
          "metadata": {
            "tags": []
          }
        }
      ]
    },
    {
      "cell_type": "code",
      "metadata": {
        "id": "ZhkF2b3bIPe4",
        "colab": {
          "base_uri": "https://localhost:8080/",
          "height": 51
        },
        "outputId": "2b740faf-f814-40c9-e825-dadc2769b77b"
      },
      "source": [
        "class(v2)\n",
        "typeof(v2)"
      ],
      "execution_count": null,
      "outputs": [
        {
          "output_type": "display_data",
          "data": {
            "text/plain": [
              "[1] \"character\""
            ],
            "text/latex": "'character'",
            "text/markdown": "'character'",
            "text/html": [
              "'character'"
            ]
          },
          "metadata": {
            "tags": []
          }
        },
        {
          "output_type": "display_data",
          "data": {
            "text/plain": [
              "[1] \"character\""
            ],
            "text/latex": "'character'",
            "text/markdown": "'character'",
            "text/html": [
              "'character'"
            ]
          },
          "metadata": {
            "tags": []
          }
        }
      ]
    },
    {
      "cell_type": "code",
      "metadata": {
        "id": "FUBvbIN9Igu4",
        "colab": {
          "base_uri": "https://localhost:8080/",
          "height": 51
        },
        "outputId": "03b97c64-8033-4ffe-dab9-016d8a2913a0"
      },
      "source": [
        "# vectores lógicos\n",
        "vl <- c(T, F, T)\n",
        "class(vl)\n",
        "typeof(vl)"
      ],
      "execution_count": null,
      "outputs": [
        {
          "output_type": "display_data",
          "data": {
            "text/plain": [
              "[1] \"logical\""
            ],
            "text/latex": "'logical'",
            "text/markdown": "'logical'",
            "text/html": [
              "'logical'"
            ]
          },
          "metadata": {
            "tags": []
          }
        },
        {
          "output_type": "display_data",
          "data": {
            "text/plain": [
              "[1] \"logical\""
            ],
            "text/latex": "'logical'",
            "text/markdown": "'logical'",
            "text/html": [
              "'logical'"
            ]
          },
          "metadata": {
            "tags": []
          }
        }
      ]
    },
    {
      "cell_type": "code",
      "metadata": {
        "id": "6yqFPPGXIgpv"
      },
      "source": [
        "v3 <- c(1, 'x')"
      ],
      "execution_count": null,
      "outputs": []
    },
    {
      "cell_type": "code",
      "metadata": {
        "id": "u7MT9oMmIkXF",
        "colab": {
          "base_uri": "https://localhost:8080/",
          "height": 68
        },
        "outputId": "4c969027-9afb-4b14-aa76-3013c44d612e"
      },
      "source": [
        "v3\n",
        "class(v3)\n",
        "typeof(v3)"
      ],
      "execution_count": null,
      "outputs": [
        {
          "output_type": "display_data",
          "data": {
            "text/plain": [
              "[1] \"1\" \"x\""
            ],
            "text/latex": "\\begin{enumerate*}\n\\item '1'\n\\item 'x'\n\\end{enumerate*}\n",
            "text/markdown": "1. '1'\n2. 'x'\n\n\n",
            "text/html": [
              "<style>\n",
              ".list-inline {list-style: none; margin:0; padding: 0}\n",
              ".list-inline>li {display: inline-block}\n",
              ".list-inline>li:not(:last-child)::after {content: \"\\00b7\"; padding: 0 .5ex}\n",
              "</style>\n",
              "<ol class=list-inline><li>'1'</li><li>'x'</li></ol>\n"
            ]
          },
          "metadata": {
            "tags": []
          }
        },
        {
          "output_type": "display_data",
          "data": {
            "text/plain": [
              "[1] \"character\""
            ],
            "text/latex": "'character'",
            "text/markdown": "'character'",
            "text/html": [
              "'character'"
            ]
          },
          "metadata": {
            "tags": []
          }
        },
        {
          "output_type": "display_data",
          "data": {
            "text/plain": [
              "[1] \"character\""
            ],
            "text/latex": "'character'",
            "text/markdown": "'character'",
            "text/html": [
              "'character'"
            ]
          },
          "metadata": {
            "tags": []
          }
        }
      ]
    },
    {
      "cell_type": "code",
      "metadata": {
        "id": "iGkldoQTI9yq",
        "colab": {
          "base_uri": "https://localhost:8080/",
          "height": 68
        },
        "outputId": "967cacd7-ffa1-4f1c-e40c-b3089718b4eb"
      },
      "source": [
        "TRUE* 40\n",
        "FALSE*50\n",
        "\n",
        "T + T + T"
      ],
      "execution_count": null,
      "outputs": [
        {
          "output_type": "display_data",
          "data": {
            "text/plain": [
              "[1] 40"
            ],
            "text/latex": "40",
            "text/markdown": "40",
            "text/html": [
              "40"
            ]
          },
          "metadata": {
            "tags": []
          }
        },
        {
          "output_type": "display_data",
          "data": {
            "text/plain": [
              "[1] 0"
            ],
            "text/latex": "0",
            "text/markdown": "0",
            "text/html": [
              "0"
            ]
          },
          "metadata": {
            "tags": []
          }
        },
        {
          "output_type": "display_data",
          "data": {
            "text/plain": [
              "[1] 3"
            ],
            "text/latex": "3",
            "text/markdown": "3",
            "text/html": [
              "3"
            ]
          },
          "metadata": {
            "tags": []
          }
        }
      ]
    },
    {
      "cell_type": "code",
      "metadata": {
        "id": "R88mjniaIgu_",
        "colab": {
          "base_uri": "https://localhost:8080/",
          "height": 34
        },
        "outputId": "93e1c11b-7bfc-45ee-e660-0f31fa979e8b"
      },
      "source": [
        "# Nombres de las entradas de un vector\n",
        "v4 <- c(\"n1\" = 5, \"n2\" = 6)\n",
        "v4"
      ],
      "execution_count": null,
      "outputs": [
        {
          "output_type": "display_data",
          "data": {
            "text/plain": [
              "n1 n2 \n",
              " 5  6 "
            ],
            "text/latex": "\\begin{description*}\n\\item[n1] 5\n\\item[n2] 6\n\\end{description*}\n",
            "text/markdown": "n1\n:   5n2\n:   6\n\n",
            "text/html": [
              "<style>\n",
              ".dl-inline {width: auto; margin:0; padding: 0}\n",
              ".dl-inline>dt, .dl-inline>dd {float: none; width: auto; display: inline-block}\n",
              ".dl-inline>dt::after {content: \":\\0020\"; padding-right: .5ex}\n",
              ".dl-inline>dt:not(:first-of-type) {padding-left: .5ex}\n",
              "</style><dl class=dl-inline><dt>n1</dt><dd>5</dd><dt>n2</dt><dd>6</dd></dl>\n"
            ]
          },
          "metadata": {
            "tags": []
          }
        }
      ]
    },
    {
      "cell_type": "code",
      "metadata": {
        "id": "ACrWaV2ZJsaD",
        "colab": {
          "base_uri": "https://localhost:8080/",
          "height": 34
        },
        "outputId": "2308ef9b-a67e-485a-ea09-52a529c7266a"
      },
      "source": [
        "names(v4)"
      ],
      "execution_count": null,
      "outputs": [
        {
          "output_type": "display_data",
          "data": {
            "text/plain": [
              "[1] \"n1\" \"n2\""
            ],
            "text/latex": "\\begin{enumerate*}\n\\item 'n1'\n\\item 'n2'\n\\end{enumerate*}\n",
            "text/markdown": "1. 'n1'\n2. 'n2'\n\n\n",
            "text/html": [
              "<style>\n",
              ".list-inline {list-style: none; margin:0; padding: 0}\n",
              ".list-inline>li {display: inline-block}\n",
              ".list-inline>li:not(:last-child)::after {content: \"\\00b7\"; padding: 0 .5ex}\n",
              "</style>\n",
              "<ol class=list-inline><li>'n1'</li><li>'n2'</li></ol>\n"
            ]
          },
          "metadata": {
            "tags": []
          }
        }
      ]
    },
    {
      "cell_type": "code",
      "metadata": {
        "id": "OAhPpN3vIgvB",
        "colab": {
          "base_uri": "https://localhost:8080/",
          "height": 34
        },
        "outputId": "bd1ddec9-e771-4cbd-eb74-ffd3ace35339"
      },
      "source": [
        "# podemos asignar los nombres a vector 1\n",
        "v1"
      ],
      "execution_count": null,
      "outputs": [
        {
          "output_type": "display_data",
          "data": {
            "text/plain": [
              "[1]    1.0    2.2    6.0 1500.0"
            ],
            "text/latex": "\\begin{enumerate*}\n\\item 1\n\\item 2.2\n\\item 6\n\\item 1500\n\\end{enumerate*}\n",
            "text/markdown": "1. 1\n2. 2.2\n3. 6\n4. 1500\n\n\n",
            "text/html": [
              "<style>\n",
              ".list-inline {list-style: none; margin:0; padding: 0}\n",
              ".list-inline>li {display: inline-block}\n",
              ".list-inline>li:not(:last-child)::after {content: \"\\00b7\"; padding: 0 .5ex}\n",
              "</style>\n",
              "<ol class=list-inline><li>1</li><li>2.2</li><li>6</li><li>1500</li></ol>\n"
            ]
          },
          "metadata": {
            "tags": []
          }
        }
      ]
    },
    {
      "cell_type": "code",
      "metadata": {
        "id": "xZgMsxjoJyOl"
      },
      "source": [
        "names(v1) <- c('a','b','c','d')"
      ],
      "execution_count": null,
      "outputs": []
    },
    {
      "cell_type": "code",
      "metadata": {
        "id": "Bu4IdJqnJ_uY",
        "colab": {
          "base_uri": "https://localhost:8080/",
          "height": 34
        },
        "outputId": "aaddb56f-d13c-4954-ecec-a5e31db593f3"
      },
      "source": [
        "v1"
      ],
      "execution_count": null,
      "outputs": [
        {
          "output_type": "display_data",
          "data": {
            "text/plain": [
              "     a      b      c      d \n",
              "   1.0    2.2    6.0 1500.0 "
            ],
            "text/latex": "\\begin{description*}\n\\item[a] 1\n\\item[b] 2.2\n\\item[c] 6\n\\item[d] 1500\n\\end{description*}\n",
            "text/markdown": "a\n:   1b\n:   2.2c\n:   6d\n:   1500\n\n",
            "text/html": [
              "<style>\n",
              ".dl-inline {width: auto; margin:0; padding: 0}\n",
              ".dl-inline>dt, .dl-inline>dd {float: none; width: auto; display: inline-block}\n",
              ".dl-inline>dt::after {content: \":\\0020\"; padding-right: .5ex}\n",
              ".dl-inline>dt:not(:first-of-type) {padding-left: .5ex}\n",
              "</style><dl class=dl-inline><dt>a</dt><dd>1</dd><dt>b</dt><dd>2.2</dd><dt>c</dt><dd>6</dd><dt>d</dt><dd>1500</dd></dl>\n"
            ]
          },
          "metadata": {
            "tags": []
          }
        }
      ]
    },
    {
      "cell_type": "code",
      "metadata": {
        "id": "E6dxkyP5IgvF",
        "colab": {
          "base_uri": "https://localhost:8080/",
          "height": 34
        },
        "outputId": "65e9e886-e780-4235-88d3-4be9aace062b"
      },
      "source": [
        "# nombres de las entradas con la función, names()\n",
        "names(v1)"
      ],
      "execution_count": null,
      "outputs": [
        {
          "output_type": "display_data",
          "data": {
            "text/plain": [
              "[1] \"a\" \"b\" \"c\" \"d\""
            ],
            "text/latex": "\\begin{enumerate*}\n\\item 'a'\n\\item 'b'\n\\item 'c'\n\\item 'd'\n\\end{enumerate*}\n",
            "text/markdown": "1. 'a'\n2. 'b'\n3. 'c'\n4. 'd'\n\n\n",
            "text/html": [
              "<style>\n",
              ".list-inline {list-style: none; margin:0; padding: 0}\n",
              ".list-inline>li {display: inline-block}\n",
              ".list-inline>li:not(:last-child)::after {content: \"\\00b7\"; padding: 0 .5ex}\n",
              "</style>\n",
              "<ol class=list-inline><li>'a'</li><li>'b'</li><li>'c'</li><li>'d'</li></ol>\n"
            ]
          },
          "metadata": {
            "tags": []
          }
        }
      ]
    },
    {
      "cell_type": "code",
      "metadata": {
        "id": "1L5mOTrCKN5x",
        "colab": {
          "base_uri": "https://localhost:8080/",
          "height": 51
        },
        "outputId": "3972d015-293b-47fd-a068-07e79c0caae6"
      },
      "source": [
        "# Otra manera de crear vectores\n",
        "\n",
        "c(1,2,3,4,5,6,7,8,9,10)\n",
        "1:10\n"
      ],
      "execution_count": null,
      "outputs": [
        {
          "output_type": "display_data",
          "data": {
            "text/plain": [
              " [1]  1  2  3  4  5  6  7  8  9 10"
            ],
            "text/latex": "\\begin{enumerate*}\n\\item 1\n\\item 2\n\\item 3\n\\item 4\n\\item 5\n\\item 6\n\\item 7\n\\item 8\n\\item 9\n\\item 10\n\\end{enumerate*}\n",
            "text/markdown": "1. 1\n2. 2\n3. 3\n4. 4\n5. 5\n6. 6\n7. 7\n8. 8\n9. 9\n10. 10\n\n\n",
            "text/html": [
              "<style>\n",
              ".list-inline {list-style: none; margin:0; padding: 0}\n",
              ".list-inline>li {display: inline-block}\n",
              ".list-inline>li:not(:last-child)::after {content: \"\\00b7\"; padding: 0 .5ex}\n",
              "</style>\n",
              "<ol class=list-inline><li>1</li><li>2</li><li>3</li><li>4</li><li>5</li><li>6</li><li>7</li><li>8</li><li>9</li><li>10</li></ol>\n"
            ]
          },
          "metadata": {
            "tags": []
          }
        },
        {
          "output_type": "display_data",
          "data": {
            "text/plain": [
              " [1]  1  2  3  4  5  6  7  8  9 10"
            ],
            "text/latex": "\\begin{enumerate*}\n\\item 1\n\\item 2\n\\item 3\n\\item 4\n\\item 5\n\\item 6\n\\item 7\n\\item 8\n\\item 9\n\\item 10\n\\end{enumerate*}\n",
            "text/markdown": "1. 1\n2. 2\n3. 3\n4. 4\n5. 5\n6. 6\n7. 7\n8. 8\n9. 9\n10. 10\n\n\n",
            "text/html": [
              "<style>\n",
              ".list-inline {list-style: none; margin:0; padding: 0}\n",
              ".list-inline>li {display: inline-block}\n",
              ".list-inline>li:not(:last-child)::after {content: \"\\00b7\"; padding: 0 .5ex}\n",
              "</style>\n",
              "<ol class=list-inline><li>1</li><li>2</li><li>3</li><li>4</li><li>5</li><li>6</li><li>7</li><li>8</li><li>9</li><li>10</li></ol>\n"
            ]
          },
          "metadata": {
            "tags": []
          }
        }
      ]
    },
    {
      "cell_type": "code",
      "metadata": {
        "id": "iIxYy_ljKbgB",
        "colab": {
          "base_uri": "https://localhost:8080/",
          "height": 170
        },
        "outputId": "39cb02cf-7d03-4ae1-9da7-7e8990127aa5"
      },
      "source": [
        "5:10000 # genera un vector de enteros consecutivos desde el 5 al 10000"
      ],
      "execution_count": null,
      "outputs": [
        {
          "output_type": "display_data",
          "data": {
            "text/plain": [
              "   [1]     5     6     7     8     9    10    11    12    13    14    15    16\n",
              "  [13]    17    18    19    20    21    22    23    24    25    26    27    28\n",
              "  [25]    29    30    31    32    33    34    35    36    37    38    39    40\n",
              "  [37]    41    42    43    44    45    46    47    48    49    50    51    52\n",
              "  [49]    53    54    55    56    57    58    59    60    61    62    63    64\n",
              "  [61]    65    66    67    68    69    70    71    72    73    74    75    76\n",
              "  [73]    77    78    79    80    81    82    83    84    85    86    87    88\n",
              "  [85]    89    90    91    92    93    94    95    96    97    98    99   100\n",
              "  [97]   101   102   103   104   105   106   107   108   109   110   111   112\n",
              " [109]   113   114   115   116   117   118   119   120   121   122   123   124\n",
              " [121]   125   126   127   128   129   130   131   132   133   134   135   136\n",
              " [133]   137   138   139   140   141   142   143   144   145   146   147   148\n",
              " [145]   149   150   151   152   153   154   155   156   157   158   159   160\n",
              " [157]   161   162   163   164   165   166   167   168   169   170   171   172\n",
              " [169]   173   174   175   176   177   178   179   180   181   182   183   184\n",
              " [181]   185   186   187   188   189   190   191   192   193   194   195   196\n",
              " [193]   197   198   199   200   201   202   203   204   205   206   207   208\n",
              " [205]   209   210   211   212   213   214   215   216   217   218   219   220\n",
              " [217]   221   222   223   224   225   226   227   228   229   230   231   232\n",
              " [229]   233   234   235   236   237   238   239   240   241   242   243   244\n",
              " [241]   245   246   247   248   249   250   251   252   253   254   255   256\n",
              " [253]   257   258   259   260   261   262   263   264   265   266   267   268\n",
              " [265]   269   270   271   272   273   274   275   276   277   278   279   280\n",
              " [277]   281   282   283   284   285   286   287   288   289   290   291   292\n",
              " [289]   293   294   295   296   297   298   299   300   301   302   303   304\n",
              " [301]   305   306   307   308   309   310   311   312   313   314   315   316\n",
              " [313]   317   318   319   320   321   322   323   324   325   326   327   328\n",
              " [325]   329   330   331   332   333   334   335   336   337   338   339   340\n",
              " [337]   341   342   343   344   345   346   347   348   349   350   351   352\n",
              " [349]   353   354   355   356   357   358   359   360   361   362   363   364\n",
              " [361]   365   366   367   368   369   370   371   372   373   374   375   376\n",
              " [373]   377   378   379   380   381   382   383   384   385   386   387   388\n",
              " [385]   389   390   391   392   393   394   395   396   397   398   399   400\n",
              " [397]   401   402   403   404   405   406   407   408   409   410   411   412\n",
              " [409]   413   414   415   416   417   418   419   420   421   422   423   424\n",
              " [421]   425   426   427   428   429   430   431   432   433   434   435   436\n",
              " [433]   437   438   439   440   441   442   443   444   445   446   447   448\n",
              " [445]   449   450   451   452   453   454   455   456   457   458   459   460\n",
              " [457]   461   462   463   464   465   466   467   468   469   470   471   472\n",
              " [469]   473   474   475   476   477   478   479   480   481   482   483   484\n",
              " [481]   485   486   487   488   489   490   491   492   493   494   495   496\n",
              " [493]   497   498   499   500   501   502   503   504   505   506   507   508\n",
              " [505]   509   510   511   512   513   514   515   516   517   518   519   520\n",
              " [517]   521   522   523   524   525   526   527   528   529   530   531   532\n",
              " [529]   533   534   535   536   537   538   539   540   541   542   543   544\n",
              " [541]   545   546   547   548   549   550   551   552   553   554   555   556\n",
              " [553]   557   558   559   560   561   562   563   564   565   566   567   568\n",
              " [565]   569   570   571   572   573   574   575   576   577   578   579   580\n",
              " [577]   581   582   583   584   585   586   587   588   589   590   591   592\n",
              " [589]   593   594   595   596   597   598   599   600   601   602   603   604\n",
              " [601]   605   606   607   608   609   610   611   612   613   614   615   616\n",
              " [613]   617   618   619   620   621   622   623   624   625   626   627   628\n",
              " [625]   629   630   631   632   633   634   635   636   637   638   639   640\n",
              " [637]   641   642   643   644   645   646   647   648   649   650   651   652\n",
              " [649]   653   654   655   656   657   658   659   660   661   662   663   664\n",
              " [661]   665   666   667   668   669   670   671   672   673   674   675   676\n",
              " [673]   677   678   679   680   681   682   683   684   685   686   687   688\n",
              " [685]   689   690   691   692   693   694   695   696   697   698   699   700\n",
              " [697]   701   702   703   704   705   706   707   708   709   710   711   712\n",
              " [709]   713   714   715   716   717   718   719   720   721   722   723   724\n",
              " [721]   725   726   727   728   729   730   731   732   733   734   735   736\n",
              " [733]   737   738   739   740   741   742   743   744   745   746   747   748\n",
              " [745]   749   750   751   752   753   754   755   756   757   758   759   760\n",
              " [757]   761   762   763   764   765   766   767   768   769   770   771   772\n",
              " [769]   773   774   775   776   777   778   779   780   781   782   783   784\n",
              " [781]   785   786   787   788   789   790   791   792   793   794   795   796\n",
              " [793]   797   798   799   800   801   802   803   804   805   806   807   808\n",
              " [805]   809   810   811   812   813   814   815   816   817   818   819   820\n",
              " [817]   821   822   823   824   825   826   827   828   829   830   831   832\n",
              " [829]   833   834   835   836   837   838   839   840   841   842   843   844\n",
              " [841]   845   846   847   848   849   850   851   852   853   854   855   856\n",
              " [853]   857   858   859   860   861   862   863   864   865   866   867   868\n",
              " [865]   869   870   871   872   873   874   875   876   877   878   879   880\n",
              " [877]   881   882   883   884   885   886   887   888   889   890   891   892\n",
              " [889]   893   894   895   896   897   898   899   900   901   902   903   904\n",
              " [901]   905   906   907   908   909   910   911   912   913   914   915   916\n",
              " [913]   917   918   919   920   921   922   923   924   925   926   927   928\n",
              " [925]   929   930   931   932   933   934   935   936   937   938   939   940\n",
              " [937]   941   942   943   944   945   946   947   948   949   950   951   952\n",
              " [949]   953   954   955   956   957   958   959   960   961   962   963   964\n",
              " [961]   965   966   967   968   969   970   971   972   973   974   975   976\n",
              " [973]   977   978   979   980   981   982   983   984   985   986   987   988\n",
              " [985]   989   990   991   992   993   994   995   996   997   998   999  1000\n",
              " [997]  1001  1002  1003  1004  1005  1006  1007  1008  1009  1010  1011  1012\n",
              "[1009]  1013  1014  1015  1016  1017  1018  1019  1020  1021  1022  1023  1024\n",
              "[1021]  1025  1026  1027  1028  1029  1030  1031  1032  1033  1034  1035  1036\n",
              "[1033]  1037  1038  1039  1040  1041  1042  1043  1044  1045  1046  1047  1048\n",
              "[1045]  1049  1050  1051  1052  1053  1054  1055  1056  1057  1058  1059  1060\n",
              "[1057]  1061  1062  1063  1064  1065  1066  1067  1068  1069  1070  1071  1072\n",
              "[1069]  1073  1074  1075  1076  1077  1078  1079  1080  1081  1082  1083  1084\n",
              "[1081]  1085  1086  1087  1088  1089  1090  1091  1092  1093  1094  1095  1096\n",
              "[1093]  1097  1098  1099  1100  1101  1102  1103  1104  1105  1106  1107  1108\n",
              "[1105]  1109  1110  1111  1112  1113  1114  1115  1116  1117  1118  1119  1120\n",
              "[1117]  1121  1122  1123  1124  1125  1126  1127  1128  1129  1130  1131  1132\n",
              "[1129]  1133  1134  1135  1136  1137  1138  1139  1140  1141  1142  1143  1144\n",
              "[1141]  1145  1146  1147  1148  1149  1150  1151  1152  1153  1154  1155  1156\n",
              "[1153]  1157  1158  1159  1160  1161  1162  1163  1164  1165  1166  1167  1168\n",
              "[1165]  1169  1170  1171  1172  1173  1174  1175  1176  1177  1178  1179  1180\n",
              "[1177]  1181  1182  1183  1184  1185  1186  1187  1188  1189  1190  1191  1192\n",
              "[1189]  1193  1194  1195  1196  1197  1198  1199  1200  1201  1202  1203  1204\n",
              "[1201]  1205  1206  1207  1208  1209  1210  1211  1212  1213  1214  1215  1216\n",
              "[1213]  1217  1218  1219  1220  1221  1222  1223  1224  1225  1226  1227  1228\n",
              "[1225]  1229  1230  1231  1232  1233  1234  1235  1236  1237  1238  1239  1240\n",
              "[1237]  1241  1242  1243  1244  1245  1246  1247  1248  1249  1250  1251  1252\n",
              "[1249]  1253  1254  1255  1256  1257  1258  1259  1260  1261  1262  1263  1264\n",
              "[1261]  1265  1266  1267  1268  1269  1270  1271  1272  1273  1274  1275  1276\n",
              "[1273]  1277  1278  1279  1280  1281  1282  1283  1284  1285  1286  1287  1288\n",
              "[1285]  1289  1290  1291  1292  1293  1294  1295  1296  1297  1298  1299  1300\n",
              "[1297]  1301  1302  1303  1304  1305  1306  1307  1308  1309  1310  1311  1312\n",
              "[1309]  1313  1314  1315  1316  1317  1318  1319  1320  1321  1322  1323  1324\n",
              "[1321]  1325  1326  1327  1328  1329  1330  1331  1332  1333  1334  1335  1336\n",
              "[1333]  1337  1338  1339  1340  1341  1342  1343  1344  1345  1346  1347  1348\n",
              "[1345]  1349  1350  1351  1352  1353  1354  1355  1356  1357  1358  1359  1360\n",
              "[1357]  1361  1362  1363  1364  1365  1366  1367  1368  1369  1370  1371  1372\n",
              "[1369]  1373  1374  1375  1376  1377  1378  1379  1380  1381  1382  1383  1384\n",
              "[1381]  1385  1386  1387  1388  1389  1390  1391  1392  1393  1394  1395  1396\n",
              "[1393]  1397  1398  1399  1400  1401  1402  1403  1404  1405  1406  1407  1408\n",
              "[1405]  1409  1410  1411  1412  1413  1414  1415  1416  1417  1418  1419  1420\n",
              "[1417]  1421  1422  1423  1424  1425  1426  1427  1428  1429  1430  1431  1432\n",
              "[1429]  1433  1434  1435  1436  1437  1438  1439  1440  1441  1442  1443  1444\n",
              "[1441]  1445  1446  1447  1448  1449  1450  1451  1452  1453  1454  1455  1456\n",
              "[1453]  1457  1458  1459  1460  1461  1462  1463  1464  1465  1466  1467  1468\n",
              "[1465]  1469  1470  1471  1472  1473  1474  1475  1476  1477  1478  1479  1480\n",
              "[1477]  1481  1482  1483  1484  1485  1486  1487  1488  1489  1490  1491  1492\n",
              "[1489]  1493  1494  1495  1496  1497  1498  1499  1500  1501  1502  1503  1504\n",
              "[1501]  1505  1506  1507  1508  1509  1510  1511  1512  1513  1514  1515  1516\n",
              "[1513]  1517  1518  1519  1520  1521  1522  1523  1524  1525  1526  1527  1528\n",
              "[1525]  1529  1530  1531  1532  1533  1534  1535  1536  1537  1538  1539  1540\n",
              "[1537]  1541  1542  1543  1544  1545  1546  1547  1548  1549  1550  1551  1552\n",
              "[1549]  1553  1554  1555  1556  1557  1558  1559  1560  1561  1562  1563  1564\n",
              "[1561]  1565  1566  1567  1568  1569  1570  1571  1572  1573  1574  1575  1576\n",
              "[1573]  1577  1578  1579  1580  1581  1582  1583  1584  1585  1586  1587  1588\n",
              "[1585]  1589  1590  1591  1592  1593  1594  1595  1596  1597  1598  1599  1600\n",
              "[1597]  1601  1602  1603  1604  1605  1606  1607  1608  1609  1610  1611  1612\n",
              "[1609]  1613  1614  1615  1616  1617  1618  1619  1620  1621  1622  1623  1624\n",
              "[1621]  1625  1626  1627  1628  1629  1630  1631  1632  1633  1634  1635  1636\n",
              "[1633]  1637  1638  1639  1640  1641  1642  1643  1644  1645  1646  1647  1648\n",
              "[1645]  1649  1650  1651  1652  1653  1654  1655  1656  1657  1658  1659  1660\n",
              "[1657]  1661  1662  1663  1664  1665  1666  1667  1668  1669  1670  1671  1672\n",
              "[1669]  1673  1674  1675  1676  1677  1678  1679  1680  1681  1682  1683  1684\n",
              "[1681]  1685  1686  1687  1688  1689  1690  1691  1692  1693  1694  1695  1696\n",
              "[1693]  1697  1698  1699  1700  1701  1702  1703  1704  1705  1706  1707  1708\n",
              "[1705]  1709  1710  1711  1712  1713  1714  1715  1716  1717  1718  1719  1720\n",
              "[1717]  1721  1722  1723  1724  1725  1726  1727  1728  1729  1730  1731  1732\n",
              "[1729]  1733  1734  1735  1736  1737  1738  1739  1740  1741  1742  1743  1744\n",
              "[1741]  1745  1746  1747  1748  1749  1750  1751  1752  1753  1754  1755  1756\n",
              "[1753]  1757  1758  1759  1760  1761  1762  1763  1764  1765  1766  1767  1768\n",
              "[1765]  1769  1770  1771  1772  1773  1774  1775  1776  1777  1778  1779  1780\n",
              "[1777]  1781  1782  1783  1784  1785  1786  1787  1788  1789  1790  1791  1792\n",
              "[1789]  1793  1794  1795  1796  1797  1798  1799  1800  1801  1802  1803  1804\n",
              "[1801]  1805  1806  1807  1808  1809  1810  1811  1812  1813  1814  1815  1816\n",
              "[1813]  1817  1818  1819  1820  1821  1822  1823  1824  1825  1826  1827  1828\n",
              "[1825]  1829  1830  1831  1832  1833  1834  1835  1836  1837  1838  1839  1840\n",
              "[1837]  1841  1842  1843  1844  1845  1846  1847  1848  1849  1850  1851  1852\n",
              "[1849]  1853  1854  1855  1856  1857  1858  1859  1860  1861  1862  1863  1864\n",
              "[1861]  1865  1866  1867  1868  1869  1870  1871  1872  1873  1874  1875  1876\n",
              "[1873]  1877  1878  1879  1880  1881  1882  1883  1884  1885  1886  1887  1888\n",
              "[1885]  1889  1890  1891  1892  1893  1894  1895  1896  1897  1898  1899  1900\n",
              "[1897]  1901  1902  1903  1904  1905  1906  1907  1908  1909  1910  1911  1912\n",
              "[1909]  1913  1914  1915  1916  1917  1918  1919  1920  1921  1922  1923  1924\n",
              "[1921]  1925  1926  1927  1928  1929  1930  1931  1932  1933  1934  1935  1936\n",
              "[1933]  1937  1938  1939  1940  1941  1942  1943  1944  1945  1946  1947  1948\n",
              "[1945]  1949  1950  1951  1952  1953  1954  1955  1956  1957  1958  1959  1960\n",
              "[1957]  1961  1962  1963  1964  1965  1966  1967  1968  1969  1970  1971  1972\n",
              "[1969]  1973  1974  1975  1976  1977  1978  1979  1980  1981  1982  1983  1984\n",
              "[1981]  1985  1986  1987  1988  1989  1990  1991  1992  1993  1994  1995  1996\n",
              "[1993]  1997  1998  1999  2000  2001  2002  2003  2004  2005  2006  2007  2008\n",
              "[2005]  2009  2010  2011  2012  2013  2014  2015  2016  2017  2018  2019  2020\n",
              "[2017]  2021  2022  2023  2024  2025  2026  2027  2028  2029  2030  2031  2032\n",
              "[2029]  2033  2034  2035  2036  2037  2038  2039  2040  2041  2042  2043  2044\n",
              "[2041]  2045  2046  2047  2048  2049  2050  2051  2052  2053  2054  2055  2056\n",
              "[2053]  2057  2058  2059  2060  2061  2062  2063  2064  2065  2066  2067  2068\n",
              "[2065]  2069  2070  2071  2072  2073  2074  2075  2076  2077  2078  2079  2080\n",
              "[2077]  2081  2082  2083  2084  2085  2086  2087  2088  2089  2090  2091  2092\n",
              "[2089]  2093  2094  2095  2096  2097  2098  2099  2100  2101  2102  2103  2104\n",
              "[2101]  2105  2106  2107  2108  2109  2110  2111  2112  2113  2114  2115  2116\n",
              "[2113]  2117  2118  2119  2120  2121  2122  2123  2124  2125  2126  2127  2128\n",
              "[2125]  2129  2130  2131  2132  2133  2134  2135  2136  2137  2138  2139  2140\n",
              "[2137]  2141  2142  2143  2144  2145  2146  2147  2148  2149  2150  2151  2152\n",
              "[2149]  2153  2154  2155  2156  2157  2158  2159  2160  2161  2162  2163  2164\n",
              "[2161]  2165  2166  2167  2168  2169  2170  2171  2172  2173  2174  2175  2176\n",
              "[2173]  2177  2178  2179  2180  2181  2182  2183  2184  2185  2186  2187  2188\n",
              "[2185]  2189  2190  2191  2192  2193  2194  2195  2196  2197  2198  2199  2200\n",
              "[2197]  2201  2202  2203  2204  2205  2206  2207  2208  2209  2210  2211  2212\n",
              "[2209]  2213  2214  2215  2216  2217  2218  2219  2220  2221  2222  2223  2224\n",
              "[2221]  2225  2226  2227  2228  2229  2230  2231  2232  2233  2234  2235  2236\n",
              "[2233]  2237  2238  2239  2240  2241  2242  2243  2244  2245  2246  2247  2248\n",
              "[2245]  2249  2250  2251  2252  2253  2254  2255  2256  2257  2258  2259  2260\n",
              "[2257]  2261  2262  2263  2264  2265  2266  2267  2268  2269  2270  2271  2272\n",
              "[2269]  2273  2274  2275  2276  2277  2278  2279  2280  2281  2282  2283  2284\n",
              "[2281]  2285  2286  2287  2288  2289  2290  2291  2292  2293  2294  2295  2296\n",
              "[2293]  2297  2298  2299  2300  2301  2302  2303  2304  2305  2306  2307  2308\n",
              "[2305]  2309  2310  2311  2312  2313  2314  2315  2316  2317  2318  2319  2320\n",
              "[2317]  2321  2322  2323  2324  2325  2326  2327  2328  2329  2330  2331  2332\n",
              "[2329]  2333  2334  2335  2336  2337  2338  2339  2340  2341  2342  2343  2344\n",
              "[2341]  2345  2346  2347  2348  2349  2350  2351  2352  2353  2354  2355  2356\n",
              "[2353]  2357  2358  2359  2360  2361  2362  2363  2364  2365  2366  2367  2368\n",
              "[2365]  2369  2370  2371  2372  2373  2374  2375  2376  2377  2378  2379  2380\n",
              "[2377]  2381  2382  2383  2384  2385  2386  2387  2388  2389  2390  2391  2392\n",
              "[2389]  2393  2394  2395  2396  2397  2398  2399  2400  2401  2402  2403  2404\n",
              "[2401]  2405  2406  2407  2408  2409  2410  2411  2412  2413  2414  2415  2416\n",
              "[2413]  2417  2418  2419  2420  2421  2422  2423  2424  2425  2426  2427  2428\n",
              "[2425]  2429  2430  2431  2432  2433  2434  2435  2436  2437  2438  2439  2440\n",
              "[2437]  2441  2442  2443  2444  2445  2446  2447  2448  2449  2450  2451  2452\n",
              "[2449]  2453  2454  2455  2456  2457  2458  2459  2460  2461  2462  2463  2464\n",
              "[2461]  2465  2466  2467  2468  2469  2470  2471  2472  2473  2474  2475  2476\n",
              "[2473]  2477  2478  2479  2480  2481  2482  2483  2484  2485  2486  2487  2488\n",
              "[2485]  2489  2490  2491  2492  2493  2494  2495  2496  2497  2498  2499  2500\n",
              "[2497]  2501  2502  2503  2504  2505  2506  2507  2508  2509  2510  2511  2512\n",
              "[2509]  2513  2514  2515  2516  2517  2518  2519  2520  2521  2522  2523  2524\n",
              "[2521]  2525  2526  2527  2528  2529  2530  2531  2532  2533  2534  2535  2536\n",
              "[2533]  2537  2538  2539  2540  2541  2542  2543  2544  2545  2546  2547  2548\n",
              "[2545]  2549  2550  2551  2552  2553  2554  2555  2556  2557  2558  2559  2560\n",
              "[2557]  2561  2562  2563  2564  2565  2566  2567  2568  2569  2570  2571  2572\n",
              "[2569]  2573  2574  2575  2576  2577  2578  2579  2580  2581  2582  2583  2584\n",
              "[2581]  2585  2586  2587  2588  2589  2590  2591  2592  2593  2594  2595  2596\n",
              "[2593]  2597  2598  2599  2600  2601  2602  2603  2604  2605  2606  2607  2608\n",
              "[2605]  2609  2610  2611  2612  2613  2614  2615  2616  2617  2618  2619  2620\n",
              "[2617]  2621  2622  2623  2624  2625  2626  2627  2628  2629  2630  2631  2632\n",
              "[2629]  2633  2634  2635  2636  2637  2638  2639  2640  2641  2642  2643  2644\n",
              "[2641]  2645  2646  2647  2648  2649  2650  2651  2652  2653  2654  2655  2656\n",
              "[2653]  2657  2658  2659  2660  2661  2662  2663  2664  2665  2666  2667  2668\n",
              "[2665]  2669  2670  2671  2672  2673  2674  2675  2676  2677  2678  2679  2680\n",
              "[2677]  2681  2682  2683  2684  2685  2686  2687  2688  2689  2690  2691  2692\n",
              "[2689]  2693  2694  2695  2696  2697  2698  2699  2700  2701  2702  2703  2704\n",
              "[2701]  2705  2706  2707  2708  2709  2710  2711  2712  2713  2714  2715  2716\n",
              "[2713]  2717  2718  2719  2720  2721  2722  2723  2724  2725  2726  2727  2728\n",
              "[2725]  2729  2730  2731  2732  2733  2734  2735  2736  2737  2738  2739  2740\n",
              "[2737]  2741  2742  2743  2744  2745  2746  2747  2748  2749  2750  2751  2752\n",
              "[2749]  2753  2754  2755  2756  2757  2758  2759  2760  2761  2762  2763  2764\n",
              "[2761]  2765  2766  2767  2768  2769  2770  2771  2772  2773  2774  2775  2776\n",
              "[2773]  2777  2778  2779  2780  2781  2782  2783  2784  2785  2786  2787  2788\n",
              "[2785]  2789  2790  2791  2792  2793  2794  2795  2796  2797  2798  2799  2800\n",
              "[2797]  2801  2802  2803  2804  2805  2806  2807  2808  2809  2810  2811  2812\n",
              "[2809]  2813  2814  2815  2816  2817  2818  2819  2820  2821  2822  2823  2824\n",
              "[2821]  2825  2826  2827  2828  2829  2830  2831  2832  2833  2834  2835  2836\n",
              "[2833]  2837  2838  2839  2840  2841  2842  2843  2844  2845  2846  2847  2848\n",
              "[2845]  2849  2850  2851  2852  2853  2854  2855  2856  2857  2858  2859  2860\n",
              "[2857]  2861  2862  2863  2864  2865  2866  2867  2868  2869  2870  2871  2872\n",
              "[2869]  2873  2874  2875  2876  2877  2878  2879  2880  2881  2882  2883  2884\n",
              "[2881]  2885  2886  2887  2888  2889  2890  2891  2892  2893  2894  2895  2896\n",
              "[2893]  2897  2898  2899  2900  2901  2902  2903  2904  2905  2906  2907  2908\n",
              "[2905]  2909  2910  2911  2912  2913  2914  2915  2916  2917  2918  2919  2920\n",
              "[2917]  2921  2922  2923  2924  2925  2926  2927  2928  2929  2930  2931  2932\n",
              "[2929]  2933  2934  2935  2936  2937  2938  2939  2940  2941  2942  2943  2944\n",
              "[2941]  2945  2946  2947  2948  2949  2950  2951  2952  2953  2954  2955  2956\n",
              "[2953]  2957  2958  2959  2960  2961  2962  2963  2964  2965  2966  2967  2968\n",
              "[2965]  2969  2970  2971  2972  2973  2974  2975  2976  2977  2978  2979  2980\n",
              "[2977]  2981  2982  2983  2984  2985  2986  2987  2988  2989  2990  2991  2992\n",
              "[2989]  2993  2994  2995  2996  2997  2998  2999  3000  3001  3002  3003  3004\n",
              "[3001]  3005  3006  3007  3008  3009  3010  3011  3012  3013  3014  3015  3016\n",
              "[3013]  3017  3018  3019  3020  3021  3022  3023  3024  3025  3026  3027  3028\n",
              "[3025]  3029  3030  3031  3032  3033  3034  3035  3036  3037  3038  3039  3040\n",
              "[3037]  3041  3042  3043  3044  3045  3046  3047  3048  3049  3050  3051  3052\n",
              "[3049]  3053  3054  3055  3056  3057  3058  3059  3060  3061  3062  3063  3064\n",
              "[3061]  3065  3066  3067  3068  3069  3070  3071  3072  3073  3074  3075  3076\n",
              "[3073]  3077  3078  3079  3080  3081  3082  3083  3084  3085  3086  3087  3088\n",
              "[3085]  3089  3090  3091  3092  3093  3094  3095  3096  3097  3098  3099  3100\n",
              "[3097]  3101  3102  3103  3104  3105  3106  3107  3108  3109  3110  3111  3112\n",
              "[3109]  3113  3114  3115  3116  3117  3118  3119  3120  3121  3122  3123  3124\n",
              "[3121]  3125  3126  3127  3128  3129  3130  3131  3132  3133  3134  3135  3136\n",
              "[3133]  3137  3138  3139  3140  3141  3142  3143  3144  3145  3146  3147  3148\n",
              "[3145]  3149  3150  3151  3152  3153  3154  3155  3156  3157  3158  3159  3160\n",
              "[3157]  3161  3162  3163  3164  3165  3166  3167  3168  3169  3170  3171  3172\n",
              "[3169]  3173  3174  3175  3176  3177  3178  3179  3180  3181  3182  3183  3184\n",
              "[3181]  3185  3186  3187  3188  3189  3190  3191  3192  3193  3194  3195  3196\n",
              "[3193]  3197  3198  3199  3200  3201  3202  3203  3204  3205  3206  3207  3208\n",
              "[3205]  3209  3210  3211  3212  3213  3214  3215  3216  3217  3218  3219  3220\n",
              "[3217]  3221  3222  3223  3224  3225  3226  3227  3228  3229  3230  3231  3232\n",
              "[3229]  3233  3234  3235  3236  3237  3238  3239  3240  3241  3242  3243  3244\n",
              "[3241]  3245  3246  3247  3248  3249  3250  3251  3252  3253  3254  3255  3256\n",
              "[3253]  3257  3258  3259  3260  3261  3262  3263  3264  3265  3266  3267  3268\n",
              "[3265]  3269  3270  3271  3272  3273  3274  3275  3276  3277  3278  3279  3280\n",
              "[3277]  3281  3282  3283  3284  3285  3286  3287  3288  3289  3290  3291  3292\n",
              "[3289]  3293  3294  3295  3296  3297  3298  3299  3300  3301  3302  3303  3304\n",
              "[3301]  3305  3306  3307  3308  3309  3310  3311  3312  3313  3314  3315  3316\n",
              "[3313]  3317  3318  3319  3320  3321  3322  3323  3324  3325  3326  3327  3328\n",
              "[3325]  3329  3330  3331  3332  3333  3334  3335  3336  3337  3338  3339  3340\n",
              "[3337]  3341  3342  3343  3344  3345  3346  3347  3348  3349  3350  3351  3352\n",
              "[3349]  3353  3354  3355  3356  3357  3358  3359  3360  3361  3362  3363  3364\n",
              "[3361]  3365  3366  3367  3368  3369  3370  3371  3372  3373  3374  3375  3376\n",
              "[3373]  3377  3378  3379  3380  3381  3382  3383  3384  3385  3386  3387  3388\n",
              "[3385]  3389  3390  3391  3392  3393  3394  3395  3396  3397  3398  3399  3400\n",
              "[3397]  3401  3402  3403  3404  3405  3406  3407  3408  3409  3410  3411  3412\n",
              "[3409]  3413  3414  3415  3416  3417  3418  3419  3420  3421  3422  3423  3424\n",
              "[3421]  3425  3426  3427  3428  3429  3430  3431  3432  3433  3434  3435  3436\n",
              "[3433]  3437  3438  3439  3440  3441  3442  3443  3444  3445  3446  3447  3448\n",
              "[3445]  3449  3450  3451  3452  3453  3454  3455  3456  3457  3458  3459  3460\n",
              "[3457]  3461  3462  3463  3464  3465  3466  3467  3468  3469  3470  3471  3472\n",
              "[3469]  3473  3474  3475  3476  3477  3478  3479  3480  3481  3482  3483  3484\n",
              "[3481]  3485  3486  3487  3488  3489  3490  3491  3492  3493  3494  3495  3496\n",
              "[3493]  3497  3498  3499  3500  3501  3502  3503  3504  3505  3506  3507  3508\n",
              "[3505]  3509  3510  3511  3512  3513  3514  3515  3516  3517  3518  3519  3520\n",
              "[3517]  3521  3522  3523  3524  3525  3526  3527  3528  3529  3530  3531  3532\n",
              "[3529]  3533  3534  3535  3536  3537  3538  3539  3540  3541  3542  3543  3544\n",
              "[3541]  3545  3546  3547  3548  3549  3550  3551  3552  3553  3554  3555  3556\n",
              "[3553]  3557  3558  3559  3560  3561  3562  3563  3564  3565  3566  3567  3568\n",
              "[3565]  3569  3570  3571  3572  3573  3574  3575  3576  3577  3578  3579  3580\n",
              "[3577]  3581  3582  3583  3584  3585  3586  3587  3588  3589  3590  3591  3592\n",
              "[3589]  3593  3594  3595  3596  3597  3598  3599  3600  3601  3602  3603  3604\n",
              "[3601]  3605  3606  3607  3608  3609  3610  3611  3612  3613  3614  3615  3616\n",
              "[3613]  3617  3618  3619  3620  3621  3622  3623  3624  3625  3626  3627  3628\n",
              "[3625]  3629  3630  3631  3632  3633  3634  3635  3636  3637  3638  3639  3640\n",
              "[3637]  3641  3642  3643  3644  3645  3646  3647  3648  3649  3650  3651  3652\n",
              "[3649]  3653  3654  3655  3656  3657  3658  3659  3660  3661  3662  3663  3664\n",
              "[3661]  3665  3666  3667  3668  3669  3670  3671  3672  3673  3674  3675  3676\n",
              "[3673]  3677  3678  3679  3680  3681  3682  3683  3684  3685  3686  3687  3688\n",
              "[3685]  3689  3690  3691  3692  3693  3694  3695  3696  3697  3698  3699  3700\n",
              "[3697]  3701  3702  3703  3704  3705  3706  3707  3708  3709  3710  3711  3712\n",
              "[3709]  3713  3714  3715  3716  3717  3718  3719  3720  3721  3722  3723  3724\n",
              "[3721]  3725  3726  3727  3728  3729  3730  3731  3732  3733  3734  3735  3736\n",
              "[3733]  3737  3738  3739  3740  3741  3742  3743  3744  3745  3746  3747  3748\n",
              "[3745]  3749  3750  3751  3752  3753  3754  3755  3756  3757  3758  3759  3760\n",
              "[3757]  3761  3762  3763  3764  3765  3766  3767  3768  3769  3770  3771  3772\n",
              "[3769]  3773  3774  3775  3776  3777  3778  3779  3780  3781  3782  3783  3784\n",
              "[3781]  3785  3786  3787  3788  3789  3790  3791  3792  3793  3794  3795  3796\n",
              "[3793]  3797  3798  3799  3800  3801  3802  3803  3804  3805  3806  3807  3808\n",
              "[3805]  3809  3810  3811  3812  3813  3814  3815  3816  3817  3818  3819  3820\n",
              "[3817]  3821  3822  3823  3824  3825  3826  3827  3828  3829  3830  3831  3832\n",
              "[3829]  3833  3834  3835  3836  3837  3838  3839  3840  3841  3842  3843  3844\n",
              "[3841]  3845  3846  3847  3848  3849  3850  3851  3852  3853  3854  3855  3856\n",
              "[3853]  3857  3858  3859  3860  3861  3862  3863  3864  3865  3866  3867  3868\n",
              "[3865]  3869  3870  3871  3872  3873  3874  3875  3876  3877  3878  3879  3880\n",
              "[3877]  3881  3882  3883  3884  3885  3886  3887  3888  3889  3890  3891  3892\n",
              "[3889]  3893  3894  3895  3896  3897  3898  3899  3900  3901  3902  3903  3904\n",
              "[3901]  3905  3906  3907  3908  3909  3910  3911  3912  3913  3914  3915  3916\n",
              "[3913]  3917  3918  3919  3920  3921  3922  3923  3924  3925  3926  3927  3928\n",
              "[3925]  3929  3930  3931  3932  3933  3934  3935  3936  3937  3938  3939  3940\n",
              "[3937]  3941  3942  3943  3944  3945  3946  3947  3948  3949  3950  3951  3952\n",
              "[3949]  3953  3954  3955  3956  3957  3958  3959  3960  3961  3962  3963  3964\n",
              "[3961]  3965  3966  3967  3968  3969  3970  3971  3972  3973  3974  3975  3976\n",
              "[3973]  3977  3978  3979  3980  3981  3982  3983  3984  3985  3986  3987  3988\n",
              "[3985]  3989  3990  3991  3992  3993  3994  3995  3996  3997  3998  3999  4000\n",
              "[3997]  4001  4002  4003  4004  4005  4006  4007  4008  4009  4010  4011  4012\n",
              "[4009]  4013  4014  4015  4016  4017  4018  4019  4020  4021  4022  4023  4024\n",
              "[4021]  4025  4026  4027  4028  4029  4030  4031  4032  4033  4034  4035  4036\n",
              "[4033]  4037  4038  4039  4040  4041  4042  4043  4044  4045  4046  4047  4048\n",
              "[4045]  4049  4050  4051  4052  4053  4054  4055  4056  4057  4058  4059  4060\n",
              "[4057]  4061  4062  4063  4064  4065  4066  4067  4068  4069  4070  4071  4072\n",
              "[4069]  4073  4074  4075  4076  4077  4078  4079  4080  4081  4082  4083  4084\n",
              "[4081]  4085  4086  4087  4088  4089  4090  4091  4092  4093  4094  4095  4096\n",
              "[4093]  4097  4098  4099  4100  4101  4102  4103  4104  4105  4106  4107  4108\n",
              "[4105]  4109  4110  4111  4112  4113  4114  4115  4116  4117  4118  4119  4120\n",
              "[4117]  4121  4122  4123  4124  4125  4126  4127  4128  4129  4130  4131  4132\n",
              "[4129]  4133  4134  4135  4136  4137  4138  4139  4140  4141  4142  4143  4144\n",
              "[4141]  4145  4146  4147  4148  4149  4150  4151  4152  4153  4154  4155  4156\n",
              "[4153]  4157  4158  4159  4160  4161  4162  4163  4164  4165  4166  4167  4168\n",
              "[4165]  4169  4170  4171  4172  4173  4174  4175  4176  4177  4178  4179  4180\n",
              "[4177]  4181  4182  4183  4184  4185  4186  4187  4188  4189  4190  4191  4192\n",
              "[4189]  4193  4194  4195  4196  4197  4198  4199  4200  4201  4202  4203  4204\n",
              "[4201]  4205  4206  4207  4208  4209  4210  4211  4212  4213  4214  4215  4216\n",
              "[4213]  4217  4218  4219  4220  4221  4222  4223  4224  4225  4226  4227  4228\n",
              "[4225]  4229  4230  4231  4232  4233  4234  4235  4236  4237  4238  4239  4240\n",
              "[4237]  4241  4242  4243  4244  4245  4246  4247  4248  4249  4250  4251  4252\n",
              "[4249]  4253  4254  4255  4256  4257  4258  4259  4260  4261  4262  4263  4264\n",
              "[4261]  4265  4266  4267  4268  4269  4270  4271  4272  4273  4274  4275  4276\n",
              "[4273]  4277  4278  4279  4280  4281  4282  4283  4284  4285  4286  4287  4288\n",
              "[4285]  4289  4290  4291  4292  4293  4294  4295  4296  4297  4298  4299  4300\n",
              "[4297]  4301  4302  4303  4304  4305  4306  4307  4308  4309  4310  4311  4312\n",
              "[4309]  4313  4314  4315  4316  4317  4318  4319  4320  4321  4322  4323  4324\n",
              "[4321]  4325  4326  4327  4328  4329  4330  4331  4332  4333  4334  4335  4336\n",
              "[4333]  4337  4338  4339  4340  4341  4342  4343  4344  4345  4346  4347  4348\n",
              "[4345]  4349  4350  4351  4352  4353  4354  4355  4356  4357  4358  4359  4360\n",
              "[4357]  4361  4362  4363  4364  4365  4366  4367  4368  4369  4370  4371  4372\n",
              "[4369]  4373  4374  4375  4376  4377  4378  4379  4380  4381  4382  4383  4384\n",
              "[4381]  4385  4386  4387  4388  4389  4390  4391  4392  4393  4394  4395  4396\n",
              "[4393]  4397  4398  4399  4400  4401  4402  4403  4404  4405  4406  4407  4408\n",
              "[4405]  4409  4410  4411  4412  4413  4414  4415  4416  4417  4418  4419  4420\n",
              "[4417]  4421  4422  4423  4424  4425  4426  4427  4428  4429  4430  4431  4432\n",
              "[4429]  4433  4434  4435  4436  4437  4438  4439  4440  4441  4442  4443  4444\n",
              "[4441]  4445  4446  4447  4448  4449  4450  4451  4452  4453  4454  4455  4456\n",
              "[4453]  4457  4458  4459  4460  4461  4462  4463  4464  4465  4466  4467  4468\n",
              "[4465]  4469  4470  4471  4472  4473  4474  4475  4476  4477  4478  4479  4480\n",
              "[4477]  4481  4482  4483  4484  4485  4486  4487  4488  4489  4490  4491  4492\n",
              "[4489]  4493  4494  4495  4496  4497  4498  4499  4500  4501  4502  4503  4504\n",
              "[4501]  4505  4506  4507  4508  4509  4510  4511  4512  4513  4514  4515  4516\n",
              "[4513]  4517  4518  4519  4520  4521  4522  4523  4524  4525  4526  4527  4528\n",
              "[4525]  4529  4530  4531  4532  4533  4534  4535  4536  4537  4538  4539  4540\n",
              "[4537]  4541  4542  4543  4544  4545  4546  4547  4548  4549  4550  4551  4552\n",
              "[4549]  4553  4554  4555  4556  4557  4558  4559  4560  4561  4562  4563  4564\n",
              "[4561]  4565  4566  4567  4568  4569  4570  4571  4572  4573  4574  4575  4576\n",
              "[4573]  4577  4578  4579  4580  4581  4582  4583  4584  4585  4586  4587  4588\n",
              "[4585]  4589  4590  4591  4592  4593  4594  4595  4596  4597  4598  4599  4600\n",
              "[4597]  4601  4602  4603  4604  4605  4606  4607  4608  4609  4610  4611  4612\n",
              "[4609]  4613  4614  4615  4616  4617  4618  4619  4620  4621  4622  4623  4624\n",
              "[4621]  4625  4626  4627  4628  4629  4630  4631  4632  4633  4634  4635  4636\n",
              "[4633]  4637  4638  4639  4640  4641  4642  4643  4644  4645  4646  4647  4648\n",
              "[4645]  4649  4650  4651  4652  4653  4654  4655  4656  4657  4658  4659  4660\n",
              "[4657]  4661  4662  4663  4664  4665  4666  4667  4668  4669  4670  4671  4672\n",
              "[4669]  4673  4674  4675  4676  4677  4678  4679  4680  4681  4682  4683  4684\n",
              "[4681]  4685  4686  4687  4688  4689  4690  4691  4692  4693  4694  4695  4696\n",
              "[4693]  4697  4698  4699  4700  4701  4702  4703  4704  4705  4706  4707  4708\n",
              "[4705]  4709  4710  4711  4712  4713  4714  4715  4716  4717  4718  4719  4720\n",
              "[4717]  4721  4722  4723  4724  4725  4726  4727  4728  4729  4730  4731  4732\n",
              "[4729]  4733  4734  4735  4736  4737  4738  4739  4740  4741  4742  4743  4744\n",
              "[4741]  4745  4746  4747  4748  4749  4750  4751  4752  4753  4754  4755  4756\n",
              "[4753]  4757  4758  4759  4760  4761  4762  4763  4764  4765  4766  4767  4768\n",
              "[4765]  4769  4770  4771  4772  4773  4774  4775  4776  4777  4778  4779  4780\n",
              "[4777]  4781  4782  4783  4784  4785  4786  4787  4788  4789  4790  4791  4792\n",
              "[4789]  4793  4794  4795  4796  4797  4798  4799  4800  4801  4802  4803  4804\n",
              "[4801]  4805  4806  4807  4808  4809  4810  4811  4812  4813  4814  4815  4816\n",
              "[4813]  4817  4818  4819  4820  4821  4822  4823  4824  4825  4826  4827  4828\n",
              "[4825]  4829  4830  4831  4832  4833  4834  4835  4836  4837  4838  4839  4840\n",
              "[4837]  4841  4842  4843  4844  4845  4846  4847  4848  4849  4850  4851  4852\n",
              "[4849]  4853  4854  4855  4856  4857  4858  4859  4860  4861  4862  4863  4864\n",
              "[4861]  4865  4866  4867  4868  4869  4870  4871  4872  4873  4874  4875  4876\n",
              "[4873]  4877  4878  4879  4880  4881  4882  4883  4884  4885  4886  4887  4888\n",
              "[4885]  4889  4890  4891  4892  4893  4894  4895  4896  4897  4898  4899  4900\n",
              "[4897]  4901  4902  4903  4904  4905  4906  4907  4908  4909  4910  4911  4912\n",
              "[4909]  4913  4914  4915  4916  4917  4918  4919  4920  4921  4922  4923  4924\n",
              "[4921]  4925  4926  4927  4928  4929  4930  4931  4932  4933  4934  4935  4936\n",
              "[4933]  4937  4938  4939  4940  4941  4942  4943  4944  4945  4946  4947  4948\n",
              "[4945]  4949  4950  4951  4952  4953  4954  4955  4956  4957  4958  4959  4960\n",
              "[4957]  4961  4962  4963  4964  4965  4966  4967  4968  4969  4970  4971  4972\n",
              "[4969]  4973  4974  4975  4976  4977  4978  4979  4980  4981  4982  4983  4984\n",
              "[4981]  4985  4986  4987  4988  4989  4990  4991  4992  4993  4994  4995  4996\n",
              "[4993]  4997  4998  4999  5000  5001  5002  5003  5004  5005  5006  5007  5008\n",
              "[5005]  5009  5010  5011  5012  5013  5014  5015  5016  5017  5018  5019  5020\n",
              "[5017]  5021  5022  5023  5024  5025  5026  5027  5028  5029  5030  5031  5032\n",
              "[5029]  5033  5034  5035  5036  5037  5038  5039  5040  5041  5042  5043  5044\n",
              "[5041]  5045  5046  5047  5048  5049  5050  5051  5052  5053  5054  5055  5056\n",
              "[5053]  5057  5058  5059  5060  5061  5062  5063  5064  5065  5066  5067  5068\n",
              "[5065]  5069  5070  5071  5072  5073  5074  5075  5076  5077  5078  5079  5080\n",
              "[5077]  5081  5082  5083  5084  5085  5086  5087  5088  5089  5090  5091  5092\n",
              "[5089]  5093  5094  5095  5096  5097  5098  5099  5100  5101  5102  5103  5104\n",
              "[5101]  5105  5106  5107  5108  5109  5110  5111  5112  5113  5114  5115  5116\n",
              "[5113]  5117  5118  5119  5120  5121  5122  5123  5124  5125  5126  5127  5128\n",
              "[5125]  5129  5130  5131  5132  5133  5134  5135  5136  5137  5138  5139  5140\n",
              "[5137]  5141  5142  5143  5144  5145  5146  5147  5148  5149  5150  5151  5152\n",
              "[5149]  5153  5154  5155  5156  5157  5158  5159  5160  5161  5162  5163  5164\n",
              "[5161]  5165  5166  5167  5168  5169  5170  5171  5172  5173  5174  5175  5176\n",
              "[5173]  5177  5178  5179  5180  5181  5182  5183  5184  5185  5186  5187  5188\n",
              "[5185]  5189  5190  5191  5192  5193  5194  5195  5196  5197  5198  5199  5200\n",
              "[5197]  5201  5202  5203  5204  5205  5206  5207  5208  5209  5210  5211  5212\n",
              "[5209]  5213  5214  5215  5216  5217  5218  5219  5220  5221  5222  5223  5224\n",
              "[5221]  5225  5226  5227  5228  5229  5230  5231  5232  5233  5234  5235  5236\n",
              "[5233]  5237  5238  5239  5240  5241  5242  5243  5244  5245  5246  5247  5248\n",
              "[5245]  5249  5250  5251  5252  5253  5254  5255  5256  5257  5258  5259  5260\n",
              "[5257]  5261  5262  5263  5264  5265  5266  5267  5268  5269  5270  5271  5272\n",
              "[5269]  5273  5274  5275  5276  5277  5278  5279  5280  5281  5282  5283  5284\n",
              "[5281]  5285  5286  5287  5288  5289  5290  5291  5292  5293  5294  5295  5296\n",
              "[5293]  5297  5298  5299  5300  5301  5302  5303  5304  5305  5306  5307  5308\n",
              "[5305]  5309  5310  5311  5312  5313  5314  5315  5316  5317  5318  5319  5320\n",
              "[5317]  5321  5322  5323  5324  5325  5326  5327  5328  5329  5330  5331  5332\n",
              "[5329]  5333  5334  5335  5336  5337  5338  5339  5340  5341  5342  5343  5344\n",
              "[5341]  5345  5346  5347  5348  5349  5350  5351  5352  5353  5354  5355  5356\n",
              "[5353]  5357  5358  5359  5360  5361  5362  5363  5364  5365  5366  5367  5368\n",
              "[5365]  5369  5370  5371  5372  5373  5374  5375  5376  5377  5378  5379  5380\n",
              "[5377]  5381  5382  5383  5384  5385  5386  5387  5388  5389  5390  5391  5392\n",
              "[5389]  5393  5394  5395  5396  5397  5398  5399  5400  5401  5402  5403  5404\n",
              "[5401]  5405  5406  5407  5408  5409  5410  5411  5412  5413  5414  5415  5416\n",
              "[5413]  5417  5418  5419  5420  5421  5422  5423  5424  5425  5426  5427  5428\n",
              "[5425]  5429  5430  5431  5432  5433  5434  5435  5436  5437  5438  5439  5440\n",
              "[5437]  5441  5442  5443  5444  5445  5446  5447  5448  5449  5450  5451  5452\n",
              "[5449]  5453  5454  5455  5456  5457  5458  5459  5460  5461  5462  5463  5464\n",
              "[5461]  5465  5466  5467  5468  5469  5470  5471  5472  5473  5474  5475  5476\n",
              "[5473]  5477  5478  5479  5480  5481  5482  5483  5484  5485  5486  5487  5488\n",
              "[5485]  5489  5490  5491  5492  5493  5494  5495  5496  5497  5498  5499  5500\n",
              "[5497]  5501  5502  5503  5504  5505  5506  5507  5508  5509  5510  5511  5512\n",
              "[5509]  5513  5514  5515  5516  5517  5518  5519  5520  5521  5522  5523  5524\n",
              "[5521]  5525  5526  5527  5528  5529  5530  5531  5532  5533  5534  5535  5536\n",
              "[5533]  5537  5538  5539  5540  5541  5542  5543  5544  5545  5546  5547  5548\n",
              "[5545]  5549  5550  5551  5552  5553  5554  5555  5556  5557  5558  5559  5560\n",
              "[5557]  5561  5562  5563  5564  5565  5566  5567  5568  5569  5570  5571  5572\n",
              "[5569]  5573  5574  5575  5576  5577  5578  5579  5580  5581  5582  5583  5584\n",
              "[5581]  5585  5586  5587  5588  5589  5590  5591  5592  5593  5594  5595  5596\n",
              "[5593]  5597  5598  5599  5600  5601  5602  5603  5604  5605  5606  5607  5608\n",
              "[5605]  5609  5610  5611  5612  5613  5614  5615  5616  5617  5618  5619  5620\n",
              "[5617]  5621  5622  5623  5624  5625  5626  5627  5628  5629  5630  5631  5632\n",
              "[5629]  5633  5634  5635  5636  5637  5638  5639  5640  5641  5642  5643  5644\n",
              "[5641]  5645  5646  5647  5648  5649  5650  5651  5652  5653  5654  5655  5656\n",
              "[5653]  5657  5658  5659  5660  5661  5662  5663  5664  5665  5666  5667  5668\n",
              "[5665]  5669  5670  5671  5672  5673  5674  5675  5676  5677  5678  5679  5680\n",
              "[5677]  5681  5682  5683  5684  5685  5686  5687  5688  5689  5690  5691  5692\n",
              "[5689]  5693  5694  5695  5696  5697  5698  5699  5700  5701  5702  5703  5704\n",
              "[5701]  5705  5706  5707  5708  5709  5710  5711  5712  5713  5714  5715  5716\n",
              "[5713]  5717  5718  5719  5720  5721  5722  5723  5724  5725  5726  5727  5728\n",
              "[5725]  5729  5730  5731  5732  5733  5734  5735  5736  5737  5738  5739  5740\n",
              "[5737]  5741  5742  5743  5744  5745  5746  5747  5748  5749  5750  5751  5752\n",
              "[5749]  5753  5754  5755  5756  5757  5758  5759  5760  5761  5762  5763  5764\n",
              "[5761]  5765  5766  5767  5768  5769  5770  5771  5772  5773  5774  5775  5776\n",
              "[5773]  5777  5778  5779  5780  5781  5782  5783  5784  5785  5786  5787  5788\n",
              "[5785]  5789  5790  5791  5792  5793  5794  5795  5796  5797  5798  5799  5800\n",
              "[5797]  5801  5802  5803  5804  5805  5806  5807  5808  5809  5810  5811  5812\n",
              "[5809]  5813  5814  5815  5816  5817  5818  5819  5820  5821  5822  5823  5824\n",
              "[5821]  5825  5826  5827  5828  5829  5830  5831  5832  5833  5834  5835  5836\n",
              "[5833]  5837  5838  5839  5840  5841  5842  5843  5844  5845  5846  5847  5848\n",
              "[5845]  5849  5850  5851  5852  5853  5854  5855  5856  5857  5858  5859  5860\n",
              "[5857]  5861  5862  5863  5864  5865  5866  5867  5868  5869  5870  5871  5872\n",
              "[5869]  5873  5874  5875  5876  5877  5878  5879  5880  5881  5882  5883  5884\n",
              "[5881]  5885  5886  5887  5888  5889  5890  5891  5892  5893  5894  5895  5896\n",
              "[5893]  5897  5898  5899  5900  5901  5902  5903  5904  5905  5906  5907  5908\n",
              "[5905]  5909  5910  5911  5912  5913  5914  5915  5916  5917  5918  5919  5920\n",
              "[5917]  5921  5922  5923  5924  5925  5926  5927  5928  5929  5930  5931  5932\n",
              "[5929]  5933  5934  5935  5936  5937  5938  5939  5940  5941  5942  5943  5944\n",
              "[5941]  5945  5946  5947  5948  5949  5950  5951  5952  5953  5954  5955  5956\n",
              "[5953]  5957  5958  5959  5960  5961  5962  5963  5964  5965  5966  5967  5968\n",
              "[5965]  5969  5970  5971  5972  5973  5974  5975  5976  5977  5978  5979  5980\n",
              "[5977]  5981  5982  5983  5984  5985  5986  5987  5988  5989  5990  5991  5992\n",
              "[5989]  5993  5994  5995  5996  5997  5998  5999  6000  6001  6002  6003  6004\n",
              "[6001]  6005  6006  6007  6008  6009  6010  6011  6012  6013  6014  6015  6016\n",
              "[6013]  6017  6018  6019  6020  6021  6022  6023  6024  6025  6026  6027  6028\n",
              "[6025]  6029  6030  6031  6032  6033  6034  6035  6036  6037  6038  6039  6040\n",
              "[6037]  6041  6042  6043  6044  6045  6046  6047  6048  6049  6050  6051  6052\n",
              "[6049]  6053  6054  6055  6056  6057  6058  6059  6060  6061  6062  6063  6064\n",
              "[6061]  6065  6066  6067  6068  6069  6070  6071  6072  6073  6074  6075  6076\n",
              "[6073]  6077  6078  6079  6080  6081  6082  6083  6084  6085  6086  6087  6088\n",
              "[6085]  6089  6090  6091  6092  6093  6094  6095  6096  6097  6098  6099  6100\n",
              "[6097]  6101  6102  6103  6104  6105  6106  6107  6108  6109  6110  6111  6112\n",
              "[6109]  6113  6114  6115  6116  6117  6118  6119  6120  6121  6122  6123  6124\n",
              "[6121]  6125  6126  6127  6128  6129  6130  6131  6132  6133  6134  6135  6136\n",
              "[6133]  6137  6138  6139  6140  6141  6142  6143  6144  6145  6146  6147  6148\n",
              "[6145]  6149  6150  6151  6152  6153  6154  6155  6156  6157  6158  6159  6160\n",
              "[6157]  6161  6162  6163  6164  6165  6166  6167  6168  6169  6170  6171  6172\n",
              "[6169]  6173  6174  6175  6176  6177  6178  6179  6180  6181  6182  6183  6184\n",
              "[6181]  6185  6186  6187  6188  6189  6190  6191  6192  6193  6194  6195  6196\n",
              "[6193]  6197  6198  6199  6200  6201  6202  6203  6204  6205  6206  6207  6208\n",
              "[6205]  6209  6210  6211  6212  6213  6214  6215  6216  6217  6218  6219  6220\n",
              "[6217]  6221  6222  6223  6224  6225  6226  6227  6228  6229  6230  6231  6232\n",
              "[6229]  6233  6234  6235  6236  6237  6238  6239  6240  6241  6242  6243  6244\n",
              "[6241]  6245  6246  6247  6248  6249  6250  6251  6252  6253  6254  6255  6256\n",
              "[6253]  6257  6258  6259  6260  6261  6262  6263  6264  6265  6266  6267  6268\n",
              "[6265]  6269  6270  6271  6272  6273  6274  6275  6276  6277  6278  6279  6280\n",
              "[6277]  6281  6282  6283  6284  6285  6286  6287  6288  6289  6290  6291  6292\n",
              "[6289]  6293  6294  6295  6296  6297  6298  6299  6300  6301  6302  6303  6304\n",
              "[6301]  6305  6306  6307  6308  6309  6310  6311  6312  6313  6314  6315  6316\n",
              "[6313]  6317  6318  6319  6320  6321  6322  6323  6324  6325  6326  6327  6328\n",
              "[6325]  6329  6330  6331  6332  6333  6334  6335  6336  6337  6338  6339  6340\n",
              "[6337]  6341  6342  6343  6344  6345  6346  6347  6348  6349  6350  6351  6352\n",
              "[6349]  6353  6354  6355  6356  6357  6358  6359  6360  6361  6362  6363  6364\n",
              "[6361]  6365  6366  6367  6368  6369  6370  6371  6372  6373  6374  6375  6376\n",
              "[6373]  6377  6378  6379  6380  6381  6382  6383  6384  6385  6386  6387  6388\n",
              "[6385]  6389  6390  6391  6392  6393  6394  6395  6396  6397  6398  6399  6400\n",
              "[6397]  6401  6402  6403  6404  6405  6406  6407  6408  6409  6410  6411  6412\n",
              "[6409]  6413  6414  6415  6416  6417  6418  6419  6420  6421  6422  6423  6424\n",
              "[6421]  6425  6426  6427  6428  6429  6430  6431  6432  6433  6434  6435  6436\n",
              "[6433]  6437  6438  6439  6440  6441  6442  6443  6444  6445  6446  6447  6448\n",
              "[6445]  6449  6450  6451  6452  6453  6454  6455  6456  6457  6458  6459  6460\n",
              "[6457]  6461  6462  6463  6464  6465  6466  6467  6468  6469  6470  6471  6472\n",
              "[6469]  6473  6474  6475  6476  6477  6478  6479  6480  6481  6482  6483  6484\n",
              "[6481]  6485  6486  6487  6488  6489  6490  6491  6492  6493  6494  6495  6496\n",
              "[6493]  6497  6498  6499  6500  6501  6502  6503  6504  6505  6506  6507  6508\n",
              "[6505]  6509  6510  6511  6512  6513  6514  6515  6516  6517  6518  6519  6520\n",
              "[6517]  6521  6522  6523  6524  6525  6526  6527  6528  6529  6530  6531  6532\n",
              "[6529]  6533  6534  6535  6536  6537  6538  6539  6540  6541  6542  6543  6544\n",
              "[6541]  6545  6546  6547  6548  6549  6550  6551  6552  6553  6554  6555  6556\n",
              "[6553]  6557  6558  6559  6560  6561  6562  6563  6564  6565  6566  6567  6568\n",
              "[6565]  6569  6570  6571  6572  6573  6574  6575  6576  6577  6578  6579  6580\n",
              "[6577]  6581  6582  6583  6584  6585  6586  6587  6588  6589  6590  6591  6592\n",
              "[6589]  6593  6594  6595  6596  6597  6598  6599  6600  6601  6602  6603  6604\n",
              "[6601]  6605  6606  6607  6608  6609  6610  6611  6612  6613  6614  6615  6616\n",
              "[6613]  6617  6618  6619  6620  6621  6622  6623  6624  6625  6626  6627  6628\n",
              "[6625]  6629  6630  6631  6632  6633  6634  6635  6636  6637  6638  6639  6640\n",
              "[6637]  6641  6642  6643  6644  6645  6646  6647  6648  6649  6650  6651  6652\n",
              "[6649]  6653  6654  6655  6656  6657  6658  6659  6660  6661  6662  6663  6664\n",
              "[6661]  6665  6666  6667  6668  6669  6670  6671  6672  6673  6674  6675  6676\n",
              "[6673]  6677  6678  6679  6680  6681  6682  6683  6684  6685  6686  6687  6688\n",
              "[6685]  6689  6690  6691  6692  6693  6694  6695  6696  6697  6698  6699  6700\n",
              "[6697]  6701  6702  6703  6704  6705  6706  6707  6708  6709  6710  6711  6712\n",
              "[6709]  6713  6714  6715  6716  6717  6718  6719  6720  6721  6722  6723  6724\n",
              "[6721]  6725  6726  6727  6728  6729  6730  6731  6732  6733  6734  6735  6736\n",
              "[6733]  6737  6738  6739  6740  6741  6742  6743  6744  6745  6746  6747  6748\n",
              "[6745]  6749  6750  6751  6752  6753  6754  6755  6756  6757  6758  6759  6760\n",
              "[6757]  6761  6762  6763  6764  6765  6766  6767  6768  6769  6770  6771  6772\n",
              "[6769]  6773  6774  6775  6776  6777  6778  6779  6780  6781  6782  6783  6784\n",
              "[6781]  6785  6786  6787  6788  6789  6790  6791  6792  6793  6794  6795  6796\n",
              "[6793]  6797  6798  6799  6800  6801  6802  6803  6804  6805  6806  6807  6808\n",
              "[6805]  6809  6810  6811  6812  6813  6814  6815  6816  6817  6818  6819  6820\n",
              "[6817]  6821  6822  6823  6824  6825  6826  6827  6828  6829  6830  6831  6832\n",
              "[6829]  6833  6834  6835  6836  6837  6838  6839  6840  6841  6842  6843  6844\n",
              "[6841]  6845  6846  6847  6848  6849  6850  6851  6852  6853  6854  6855  6856\n",
              "[6853]  6857  6858  6859  6860  6861  6862  6863  6864  6865  6866  6867  6868\n",
              "[6865]  6869  6870  6871  6872  6873  6874  6875  6876  6877  6878  6879  6880\n",
              "[6877]  6881  6882  6883  6884  6885  6886  6887  6888  6889  6890  6891  6892\n",
              "[6889]  6893  6894  6895  6896  6897  6898  6899  6900  6901  6902  6903  6904\n",
              "[6901]  6905  6906  6907  6908  6909  6910  6911  6912  6913  6914  6915  6916\n",
              "[6913]  6917  6918  6919  6920  6921  6922  6923  6924  6925  6926  6927  6928\n",
              "[6925]  6929  6930  6931  6932  6933  6934  6935  6936  6937  6938  6939  6940\n",
              "[6937]  6941  6942  6943  6944  6945  6946  6947  6948  6949  6950  6951  6952\n",
              "[6949]  6953  6954  6955  6956  6957  6958  6959  6960  6961  6962  6963  6964\n",
              "[6961]  6965  6966  6967  6968  6969  6970  6971  6972  6973  6974  6975  6976\n",
              "[6973]  6977  6978  6979  6980  6981  6982  6983  6984  6985  6986  6987  6988\n",
              "[6985]  6989  6990  6991  6992  6993  6994  6995  6996  6997  6998  6999  7000\n",
              "[6997]  7001  7002  7003  7004  7005  7006  7007  7008  7009  7010  7011  7012\n",
              "[7009]  7013  7014  7015  7016  7017  7018  7019  7020  7021  7022  7023  7024\n",
              "[7021]  7025  7026  7027  7028  7029  7030  7031  7032  7033  7034  7035  7036\n",
              "[7033]  7037  7038  7039  7040  7041  7042  7043  7044  7045  7046  7047  7048\n",
              "[7045]  7049  7050  7051  7052  7053  7054  7055  7056  7057  7058  7059  7060\n",
              "[7057]  7061  7062  7063  7064  7065  7066  7067  7068  7069  7070  7071  7072\n",
              "[7069]  7073  7074  7075  7076  7077  7078  7079  7080  7081  7082  7083  7084\n",
              "[7081]  7085  7086  7087  7088  7089  7090  7091  7092  7093  7094  7095  7096\n",
              "[7093]  7097  7098  7099  7100  7101  7102  7103  7104  7105  7106  7107  7108\n",
              "[7105]  7109  7110  7111  7112  7113  7114  7115  7116  7117  7118  7119  7120\n",
              "[7117]  7121  7122  7123  7124  7125  7126  7127  7128  7129  7130  7131  7132\n",
              "[7129]  7133  7134  7135  7136  7137  7138  7139  7140  7141  7142  7143  7144\n",
              "[7141]  7145  7146  7147  7148  7149  7150  7151  7152  7153  7154  7155  7156\n",
              "[7153]  7157  7158  7159  7160  7161  7162  7163  7164  7165  7166  7167  7168\n",
              "[7165]  7169  7170  7171  7172  7173  7174  7175  7176  7177  7178  7179  7180\n",
              "[7177]  7181  7182  7183  7184  7185  7186  7187  7188  7189  7190  7191  7192\n",
              "[7189]  7193  7194  7195  7196  7197  7198  7199  7200  7201  7202  7203  7204\n",
              "[7201]  7205  7206  7207  7208  7209  7210  7211  7212  7213  7214  7215  7216\n",
              "[7213]  7217  7218  7219  7220  7221  7222  7223  7224  7225  7226  7227  7228\n",
              "[7225]  7229  7230  7231  7232  7233  7234  7235  7236  7237  7238  7239  7240\n",
              "[7237]  7241  7242  7243  7244  7245  7246  7247  7248  7249  7250  7251  7252\n",
              "[7249]  7253  7254  7255  7256  7257  7258  7259  7260  7261  7262  7263  7264\n",
              "[7261]  7265  7266  7267  7268  7269  7270  7271  7272  7273  7274  7275  7276\n",
              "[7273]  7277  7278  7279  7280  7281  7282  7283  7284  7285  7286  7287  7288\n",
              "[7285]  7289  7290  7291  7292  7293  7294  7295  7296  7297  7298  7299  7300\n",
              "[7297]  7301  7302  7303  7304  7305  7306  7307  7308  7309  7310  7311  7312\n",
              "[7309]  7313  7314  7315  7316  7317  7318  7319  7320  7321  7322  7323  7324\n",
              "[7321]  7325  7326  7327  7328  7329  7330  7331  7332  7333  7334  7335  7336\n",
              "[7333]  7337  7338  7339  7340  7341  7342  7343  7344  7345  7346  7347  7348\n",
              "[7345]  7349  7350  7351  7352  7353  7354  7355  7356  7357  7358  7359  7360\n",
              "[7357]  7361  7362  7363  7364  7365  7366  7367  7368  7369  7370  7371  7372\n",
              "[7369]  7373  7374  7375  7376  7377  7378  7379  7380  7381  7382  7383  7384\n",
              "[7381]  7385  7386  7387  7388  7389  7390  7391  7392  7393  7394  7395  7396\n",
              "[7393]  7397  7398  7399  7400  7401  7402  7403  7404  7405  7406  7407  7408\n",
              "[7405]  7409  7410  7411  7412  7413  7414  7415  7416  7417  7418  7419  7420\n",
              "[7417]  7421  7422  7423  7424  7425  7426  7427  7428  7429  7430  7431  7432\n",
              "[7429]  7433  7434  7435  7436  7437  7438  7439  7440  7441  7442  7443  7444\n",
              "[7441]  7445  7446  7447  7448  7449  7450  7451  7452  7453  7454  7455  7456\n",
              "[7453]  7457  7458  7459  7460  7461  7462  7463  7464  7465  7466  7467  7468\n",
              "[7465]  7469  7470  7471  7472  7473  7474  7475  7476  7477  7478  7479  7480\n",
              "[7477]  7481  7482  7483  7484  7485  7486  7487  7488  7489  7490  7491  7492\n",
              "[7489]  7493  7494  7495  7496  7497  7498  7499  7500  7501  7502  7503  7504\n",
              "[7501]  7505  7506  7507  7508  7509  7510  7511  7512  7513  7514  7515  7516\n",
              "[7513]  7517  7518  7519  7520  7521  7522  7523  7524  7525  7526  7527  7528\n",
              "[7525]  7529  7530  7531  7532  7533  7534  7535  7536  7537  7538  7539  7540\n",
              "[7537]  7541  7542  7543  7544  7545  7546  7547  7548  7549  7550  7551  7552\n",
              "[7549]  7553  7554  7555  7556  7557  7558  7559  7560  7561  7562  7563  7564\n",
              "[7561]  7565  7566  7567  7568  7569  7570  7571  7572  7573  7574  7575  7576\n",
              "[7573]  7577  7578  7579  7580  7581  7582  7583  7584  7585  7586  7587  7588\n",
              "[7585]  7589  7590  7591  7592  7593  7594  7595  7596  7597  7598  7599  7600\n",
              "[7597]  7601  7602  7603  7604  7605  7606  7607  7608  7609  7610  7611  7612\n",
              "[7609]  7613  7614  7615  7616  7617  7618  7619  7620  7621  7622  7623  7624\n",
              "[7621]  7625  7626  7627  7628  7629  7630  7631  7632  7633  7634  7635  7636\n",
              "[7633]  7637  7638  7639  7640  7641  7642  7643  7644  7645  7646  7647  7648\n",
              "[7645]  7649  7650  7651  7652  7653  7654  7655  7656  7657  7658  7659  7660\n",
              "[7657]  7661  7662  7663  7664  7665  7666  7667  7668  7669  7670  7671  7672\n",
              "[7669]  7673  7674  7675  7676  7677  7678  7679  7680  7681  7682  7683  7684\n",
              "[7681]  7685  7686  7687  7688  7689  7690  7691  7692  7693  7694  7695  7696\n",
              "[7693]  7697  7698  7699  7700  7701  7702  7703  7704  7705  7706  7707  7708\n",
              "[7705]  7709  7710  7711  7712  7713  7714  7715  7716  7717  7718  7719  7720\n",
              "[7717]  7721  7722  7723  7724  7725  7726  7727  7728  7729  7730  7731  7732\n",
              "[7729]  7733  7734  7735  7736  7737  7738  7739  7740  7741  7742  7743  7744\n",
              "[7741]  7745  7746  7747  7748  7749  7750  7751  7752  7753  7754  7755  7756\n",
              "[7753]  7757  7758  7759  7760  7761  7762  7763  7764  7765  7766  7767  7768\n",
              "[7765]  7769  7770  7771  7772  7773  7774  7775  7776  7777  7778  7779  7780\n",
              "[7777]  7781  7782  7783  7784  7785  7786  7787  7788  7789  7790  7791  7792\n",
              "[7789]  7793  7794  7795  7796  7797  7798  7799  7800  7801  7802  7803  7804\n",
              "[7801]  7805  7806  7807  7808  7809  7810  7811  7812  7813  7814  7815  7816\n",
              "[7813]  7817  7818  7819  7820  7821  7822  7823  7824  7825  7826  7827  7828\n",
              "[7825]  7829  7830  7831  7832  7833  7834  7835  7836  7837  7838  7839  7840\n",
              "[7837]  7841  7842  7843  7844  7845  7846  7847  7848  7849  7850  7851  7852\n",
              "[7849]  7853  7854  7855  7856  7857  7858  7859  7860  7861  7862  7863  7864\n",
              "[7861]  7865  7866  7867  7868  7869  7870  7871  7872  7873  7874  7875  7876\n",
              "[7873]  7877  7878  7879  7880  7881  7882  7883  7884  7885  7886  7887  7888\n",
              "[7885]  7889  7890  7891  7892  7893  7894  7895  7896  7897  7898  7899  7900\n",
              "[7897]  7901  7902  7903  7904  7905  7906  7907  7908  7909  7910  7911  7912\n",
              "[7909]  7913  7914  7915  7916  7917  7918  7919  7920  7921  7922  7923  7924\n",
              "[7921]  7925  7926  7927  7928  7929  7930  7931  7932  7933  7934  7935  7936\n",
              "[7933]  7937  7938  7939  7940  7941  7942  7943  7944  7945  7946  7947  7948\n",
              "[7945]  7949  7950  7951  7952  7953  7954  7955  7956  7957  7958  7959  7960\n",
              "[7957]  7961  7962  7963  7964  7965  7966  7967  7968  7969  7970  7971  7972\n",
              "[7969]  7973  7974  7975  7976  7977  7978  7979  7980  7981  7982  7983  7984\n",
              "[7981]  7985  7986  7987  7988  7989  7990  7991  7992  7993  7994  7995  7996\n",
              "[7993]  7997  7998  7999  8000  8001  8002  8003  8004  8005  8006  8007  8008\n",
              "[8005]  8009  8010  8011  8012  8013  8014  8015  8016  8017  8018  8019  8020\n",
              "[8017]  8021  8022  8023  8024  8025  8026  8027  8028  8029  8030  8031  8032\n",
              "[8029]  8033  8034  8035  8036  8037  8038  8039  8040  8041  8042  8043  8044\n",
              "[8041]  8045  8046  8047  8048  8049  8050  8051  8052  8053  8054  8055  8056\n",
              "[8053]  8057  8058  8059  8060  8061  8062  8063  8064  8065  8066  8067  8068\n",
              "[8065]  8069  8070  8071  8072  8073  8074  8075  8076  8077  8078  8079  8080\n",
              "[8077]  8081  8082  8083  8084  8085  8086  8087  8088  8089  8090  8091  8092\n",
              "[8089]  8093  8094  8095  8096  8097  8098  8099  8100  8101  8102  8103  8104\n",
              "[8101]  8105  8106  8107  8108  8109  8110  8111  8112  8113  8114  8115  8116\n",
              "[8113]  8117  8118  8119  8120  8121  8122  8123  8124  8125  8126  8127  8128\n",
              "[8125]  8129  8130  8131  8132  8133  8134  8135  8136  8137  8138  8139  8140\n",
              "[8137]  8141  8142  8143  8144  8145  8146  8147  8148  8149  8150  8151  8152\n",
              "[8149]  8153  8154  8155  8156  8157  8158  8159  8160  8161  8162  8163  8164\n",
              "[8161]  8165  8166  8167  8168  8169  8170  8171  8172  8173  8174  8175  8176\n",
              "[8173]  8177  8178  8179  8180  8181  8182  8183  8184  8185  8186  8187  8188\n",
              "[8185]  8189  8190  8191  8192  8193  8194  8195  8196  8197  8198  8199  8200\n",
              "[8197]  8201  8202  8203  8204  8205  8206  8207  8208  8209  8210  8211  8212\n",
              "[8209]  8213  8214  8215  8216  8217  8218  8219  8220  8221  8222  8223  8224\n",
              "[8221]  8225  8226  8227  8228  8229  8230  8231  8232  8233  8234  8235  8236\n",
              "[8233]  8237  8238  8239  8240  8241  8242  8243  8244  8245  8246  8247  8248\n",
              "[8245]  8249  8250  8251  8252  8253  8254  8255  8256  8257  8258  8259  8260\n",
              "[8257]  8261  8262  8263  8264  8265  8266  8267  8268  8269  8270  8271  8272\n",
              "[8269]  8273  8274  8275  8276  8277  8278  8279  8280  8281  8282  8283  8284\n",
              "[8281]  8285  8286  8287  8288  8289  8290  8291  8292  8293  8294  8295  8296\n",
              "[8293]  8297  8298  8299  8300  8301  8302  8303  8304  8305  8306  8307  8308\n",
              "[8305]  8309  8310  8311  8312  8313  8314  8315  8316  8317  8318  8319  8320\n",
              "[8317]  8321  8322  8323  8324  8325  8326  8327  8328  8329  8330  8331  8332\n",
              "[8329]  8333  8334  8335  8336  8337  8338  8339  8340  8341  8342  8343  8344\n",
              "[8341]  8345  8346  8347  8348  8349  8350  8351  8352  8353  8354  8355  8356\n",
              "[8353]  8357  8358  8359  8360  8361  8362  8363  8364  8365  8366  8367  8368\n",
              "[8365]  8369  8370  8371  8372  8373  8374  8375  8376  8377  8378  8379  8380\n",
              "[8377]  8381  8382  8383  8384  8385  8386  8387  8388  8389  8390  8391  8392\n",
              "[8389]  8393  8394  8395  8396  8397  8398  8399  8400  8401  8402  8403  8404\n",
              "[8401]  8405  8406  8407  8408  8409  8410  8411  8412  8413  8414  8415  8416\n",
              "[8413]  8417  8418  8419  8420  8421  8422  8423  8424  8425  8426  8427  8428\n",
              "[8425]  8429  8430  8431  8432  8433  8434  8435  8436  8437  8438  8439  8440\n",
              "[8437]  8441  8442  8443  8444  8445  8446  8447  8448  8449  8450  8451  8452\n",
              "[8449]  8453  8454  8455  8456  8457  8458  8459  8460  8461  8462  8463  8464\n",
              "[8461]  8465  8466  8467  8468  8469  8470  8471  8472  8473  8474  8475  8476\n",
              "[8473]  8477  8478  8479  8480  8481  8482  8483  8484  8485  8486  8487  8488\n",
              "[8485]  8489  8490  8491  8492  8493  8494  8495  8496  8497  8498  8499  8500\n",
              "[8497]  8501  8502  8503  8504  8505  8506  8507  8508  8509  8510  8511  8512\n",
              "[8509]  8513  8514  8515  8516  8517  8518  8519  8520  8521  8522  8523  8524\n",
              "[8521]  8525  8526  8527  8528  8529  8530  8531  8532  8533  8534  8535  8536\n",
              "[8533]  8537  8538  8539  8540  8541  8542  8543  8544  8545  8546  8547  8548\n",
              "[8545]  8549  8550  8551  8552  8553  8554  8555  8556  8557  8558  8559  8560\n",
              "[8557]  8561  8562  8563  8564  8565  8566  8567  8568  8569  8570  8571  8572\n",
              "[8569]  8573  8574  8575  8576  8577  8578  8579  8580  8581  8582  8583  8584\n",
              "[8581]  8585  8586  8587  8588  8589  8590  8591  8592  8593  8594  8595  8596\n",
              "[8593]  8597  8598  8599  8600  8601  8602  8603  8604  8605  8606  8607  8608\n",
              "[8605]  8609  8610  8611  8612  8613  8614  8615  8616  8617  8618  8619  8620\n",
              "[8617]  8621  8622  8623  8624  8625  8626  8627  8628  8629  8630  8631  8632\n",
              "[8629]  8633  8634  8635  8636  8637  8638  8639  8640  8641  8642  8643  8644\n",
              "[8641]  8645  8646  8647  8648  8649  8650  8651  8652  8653  8654  8655  8656\n",
              "[8653]  8657  8658  8659  8660  8661  8662  8663  8664  8665  8666  8667  8668\n",
              "[8665]  8669  8670  8671  8672  8673  8674  8675  8676  8677  8678  8679  8680\n",
              "[8677]  8681  8682  8683  8684  8685  8686  8687  8688  8689  8690  8691  8692\n",
              "[8689]  8693  8694  8695  8696  8697  8698  8699  8700  8701  8702  8703  8704\n",
              "[8701]  8705  8706  8707  8708  8709  8710  8711  8712  8713  8714  8715  8716\n",
              "[8713]  8717  8718  8719  8720  8721  8722  8723  8724  8725  8726  8727  8728\n",
              "[8725]  8729  8730  8731  8732  8733  8734  8735  8736  8737  8738  8739  8740\n",
              "[8737]  8741  8742  8743  8744  8745  8746  8747  8748  8749  8750  8751  8752\n",
              "[8749]  8753  8754  8755  8756  8757  8758  8759  8760  8761  8762  8763  8764\n",
              "[8761]  8765  8766  8767  8768  8769  8770  8771  8772  8773  8774  8775  8776\n",
              "[8773]  8777  8778  8779  8780  8781  8782  8783  8784  8785  8786  8787  8788\n",
              "[8785]  8789  8790  8791  8792  8793  8794  8795  8796  8797  8798  8799  8800\n",
              "[8797]  8801  8802  8803  8804  8805  8806  8807  8808  8809  8810  8811  8812\n",
              "[8809]  8813  8814  8815  8816  8817  8818  8819  8820  8821  8822  8823  8824\n",
              "[8821]  8825  8826  8827  8828  8829  8830  8831  8832  8833  8834  8835  8836\n",
              "[8833]  8837  8838  8839  8840  8841  8842  8843  8844  8845  8846  8847  8848\n",
              "[8845]  8849  8850  8851  8852  8853  8854  8855  8856  8857  8858  8859  8860\n",
              "[8857]  8861  8862  8863  8864  8865  8866  8867  8868  8869  8870  8871  8872\n",
              "[8869]  8873  8874  8875  8876  8877  8878  8879  8880  8881  8882  8883  8884\n",
              "[8881]  8885  8886  8887  8888  8889  8890  8891  8892  8893  8894  8895  8896\n",
              "[8893]  8897  8898  8899  8900  8901  8902  8903  8904  8905  8906  8907  8908\n",
              "[8905]  8909  8910  8911  8912  8913  8914  8915  8916  8917  8918  8919  8920\n",
              "[8917]  8921  8922  8923  8924  8925  8926  8927  8928  8929  8930  8931  8932\n",
              "[8929]  8933  8934  8935  8936  8937  8938  8939  8940  8941  8942  8943  8944\n",
              "[8941]  8945  8946  8947  8948  8949  8950  8951  8952  8953  8954  8955  8956\n",
              "[8953]  8957  8958  8959  8960  8961  8962  8963  8964  8965  8966  8967  8968\n",
              "[8965]  8969  8970  8971  8972  8973  8974  8975  8976  8977  8978  8979  8980\n",
              "[8977]  8981  8982  8983  8984  8985  8986  8987  8988  8989  8990  8991  8992\n",
              "[8989]  8993  8994  8995  8996  8997  8998  8999  9000  9001  9002  9003  9004\n",
              "[9001]  9005  9006  9007  9008  9009  9010  9011  9012  9013  9014  9015  9016\n",
              "[9013]  9017  9018  9019  9020  9021  9022  9023  9024  9025  9026  9027  9028\n",
              "[9025]  9029  9030  9031  9032  9033  9034  9035  9036  9037  9038  9039  9040\n",
              "[9037]  9041  9042  9043  9044  9045  9046  9047  9048  9049  9050  9051  9052\n",
              "[9049]  9053  9054  9055  9056  9057  9058  9059  9060  9061  9062  9063  9064\n",
              "[9061]  9065  9066  9067  9068  9069  9070  9071  9072  9073  9074  9075  9076\n",
              "[9073]  9077  9078  9079  9080  9081  9082  9083  9084  9085  9086  9087  9088\n",
              "[9085]  9089  9090  9091  9092  9093  9094  9095  9096  9097  9098  9099  9100\n",
              "[9097]  9101  9102  9103  9104  9105  9106  9107  9108  9109  9110  9111  9112\n",
              "[9109]  9113  9114  9115  9116  9117  9118  9119  9120  9121  9122  9123  9124\n",
              "[9121]  9125  9126  9127  9128  9129  9130  9131  9132  9133  9134  9135  9136\n",
              "[9133]  9137  9138  9139  9140  9141  9142  9143  9144  9145  9146  9147  9148\n",
              "[9145]  9149  9150  9151  9152  9153  9154  9155  9156  9157  9158  9159  9160\n",
              "[9157]  9161  9162  9163  9164  9165  9166  9167  9168  9169  9170  9171  9172\n",
              "[9169]  9173  9174  9175  9176  9177  9178  9179  9180  9181  9182  9183  9184\n",
              "[9181]  9185  9186  9187  9188  9189  9190  9191  9192  9193  9194  9195  9196\n",
              "[9193]  9197  9198  9199  9200  9201  9202  9203  9204  9205  9206  9207  9208\n",
              "[9205]  9209  9210  9211  9212  9213  9214  9215  9216  9217  9218  9219  9220\n",
              "[9217]  9221  9222  9223  9224  9225  9226  9227  9228  9229  9230  9231  9232\n",
              "[9229]  9233  9234  9235  9236  9237  9238  9239  9240  9241  9242  9243  9244\n",
              "[9241]  9245  9246  9247  9248  9249  9250  9251  9252  9253  9254  9255  9256\n",
              "[9253]  9257  9258  9259  9260  9261  9262  9263  9264  9265  9266  9267  9268\n",
              "[9265]  9269  9270  9271  9272  9273  9274  9275  9276  9277  9278  9279  9280\n",
              "[9277]  9281  9282  9283  9284  9285  9286  9287  9288  9289  9290  9291  9292\n",
              "[9289]  9293  9294  9295  9296  9297  9298  9299  9300  9301  9302  9303  9304\n",
              "[9301]  9305  9306  9307  9308  9309  9310  9311  9312  9313  9314  9315  9316\n",
              "[9313]  9317  9318  9319  9320  9321  9322  9323  9324  9325  9326  9327  9328\n",
              "[9325]  9329  9330  9331  9332  9333  9334  9335  9336  9337  9338  9339  9340\n",
              "[9337]  9341  9342  9343  9344  9345  9346  9347  9348  9349  9350  9351  9352\n",
              "[9349]  9353  9354  9355  9356  9357  9358  9359  9360  9361  9362  9363  9364\n",
              "[9361]  9365  9366  9367  9368  9369  9370  9371  9372  9373  9374  9375  9376\n",
              "[9373]  9377  9378  9379  9380  9381  9382  9383  9384  9385  9386  9387  9388\n",
              "[9385]  9389  9390  9391  9392  9393  9394  9395  9396  9397  9398  9399  9400\n",
              "[9397]  9401  9402  9403  9404  9405  9406  9407  9408  9409  9410  9411  9412\n",
              "[9409]  9413  9414  9415  9416  9417  9418  9419  9420  9421  9422  9423  9424\n",
              "[9421]  9425  9426  9427  9428  9429  9430  9431  9432  9433  9434  9435  9436\n",
              "[9433]  9437  9438  9439  9440  9441  9442  9443  9444  9445  9446  9447  9448\n",
              "[9445]  9449  9450  9451  9452  9453  9454  9455  9456  9457  9458  9459  9460\n",
              "[9457]  9461  9462  9463  9464  9465  9466  9467  9468  9469  9470  9471  9472\n",
              "[9469]  9473  9474  9475  9476  9477  9478  9479  9480  9481  9482  9483  9484\n",
              "[9481]  9485  9486  9487  9488  9489  9490  9491  9492  9493  9494  9495  9496\n",
              "[9493]  9497  9498  9499  9500  9501  9502  9503  9504  9505  9506  9507  9508\n",
              "[9505]  9509  9510  9511  9512  9513  9514  9515  9516  9517  9518  9519  9520\n",
              "[9517]  9521  9522  9523  9524  9525  9526  9527  9528  9529  9530  9531  9532\n",
              "[9529]  9533  9534  9535  9536  9537  9538  9539  9540  9541  9542  9543  9544\n",
              "[9541]  9545  9546  9547  9548  9549  9550  9551  9552  9553  9554  9555  9556\n",
              "[9553]  9557  9558  9559  9560  9561  9562  9563  9564  9565  9566  9567  9568\n",
              "[9565]  9569  9570  9571  9572  9573  9574  9575  9576  9577  9578  9579  9580\n",
              "[9577]  9581  9582  9583  9584  9585  9586  9587  9588  9589  9590  9591  9592\n",
              "[9589]  9593  9594  9595  9596  9597  9598  9599  9600  9601  9602  9603  9604\n",
              "[9601]  9605  9606  9607  9608  9609  9610  9611  9612  9613  9614  9615  9616\n",
              "[9613]  9617  9618  9619  9620  9621  9622  9623  9624  9625  9626  9627  9628\n",
              "[9625]  9629  9630  9631  9632  9633  9634  9635  9636  9637  9638  9639  9640\n",
              "[9637]  9641  9642  9643  9644  9645  9646  9647  9648  9649  9650  9651  9652\n",
              "[9649]  9653  9654  9655  9656  9657  9658  9659  9660  9661  9662  9663  9664\n",
              "[9661]  9665  9666  9667  9668  9669  9670  9671  9672  9673  9674  9675  9676\n",
              "[9673]  9677  9678  9679  9680  9681  9682  9683  9684  9685  9686  9687  9688\n",
              "[9685]  9689  9690  9691  9692  9693  9694  9695  9696  9697  9698  9699  9700\n",
              "[9697]  9701  9702  9703  9704  9705  9706  9707  9708  9709  9710  9711  9712\n",
              "[9709]  9713  9714  9715  9716  9717  9718  9719  9720  9721  9722  9723  9724\n",
              "[9721]  9725  9726  9727  9728  9729  9730  9731  9732  9733  9734  9735  9736\n",
              "[9733]  9737  9738  9739  9740  9741  9742  9743  9744  9745  9746  9747  9748\n",
              "[9745]  9749  9750  9751  9752  9753  9754  9755  9756  9757  9758  9759  9760\n",
              "[9757]  9761  9762  9763  9764  9765  9766  9767  9768  9769  9770  9771  9772\n",
              "[9769]  9773  9774  9775  9776  9777  9778  9779  9780  9781  9782  9783  9784\n",
              "[9781]  9785  9786  9787  9788  9789  9790  9791  9792  9793  9794  9795  9796\n",
              "[9793]  9797  9798  9799  9800  9801  9802  9803  9804  9805  9806  9807  9808\n",
              "[9805]  9809  9810  9811  9812  9813  9814  9815  9816  9817  9818  9819  9820\n",
              "[9817]  9821  9822  9823  9824  9825  9826  9827  9828  9829  9830  9831  9832\n",
              "[9829]  9833  9834  9835  9836  9837  9838  9839  9840  9841  9842  9843  9844\n",
              "[9841]  9845  9846  9847  9848  9849  9850  9851  9852  9853  9854  9855  9856\n",
              "[9853]  9857  9858  9859  9860  9861  9862  9863  9864  9865  9866  9867  9868\n",
              "[9865]  9869  9870  9871  9872  9873  9874  9875  9876  9877  9878  9879  9880\n",
              "[9877]  9881  9882  9883  9884  9885  9886  9887  9888  9889  9890  9891  9892\n",
              "[9889]  9893  9894  9895  9896  9897  9898  9899  9900  9901  9902  9903  9904\n",
              "[9901]  9905  9906  9907  9908  9909  9910  9911  9912  9913  9914  9915  9916\n",
              "[9913]  9917  9918  9919  9920  9921  9922  9923  9924  9925  9926  9927  9928\n",
              "[9925]  9929  9930  9931  9932  9933  9934  9935  9936  9937  9938  9939  9940\n",
              "[9937]  9941  9942  9943  9944  9945  9946  9947  9948  9949  9950  9951  9952\n",
              "[9949]  9953  9954  9955  9956  9957  9958  9959  9960  9961  9962  9963  9964\n",
              "[9961]  9965  9966  9967  9968  9969  9970  9971  9972  9973  9974  9975  9976\n",
              "[9973]  9977  9978  9979  9980  9981  9982  9983  9984  9985  9986  9987  9988\n",
              "[9985]  9989  9990  9991  9992  9993  9994  9995  9996  9997  9998  9999 10000"
            ],
            "text/latex": "\\begin{enumerate*}\n\\item 5\n\\item 6\n\\item 7\n\\item 8\n\\item 9\n\\item 10\n\\item 11\n\\item 12\n\\item 13\n\\item 14\n\\item 15\n\\item 16\n\\item 17\n\\item 18\n\\item 19\n\\item 20\n\\item 21\n\\item 22\n\\item 23\n\\item 24\n\\item 25\n\\item 26\n\\item 27\n\\item 28\n\\item 29\n\\item 30\n\\item 31\n\\item 32\n\\item 33\n\\item 34\n\\item 35\n\\item 36\n\\item 37\n\\item 38\n\\item 39\n\\item 40\n\\item 41\n\\item 42\n\\item 43\n\\item 44\n\\item 45\n\\item 46\n\\item 47\n\\item 48\n\\item 49\n\\item 50\n\\item 51\n\\item 52\n\\item 53\n\\item 54\n\\item 55\n\\item 56\n\\item 57\n\\item 58\n\\item 59\n\\item 60\n\\item 61\n\\item 62\n\\item 63\n\\item 64\n\\item 65\n\\item 66\n\\item 67\n\\item 68\n\\item 69\n\\item 70\n\\item 71\n\\item 72\n\\item 73\n\\item 74\n\\item 75\n\\item 76\n\\item 77\n\\item 78\n\\item 79\n\\item 80\n\\item 81\n\\item 82\n\\item 83\n\\item 84\n\\item 85\n\\item 86\n\\item 87\n\\item 88\n\\item 89\n\\item 90\n\\item 91\n\\item 92\n\\item 93\n\\item 94\n\\item 95\n\\item 96\n\\item 97\n\\item 98\n\\item 99\n\\item 100\n\\item 101\n\\item 102\n\\item 103\n\\item 104\n\\item 105\n\\item 106\n\\item 107\n\\item 108\n\\item 109\n\\item 110\n\\item 111\n\\item 112\n\\item 113\n\\item 114\n\\item 115\n\\item 116\n\\item 117\n\\item 118\n\\item 119\n\\item 120\n\\item 121\n\\item 122\n\\item 123\n\\item 124\n\\item 125\n\\item 126\n\\item 127\n\\item 128\n\\item 129\n\\item 130\n\\item 131\n\\item 132\n\\item 133\n\\item 134\n\\item 135\n\\item 136\n\\item 137\n\\item 138\n\\item 139\n\\item 140\n\\item 141\n\\item 142\n\\item 143\n\\item 144\n\\item 145\n\\item 146\n\\item 147\n\\item 148\n\\item 149\n\\item 150\n\\item 151\n\\item 152\n\\item 153\n\\item 154\n\\item 155\n\\item 156\n\\item 157\n\\item 158\n\\item 159\n\\item 160\n\\item 161\n\\item 162\n\\item 163\n\\item 164\n\\item 165\n\\item 166\n\\item 167\n\\item 168\n\\item 169\n\\item 170\n\\item 171\n\\item 172\n\\item 173\n\\item 174\n\\item 175\n\\item 176\n\\item 177\n\\item 178\n\\item 179\n\\item 180\n\\item 181\n\\item 182\n\\item 183\n\\item 184\n\\item 185\n\\item 186\n\\item 187\n\\item 188\n\\item 189\n\\item 190\n\\item 191\n\\item 192\n\\item 193\n\\item 194\n\\item 195\n\\item 196\n\\item 197\n\\item 198\n\\item 199\n\\item 200\n\\item 201\n\\item 202\n\\item 203\n\\item 204\n\\item ⋯\n\\item 9801\n\\item 9802\n\\item 9803\n\\item 9804\n\\item 9805\n\\item 9806\n\\item 9807\n\\item 9808\n\\item 9809\n\\item 9810\n\\item 9811\n\\item 9812\n\\item 9813\n\\item 9814\n\\item 9815\n\\item 9816\n\\item 9817\n\\item 9818\n\\item 9819\n\\item 9820\n\\item 9821\n\\item 9822\n\\item 9823\n\\item 9824\n\\item 9825\n\\item 9826\n\\item 9827\n\\item 9828\n\\item 9829\n\\item 9830\n\\item 9831\n\\item 9832\n\\item 9833\n\\item 9834\n\\item 9835\n\\item 9836\n\\item 9837\n\\item 9838\n\\item 9839\n\\item 9840\n\\item 9841\n\\item 9842\n\\item 9843\n\\item 9844\n\\item 9845\n\\item 9846\n\\item 9847\n\\item 9848\n\\item 9849\n\\item 9850\n\\item 9851\n\\item 9852\n\\item 9853\n\\item 9854\n\\item 9855\n\\item 9856\n\\item 9857\n\\item 9858\n\\item 9859\n\\item 9860\n\\item 9861\n\\item 9862\n\\item 9863\n\\item 9864\n\\item 9865\n\\item 9866\n\\item 9867\n\\item 9868\n\\item 9869\n\\item 9870\n\\item 9871\n\\item 9872\n\\item 9873\n\\item 9874\n\\item 9875\n\\item 9876\n\\item 9877\n\\item 9878\n\\item 9879\n\\item 9880\n\\item 9881\n\\item 9882\n\\item 9883\n\\item 9884\n\\item 9885\n\\item 9886\n\\item 9887\n\\item 9888\n\\item 9889\n\\item 9890\n\\item 9891\n\\item 9892\n\\item 9893\n\\item 9894\n\\item 9895\n\\item 9896\n\\item 9897\n\\item 9898\n\\item 9899\n\\item 9900\n\\item 9901\n\\item 9902\n\\item 9903\n\\item 9904\n\\item 9905\n\\item 9906\n\\item 9907\n\\item 9908\n\\item 9909\n\\item 9910\n\\item 9911\n\\item 9912\n\\item 9913\n\\item 9914\n\\item 9915\n\\item 9916\n\\item 9917\n\\item 9918\n\\item 9919\n\\item 9920\n\\item 9921\n\\item 9922\n\\item 9923\n\\item 9924\n\\item 9925\n\\item 9926\n\\item 9927\n\\item 9928\n\\item 9929\n\\item 9930\n\\item 9931\n\\item 9932\n\\item 9933\n\\item 9934\n\\item 9935\n\\item 9936\n\\item 9937\n\\item 9938\n\\item 9939\n\\item 9940\n\\item 9941\n\\item 9942\n\\item 9943\n\\item 9944\n\\item 9945\n\\item 9946\n\\item 9947\n\\item 9948\n\\item 9949\n\\item 9950\n\\item 9951\n\\item 9952\n\\item 9953\n\\item 9954\n\\item 9955\n\\item 9956\n\\item 9957\n\\item 9958\n\\item 9959\n\\item 9960\n\\item 9961\n\\item 9962\n\\item 9963\n\\item 9964\n\\item 9965\n\\item 9966\n\\item 9967\n\\item 9968\n\\item 9969\n\\item 9970\n\\item 9971\n\\item 9972\n\\item 9973\n\\item 9974\n\\item 9975\n\\item 9976\n\\item 9977\n\\item 9978\n\\item 9979\n\\item 9980\n\\item 9981\n\\item 9982\n\\item 9983\n\\item 9984\n\\item 9985\n\\item 9986\n\\item 9987\n\\item 9988\n\\item 9989\n\\item 9990\n\\item 9991\n\\item 9992\n\\item 9993\n\\item 9994\n\\item 9995\n\\item 9996\n\\item 9997\n\\item 9998\n\\item 9999\n\\item 10000\n\\end{enumerate*}\n",
            "text/markdown": "1. 5\n2. 6\n3. 7\n4. 8\n5. 9\n6. 10\n7. 11\n8. 12\n9. 13\n10. 14\n11. 15\n12. 16\n13. 17\n14. 18\n15. 19\n16. 20\n17. 21\n18. 22\n19. 23\n20. 24\n21. 25\n22. 26\n23. 27\n24. 28\n25. 29\n26. 30\n27. 31\n28. 32\n29. 33\n30. 34\n31. 35\n32. 36\n33. 37\n34. 38\n35. 39\n36. 40\n37. 41\n38. 42\n39. 43\n40. 44\n41. 45\n42. 46\n43. 47\n44. 48\n45. 49\n46. 50\n47. 51\n48. 52\n49. 53\n50. 54\n51. 55\n52. 56\n53. 57\n54. 58\n55. 59\n56. 60\n57. 61\n58. 62\n59. 63\n60. 64\n61. 65\n62. 66\n63. 67\n64. 68\n65. 69\n66. 70\n67. 71\n68. 72\n69. 73\n70. 74\n71. 75\n72. 76\n73. 77\n74. 78\n75. 79\n76. 80\n77. 81\n78. 82\n79. 83\n80. 84\n81. 85\n82. 86\n83. 87\n84. 88\n85. 89\n86. 90\n87. 91\n88. 92\n89. 93\n90. 94\n91. 95\n92. 96\n93. 97\n94. 98\n95. 99\n96. 100\n97. 101\n98. 102\n99. 103\n100. 104\n101. 105\n102. 106\n103. 107\n104. 108\n105. 109\n106. 110\n107. 111\n108. 112\n109. 113\n110. 114\n111. 115\n112. 116\n113. 117\n114. 118\n115. 119\n116. 120\n117. 121\n118. 122\n119. 123\n120. 124\n121. 125\n122. 126\n123. 127\n124. 128\n125. 129\n126. 130\n127. 131\n128. 132\n129. 133\n130. 134\n131. 135\n132. 136\n133. 137\n134. 138\n135. 139\n136. 140\n137. 141\n138. 142\n139. 143\n140. 144\n141. 145\n142. 146\n143. 147\n144. 148\n145. 149\n146. 150\n147. 151\n148. 152\n149. 153\n150. 154\n151. 155\n152. 156\n153. 157\n154. 158\n155. 159\n156. 160\n157. 161\n158. 162\n159. 163\n160. 164\n161. 165\n162. 166\n163. 167\n164. 168\n165. 169\n166. 170\n167. 171\n168. 172\n169. 173\n170. 174\n171. 175\n172. 176\n173. 177\n174. 178\n175. 179\n176. 180\n177. 181\n178. 182\n179. 183\n180. 184\n181. 185\n182. 186\n183. 187\n184. 188\n185. 189\n186. 190\n187. 191\n188. 192\n189. 193\n190. 194\n191. 195\n192. 196\n193. 197\n194. 198\n195. 199\n196. 200\n197. 201\n198. 202\n199. 203\n200. 204\n201. ⋯\n202. 9801\n203. 9802\n204. 9803\n205. 9804\n206. 9805\n207. 9806\n208. 9807\n209. 9808\n210. 9809\n211. 9810\n212. 9811\n213. 9812\n214. 9813\n215. 9814\n216. 9815\n217. 9816\n218. 9817\n219. 9818\n220. 9819\n221. 9820\n222. 9821\n223. 9822\n224. 9823\n225. 9824\n226. 9825\n227. 9826\n228. 9827\n229. 9828\n230. 9829\n231. 9830\n232. 9831\n233. 9832\n234. 9833\n235. 9834\n236. 9835\n237. 9836\n238. 9837\n239. 9838\n240. 9839\n241. 9840\n242. 9841\n243. 9842\n244. 9843\n245. 9844\n246. 9845\n247. 9846\n248. 9847\n249. 9848\n250. 9849\n251. 9850\n252. 9851\n253. 9852\n254. 9853\n255. 9854\n256. 9855\n257. 9856\n258. 9857\n259. 9858\n260. 9859\n261. 9860\n262. 9861\n263. 9862\n264. 9863\n265. 9864\n266. 9865\n267. 9866\n268. 9867\n269. 9868\n270. 9869\n271. 9870\n272. 9871\n273. 9872\n274. 9873\n275. 9874\n276. 9875\n277. 9876\n278. 9877\n279. 9878\n280. 9879\n281. 9880\n282. 9881\n283. 9882\n284. 9883\n285. 9884\n286. 9885\n287. 9886\n288. 9887\n289. 9888\n290. 9889\n291. 9890\n292. 9891\n293. 9892\n294. 9893\n295. 9894\n296. 9895\n297. 9896\n298. 9897\n299. 9898\n300. 9899\n301. 9900\n302. 9901\n303. 9902\n304. 9903\n305. 9904\n306. 9905\n307. 9906\n308. 9907\n309. 9908\n310. 9909\n311. 9910\n312. 9911\n313. 9912\n314. 9913\n315. 9914\n316. 9915\n317. 9916\n318. 9917\n319. 9918\n320. 9919\n321. 9920\n322. 9921\n323. 9922\n324. 9923\n325. 9924\n326. 9925\n327. 9926\n328. 9927\n329. 9928\n330. 9929\n331. 9930\n332. 9931\n333. 9932\n334. 9933\n335. 9934\n336. 9935\n337. 9936\n338. 9937\n339. 9938\n340. 9939\n341. 9940\n342. 9941\n343. 9942\n344. 9943\n345. 9944\n346. 9945\n347. 9946\n348. 9947\n349. 9948\n350. 9949\n351. 9950\n352. 9951\n353. 9952\n354. 9953\n355. 9954\n356. 9955\n357. 9956\n358. 9957\n359. 9958\n360. 9959\n361. 9960\n362. 9961\n363. 9962\n364. 9963\n365. 9964\n366. 9965\n367. 9966\n368. 9967\n369. 9968\n370. 9969\n371. 9970\n372. 9971\n373. 9972\n374. 9973\n375. 9974\n376. 9975\n377. 9976\n378. 9977\n379. 9978\n380. 9979\n381. 9980\n382. 9981\n383. 9982\n384. 9983\n385. 9984\n386. 9985\n387. 9986\n388. 9987\n389. 9988\n390. 9989\n391. 9990\n392. 9991\n393. 9992\n394. 9993\n395. 9994\n396. 9995\n397. 9996\n398. 9997\n399. 9998\n400. 9999\n401. 10000\n\n\n",
            "text/html": [
              "<style>\n",
              ".list-inline {list-style: none; margin:0; padding: 0}\n",
              ".list-inline>li {display: inline-block}\n",
              ".list-inline>li:not(:last-child)::after {content: \"\\00b7\"; padding: 0 .5ex}\n",
              "</style>\n",
              "<ol class=list-inline><li>5</li><li>6</li><li>7</li><li>8</li><li>9</li><li>10</li><li>11</li><li>12</li><li>13</li><li>14</li><li>15</li><li>16</li><li>17</li><li>18</li><li>19</li><li>20</li><li>21</li><li>22</li><li>23</li><li>24</li><li>25</li><li>26</li><li>27</li><li>28</li><li>29</li><li>30</li><li>31</li><li>32</li><li>33</li><li>34</li><li>35</li><li>36</li><li>37</li><li>38</li><li>39</li><li>40</li><li>41</li><li>42</li><li>43</li><li>44</li><li>45</li><li>46</li><li>47</li><li>48</li><li>49</li><li>50</li><li>51</li><li>52</li><li>53</li><li>54</li><li>55</li><li>56</li><li>57</li><li>58</li><li>59</li><li>60</li><li>61</li><li>62</li><li>63</li><li>64</li><li>65</li><li>66</li><li>67</li><li>68</li><li>69</li><li>70</li><li>71</li><li>72</li><li>73</li><li>74</li><li>75</li><li>76</li><li>77</li><li>78</li><li>79</li><li>80</li><li>81</li><li>82</li><li>83</li><li>84</li><li>85</li><li>86</li><li>87</li><li>88</li><li>89</li><li>90</li><li>91</li><li>92</li><li>93</li><li>94</li><li>95</li><li>96</li><li>97</li><li>98</li><li>99</li><li>100</li><li>101</li><li>102</li><li>103</li><li>104</li><li>105</li><li>106</li><li>107</li><li>108</li><li>109</li><li>110</li><li>111</li><li>112</li><li>113</li><li>114</li><li>115</li><li>116</li><li>117</li><li>118</li><li>119</li><li>120</li><li>121</li><li>122</li><li>123</li><li>124</li><li>125</li><li>126</li><li>127</li><li>128</li><li>129</li><li>130</li><li>131</li><li>132</li><li>133</li><li>134</li><li>135</li><li>136</li><li>137</li><li>138</li><li>139</li><li>140</li><li>141</li><li>142</li><li>143</li><li>144</li><li>145</li><li>146</li><li>147</li><li>148</li><li>149</li><li>150</li><li>151</li><li>152</li><li>153</li><li>154</li><li>155</li><li>156</li><li>157</li><li>158</li><li>159</li><li>160</li><li>161</li><li>162</li><li>163</li><li>164</li><li>165</li><li>166</li><li>167</li><li>168</li><li>169</li><li>170</li><li>171</li><li>172</li><li>173</li><li>174</li><li>175</li><li>176</li><li>177</li><li>178</li><li>179</li><li>180</li><li>181</li><li>182</li><li>183</li><li>184</li><li>185</li><li>186</li><li>187</li><li>188</li><li>189</li><li>190</li><li>191</li><li>192</li><li>193</li><li>194</li><li>195</li><li>196</li><li>197</li><li>198</li><li>199</li><li>200</li><li>201</li><li>202</li><li>203</li><li>204</li><li>⋯</li><li>9801</li><li>9802</li><li>9803</li><li>9804</li><li>9805</li><li>9806</li><li>9807</li><li>9808</li><li>9809</li><li>9810</li><li>9811</li><li>9812</li><li>9813</li><li>9814</li><li>9815</li><li>9816</li><li>9817</li><li>9818</li><li>9819</li><li>9820</li><li>9821</li><li>9822</li><li>9823</li><li>9824</li><li>9825</li><li>9826</li><li>9827</li><li>9828</li><li>9829</li><li>9830</li><li>9831</li><li>9832</li><li>9833</li><li>9834</li><li>9835</li><li>9836</li><li>9837</li><li>9838</li><li>9839</li><li>9840</li><li>9841</li><li>9842</li><li>9843</li><li>9844</li><li>9845</li><li>9846</li><li>9847</li><li>9848</li><li>9849</li><li>9850</li><li>9851</li><li>9852</li><li>9853</li><li>9854</li><li>9855</li><li>9856</li><li>9857</li><li>9858</li><li>9859</li><li>9860</li><li>9861</li><li>9862</li><li>9863</li><li>9864</li><li>9865</li><li>9866</li><li>9867</li><li>9868</li><li>9869</li><li>9870</li><li>9871</li><li>9872</li><li>9873</li><li>9874</li><li>9875</li><li>9876</li><li>9877</li><li>9878</li><li>9879</li><li>9880</li><li>9881</li><li>9882</li><li>9883</li><li>9884</li><li>9885</li><li>9886</li><li>9887</li><li>9888</li><li>9889</li><li>9890</li><li>9891</li><li>9892</li><li>9893</li><li>9894</li><li>9895</li><li>9896</li><li>9897</li><li>9898</li><li>9899</li><li>9900</li><li>9901</li><li>9902</li><li>9903</li><li>9904</li><li>9905</li><li>9906</li><li>9907</li><li>9908</li><li>9909</li><li>9910</li><li>9911</li><li>9912</li><li>9913</li><li>9914</li><li>9915</li><li>9916</li><li>9917</li><li>9918</li><li>9919</li><li>9920</li><li>9921</li><li>9922</li><li>9923</li><li>9924</li><li>9925</li><li>9926</li><li>9927</li><li>9928</li><li>9929</li><li>9930</li><li>9931</li><li>9932</li><li>9933</li><li>9934</li><li>9935</li><li>9936</li><li>9937</li><li>9938</li><li>9939</li><li>9940</li><li>9941</li><li>9942</li><li>9943</li><li>9944</li><li>9945</li><li>9946</li><li>9947</li><li>9948</li><li>9949</li><li>9950</li><li>9951</li><li>9952</li><li>9953</li><li>9954</li><li>9955</li><li>9956</li><li>9957</li><li>9958</li><li>9959</li><li>9960</li><li>9961</li><li>9962</li><li>9963</li><li>9964</li><li>9965</li><li>9966</li><li>9967</li><li>9968</li><li>9969</li><li>9970</li><li>9971</li><li>9972</li><li>9973</li><li>9974</li><li>9975</li><li>9976</li><li>9977</li><li>9978</li><li>9979</li><li>9980</li><li>9981</li><li>9982</li><li>9983</li><li>9984</li><li>9985</li><li>9986</li><li>9987</li><li>9988</li><li>9989</li><li>9990</li><li>9991</li><li>9992</li><li>9993</li><li>9994</li><li>9995</li><li>9996</li><li>9997</li><li>9998</li><li>9999</li><li>10000</li></ol>\n"
            ]
          },
          "metadata": {
            "tags": []
          }
        }
      ]
    },
    {
      "cell_type": "code",
      "metadata": {
        "id": "p6wbzkogKq46",
        "colab": {
          "base_uri": "https://localhost:8080/",
          "height": 34
        },
        "outputId": "7a31fd23-5876-484c-b82d-4ff7b969b05d"
      },
      "source": [
        "# Pregunta Jaime: Que pasa si asigno menos nombres que elementos del vector:\n",
        "vl\n",
        "names(vl) <- c(\"valor1\", \"valor2\")"
      ],
      "execution_count": null,
      "outputs": [
        {
          "output_type": "display_data",
          "data": {
            "text/plain": [
              "valor1 valor2   <NA> \n",
              "  TRUE  FALSE   TRUE "
            ],
            "text/latex": "\\begin{description*}\n\\item[valor1] TRUE\n\\item[valor2] FALSE\n\\item[3] TRUE\n\\end{description*}\n",
            "text/markdown": "valor1\n:   TRUEvalor2\n:   FALSE3\n:   TRUE\n\n",
            "text/html": [
              "<style>\n",
              ".dl-inline {width: auto; margin:0; padding: 0}\n",
              ".dl-inline>dt, .dl-inline>dd {float: none; width: auto; display: inline-block}\n",
              ".dl-inline>dt::after {content: \":\\0020\"; padding-right: .5ex}\n",
              ".dl-inline>dt:not(:first-of-type) {padding-left: .5ex}\n",
              "</style><dl class=dl-inline><dt>valor1</dt><dd>TRUE</dd><dt>valor2</dt><dd>FALSE</dd><dt>3</dt><dd>TRUE</dd></dl>\n"
            ]
          },
          "metadata": {
            "tags": []
          }
        }
      ]
    },
    {
      "cell_type": "code",
      "metadata": {
        "id": "mv89GgzoK5O7",
        "colab": {
          "base_uri": "https://localhost:8080/",
          "height": 34
        },
        "outputId": "b28740d7-b91d-40dc-dd68-b083bde83c8f"
      },
      "source": [
        "vl"
      ],
      "execution_count": null,
      "outputs": [
        {
          "output_type": "display_data",
          "data": {
            "text/plain": [
              "valor1 valor2   <NA> \n",
              "  TRUE  FALSE   TRUE "
            ],
            "text/latex": "\\begin{description*}\n\\item[valor1] TRUE\n\\item[valor2] FALSE\n\\item[3] TRUE\n\\end{description*}\n",
            "text/markdown": "valor1\n:   TRUEvalor2\n:   FALSE3\n:   TRUE\n\n",
            "text/html": [
              "<style>\n",
              ".dl-inline {width: auto; margin:0; padding: 0}\n",
              ".dl-inline>dt, .dl-inline>dd {float: none; width: auto; display: inline-block}\n",
              ".dl-inline>dt::after {content: \":\\0020\"; padding-right: .5ex}\n",
              ".dl-inline>dt:not(:first-of-type) {padding-left: .5ex}\n",
              "</style><dl class=dl-inline><dt>valor1</dt><dd>TRUE</dd><dt>valor2</dt><dd>FALSE</dd><dt>3</dt><dd>TRUE</dd></dl>\n"
            ]
          },
          "metadata": {
            "tags": []
          }
        }
      ]
    },
    {
      "cell_type": "code",
      "metadata": {
        "id": "7Ayre5BlIgvH",
        "colab": {
          "base_uri": "https://localhost:8080/",
          "height": 68
        },
        "outputId": "5a60488d-5c88-49e3-d694-3d61e2b5fa6b"
      },
      "source": [
        "#combinar vectores\n",
        "v1\n",
        "v4\n",
        "\n",
        "c(v1,v4)"
      ],
      "execution_count": null,
      "outputs": [
        {
          "output_type": "display_data",
          "data": {
            "text/plain": [
              "     a      b      c      d \n",
              "   1.0    2.2    6.0 1500.0 "
            ],
            "text/latex": "\\begin{description*}\n\\item[a] 1\n\\item[b] 2.2\n\\item[c] 6\n\\item[d] 1500\n\\end{description*}\n",
            "text/markdown": "a\n:   1b\n:   2.2c\n:   6d\n:   1500\n\n",
            "text/html": [
              "<style>\n",
              ".dl-inline {width: auto; margin:0; padding: 0}\n",
              ".dl-inline>dt, .dl-inline>dd {float: none; width: auto; display: inline-block}\n",
              ".dl-inline>dt::after {content: \":\\0020\"; padding-right: .5ex}\n",
              ".dl-inline>dt:not(:first-of-type) {padding-left: .5ex}\n",
              "</style><dl class=dl-inline><dt>a</dt><dd>1</dd><dt>b</dt><dd>2.2</dd><dt>c</dt><dd>6</dd><dt>d</dt><dd>1500</dd></dl>\n"
            ]
          },
          "metadata": {
            "tags": []
          }
        },
        {
          "output_type": "display_data",
          "data": {
            "text/plain": [
              "n1 n2 \n",
              " 5  6 "
            ],
            "text/latex": "\\begin{description*}\n\\item[n1] 5\n\\item[n2] 6\n\\end{description*}\n",
            "text/markdown": "n1\n:   5n2\n:   6\n\n",
            "text/html": [
              "<style>\n",
              ".dl-inline {width: auto; margin:0; padding: 0}\n",
              ".dl-inline>dt, .dl-inline>dd {float: none; width: auto; display: inline-block}\n",
              ".dl-inline>dt::after {content: \":\\0020\"; padding-right: .5ex}\n",
              ".dl-inline>dt:not(:first-of-type) {padding-left: .5ex}\n",
              "</style><dl class=dl-inline><dt>n1</dt><dd>5</dd><dt>n2</dt><dd>6</dd></dl>\n"
            ]
          },
          "metadata": {
            "tags": []
          }
        },
        {
          "output_type": "display_data",
          "data": {
            "text/plain": [
              "     a      b      c      d     n1     n2 \n",
              "   1.0    2.2    6.0 1500.0    5.0    6.0 "
            ],
            "text/latex": "\\begin{description*}\n\\item[a] 1\n\\item[b] 2.2\n\\item[c] 6\n\\item[d] 1500\n\\item[n1] 5\n\\item[n2] 6\n\\end{description*}\n",
            "text/markdown": "a\n:   1b\n:   2.2c\n:   6d\n:   1500n1\n:   5n2\n:   6\n\n",
            "text/html": [
              "<style>\n",
              ".dl-inline {width: auto; margin:0; padding: 0}\n",
              ".dl-inline>dt, .dl-inline>dd {float: none; width: auto; display: inline-block}\n",
              ".dl-inline>dt::after {content: \":\\0020\"; padding-right: .5ex}\n",
              ".dl-inline>dt:not(:first-of-type) {padding-left: .5ex}\n",
              "</style><dl class=dl-inline><dt>a</dt><dd>1</dd><dt>b</dt><dd>2.2</dd><dt>c</dt><dd>6</dd><dt>d</dt><dd>1500</dd><dt>n1</dt><dd>5</dd><dt>n2</dt><dd>6</dd></dl>\n"
            ]
          },
          "metadata": {
            "tags": []
          }
        }
      ]
    },
    {
      "cell_type": "code",
      "metadata": {
        "id": "QETBghXxIgvI"
      },
      "source": [
        "# c : es una abreviación de \"combine\"\n"
      ],
      "execution_count": null,
      "outputs": []
    },
    {
      "cell_type": "code",
      "metadata": {
        "id": "mAMh7noOLiRY",
        "colab": {
          "base_uri": "https://localhost:8080/",
          "height": 51
        },
        "outputId": "596ecc49-7b59-479b-d31b-a8d9a9338dca"
      },
      "source": [
        "# Función length(): calcular el largo de un vector\n",
        "length(v1)\n",
        "length(v4)\n",
        "\n",
        "v5 <- c(v1,v4)"
      ],
      "execution_count": null,
      "outputs": [
        {
          "output_type": "display_data",
          "data": {
            "text/plain": [
              "[1] 4"
            ],
            "text/latex": "4",
            "text/markdown": "4",
            "text/html": [
              "4"
            ]
          },
          "metadata": {
            "tags": []
          }
        },
        {
          "output_type": "display_data",
          "data": {
            "text/plain": [
              "[1] 2"
            ],
            "text/latex": "2",
            "text/markdown": "2",
            "text/html": [
              "2"
            ]
          },
          "metadata": {
            "tags": []
          }
        }
      ]
    },
    {
      "cell_type": "code",
      "metadata": {
        "id": "TsXxFdX2Lre_",
        "colab": {
          "base_uri": "https://localhost:8080/",
          "height": 34
        },
        "outputId": "e327c4d7-dbd3-4c04-c44a-3b6d23950ff7"
      },
      "source": [
        "length(v5)"
      ],
      "execution_count": null,
      "outputs": [
        {
          "output_type": "display_data",
          "data": {
            "text/plain": [
              "[1] 6"
            ],
            "text/latex": "6",
            "text/markdown": "6",
            "text/html": [
              "6"
            ]
          },
          "metadata": {
            "tags": []
          }
        }
      ]
    },
    {
      "cell_type": "markdown",
      "metadata": {
        "id": "MX35j24_IgvN"
      },
      "source": [
        "#### 3.1.1 Acceso a los elementos de un vector\n",
        "\n",
        "El acceso a los elementos de un vector se puede llevar acabo indicando la posición del elemento (los naturales parten en 1!), el nombre de la casilla que lo contiene, o bien mediante sentencias lógicas que retornen \"TRUE\" en la posición deseada.\n",
        "\n"
      ]
    },
    {
      "cell_type": "code",
      "metadata": {
        "id": "zW2_TzKxIgvN",
        "colab": {
          "base_uri": "https://localhost:8080/",
          "height": 51
        },
        "outputId": "52e50feb-8f64-4df3-9478-6d95b17cfa7c"
      },
      "source": [
        "# Mediante posición\n",
        "v5\n",
        "v5[4]"
      ],
      "execution_count": null,
      "outputs": [
        {
          "output_type": "display_data",
          "data": {
            "text/plain": [
              "     a      b      c      d     n1     n2 \n",
              "   1.0    2.2    6.0 1500.0    5.0    6.0 "
            ],
            "text/latex": "\\begin{description*}\n\\item[a] 1\n\\item[b] 2.2\n\\item[c] 6\n\\item[d] 1500\n\\item[n1] 5\n\\item[n2] 6\n\\end{description*}\n",
            "text/markdown": "a\n:   1b\n:   2.2c\n:   6d\n:   1500n1\n:   5n2\n:   6\n\n",
            "text/html": [
              "<style>\n",
              ".dl-inline {width: auto; margin:0; padding: 0}\n",
              ".dl-inline>dt, .dl-inline>dd {float: none; width: auto; display: inline-block}\n",
              ".dl-inline>dt::after {content: \":\\0020\"; padding-right: .5ex}\n",
              ".dl-inline>dt:not(:first-of-type) {padding-left: .5ex}\n",
              "</style><dl class=dl-inline><dt>a</dt><dd>1</dd><dt>b</dt><dd>2.2</dd><dt>c</dt><dd>6</dd><dt>d</dt><dd>1500</dd><dt>n1</dt><dd>5</dd><dt>n2</dt><dd>6</dd></dl>\n"
            ]
          },
          "metadata": {
            "tags": []
          }
        },
        {
          "output_type": "display_data",
          "data": {
            "text/plain": [
              "   d \n",
              "1500 "
            ],
            "text/latex": "\\textbf{d:} 1500",
            "text/markdown": "**d:** 1500",
            "text/html": [
              "<strong>d:</strong> 1500"
            ]
          },
          "metadata": {
            "tags": []
          }
        }
      ]
    },
    {
      "cell_type": "code",
      "metadata": {
        "id": "XWL1ZIyMIgvR",
        "colab": {
          "base_uri": "https://localhost:8080/",
          "height": 34
        },
        "outputId": "a7f9fd5b-361f-43ce-d6f8-8fc68ca06e57"
      },
      "source": [
        "# retorna los elementos de las casillas 2  y 4 de vector2\n",
        "v5[c(2,4)] # para acceder a más de una posción, se debe indicar un vector de posiciones"
      ],
      "execution_count": null,
      "outputs": [
        {
          "output_type": "display_data",
          "data": {
            "text/plain": [
              "     b      d \n",
              "   2.2 1500.0 "
            ],
            "text/latex": "\\begin{description*}\n\\item[b] 2.2\n\\item[d] 1500\n\\end{description*}\n",
            "text/markdown": "b\n:   2.2d\n:   1500\n\n",
            "text/html": [
              "<style>\n",
              ".dl-inline {width: auto; margin:0; padding: 0}\n",
              ".dl-inline>dt, .dl-inline>dd {float: none; width: auto; display: inline-block}\n",
              ".dl-inline>dt::after {content: \":\\0020\"; padding-right: .5ex}\n",
              ".dl-inline>dt:not(:first-of-type) {padding-left: .5ex}\n",
              "</style><dl class=dl-inline><dt>b</dt><dd>2.2</dd><dt>d</dt><dd>1500</dd></dl>\n"
            ]
          },
          "metadata": {
            "tags": []
          }
        }
      ]
    },
    {
      "cell_type": "code",
      "metadata": {
        "id": "uBqEKq1aIgvT",
        "colab": {
          "base_uri": "https://localhost:8080/",
          "height": 51
        },
        "outputId": "79205b39-79d1-47c3-9a7c-ef5c0cdbfb95"
      },
      "source": [
        "#NOTA 3:5, R lo interpreta como c(3,4,5)\n",
        "v5[c(3,4,5)]\n",
        "v5[3:5]"
      ],
      "execution_count": null,
      "outputs": [
        {
          "output_type": "display_data",
          "data": {
            "text/plain": [
              "   c    d   n1 \n",
              "   6 1500    5 "
            ],
            "text/latex": "\\begin{description*}\n\\item[c] 6\n\\item[d] 1500\n\\item[n1] 5\n\\end{description*}\n",
            "text/markdown": "c\n:   6d\n:   1500n1\n:   5\n\n",
            "text/html": [
              "<style>\n",
              ".dl-inline {width: auto; margin:0; padding: 0}\n",
              ".dl-inline>dt, .dl-inline>dd {float: none; width: auto; display: inline-block}\n",
              ".dl-inline>dt::after {content: \":\\0020\"; padding-right: .5ex}\n",
              ".dl-inline>dt:not(:first-of-type) {padding-left: .5ex}\n",
              "</style><dl class=dl-inline><dt>c</dt><dd>6</dd><dt>d</dt><dd>1500</dd><dt>n1</dt><dd>5</dd></dl>\n"
            ]
          },
          "metadata": {
            "tags": []
          }
        },
        {
          "output_type": "display_data",
          "data": {
            "text/plain": [
              "   c    d   n1 \n",
              "   6 1500    5 "
            ],
            "text/latex": "\\begin{description*}\n\\item[c] 6\n\\item[d] 1500\n\\item[n1] 5\n\\end{description*}\n",
            "text/markdown": "c\n:   6d\n:   1500n1\n:   5\n\n",
            "text/html": [
              "<style>\n",
              ".dl-inline {width: auto; margin:0; padding: 0}\n",
              ".dl-inline>dt, .dl-inline>dd {float: none; width: auto; display: inline-block}\n",
              ".dl-inline>dt::after {content: \":\\0020\"; padding-right: .5ex}\n",
              ".dl-inline>dt:not(:first-of-type) {padding-left: .5ex}\n",
              "</style><dl class=dl-inline><dt>c</dt><dd>6</dd><dt>d</dt><dd>1500</dd><dt>n1</dt><dd>5</dd></dl>\n"
            ]
          },
          "metadata": {
            "tags": []
          }
        }
      ]
    },
    {
      "cell_type": "code",
      "metadata": {
        "id": "XIuQSfvKIgvV",
        "colab": {
          "base_uri": "https://localhost:8080/",
          "height": 51
        },
        "outputId": "12bfb6c1-897f-4dd5-b229-ea67af24161b"
      },
      "source": [
        "# podemos acceder a los elmentos mediante el nombre\n",
        "v5\n",
        "v5[\"c\"]"
      ],
      "execution_count": null,
      "outputs": [
        {
          "output_type": "display_data",
          "data": {
            "text/plain": [
              "     a      b      c      d     n1     n2 \n",
              "   1.0    2.2    6.0 1500.0    5.0    6.0 "
            ],
            "text/latex": "\\begin{description*}\n\\item[a] 1\n\\item[b] 2.2\n\\item[c] 6\n\\item[d] 1500\n\\item[n1] 5\n\\item[n2] 6\n\\end{description*}\n",
            "text/markdown": "a\n:   1b\n:   2.2c\n:   6d\n:   1500n1\n:   5n2\n:   6\n\n",
            "text/html": [
              "<style>\n",
              ".dl-inline {width: auto; margin:0; padding: 0}\n",
              ".dl-inline>dt, .dl-inline>dd {float: none; width: auto; display: inline-block}\n",
              ".dl-inline>dt::after {content: \":\\0020\"; padding-right: .5ex}\n",
              ".dl-inline>dt:not(:first-of-type) {padding-left: .5ex}\n",
              "</style><dl class=dl-inline><dt>a</dt><dd>1</dd><dt>b</dt><dd>2.2</dd><dt>c</dt><dd>6</dd><dt>d</dt><dd>1500</dd><dt>n1</dt><dd>5</dd><dt>n2</dt><dd>6</dd></dl>\n"
            ]
          },
          "metadata": {
            "tags": []
          }
        },
        {
          "output_type": "display_data",
          "data": {
            "text/plain": [
              "c \n",
              "6 "
            ],
            "text/latex": "\\textbf{c:} 6",
            "text/markdown": "**c:** 6",
            "text/html": [
              "<strong>c:</strong> 6"
            ]
          },
          "metadata": {
            "tags": []
          }
        }
      ]
    },
    {
      "cell_type": "code",
      "metadata": {
        "id": "jKmRs6PVMuNi",
        "colab": {
          "base_uri": "https://localhost:8080/",
          "height": 34
        },
        "outputId": "baafffe7-0b09-46fe-9556-db74c9fbea30"
      },
      "source": [
        "#Si queremos más de una casilla, indicamos un vector de nombres\n",
        "v5[c(\"b\",\"c\")]"
      ],
      "execution_count": null,
      "outputs": [
        {
          "output_type": "display_data",
          "data": {
            "text/plain": [
              "  b   c \n",
              "2.2 6.0 "
            ],
            "text/latex": "\\begin{description*}\n\\item[b] 2.2\n\\item[c] 6\n\\end{description*}\n",
            "text/markdown": "b\n:   2.2c\n:   6\n\n",
            "text/html": [
              "<style>\n",
              ".dl-inline {width: auto; margin:0; padding: 0}\n",
              ".dl-inline>dt, .dl-inline>dd {float: none; width: auto; display: inline-block}\n",
              ".dl-inline>dt::after {content: \":\\0020\"; padding-right: .5ex}\n",
              ".dl-inline>dt:not(:first-of-type) {padding-left: .5ex}\n",
              "</style><dl class=dl-inline><dt>b</dt><dd>2.2</dd><dt>c</dt><dd>6</dd></dl>\n"
            ]
          },
          "metadata": {
            "tags": []
          }
        }
      ]
    },
    {
      "cell_type": "code",
      "metadata": {
        "id": "IHjnaSSyIgvX",
        "colab": {
          "base_uri": "https://localhost:8080/",
          "height": 34
        },
        "outputId": "71f6147f-a40d-4086-d2fc-f798c9433400"
      },
      "source": [
        "# cambiar una entrada de un vector o cambiar un nombre\n",
        "v5 # Queremos modificar el elemnto de posición 2, y cambiarlo por un 99\n",
        "\n",
        "v5[2] <- 99"
      ],
      "execution_count": null,
      "outputs": [
        {
          "output_type": "display_data",
          "data": {
            "text/plain": [
              "     a      b      c      d     n1     n2 \n",
              "   1.0    2.2    6.0 1500.0    5.0    6.0 "
            ],
            "text/latex": "\\begin{description*}\n\\item[a] 1\n\\item[b] 2.2\n\\item[c] 6\n\\item[d] 1500\n\\item[n1] 5\n\\item[n2] 6\n\\end{description*}\n",
            "text/markdown": "a\n:   1b\n:   2.2c\n:   6d\n:   1500n1\n:   5n2\n:   6\n\n",
            "text/html": [
              "<style>\n",
              ".dl-inline {width: auto; margin:0; padding: 0}\n",
              ".dl-inline>dt, .dl-inline>dd {float: none; width: auto; display: inline-block}\n",
              ".dl-inline>dt::after {content: \":\\0020\"; padding-right: .5ex}\n",
              ".dl-inline>dt:not(:first-of-type) {padding-left: .5ex}\n",
              "</style><dl class=dl-inline><dt>a</dt><dd>1</dd><dt>b</dt><dd>2.2</dd><dt>c</dt><dd>6</dd><dt>d</dt><dd>1500</dd><dt>n1</dt><dd>5</dd><dt>n2</dt><dd>6</dd></dl>\n"
            ]
          },
          "metadata": {
            "tags": []
          }
        }
      ]
    },
    {
      "cell_type": "code",
      "metadata": {
        "id": "jnjcQ1j3NSP1",
        "colab": {
          "base_uri": "https://localhost:8080/",
          "height": 34
        },
        "outputId": "3ea6981f-fdbb-4921-b8d1-1f051ad0fcd4"
      },
      "source": [
        "v5"
      ],
      "execution_count": null,
      "outputs": [
        {
          "output_type": "display_data",
          "data": {
            "text/plain": [
              "   a    b    c    d   n1   n2 \n",
              "   1   99    6 1500    5    6 "
            ],
            "text/latex": "\\begin{description*}\n\\item[a] 1\n\\item[b] 99\n\\item[c] 6\n\\item[d] 1500\n\\item[n1] 5\n\\item[n2] 6\n\\end{description*}\n",
            "text/markdown": "a\n:   1b\n:   99c\n:   6d\n:   1500n1\n:   5n2\n:   6\n\n",
            "text/html": [
              "<style>\n",
              ".dl-inline {width: auto; margin:0; padding: 0}\n",
              ".dl-inline>dt, .dl-inline>dd {float: none; width: auto; display: inline-block}\n",
              ".dl-inline>dt::after {content: \":\\0020\"; padding-right: .5ex}\n",
              ".dl-inline>dt:not(:first-of-type) {padding-left: .5ex}\n",
              "</style><dl class=dl-inline><dt>a</dt><dd>1</dd><dt>b</dt><dd>99</dd><dt>c</dt><dd>6</dd><dt>d</dt><dd>1500</dd><dt>n1</dt><dd>5</dd><dt>n2</dt><dd>6</dd></dl>\n"
            ]
          },
          "metadata": {
            "tags": []
          }
        }
      ]
    },
    {
      "cell_type": "code",
      "metadata": {
        "id": "KCKDbYtRIgvZ"
      },
      "source": [
        ""
      ],
      "execution_count": null,
      "outputs": []
    },
    {
      "cell_type": "code",
      "metadata": {
        "id": "cVzhj4ASIgvb",
        "colab": {
          "base_uri": "https://localhost:8080/",
          "height": 51
        },
        "outputId": "fcae53f5-2315-40d0-8a72-2f1a46335032"
      },
      "source": [
        "# podemos cambiar uno de los nombres (ej, queremos cambiar el sexto nombre)\n",
        "v5\n",
        "names(v5)[6]"
      ],
      "execution_count": null,
      "outputs": [
        {
          "output_type": "display_data",
          "data": {
            "text/plain": [
              "   a    b    c    d   n1   n2 \n",
              "   1   99    6 1500    5    6 "
            ],
            "text/latex": "\\begin{description*}\n\\item[a] 1\n\\item[b] 99\n\\item[c] 6\n\\item[d] 1500\n\\item[n1] 5\n\\item[n2] 6\n\\end{description*}\n",
            "text/markdown": "a\n:   1b\n:   99c\n:   6d\n:   1500n1\n:   5n2\n:   6\n\n",
            "text/html": [
              "<style>\n",
              ".dl-inline {width: auto; margin:0; padding: 0}\n",
              ".dl-inline>dt, .dl-inline>dd {float: none; width: auto; display: inline-block}\n",
              ".dl-inline>dt::after {content: \":\\0020\"; padding-right: .5ex}\n",
              ".dl-inline>dt:not(:first-of-type) {padding-left: .5ex}\n",
              "</style><dl class=dl-inline><dt>a</dt><dd>1</dd><dt>b</dt><dd>99</dd><dt>c</dt><dd>6</dd><dt>d</dt><dd>1500</dd><dt>n1</dt><dd>5</dd><dt>n2</dt><dd>6</dd></dl>\n"
            ]
          },
          "metadata": {
            "tags": []
          }
        },
        {
          "output_type": "display_data",
          "data": {
            "text/plain": [
              "[1] \"n2\""
            ],
            "text/latex": "'n2'",
            "text/markdown": "'n2'",
            "text/html": [
              "'n2'"
            ]
          },
          "metadata": {
            "tags": []
          }
        }
      ]
    },
    {
      "cell_type": "code",
      "metadata": {
        "id": "rRlbbZ0rNpQY"
      },
      "source": [
        "names(v5)[6] <- \"sexto_valor\""
      ],
      "execution_count": null,
      "outputs": []
    },
    {
      "cell_type": "code",
      "metadata": {
        "id": "4-r7NK75NuUB",
        "colab": {
          "base_uri": "https://localhost:8080/",
          "height": 34
        },
        "outputId": "4ba3d21b-cd9a-4def-e149-784c670222c5"
      },
      "source": [
        "v5"
      ],
      "execution_count": null,
      "outputs": [
        {
          "output_type": "display_data",
          "data": {
            "text/plain": [
              "          a           b           c           d          n1 sexto_valor \n",
              "          1          99           6        1500           5           6 "
            ],
            "text/latex": "\\begin{description*}\n\\item[a] 1\n\\item[b] 99\n\\item[c] 6\n\\item[d] 1500\n\\item[n1] 5\n\\item[sexto\\textbackslash{}\\_valor] 6\n\\end{description*}\n",
            "text/markdown": "a\n:   1b\n:   99c\n:   6d\n:   1500n1\n:   5sexto_valor\n:   6\n\n",
            "text/html": [
              "<style>\n",
              ".dl-inline {width: auto; margin:0; padding: 0}\n",
              ".dl-inline>dt, .dl-inline>dd {float: none; width: auto; display: inline-block}\n",
              ".dl-inline>dt::after {content: \":\\0020\"; padding-right: .5ex}\n",
              ".dl-inline>dt:not(:first-of-type) {padding-left: .5ex}\n",
              "</style><dl class=dl-inline><dt>a</dt><dd>1</dd><dt>b</dt><dd>99</dd><dt>c</dt><dd>6</dd><dt>d</dt><dd>1500</dd><dt>n1</dt><dd>5</dd><dt>sexto_valor</dt><dd>6</dd></dl>\n"
            ]
          },
          "metadata": {
            "tags": []
          }
        }
      ]
    },
    {
      "cell_type": "code",
      "metadata": {
        "id": "b6oqx_D4Igvd",
        "colab": {
          "base_uri": "https://localhost:8080/",
          "height": 34
        },
        "outputId": "0449d73c-0707-4fa0-d18b-c447df988bc2"
      },
      "source": [
        "# podemos modificar varias posiciones a la vez\n",
        "# queremos re-asignar los valores -1 y -10 en las posiciones 3 y 5 respecivamente, de v5\n",
        "\n",
        "v5[c(3,5)] <- c(-1,-10)\n",
        "v5\n",
        "\n"
      ],
      "execution_count": null,
      "outputs": [
        {
          "output_type": "display_data",
          "data": {
            "text/plain": [
              "          a           b           c           d          n1 sexto_valor \n",
              "          1          99          -1        1500         -10           6 "
            ],
            "text/latex": "\\begin{description*}\n\\item[a] 1\n\\item[b] 99\n\\item[c] -1\n\\item[d] 1500\n\\item[n1] -10\n\\item[sexto\\textbackslash{}\\_valor] 6\n\\end{description*}\n",
            "text/markdown": "a\n:   1b\n:   99c\n:   -1d\n:   1500n1\n:   -10sexto_valor\n:   6\n\n",
            "text/html": [
              "<style>\n",
              ".dl-inline {width: auto; margin:0; padding: 0}\n",
              ".dl-inline>dt, .dl-inline>dd {float: none; width: auto; display: inline-block}\n",
              ".dl-inline>dt::after {content: \":\\0020\"; padding-right: .5ex}\n",
              ".dl-inline>dt:not(:first-of-type) {padding-left: .5ex}\n",
              "</style><dl class=dl-inline><dt>a</dt><dd>1</dd><dt>b</dt><dd>99</dd><dt>c</dt><dd>-1</dd><dt>d</dt><dd>1500</dd><dt>n1</dt><dd>-10</dd><dt>sexto_valor</dt><dd>6</dd></dl>\n"
            ]
          },
          "metadata": {
            "tags": []
          }
        }
      ]
    },
    {
      "cell_type": "markdown",
      "metadata": {
        "id": "XzyIBLZxIgvg"
      },
      "source": [
        "**Algunas sentencias de utilidad**\n",
        "\n",
        "También es posible acceder a los alementos de un vector mediante sentencias lógicas que retornen \"TRUE\" en la posición deseada. Para ello algunas funciones que son de utilidad son las siguientes.\n",
        "\n",
        "   **Conectores lógicos**\n",
        "\n",
        "    &, && |                  : conector y \n",
        "    |,||                     : conector o\n",
        "    ==                       : igual\n",
        "    !                        : negación\n",
        "    !=                       : distinto\n",
        "    >, >=                    : mayor que, mayor o igual que\n",
        "    <,<=                     : menor que, menor o igual que\n",
        "    is.na()                  : es NA?\n",
        "    which()                  : en qué posición es verdadera la expresión evaluada?\n",
        "    which.min(), which.max() : en qué posición se alcanza el mínimi/máximo\n",
        "    %in%                     : los elementos están en?\n",
        "    \n",
        "    "
      ]
    },
    {
      "cell_type": "code",
      "metadata": {
        "id": "NhZPJo56Igvh",
        "colab": {
          "base_uri": "https://localhost:8080/",
          "height": 68
        },
        "outputId": "404b50f5-ff53-4068-fb6e-28781c57aafd"
      },
      "source": [
        "# para acceder a elementos de un vector tenemos:\n",
        "# 1. por posicion\n",
        "v5[c(3,5)]\n",
        "# 2. por nombre\n",
        "v5[c(\"c\",\"n1\")]\n",
        "# 3. por indicatrices lógicas (un vector con TRUE (T) o FALSE (F) del mismo largo del que quiero consultar)\n",
        "\n",
        "v5[c(F,F,T,F,T,F)]\n",
        "\n",
        "\n",
        "\n"
      ],
      "execution_count": null,
      "outputs": [
        {
          "output_type": "display_data",
          "data": {
            "text/plain": [
              "  c  n1 \n",
              " -1 -10 "
            ],
            "text/latex": "\\begin{description*}\n\\item[c] -1\n\\item[n1] -10\n\\end{description*}\n",
            "text/markdown": "c\n:   -1n1\n:   -10\n\n",
            "text/html": [
              "<style>\n",
              ".dl-inline {width: auto; margin:0; padding: 0}\n",
              ".dl-inline>dt, .dl-inline>dd {float: none; width: auto; display: inline-block}\n",
              ".dl-inline>dt::after {content: \":\\0020\"; padding-right: .5ex}\n",
              ".dl-inline>dt:not(:first-of-type) {padding-left: .5ex}\n",
              "</style><dl class=dl-inline><dt>c</dt><dd>-1</dd><dt>n1</dt><dd>-10</dd></dl>\n"
            ]
          },
          "metadata": {
            "tags": []
          }
        },
        {
          "output_type": "display_data",
          "data": {
            "text/plain": [
              "  c  n1 \n",
              " -1 -10 "
            ],
            "text/latex": "\\begin{description*}\n\\item[c] -1\n\\item[n1] -10\n\\end{description*}\n",
            "text/markdown": "c\n:   -1n1\n:   -10\n\n",
            "text/html": [
              "<style>\n",
              ".dl-inline {width: auto; margin:0; padding: 0}\n",
              ".dl-inline>dt, .dl-inline>dd {float: none; width: auto; display: inline-block}\n",
              ".dl-inline>dt::after {content: \":\\0020\"; padding-right: .5ex}\n",
              ".dl-inline>dt:not(:first-of-type) {padding-left: .5ex}\n",
              "</style><dl class=dl-inline><dt>c</dt><dd>-1</dd><dt>n1</dt><dd>-10</dd></dl>\n"
            ]
          },
          "metadata": {
            "tags": []
          }
        },
        {
          "output_type": "display_data",
          "data": {
            "text/plain": [
              "  c  n1 \n",
              " -1 -10 "
            ],
            "text/latex": "\\begin{description*}\n\\item[c] -1\n\\item[n1] -10\n\\end{description*}\n",
            "text/markdown": "c\n:   -1n1\n:   -10\n\n",
            "text/html": [
              "<style>\n",
              ".dl-inline {width: auto; margin:0; padding: 0}\n",
              ".dl-inline>dt, .dl-inline>dd {float: none; width: auto; display: inline-block}\n",
              ".dl-inline>dt::after {content: \":\\0020\"; padding-right: .5ex}\n",
              ".dl-inline>dt:not(:first-of-type) {padding-left: .5ex}\n",
              "</style><dl class=dl-inline><dt>c</dt><dd>-1</dd><dt>n1</dt><dd>-10</dd></dl>\n"
            ]
          },
          "metadata": {
            "tags": []
          }
        }
      ]
    },
    {
      "cell_type": "code",
      "metadata": {
        "id": "5C4hDsvSIgvj",
        "colab": {
          "base_uri": "https://localhost:8080/",
          "height": 51
        },
        "outputId": "284cd925-28c3-4ff5-c04d-e6754e9e4e83"
      },
      "source": [
        "# Esto facilita la búsqueda dentro de un un vector. Ej: retornar los elementos DE V5  que sean negativos\n",
        "v5\n",
        "v5 < 0\n",
        "\n"
      ],
      "execution_count": null,
      "outputs": [
        {
          "output_type": "display_data",
          "data": {
            "text/plain": [
              "          a           b           c           d          n1 sexto_valor \n",
              "          1          99          -1        1500         -10           6 "
            ],
            "text/latex": "\\begin{description*}\n\\item[a] 1\n\\item[b] 99\n\\item[c] -1\n\\item[d] 1500\n\\item[n1] -10\n\\item[sexto\\textbackslash{}\\_valor] 6\n\\end{description*}\n",
            "text/markdown": "a\n:   1b\n:   99c\n:   -1d\n:   1500n1\n:   -10sexto_valor\n:   6\n\n",
            "text/html": [
              "<style>\n",
              ".dl-inline {width: auto; margin:0; padding: 0}\n",
              ".dl-inline>dt, .dl-inline>dd {float: none; width: auto; display: inline-block}\n",
              ".dl-inline>dt::after {content: \":\\0020\"; padding-right: .5ex}\n",
              ".dl-inline>dt:not(:first-of-type) {padding-left: .5ex}\n",
              "</style><dl class=dl-inline><dt>a</dt><dd>1</dd><dt>b</dt><dd>99</dd><dt>c</dt><dd>-1</dd><dt>d</dt><dd>1500</dd><dt>n1</dt><dd>-10</dd><dt>sexto_valor</dt><dd>6</dd></dl>\n"
            ]
          },
          "metadata": {
            "tags": []
          }
        },
        {
          "output_type": "display_data",
          "data": {
            "text/plain": [
              "          a           b           c           d          n1 sexto_valor \n",
              "      FALSE       FALSE        TRUE       FALSE        TRUE       FALSE "
            ],
            "text/latex": "\\begin{description*}\n\\item[a] FALSE\n\\item[b] FALSE\n\\item[c] TRUE\n\\item[d] FALSE\n\\item[n1] TRUE\n\\item[sexto\\textbackslash{}\\_valor] FALSE\n\\end{description*}\n",
            "text/markdown": "a\n:   FALSEb\n:   FALSEc\n:   TRUEd\n:   FALSEn1\n:   TRUEsexto_valor\n:   FALSE\n\n",
            "text/html": [
              "<style>\n",
              ".dl-inline {width: auto; margin:0; padding: 0}\n",
              ".dl-inline>dt, .dl-inline>dd {float: none; width: auto; display: inline-block}\n",
              ".dl-inline>dt::after {content: \":\\0020\"; padding-right: .5ex}\n",
              ".dl-inline>dt:not(:first-of-type) {padding-left: .5ex}\n",
              "</style><dl class=dl-inline><dt>a</dt><dd>FALSE</dd><dt>b</dt><dd>FALSE</dd><dt>c</dt><dd>TRUE</dd><dt>d</dt><dd>FALSE</dd><dt>n1</dt><dd>TRUE</dd><dt>sexto_valor</dt><dd>FALSE</dd></dl>\n"
            ]
          },
          "metadata": {
            "tags": []
          }
        }
      ]
    },
    {
      "cell_type": "code",
      "metadata": {
        "id": "RtRzH2qdPcZV",
        "colab": {
          "base_uri": "https://localhost:8080/",
          "height": 34
        },
        "outputId": "91cec3a4-62af-4de4-e546-a1ee2990e4e8"
      },
      "source": [
        "v5[v5 < 0]"
      ],
      "execution_count": null,
      "outputs": [
        {
          "output_type": "display_data",
          "data": {
            "text/plain": [
              "  c  n1 \n",
              " -1 -10 "
            ],
            "text/latex": "\\begin{description*}\n\\item[c] -1\n\\item[n1] -10\n\\end{description*}\n",
            "text/markdown": "c\n:   -1n1\n:   -10\n\n",
            "text/html": [
              "<style>\n",
              ".dl-inline {width: auto; margin:0; padding: 0}\n",
              ".dl-inline>dt, .dl-inline>dd {float: none; width: auto; display: inline-block}\n",
              ".dl-inline>dt::after {content: \":\\0020\"; padding-right: .5ex}\n",
              ".dl-inline>dt:not(:first-of-type) {padding-left: .5ex}\n",
              "</style><dl class=dl-inline><dt>c</dt><dd>-1</dd><dt>n1</dt><dd>-10</dd></dl>\n"
            ]
          },
          "metadata": {
            "tags": []
          }
        }
      ]
    },
    {
      "cell_type": "code",
      "metadata": {
        "id": "fvq5tBXVIgvm",
        "colab": {
          "base_uri": "https://localhost:8080/",
          "height": 34
        },
        "outputId": "e96bb4e2-6ec2-49ad-9bdc-c1c9347a74f6"
      },
      "source": [
        "# podríamos guardar el vector de T o F's en una variable para luego referenciarla\n",
        "indices <- v5 < 0 \n",
        "indices"
      ],
      "execution_count": null,
      "outputs": [
        {
          "output_type": "display_data",
          "data": {
            "text/plain": [
              "          a           b           c           d          n1 sexto_valor \n",
              "      FALSE       FALSE        TRUE       FALSE        TRUE       FALSE "
            ],
            "text/latex": "\\begin{description*}\n\\item[a] FALSE\n\\item[b] FALSE\n\\item[c] TRUE\n\\item[d] FALSE\n\\item[n1] TRUE\n\\item[sexto\\textbackslash{}\\_valor] FALSE\n\\end{description*}\n",
            "text/markdown": "a\n:   FALSEb\n:   FALSEc\n:   TRUEd\n:   FALSEn1\n:   TRUEsexto_valor\n:   FALSE\n\n",
            "text/html": [
              "<style>\n",
              ".dl-inline {width: auto; margin:0; padding: 0}\n",
              ".dl-inline>dt, .dl-inline>dd {float: none; width: auto; display: inline-block}\n",
              ".dl-inline>dt::after {content: \":\\0020\"; padding-right: .5ex}\n",
              ".dl-inline>dt:not(:first-of-type) {padding-left: .5ex}\n",
              "</style><dl class=dl-inline><dt>a</dt><dd>FALSE</dd><dt>b</dt><dd>FALSE</dd><dt>c</dt><dd>TRUE</dd><dt>d</dt><dd>FALSE</dd><dt>n1</dt><dd>TRUE</dd><dt>sexto_valor</dt><dd>FALSE</dd></dl>\n"
            ]
          },
          "metadata": {
            "tags": []
          }
        }
      ]
    },
    {
      "cell_type": "code",
      "metadata": {
        "id": "tmjHV5bkP7Ps",
        "colab": {
          "base_uri": "https://localhost:8080/",
          "height": 34
        },
        "outputId": "7fdbdbb7-1d45-4941-a23c-f476e405a240"
      },
      "source": [
        "v5[indices]"
      ],
      "execution_count": null,
      "outputs": [
        {
          "output_type": "display_data",
          "data": {
            "text/plain": [
              "  c  n1 \n",
              " -1 -10 "
            ],
            "text/latex": "\\begin{description*}\n\\item[c] -1\n\\item[n1] -10\n\\end{description*}\n",
            "text/markdown": "c\n:   -1n1\n:   -10\n\n",
            "text/html": [
              "<style>\n",
              ".dl-inline {width: auto; margin:0; padding: 0}\n",
              ".dl-inline>dt, .dl-inline>dd {float: none; width: auto; display: inline-block}\n",
              ".dl-inline>dt::after {content: \":\\0020\"; padding-right: .5ex}\n",
              ".dl-inline>dt:not(:first-of-type) {padding-left: .5ex}\n",
              "</style><dl class=dl-inline><dt>c</dt><dd>-1</dd><dt>n1</dt><dd>-10</dd></dl>\n"
            ]
          },
          "metadata": {
            "tags": []
          }
        }
      ]
    },
    {
      "cell_type": "code",
      "metadata": {
        "id": "ioUJy8UEIgvz",
        "colab": {
          "base_uri": "https://localhost:8080/",
          "height": 34
        },
        "outputId": "36af1d31-32c7-409b-ac19-1619ebd56dff"
      },
      "source": [
        "#?which.max\n",
        "#podemos rescatar el valor mediante el índice guardado\n",
        "v5\n",
        "ind_max <- which.max(v5)\n"
      ],
      "execution_count": null,
      "outputs": [
        {
          "output_type": "display_data",
          "data": {
            "text/plain": [
              "          a           b           c           d          n1 sexto_valor \n",
              "          1          99          -1        1500         -10           6 "
            ],
            "text/latex": "\\begin{description*}\n\\item[a] 1\n\\item[b] 99\n\\item[c] -1\n\\item[d] 1500\n\\item[n1] -10\n\\item[sexto\\textbackslash{}\\_valor] 6\n\\end{description*}\n",
            "text/markdown": "a\n:   1b\n:   99c\n:   -1d\n:   1500n1\n:   -10sexto_valor\n:   6\n\n",
            "text/html": [
              "<style>\n",
              ".dl-inline {width: auto; margin:0; padding: 0}\n",
              ".dl-inline>dt, .dl-inline>dd {float: none; width: auto; display: inline-block}\n",
              ".dl-inline>dt::after {content: \":\\0020\"; padding-right: .5ex}\n",
              ".dl-inline>dt:not(:first-of-type) {padding-left: .5ex}\n",
              "</style><dl class=dl-inline><dt>a</dt><dd>1</dd><dt>b</dt><dd>99</dd><dt>c</dt><dd>-1</dd><dt>d</dt><dd>1500</dd><dt>n1</dt><dd>-10</dd><dt>sexto_valor</dt><dd>6</dd></dl>\n"
            ]
          },
          "metadata": {
            "tags": []
          }
        }
      ]
    },
    {
      "cell_type": "code",
      "metadata": {
        "id": "2haJu3h2Qgor",
        "colab": {
          "base_uri": "https://localhost:8080/",
          "height": 34
        },
        "outputId": "b5386894-c9b9-4033-c3d9-4064d9d3ca5e"
      },
      "source": [
        "v5[ind_max]"
      ],
      "execution_count": null,
      "outputs": [
        {
          "output_type": "display_data",
          "data": {
            "text/plain": [
              "   d \n",
              "1500 "
            ],
            "text/latex": "\\textbf{d:} 1500",
            "text/markdown": "**d:** 1500",
            "text/html": [
              "<strong>d:</strong> 1500"
            ]
          },
          "metadata": {
            "tags": []
          }
        }
      ]
    },
    {
      "cell_type": "code",
      "metadata": {
        "id": "PQHKKiPGQmDI",
        "colab": {
          "base_uri": "https://localhost:8080/",
          "height": 34
        },
        "outputId": "80153efa-cbbf-4b59-fd66-742d6efd5805"
      },
      "source": [
        "v5[which.max(v5)]"
      ],
      "execution_count": null,
      "outputs": [
        {
          "output_type": "display_data",
          "data": {
            "text/plain": [
              "   d \n",
              "1500 "
            ],
            "text/latex": "\\textbf{d:} 1500",
            "text/markdown": "**d:** 1500",
            "text/html": [
              "<strong>d:</strong> 1500"
            ]
          },
          "metadata": {
            "tags": []
          }
        }
      ]
    },
    {
      "cell_type": "code",
      "metadata": {
        "id": "t_UEL_QCQtwH",
        "colab": {
          "base_uri": "https://localhost:8080/",
          "height": 85
        },
        "outputId": "2cbfaef7-e856-4ad6-fcae-3f82f20d8915"
      },
      "source": [
        "# Observación:\n",
        "mean(v5)\n",
        "sum(v5)\n",
        "max(v5)\n",
        "sd(v5)"
      ],
      "execution_count": null,
      "outputs": [
        {
          "output_type": "display_data",
          "data": {
            "text/plain": [
              "[1] 265.8333"
            ],
            "text/latex": "265.833333333333",
            "text/markdown": "265.833333333333",
            "text/html": [
              "265.833333333333"
            ]
          },
          "metadata": {
            "tags": []
          }
        },
        {
          "output_type": "display_data",
          "data": {
            "text/plain": [
              "[1] 1595"
            ],
            "text/latex": "1595",
            "text/markdown": "1595",
            "text/html": [
              "1595"
            ]
          },
          "metadata": {
            "tags": []
          }
        },
        {
          "output_type": "display_data",
          "data": {
            "text/plain": [
              "[1] 1500"
            ],
            "text/latex": "1500",
            "text/markdown": "1500",
            "text/html": [
              "1500"
            ]
          },
          "metadata": {
            "tags": []
          }
        },
        {
          "output_type": "display_data",
          "data": {
            "text/plain": [
              "[1] 605.9595"
            ],
            "text/latex": "605.959542103816",
            "text/markdown": "605.959542103816",
            "text/html": [
              "605.959542103816"
            ]
          },
          "metadata": {
            "tags": []
          }
        }
      ]
    },
    {
      "cell_type": "code",
      "metadata": {
        "id": "pBTamqmyRfIv",
        "colab": {
          "base_uri": "https://localhost:8080/",
          "height": 34
        },
        "outputId": "e43a3fd7-2f8e-4553-8912-62fdb8b3bbd4"
      },
      "source": [
        "v5 == max(v5)"
      ],
      "execution_count": null,
      "outputs": [
        {
          "output_type": "display_data",
          "data": {
            "text/plain": [
              "          a           b           c           d          n1 sexto_valor \n",
              "      FALSE       FALSE       FALSE        TRUE       FALSE       FALSE "
            ],
            "text/latex": "\\begin{description*}\n\\item[a] FALSE\n\\item[b] FALSE\n\\item[c] FALSE\n\\item[d] TRUE\n\\item[n1] FALSE\n\\item[sexto\\textbackslash{}\\_valor] FALSE\n\\end{description*}\n",
            "text/markdown": "a\n:   FALSEb\n:   FALSEc\n:   FALSEd\n:   TRUEn1\n:   FALSEsexto_valor\n:   FALSE\n\n",
            "text/html": [
              "<style>\n",
              ".dl-inline {width: auto; margin:0; padding: 0}\n",
              ".dl-inline>dt, .dl-inline>dd {float: none; width: auto; display: inline-block}\n",
              ".dl-inline>dt::after {content: \":\\0020\"; padding-right: .5ex}\n",
              ".dl-inline>dt:not(:first-of-type) {padding-left: .5ex}\n",
              "</style><dl class=dl-inline><dt>a</dt><dd>FALSE</dd><dt>b</dt><dd>FALSE</dd><dt>c</dt><dd>FALSE</dd><dt>d</dt><dd>TRUE</dd><dt>n1</dt><dd>FALSE</dd><dt>sexto_valor</dt><dd>FALSE</dd></dl>\n"
            ]
          },
          "metadata": {
            "tags": []
          }
        }
      ]
    },
    {
      "cell_type": "code",
      "metadata": {
        "id": "4deByE_tRBvR",
        "colab": {
          "base_uri": "https://localhost:8080/",
          "height": 34
        },
        "outputId": "3b5022c5-59f7-47c0-e087-2e53097c20c8"
      },
      "source": [
        "# nombre del elmento máximo de v5, sin usar which.max\n",
        "\n",
        "names(v5)[v5 == max(v5)]\n"
      ],
      "execution_count": null,
      "outputs": [
        {
          "output_type": "display_data",
          "data": {
            "text/plain": [
              "[1] \"d\""
            ],
            "text/latex": "'d'",
            "text/markdown": "'d'",
            "text/html": [
              "'d'"
            ]
          },
          "metadata": {
            "tags": []
          }
        }
      ]
    },
    {
      "cell_type": "code",
      "metadata": {
        "id": "_8-SMxfWIgv0"
      },
      "source": [
        "\n",
        "# Operador %in%\n",
        "# vector_a %in% vector_b (qué elementos del vector a están en el vector b)\n",
        "# retorna un  vector de TRUE's y FALSE's del largo del primer vector(a) (izquierda) \n",
        "\n",
        "a <- c(1,1,2,3,5)\n",
        "b <- c(1,5,8,13)\n",
        "c <- 1:13"
      ],
      "execution_count": null,
      "outputs": []
    },
    {
      "cell_type": "code",
      "metadata": {
        "id": "z6TsN2LwR7vq",
        "colab": {
          "base_uri": "https://localhost:8080/",
          "height": 34
        },
        "outputId": "2d559a43-6142-4331-e315-4a19ac3ab2a1"
      },
      "source": [
        "a %in% b # retorna las posiciones de a que están contenidas en b"
      ],
      "execution_count": null,
      "outputs": [
        {
          "output_type": "display_data",
          "data": {
            "text/plain": [
              "[1]  TRUE  TRUE FALSE FALSE  TRUE"
            ],
            "text/latex": "\\begin{enumerate*}\n\\item TRUE\n\\item TRUE\n\\item FALSE\n\\item FALSE\n\\item TRUE\n\\end{enumerate*}\n",
            "text/markdown": "1. TRUE\n2. TRUE\n3. FALSE\n4. FALSE\n5. TRUE\n\n\n",
            "text/html": [
              "<style>\n",
              ".list-inline {list-style: none; margin:0; padding: 0}\n",
              ".list-inline>li {display: inline-block}\n",
              ".list-inline>li:not(:last-child)::after {content: \"\\00b7\"; padding: 0 .5ex}\n",
              "</style>\n",
              "<ol class=list-inline><li>TRUE</li><li>TRUE</li><li>FALSE</li><li>FALSE</li><li>TRUE</li></ol>\n"
            ]
          },
          "metadata": {
            "tags": []
          }
        }
      ]
    },
    {
      "cell_type": "code",
      "metadata": {
        "id": "k9d4bMZsSJ8b",
        "colab": {
          "base_uri": "https://localhost:8080/",
          "height": 34
        },
        "outputId": "b8346fb5-f957-4fb3-d04d-187673eab2b3"
      },
      "source": [
        "# Si queremos los elementos de a que estan en b\n",
        "a[a %in% b]"
      ],
      "execution_count": null,
      "outputs": [
        {
          "output_type": "display_data",
          "data": {
            "text/plain": [
              "[1] 1 1 5"
            ],
            "text/latex": "\\begin{enumerate*}\n\\item 1\n\\item 1\n\\item 5\n\\end{enumerate*}\n",
            "text/markdown": "1. 1\n2. 1\n3. 5\n\n\n",
            "text/html": [
              "<style>\n",
              ".list-inline {list-style: none; margin:0; padding: 0}\n",
              ".list-inline>li {display: inline-block}\n",
              ".list-inline>li:not(:last-child)::after {content: \"\\00b7\"; padding: 0 .5ex}\n",
              "</style>\n",
              "<ol class=list-inline><li>1</li><li>1</li><li>5</li></ol>\n"
            ]
          },
          "metadata": {
            "tags": []
          }
        }
      ]
    },
    {
      "cell_type": "code",
      "metadata": {
        "id": "s9bYOQ4GIgv2",
        "colab": {
          "base_uri": "https://localhost:8080/",
          "height": 51
        },
        "outputId": "5714dade-21c9-4485-e7a8-76001150d4ce"
      },
      "source": [
        "# podemos utilizar la función all() para evaluar si todos los elementos de un vector son TRUE.\n",
        "all(c(T,T,T))\n",
        "all(c(T,F,T))"
      ],
      "execution_count": null,
      "outputs": [
        {
          "output_type": "display_data",
          "data": {
            "text/plain": [
              "[1] TRUE"
            ],
            "text/latex": "TRUE",
            "text/markdown": "TRUE",
            "text/html": [
              "TRUE"
            ]
          },
          "metadata": {
            "tags": []
          }
        },
        {
          "output_type": "display_data",
          "data": {
            "text/plain": [
              "[1] FALSE"
            ],
            "text/latex": "FALSE",
            "text/markdown": "FALSE",
            "text/html": [
              "FALSE"
            ]
          },
          "metadata": {
            "tags": []
          }
        }
      ]
    },
    {
      "cell_type": "code",
      "metadata": {
        "id": "Wd-mSv3PIgv4",
        "colab": {
          "base_uri": "https://localhost:8080/",
          "height": 51
        },
        "outputId": "85529f8e-c028-4b95-9f58-4c77e77f57a1"
      },
      "source": [
        "# si quisiéramos evaluar que todos los elementos de la izq. estén en la derecha,\n",
        "# podemos utilizar la función all().\n",
        "all(a %in% b)\n",
        "all(a %in% c)\n"
      ],
      "execution_count": null,
      "outputs": [
        {
          "output_type": "display_data",
          "data": {
            "text/plain": [
              "[1] FALSE"
            ],
            "text/latex": "FALSE",
            "text/markdown": "FALSE",
            "text/html": [
              "FALSE"
            ]
          },
          "metadata": {
            "tags": []
          }
        },
        {
          "output_type": "display_data",
          "data": {
            "text/plain": [
              "[1] TRUE"
            ],
            "text/latex": "TRUE",
            "text/markdown": "TRUE",
            "text/html": [
              "TRUE"
            ]
          },
          "metadata": {
            "tags": []
          }
        }
      ]
    },
    {
      "cell_type": "code",
      "metadata": {
        "id": "Zn85mjGmIgv5",
        "colab": {
          "base_uri": "https://localhost:8080/",
          "height": 34
        },
        "outputId": "91a01feb-0d08-45db-9908-276d02364eaf"
      },
      "source": [
        "c"
      ],
      "execution_count": null,
      "outputs": [
        {
          "output_type": "display_data",
          "data": {
            "text/plain": [
              " [1]  1  2  3  4  5  6  7  8  9 10 11 12 13"
            ],
            "text/latex": "\\begin{enumerate*}\n\\item 1\n\\item 2\n\\item 3\n\\item 4\n\\item 5\n\\item 6\n\\item 7\n\\item 8\n\\item 9\n\\item 10\n\\item 11\n\\item 12\n\\item 13\n\\end{enumerate*}\n",
            "text/markdown": "1. 1\n2. 2\n3. 3\n4. 4\n5. 5\n6. 6\n7. 7\n8. 8\n9. 9\n10. 10\n11. 11\n12. 12\n13. 13\n\n\n",
            "text/html": [
              "<style>\n",
              ".list-inline {list-style: none; margin:0; padding: 0}\n",
              ".list-inline>li {display: inline-block}\n",
              ".list-inline>li:not(:last-child)::after {content: \"\\00b7\"; padding: 0 .5ex}\n",
              "</style>\n",
              "<ol class=list-inline><li>1</li><li>2</li><li>3</li><li>4</li><li>5</li><li>6</li><li>7</li><li>8</li><li>9</li><li>10</li><li>11</li><li>12</li><li>13</li></ol>\n"
            ]
          },
          "metadata": {
            "tags": []
          }
        }
      ]
    },
    {
      "cell_type": "code",
      "metadata": {
        "id": "1YGnzt1zIgv7",
        "colab": {
          "base_uri": "https://localhost:8080/",
          "height": 51
        },
        "outputId": "bdff82b1-bb67-418a-ffbd-196c5620a182"
      },
      "source": [
        "# aritmética con vectores\n",
        "# operación de vectore de igual largo\n",
        "c(1,1) + c(8,9)\n",
        "c(2,2) * c(8,9)"
      ],
      "execution_count": null,
      "outputs": [
        {
          "output_type": "display_data",
          "data": {
            "text/plain": [
              "[1]  9 10"
            ],
            "text/latex": "\\begin{enumerate*}\n\\item 9\n\\item 10\n\\end{enumerate*}\n",
            "text/markdown": "1. 9\n2. 10\n\n\n",
            "text/html": [
              "<style>\n",
              ".list-inline {list-style: none; margin:0; padding: 0}\n",
              ".list-inline>li {display: inline-block}\n",
              ".list-inline>li:not(:last-child)::after {content: \"\\00b7\"; padding: 0 .5ex}\n",
              "</style>\n",
              "<ol class=list-inline><li>9</li><li>10</li></ol>\n"
            ]
          },
          "metadata": {
            "tags": []
          }
        },
        {
          "output_type": "display_data",
          "data": {
            "text/plain": [
              "[1] 16 18"
            ],
            "text/latex": "\\begin{enumerate*}\n\\item 16\n\\item 18\n\\end{enumerate*}\n",
            "text/markdown": "1. 16\n2. 18\n\n\n",
            "text/html": [
              "<style>\n",
              ".list-inline {list-style: none; margin:0; padding: 0}\n",
              ".list-inline>li {display: inline-block}\n",
              ".list-inline>li:not(:last-child)::after {content: \"\\00b7\"; padding: 0 .5ex}\n",
              "</style>\n",
              "<ol class=list-inline><li>16</li><li>18</li></ol>\n"
            ]
          },
          "metadata": {
            "tags": []
          }
        }
      ]
    },
    {
      "cell_type": "code",
      "metadata": {
        "id": "Bw8lX76XIgv8",
        "colab": {
          "base_uri": "https://localhost:8080/",
          "height": 51
        },
        "outputId": "a7ca26e3-89ac-4ff2-f4e2-7989ca2fad98"
      },
      "source": [
        "#ponderaciones por escalares\n",
        "v5\n",
        "v5 * 10"
      ],
      "execution_count": null,
      "outputs": [
        {
          "output_type": "display_data",
          "data": {
            "text/plain": [
              "          a           b           c           d          n1 sexto_valor \n",
              "          1          99          -1        1500         -10           6 "
            ],
            "text/latex": "\\begin{description*}\n\\item[a] 1\n\\item[b] 99\n\\item[c] -1\n\\item[d] 1500\n\\item[n1] -10\n\\item[sexto\\textbackslash{}\\_valor] 6\n\\end{description*}\n",
            "text/markdown": "a\n:   1b\n:   99c\n:   -1d\n:   1500n1\n:   -10sexto_valor\n:   6\n\n",
            "text/html": [
              "<style>\n",
              ".dl-inline {width: auto; margin:0; padding: 0}\n",
              ".dl-inline>dt, .dl-inline>dd {float: none; width: auto; display: inline-block}\n",
              ".dl-inline>dt::after {content: \":\\0020\"; padding-right: .5ex}\n",
              ".dl-inline>dt:not(:first-of-type) {padding-left: .5ex}\n",
              "</style><dl class=dl-inline><dt>a</dt><dd>1</dd><dt>b</dt><dd>99</dd><dt>c</dt><dd>-1</dd><dt>d</dt><dd>1500</dd><dt>n1</dt><dd>-10</dd><dt>sexto_valor</dt><dd>6</dd></dl>\n"
            ]
          },
          "metadata": {
            "tags": []
          }
        },
        {
          "output_type": "display_data",
          "data": {
            "text/plain": [
              "          a           b           c           d          n1 sexto_valor \n",
              "         10         990         -10       15000        -100          60 "
            ],
            "text/latex": "\\begin{description*}\n\\item[a] 10\n\\item[b] 990\n\\item[c] -10\n\\item[d] 15000\n\\item[n1] -100\n\\item[sexto\\textbackslash{}\\_valor] 60\n\\end{description*}\n",
            "text/markdown": "a\n:   10b\n:   990c\n:   -10d\n:   15000n1\n:   -100sexto_valor\n:   60\n\n",
            "text/html": [
              "<style>\n",
              ".dl-inline {width: auto; margin:0; padding: 0}\n",
              ".dl-inline>dt, .dl-inline>dd {float: none; width: auto; display: inline-block}\n",
              ".dl-inline>dt::after {content: \":\\0020\"; padding-right: .5ex}\n",
              ".dl-inline>dt:not(:first-of-type) {padding-left: .5ex}\n",
              "</style><dl class=dl-inline><dt>a</dt><dd>10</dd><dt>b</dt><dd>990</dd><dt>c</dt><dd>-10</dd><dt>d</dt><dd>15000</dd><dt>n1</dt><dd>-100</dd><dt>sexto_valor</dt><dd>60</dd></dl>\n"
            ]
          },
          "metadata": {
            "tags": []
          }
        }
      ]
    },
    {
      "cell_type": "code",
      "metadata": {
        "id": "syufc9_OIgv_",
        "colab": {
          "base_uri": "https://localhost:8080/",
          "height": 34
        },
        "outputId": "1fa8f3dd-1a2c-43ee-e99b-974094e859d4"
      },
      "source": [
        "#CUIDADO: Si se operan vectores de dstinto largo se reciclan los valores del vector más pequeño\n",
        "c(1,2,3,5) + c(10,11)"
      ],
      "execution_count": null,
      "outputs": [
        {
          "output_type": "display_data",
          "data": {
            "text/plain": [
              "[1] 11 13 13 16"
            ],
            "text/latex": "\\begin{enumerate*}\n\\item 11\n\\item 13\n\\item 13\n\\item 16\n\\end{enumerate*}\n",
            "text/markdown": "1. 11\n2. 13\n3. 13\n4. 16\n\n\n",
            "text/html": [
              "<style>\n",
              ".list-inline {list-style: none; margin:0; padding: 0}\n",
              ".list-inline>li {display: inline-block}\n",
              ".list-inline>li:not(:last-child)::after {content: \"\\00b7\"; padding: 0 .5ex}\n",
              "</style>\n",
              "<ol class=list-inline><li>11</li><li>13</li><li>13</li><li>16</li></ol>\n"
            ]
          },
          "metadata": {
            "tags": []
          }
        }
      ]
    },
    {
      "cell_type": "code",
      "metadata": {
        "id": "9kfbx6J4IgwC"
      },
      "source": [
        "# NOTA:\n",
        "# podemos determinar el largo de un vector mediante la función length()\n"
      ],
      "execution_count": null,
      "outputs": []
    },
    {
      "cell_type": "markdown",
      "metadata": {
        "id": "LIr-IFowIgwD"
      },
      "source": [
        "**Secuencias**\n",
        "\n",
        "En R es posible generar de manera rápida y sencilla algunas secuencias numéricas y almacenarlas en un vector.\n",
        "\n",
        "Ejemplo de estas funciones son :\n",
        "\n",
        "    rep()\n",
        "    seq()\n",
        "    \n",
        "Más adelante veremos como generar números aleatorios siguiendo alguna función de distribución de interés.\n",
        "\n"
      ]
    },
    {
      "cell_type": "code",
      "metadata": {
        "id": "wk0fB_gWIgwE",
        "outputId": "442229b9-ecd5-4f15-9194-37c03806397e",
        "colab": {
          "base_uri": "https://localhost:8080/",
          "height": 34
        }
      },
      "source": [
        "# Ya vimos que fácilmente ppodemos generar vectores de enteros consecutivos vía \":\"\n",
        "3:60"
      ],
      "execution_count": 1,
      "outputs": [
        {
          "output_type": "display_data",
          "data": {
            "text/plain": [
              " [1]  3  4  5  6  7  8  9 10 11 12 13 14 15 16 17 18 19 20 21 22 23 24 25 26 27\n",
              "[26] 28 29 30 31 32 33 34 35 36 37 38 39 40 41 42 43 44 45 46 47 48 49 50 51 52\n",
              "[51] 53 54 55 56 57 58 59 60"
            ],
            "text/latex": "\\begin{enumerate*}\n\\item 3\n\\item 4\n\\item 5\n\\item 6\n\\item 7\n\\item 8\n\\item 9\n\\item 10\n\\item 11\n\\item 12\n\\item 13\n\\item 14\n\\item 15\n\\item 16\n\\item 17\n\\item 18\n\\item 19\n\\item 20\n\\item 21\n\\item 22\n\\item 23\n\\item 24\n\\item 25\n\\item 26\n\\item 27\n\\item 28\n\\item 29\n\\item 30\n\\item 31\n\\item 32\n\\item 33\n\\item 34\n\\item 35\n\\item 36\n\\item 37\n\\item 38\n\\item 39\n\\item 40\n\\item 41\n\\item 42\n\\item 43\n\\item 44\n\\item 45\n\\item 46\n\\item 47\n\\item 48\n\\item 49\n\\item 50\n\\item 51\n\\item 52\n\\item 53\n\\item 54\n\\item 55\n\\item 56\n\\item 57\n\\item 58\n\\item 59\n\\item 60\n\\end{enumerate*}\n",
            "text/markdown": "1. 3\n2. 4\n3. 5\n4. 6\n5. 7\n6. 8\n7. 9\n8. 10\n9. 11\n10. 12\n11. 13\n12. 14\n13. 15\n14. 16\n15. 17\n16. 18\n17. 19\n18. 20\n19. 21\n20. 22\n21. 23\n22. 24\n23. 25\n24. 26\n25. 27\n26. 28\n27. 29\n28. 30\n29. 31\n30. 32\n31. 33\n32. 34\n33. 35\n34. 36\n35. 37\n36. 38\n37. 39\n38. 40\n39. 41\n40. 42\n41. 43\n42. 44\n43. 45\n44. 46\n45. 47\n46. 48\n47. 49\n48. 50\n49. 51\n50. 52\n51. 53\n52. 54\n53. 55\n54. 56\n55. 57\n56. 58\n57. 59\n58. 60\n\n\n",
            "text/html": [
              "<style>\n",
              ".list-inline {list-style: none; margin:0; padding: 0}\n",
              ".list-inline>li {display: inline-block}\n",
              ".list-inline>li:not(:last-child)::after {content: \"\\00b7\"; padding: 0 .5ex}\n",
              "</style>\n",
              "<ol class=list-inline><li>3</li><li>4</li><li>5</li><li>6</li><li>7</li><li>8</li><li>9</li><li>10</li><li>11</li><li>12</li><li>13</li><li>14</li><li>15</li><li>16</li><li>17</li><li>18</li><li>19</li><li>20</li><li>21</li><li>22</li><li>23</li><li>24</li><li>25</li><li>26</li><li>27</li><li>28</li><li>29</li><li>30</li><li>31</li><li>32</li><li>33</li><li>34</li><li>35</li><li>36</li><li>37</li><li>38</li><li>39</li><li>40</li><li>41</li><li>42</li><li>43</li><li>44</li><li>45</li><li>46</li><li>47</li><li>48</li><li>49</li><li>50</li><li>51</li><li>52</li><li>53</li><li>54</li><li>55</li><li>56</li><li>57</li><li>58</li><li>59</li><li>60</li></ol>\n"
            ]
          },
          "metadata": {
            "tags": []
          }
        }
      ]
    },
    {
      "cell_type": "code",
      "metadata": {
        "id": "_n_RejTLttm-"
      },
      "source": [
        "vector1 <- 3:60 #c(3:60) Redundante"
      ],
      "execution_count": 6,
      "outputs": []
    },
    {
      "cell_type": "code",
      "metadata": {
        "id": "ymJM3PX2uQXX",
        "outputId": "73f4954e-f188-46cb-aca1-a56f0ba1f92f",
        "colab": {
          "base_uri": "https://localhost:8080/",
          "height": 68
        }
      },
      "source": [
        "vector1\n",
        "class(vector1)\n",
        "typeof(vector1)"
      ],
      "execution_count": 5,
      "outputs": [
        {
          "output_type": "display_data",
          "data": {
            "text/plain": [
              " [1]  3  4  5  6  7  8  9 10 11 12 13 14 15 16 17 18 19 20 21 22 23 24 25 26 27\n",
              "[26] 28 29 30 31 32 33 34 35 36 37 38 39 40 41 42 43 44 45 46 47 48 49 50 51 52\n",
              "[51] 53 54 55 56 57 58 59 60"
            ],
            "text/latex": "\\begin{enumerate*}\n\\item 3\n\\item 4\n\\item 5\n\\item 6\n\\item 7\n\\item 8\n\\item 9\n\\item 10\n\\item 11\n\\item 12\n\\item 13\n\\item 14\n\\item 15\n\\item 16\n\\item 17\n\\item 18\n\\item 19\n\\item 20\n\\item 21\n\\item 22\n\\item 23\n\\item 24\n\\item 25\n\\item 26\n\\item 27\n\\item 28\n\\item 29\n\\item 30\n\\item 31\n\\item 32\n\\item 33\n\\item 34\n\\item 35\n\\item 36\n\\item 37\n\\item 38\n\\item 39\n\\item 40\n\\item 41\n\\item 42\n\\item 43\n\\item 44\n\\item 45\n\\item 46\n\\item 47\n\\item 48\n\\item 49\n\\item 50\n\\item 51\n\\item 52\n\\item 53\n\\item 54\n\\item 55\n\\item 56\n\\item 57\n\\item 58\n\\item 59\n\\item 60\n\\end{enumerate*}\n",
            "text/markdown": "1. 3\n2. 4\n3. 5\n4. 6\n5. 7\n6. 8\n7. 9\n8. 10\n9. 11\n10. 12\n11. 13\n12. 14\n13. 15\n14. 16\n15. 17\n16. 18\n17. 19\n18. 20\n19. 21\n20. 22\n21. 23\n22. 24\n23. 25\n24. 26\n25. 27\n26. 28\n27. 29\n28. 30\n29. 31\n30. 32\n31. 33\n32. 34\n33. 35\n34. 36\n35. 37\n36. 38\n37. 39\n38. 40\n39. 41\n40. 42\n41. 43\n42. 44\n43. 45\n44. 46\n45. 47\n46. 48\n47. 49\n48. 50\n49. 51\n50. 52\n51. 53\n52. 54\n53. 55\n54. 56\n55. 57\n56. 58\n57. 59\n58. 60\n\n\n",
            "text/html": [
              "<style>\n",
              ".list-inline {list-style: none; margin:0; padding: 0}\n",
              ".list-inline>li {display: inline-block}\n",
              ".list-inline>li:not(:last-child)::after {content: \"\\00b7\"; padding: 0 .5ex}\n",
              "</style>\n",
              "<ol class=list-inline><li>3</li><li>4</li><li>5</li><li>6</li><li>7</li><li>8</li><li>9</li><li>10</li><li>11</li><li>12</li><li>13</li><li>14</li><li>15</li><li>16</li><li>17</li><li>18</li><li>19</li><li>20</li><li>21</li><li>22</li><li>23</li><li>24</li><li>25</li><li>26</li><li>27</li><li>28</li><li>29</li><li>30</li><li>31</li><li>32</li><li>33</li><li>34</li><li>35</li><li>36</li><li>37</li><li>38</li><li>39</li><li>40</li><li>41</li><li>42</li><li>43</li><li>44</li><li>45</li><li>46</li><li>47</li><li>48</li><li>49</li><li>50</li><li>51</li><li>52</li><li>53</li><li>54</li><li>55</li><li>56</li><li>57</li><li>58</li><li>59</li><li>60</li></ol>\n"
            ]
          },
          "metadata": {
            "tags": []
          }
        },
        {
          "output_type": "display_data",
          "data": {
            "text/plain": [
              "[1] \"integer\""
            ],
            "text/latex": "'integer'",
            "text/markdown": "'integer'",
            "text/html": [
              "'integer'"
            ]
          },
          "metadata": {
            "tags": []
          }
        },
        {
          "output_type": "display_data",
          "data": {
            "text/plain": [
              "[1] \"integer\""
            ],
            "text/latex": "'integer'",
            "text/markdown": "'integer'",
            "text/html": [
              "'integer'"
            ]
          },
          "metadata": {
            "tags": []
          }
        }
      ]
    },
    {
      "cell_type": "code",
      "metadata": {
        "id": "rG-Q3PmhIgwG",
        "outputId": "4d4d1b93-800e-498e-d6f3-14ceb2f1f967",
        "colab": {
          "base_uri": "https://localhost:8080/",
          "height": 51
        }
      },
      "source": [
        "# Ejemplo de secuencia con rep (utilice distintos tipos de datos)\n",
        "rep(6,7) # repetimos el 6, 7 veces\n",
        "rep(7,6) # repetimos el 7, 6 veces"
      ],
      "execution_count": 8,
      "outputs": [
        {
          "output_type": "display_data",
          "data": {
            "text/plain": [
              "[1] 6 6 6 6 6 6 6"
            ],
            "text/latex": "\\begin{enumerate*}\n\\item 6\n\\item 6\n\\item 6\n\\item 6\n\\item 6\n\\item 6\n\\item 6\n\\end{enumerate*}\n",
            "text/markdown": "1. 6\n2. 6\n3. 6\n4. 6\n5. 6\n6. 6\n7. 6\n\n\n",
            "text/html": [
              "<style>\n",
              ".list-inline {list-style: none; margin:0; padding: 0}\n",
              ".list-inline>li {display: inline-block}\n",
              ".list-inline>li:not(:last-child)::after {content: \"\\00b7\"; padding: 0 .5ex}\n",
              "</style>\n",
              "<ol class=list-inline><li>6</li><li>6</li><li>6</li><li>6</li><li>6</li><li>6</li><li>6</li></ol>\n"
            ]
          },
          "metadata": {
            "tags": []
          }
        },
        {
          "output_type": "display_data",
          "data": {
            "text/plain": [
              "[1] 7 7 7 7 7 7"
            ],
            "text/latex": "\\begin{enumerate*}\n\\item 7\n\\item 7\n\\item 7\n\\item 7\n\\item 7\n\\item 7\n\\end{enumerate*}\n",
            "text/markdown": "1. 7\n2. 7\n3. 7\n4. 7\n5. 7\n6. 7\n\n\n",
            "text/html": [
              "<style>\n",
              ".list-inline {list-style: none; margin:0; padding: 0}\n",
              ".list-inline>li {display: inline-block}\n",
              ".list-inline>li:not(:last-child)::after {content: \"\\00b7\"; padding: 0 .5ex}\n",
              "</style>\n",
              "<ol class=list-inline><li>7</li><li>7</li><li>7</li><li>7</li><li>7</li><li>7</li></ol>\n"
            ]
          },
          "metadata": {
            "tags": []
          }
        }
      ]
    },
    {
      "cell_type": "code",
      "metadata": {
        "id": "6L-VoU5WuhUJ",
        "outputId": "bee97897-0b9f-4212-e59d-bf4698d5100e",
        "colab": {
          "base_uri": "https://localhost:8080/",
          "height": 51
        }
      },
      "source": [
        "rep(x = 6, times = 7)\n",
        "rep(times = 7, x = 6)"
      ],
      "execution_count": 10,
      "outputs": [
        {
          "output_type": "display_data",
          "data": {
            "text/plain": [
              "[1] 6 6 6 6 6 6 6"
            ],
            "text/latex": "\\begin{enumerate*}\n\\item 6\n\\item 6\n\\item 6\n\\item 6\n\\item 6\n\\item 6\n\\item 6\n\\end{enumerate*}\n",
            "text/markdown": "1. 6\n2. 6\n3. 6\n4. 6\n5. 6\n6. 6\n7. 6\n\n\n",
            "text/html": [
              "<style>\n",
              ".list-inline {list-style: none; margin:0; padding: 0}\n",
              ".list-inline>li {display: inline-block}\n",
              ".list-inline>li:not(:last-child)::after {content: \"\\00b7\"; padding: 0 .5ex}\n",
              "</style>\n",
              "<ol class=list-inline><li>6</li><li>6</li><li>6</li><li>6</li><li>6</li><li>6</li><li>6</li></ol>\n"
            ]
          },
          "metadata": {
            "tags": []
          }
        },
        {
          "output_type": "display_data",
          "data": {
            "text/plain": [
              "[1] 6 6 6 6 6 6 6"
            ],
            "text/latex": "\\begin{enumerate*}\n\\item 6\n\\item 6\n\\item 6\n\\item 6\n\\item 6\n\\item 6\n\\item 6\n\\end{enumerate*}\n",
            "text/markdown": "1. 6\n2. 6\n3. 6\n4. 6\n5. 6\n6. 6\n7. 6\n\n\n",
            "text/html": [
              "<style>\n",
              ".list-inline {list-style: none; margin:0; padding: 0}\n",
              ".list-inline>li {display: inline-block}\n",
              ".list-inline>li:not(:last-child)::after {content: \"\\00b7\"; padding: 0 .5ex}\n",
              "</style>\n",
              "<ol class=list-inline><li>6</li><li>6</li><li>6</li><li>6</li><li>6</li><li>6</li><li>6</li></ol>\n"
            ]
          },
          "metadata": {
            "tags": []
          }
        }
      ]
    },
    {
      "cell_type": "code",
      "metadata": {
        "id": "0FfI4jOzvliL"
      },
      "source": [
        "ej1 <- rep(x = 1:3, times = 7) # Podemos repetir un vector, 7 veces en este caso\n",
        "ej1\n",
        "length(ej1)"
      ],
      "execution_count": null,
      "outputs": []
    },
    {
      "cell_type": "code",
      "metadata": {
        "id": "PpEgoWDXIgwI",
        "outputId": "ced20606-85c1-4d5b-8ae0-f4d5f6f72bec",
        "colab": {
          "base_uri": "https://localhost:8080/",
          "height": 51
        }
      },
      "source": [
        "# podemos controlar el largo del vector resultante con el parámetro length.out\n",
        "ej2 <- rep(x = 1:5, length.out = 37) # Podemos repetir un vector, 7 veces en este caso\n",
        "ej2\n",
        "length(ej2)"
      ],
      "execution_count": 14,
      "outputs": [
        {
          "output_type": "display_data",
          "data": {
            "text/plain": [
              " [1] 1 2 3 4 5 1 2 3 4 5 1 2 3 4 5 1 2 3 4 5 1 2 3 4 5 1 2 3 4 5 1 2 3 4 5 1 2"
            ],
            "text/latex": "\\begin{enumerate*}\n\\item 1\n\\item 2\n\\item 3\n\\item 4\n\\item 5\n\\item 1\n\\item 2\n\\item 3\n\\item 4\n\\item 5\n\\item 1\n\\item 2\n\\item 3\n\\item 4\n\\item 5\n\\item 1\n\\item 2\n\\item 3\n\\item 4\n\\item 5\n\\item 1\n\\item 2\n\\item 3\n\\item 4\n\\item 5\n\\item 1\n\\item 2\n\\item 3\n\\item 4\n\\item 5\n\\item 1\n\\item 2\n\\item 3\n\\item 4\n\\item 5\n\\item 1\n\\item 2\n\\end{enumerate*}\n",
            "text/markdown": "1. 1\n2. 2\n3. 3\n4. 4\n5. 5\n6. 1\n7. 2\n8. 3\n9. 4\n10. 5\n11. 1\n12. 2\n13. 3\n14. 4\n15. 5\n16. 1\n17. 2\n18. 3\n19. 4\n20. 5\n21. 1\n22. 2\n23. 3\n24. 4\n25. 5\n26. 1\n27. 2\n28. 3\n29. 4\n30. 5\n31. 1\n32. 2\n33. 3\n34. 4\n35. 5\n36. 1\n37. 2\n\n\n",
            "text/html": [
              "<style>\n",
              ".list-inline {list-style: none; margin:0; padding: 0}\n",
              ".list-inline>li {display: inline-block}\n",
              ".list-inline>li:not(:last-child)::after {content: \"\\00b7\"; padding: 0 .5ex}\n",
              "</style>\n",
              "<ol class=list-inline><li>1</li><li>2</li><li>3</li><li>4</li><li>5</li><li>1</li><li>2</li><li>3</li><li>4</li><li>5</li><li>1</li><li>2</li><li>3</li><li>4</li><li>5</li><li>1</li><li>2</li><li>3</li><li>4</li><li>5</li><li>1</li><li>2</li><li>3</li><li>4</li><li>5</li><li>1</li><li>2</li><li>3</li><li>4</li><li>5</li><li>1</li><li>2</li><li>3</li><li>4</li><li>5</li><li>1</li><li>2</li></ol>\n"
            ]
          },
          "metadata": {
            "tags": []
          }
        },
        {
          "output_type": "display_data",
          "data": {
            "text/plain": [
              "[1] 37"
            ],
            "text/latex": "37",
            "text/markdown": "37",
            "text/html": [
              "37"
            ]
          },
          "metadata": {
            "tags": []
          }
        }
      ]
    },
    {
      "cell_type": "code",
      "metadata": {
        "id": "HklalixSwBwH",
        "outputId": "758b472b-9096-4a9e-9f45-f4b50db1e433",
        "colab": {
          "base_uri": "https://localhost:8080/",
          "height": 34
        }
      },
      "source": [
        "rep(1:4, each = 2) # Ejemplo con parámetro each (repite 2 veces cada elemento del vector de entrada)"
      ],
      "execution_count": 15,
      "outputs": [
        {
          "output_type": "display_data",
          "data": {
            "text/plain": [
              "[1] 1 1 2 2 3 3 4 4"
            ],
            "text/latex": "\\begin{enumerate*}\n\\item 1\n\\item 1\n\\item 2\n\\item 2\n\\item 3\n\\item 3\n\\item 4\n\\item 4\n\\end{enumerate*}\n",
            "text/markdown": "1. 1\n2. 1\n3. 2\n4. 2\n5. 3\n6. 3\n7. 4\n8. 4\n\n\n",
            "text/html": [
              "<style>\n",
              ".list-inline {list-style: none; margin:0; padding: 0}\n",
              ".list-inline>li {display: inline-block}\n",
              ".list-inline>li:not(:last-child)::after {content: \"\\00b7\"; padding: 0 .5ex}\n",
              "</style>\n",
              "<ol class=list-inline><li>1</li><li>1</li><li>2</li><li>2</li><li>3</li><li>3</li><li>4</li><li>4</li></ol>\n"
            ]
          },
          "metadata": {
            "tags": []
          }
        }
      ]
    },
    {
      "cell_type": "code",
      "metadata": {
        "id": "gGkgGylnIgwK",
        "outputId": "04ff6401-8428-4e99-d9b7-143aa371d6f2",
        "colab": {
          "base_uri": "https://localhost:8080/",
          "height": 51
        }
      },
      "source": [
        "# ejemplo de función seq (utilice argumento by, y otro ejemplo con argumento length.out)\n",
        "#Secuencia que comience en 0 y termine en 1, con incrementos de 0.1\n",
        "seq(0,1,0.1)\n",
        "seq(from = 0, to = 1, by = 0.1) # Como buena prática se sugiere explicitar los parámetros."
      ],
      "execution_count": 17,
      "outputs": [
        {
          "output_type": "display_data",
          "data": {
            "text/plain": [
              " [1] 0.0 0.1 0.2 0.3 0.4 0.5 0.6 0.7 0.8 0.9 1.0"
            ],
            "text/latex": "\\begin{enumerate*}\n\\item 0\n\\item 0.1\n\\item 0.2\n\\item 0.3\n\\item 0.4\n\\item 0.5\n\\item 0.6\n\\item 0.7\n\\item 0.8\n\\item 0.9\n\\item 1\n\\end{enumerate*}\n",
            "text/markdown": "1. 0\n2. 0.1\n3. 0.2\n4. 0.3\n5. 0.4\n6. 0.5\n7. 0.6\n8. 0.7\n9. 0.8\n10. 0.9\n11. 1\n\n\n",
            "text/html": [
              "<style>\n",
              ".list-inline {list-style: none; margin:0; padding: 0}\n",
              ".list-inline>li {display: inline-block}\n",
              ".list-inline>li:not(:last-child)::after {content: \"\\00b7\"; padding: 0 .5ex}\n",
              "</style>\n",
              "<ol class=list-inline><li>0</li><li>0.1</li><li>0.2</li><li>0.3</li><li>0.4</li><li>0.5</li><li>0.6</li><li>0.7</li><li>0.8</li><li>0.9</li><li>1</li></ol>\n"
            ]
          },
          "metadata": {
            "tags": []
          }
        },
        {
          "output_type": "display_data",
          "data": {
            "text/plain": [
              " [1] 0.0 0.1 0.2 0.3 0.4 0.5 0.6 0.7 0.8 0.9 1.0"
            ],
            "text/latex": "\\begin{enumerate*}\n\\item 0\n\\item 0.1\n\\item 0.2\n\\item 0.3\n\\item 0.4\n\\item 0.5\n\\item 0.6\n\\item 0.7\n\\item 0.8\n\\item 0.9\n\\item 1\n\\end{enumerate*}\n",
            "text/markdown": "1. 0\n2. 0.1\n3. 0.2\n4. 0.3\n5. 0.4\n6. 0.5\n7. 0.6\n8. 0.7\n9. 0.8\n10. 0.9\n11. 1\n\n\n",
            "text/html": [
              "<style>\n",
              ".list-inline {list-style: none; margin:0; padding: 0}\n",
              ".list-inline>li {display: inline-block}\n",
              ".list-inline>li:not(:last-child)::after {content: \"\\00b7\"; padding: 0 .5ex}\n",
              "</style>\n",
              "<ol class=list-inline><li>0</li><li>0.1</li><li>0.2</li><li>0.3</li><li>0.4</li><li>0.5</li><li>0.6</li><li>0.7</li><li>0.8</li><li>0.9</li><li>1</li></ol>\n"
            ]
          },
          "metadata": {
            "tags": []
          }
        }
      ]
    },
    {
      "cell_type": "code",
      "metadata": {
        "id": "afFq61rZw1Gb",
        "outputId": "0ed896c6-7698-4f1d-ce91-05bba34aa175",
        "colab": {
          "base_uri": "https://localhost:8080/",
          "height": 68
        }
      },
      "source": [
        "# Seuencia que comience en 0. y termine en 1, de largo 35\n",
        "seq(from = 0, to = 1, length.out = 35)"
      ],
      "execution_count": 18,
      "outputs": [
        {
          "output_type": "display_data",
          "data": {
            "text/plain": [
              " [1] 0.00000000 0.02941176 0.05882353 0.08823529 0.11764706 0.14705882\n",
              " [7] 0.17647059 0.20588235 0.23529412 0.26470588 0.29411765 0.32352941\n",
              "[13] 0.35294118 0.38235294 0.41176471 0.44117647 0.47058824 0.50000000\n",
              "[19] 0.52941176 0.55882353 0.58823529 0.61764706 0.64705882 0.67647059\n",
              "[25] 0.70588235 0.73529412 0.76470588 0.79411765 0.82352941 0.85294118\n",
              "[31] 0.88235294 0.91176471 0.94117647 0.97058824 1.00000000"
            ],
            "text/latex": "\\begin{enumerate*}\n\\item 0\n\\item 0.0294117647058824\n\\item 0.0588235294117647\n\\item 0.0882352941176471\n\\item 0.117647058823529\n\\item 0.147058823529412\n\\item 0.176470588235294\n\\item 0.205882352941176\n\\item 0.235294117647059\n\\item 0.264705882352941\n\\item 0.294117647058824\n\\item 0.323529411764706\n\\item 0.352941176470588\n\\item 0.382352941176471\n\\item 0.411764705882353\n\\item 0.441176470588235\n\\item 0.470588235294118\n\\item 0.5\n\\item 0.529411764705882\n\\item 0.558823529411765\n\\item 0.588235294117647\n\\item 0.617647058823529\n\\item 0.647058823529412\n\\item 0.676470588235294\n\\item 0.705882352941176\n\\item 0.735294117647059\n\\item 0.764705882352941\n\\item 0.794117647058823\n\\item 0.823529411764706\n\\item 0.852941176470588\n\\item 0.882352941176471\n\\item 0.911764705882353\n\\item 0.941176470588235\n\\item 0.970588235294118\n\\item 1\n\\end{enumerate*}\n",
            "text/markdown": "1. 0\n2. 0.0294117647058824\n3. 0.0588235294117647\n4. 0.0882352941176471\n5. 0.117647058823529\n6. 0.147058823529412\n7. 0.176470588235294\n8. 0.205882352941176\n9. 0.235294117647059\n10. 0.264705882352941\n11. 0.294117647058824\n12. 0.323529411764706\n13. 0.352941176470588\n14. 0.382352941176471\n15. 0.411764705882353\n16. 0.441176470588235\n17. 0.470588235294118\n18. 0.5\n19. 0.529411764705882\n20. 0.558823529411765\n21. 0.588235294117647\n22. 0.617647058823529\n23. 0.647058823529412\n24. 0.676470588235294\n25. 0.705882352941176\n26. 0.735294117647059\n27. 0.764705882352941\n28. 0.794117647058823\n29. 0.823529411764706\n30. 0.852941176470588\n31. 0.882352941176471\n32. 0.911764705882353\n33. 0.941176470588235\n34. 0.970588235294118\n35. 1\n\n\n",
            "text/html": [
              "<style>\n",
              ".list-inline {list-style: none; margin:0; padding: 0}\n",
              ".list-inline>li {display: inline-block}\n",
              ".list-inline>li:not(:last-child)::after {content: \"\\00b7\"; padding: 0 .5ex}\n",
              "</style>\n",
              "<ol class=list-inline><li>0</li><li>0.0294117647058824</li><li>0.0588235294117647</li><li>0.0882352941176471</li><li>0.117647058823529</li><li>0.147058823529412</li><li>0.176470588235294</li><li>0.205882352941176</li><li>0.235294117647059</li><li>0.264705882352941</li><li>0.294117647058824</li><li>0.323529411764706</li><li>0.352941176470588</li><li>0.382352941176471</li><li>0.411764705882353</li><li>0.441176470588235</li><li>0.470588235294118</li><li>0.5</li><li>0.529411764705882</li><li>0.558823529411765</li><li>0.588235294117647</li><li>0.617647058823529</li><li>0.647058823529412</li><li>0.676470588235294</li><li>0.705882352941176</li><li>0.735294117647059</li><li>0.764705882352941</li><li>0.794117647058823</li><li>0.823529411764706</li><li>0.852941176470588</li><li>0.882352941176471</li><li>0.911764705882353</li><li>0.941176470588235</li><li>0.970588235294118</li><li>1</li></ol>\n"
            ]
          },
          "metadata": {
            "tags": []
          }
        }
      ]
    },
    {
      "cell_type": "code",
      "metadata": {
        "id": "psRswQHBIgwO",
        "outputId": "f4a485d7-01c6-4f7b-acca-dc659cd8ba08",
        "colab": {
          "base_uri": "https://localhost:8080/",
          "height": 153
        }
      },
      "source": [
        "# ejemplo de vector aleatorio siguiendo una determinada distribución\n",
        "\n",
        "# distribución uniforme\n",
        "muestra_unif <- runif(n = 1000, min = 2, max = 6) # genera una muestra aleatoria de 100 números (reales) entre 2 y 6\n",
        "muestra_unif\n"
      ],
      "execution_count": 26,
      "outputs": [
        {
          "output_type": "display_data",
          "data": {
            "text/plain": [
              "  [1] 2.554069 4.743100 2.633358 5.054108 5.632256 3.696763 5.697077 2.198674\n",
              "  [9] 5.496989 3.692051 2.042461 5.701445 3.688673 2.286411 4.644046 4.092503\n",
              " [17] 2.973141 2.629034 5.133117 3.514655 3.729721 2.233509 5.448324 3.095973\n",
              " [25] 2.902906 2.911277 5.544555 4.994296 4.576210 5.914479 3.344195 3.156531\n",
              " [33] 4.209696 2.634171 4.057700 4.794349 3.189279 2.780967 5.231261 3.604590\n",
              " [41] 3.010868 2.047848 4.940386 3.946360 2.359782 5.059550 5.464373 2.600100\n",
              " [49] 3.183924 2.963063 4.792091 4.781167 2.170674 5.029979 5.916415 5.842038\n",
              " [57] 4.079442 3.134988 5.181046 5.602102 5.356954 4.670121 2.723112 4.630718\n",
              " [65] 3.276215 5.165082 4.067172 4.846276 2.995418 4.677322 5.864608 2.971321\n",
              " [73] 2.944208 3.606174 3.970257 4.977058 5.291757 2.212122 4.734812 3.533649\n",
              " [81] 5.910678 2.024615 5.963033 3.386701 4.563432 2.184215 2.534888 2.349336\n",
              " [89] 2.741001 5.451065 2.119514 4.762926 5.392893 4.806998 3.551046 2.102725\n",
              " [97] 5.628255 3.519392 2.531342 5.809955"
            ],
            "text/latex": "\\begin{enumerate*}\n\\item 2.55406878236681\n\\item 4.7431001169607\n\\item 2.63335849624127\n\\item 5.05410785414279\n\\item 5.63225600868464\n\\item 3.69676285237074\n\\item 5.69707710016519\n\\item 2.19867381360382\n\\item 5.49698900897056\n\\item 3.69205101393163\n\\item 2.04246062692255\n\\item 5.70144501328468\n\\item 3.6886728964746\n\\item 2.28641117550433\n\\item 4.64404560532421\n\\item 4.09250256046653\n\\item 2.97314120363444\n\\item 2.62903442699462\n\\item 5.13311715330929\n\\item 3.5146550051868\n\\item 3.72972102090716\n\\item 2.23350857198238\n\\item 5.44832444842905\n\\item 3.09597280155867\n\\item 2.90290570259094\n\\item 2.91127696540207\n\\item 5.54455485008657\n\\item 4.99429624248296\n\\item 4.57620956376195\n\\item 5.91447859816253\n\\item 3.34419508371502\n\\item 3.15653148945421\n\\item 4.20969642698765\n\\item 2.6341711524874\n\\item 4.0577004365623\n\\item 4.79434900637716\n\\item 3.18927922099829\n\\item 2.78096702788025\n\\item 5.23126079887152\n\\item 3.60458992421627\n\\item 3.0108684329316\n\\item 2.04784778505564\n\\item 4.94038618076593\n\\item 3.94635986164212\n\\item 2.35978227294981\n\\item 5.05955045111477\n\\item 5.46437280531973\n\\item 2.60010025277734\n\\item 3.18392418324947\n\\item 2.96306254900992\n\\item 4.79209128208458\n\\item 4.7811671057716\n\\item 2.17067376896739\n\\item 5.02997912932187\n\\item 5.91641450487077\n\\item 5.84203806240112\n\\item 4.07944239675999\n\\item 3.13498784415424\n\\item 5.18104620091617\n\\item 5.60210172086954\n\\item 5.35695392172784\n\\item 4.67012100480497\n\\item 2.72311212308705\n\\item 4.63071831967682\n\\item 3.27621518168598\n\\item 5.1650818195194\n\\item 4.06717200577259\n\\item 4.84627602063119\n\\item 2.99541839491576\n\\item 4.67732172459364\n\\item 5.86460779234767\n\\item 2.97132089920342\n\\item 2.94420764502138\n\\item 3.60617377981544\n\\item 3.97025714349002\n\\item 4.97705778945237\n\\item 5.2917571682483\n\\item 2.21212160307914\n\\item 4.7348116831854\n\\item 3.53364852443337\n\\item 5.91067841276526\n\\item 2.02461530081928\n\\item 5.96303311176598\n\\item 3.38670100923628\n\\item 4.56343181151897\n\\item 2.1842149393633\n\\item 2.53488775156438\n\\item 2.34933622833341\n\\item 2.74100107233971\n\\item 5.45106501504779\n\\item 2.11951392609626\n\\item 4.76292586512864\n\\item 5.39289344009012\n\\item 4.80699802469462\n\\item 3.55104624759406\n\\item 2.10272489115596\n\\item 5.62825468741357\n\\item 3.51939185801893\n\\item 2.5313421189785\n\\item 5.80995525699109\n\\end{enumerate*}\n",
            "text/markdown": "1. 2.55406878236681\n2. 4.7431001169607\n3. 2.63335849624127\n4. 5.05410785414279\n5. 5.63225600868464\n6. 3.69676285237074\n7. 5.69707710016519\n8. 2.19867381360382\n9. 5.49698900897056\n10. 3.69205101393163\n11. 2.04246062692255\n12. 5.70144501328468\n13. 3.6886728964746\n14. 2.28641117550433\n15. 4.64404560532421\n16. 4.09250256046653\n17. 2.97314120363444\n18. 2.62903442699462\n19. 5.13311715330929\n20. 3.5146550051868\n21. 3.72972102090716\n22. 2.23350857198238\n23. 5.44832444842905\n24. 3.09597280155867\n25. 2.90290570259094\n26. 2.91127696540207\n27. 5.54455485008657\n28. 4.99429624248296\n29. 4.57620956376195\n30. 5.91447859816253\n31. 3.34419508371502\n32. 3.15653148945421\n33. 4.20969642698765\n34. 2.6341711524874\n35. 4.0577004365623\n36. 4.79434900637716\n37. 3.18927922099829\n38. 2.78096702788025\n39. 5.23126079887152\n40. 3.60458992421627\n41. 3.0108684329316\n42. 2.04784778505564\n43. 4.94038618076593\n44. 3.94635986164212\n45. 2.35978227294981\n46. 5.05955045111477\n47. 5.46437280531973\n48. 2.60010025277734\n49. 3.18392418324947\n50. 2.96306254900992\n51. 4.79209128208458\n52. 4.7811671057716\n53. 2.17067376896739\n54. 5.02997912932187\n55. 5.91641450487077\n56. 5.84203806240112\n57. 4.07944239675999\n58. 3.13498784415424\n59. 5.18104620091617\n60. 5.60210172086954\n61. 5.35695392172784\n62. 4.67012100480497\n63. 2.72311212308705\n64. 4.63071831967682\n65. 3.27621518168598\n66. 5.1650818195194\n67. 4.06717200577259\n68. 4.84627602063119\n69. 2.99541839491576\n70. 4.67732172459364\n71. 5.86460779234767\n72. 2.97132089920342\n73. 2.94420764502138\n74. 3.60617377981544\n75. 3.97025714349002\n76. 4.97705778945237\n77. 5.2917571682483\n78. 2.21212160307914\n79. 4.7348116831854\n80. 3.53364852443337\n81. 5.91067841276526\n82. 2.02461530081928\n83. 5.96303311176598\n84. 3.38670100923628\n85. 4.56343181151897\n86. 2.1842149393633\n87. 2.53488775156438\n88. 2.34933622833341\n89. 2.74100107233971\n90. 5.45106501504779\n91. 2.11951392609626\n92. 4.76292586512864\n93. 5.39289344009012\n94. 4.80699802469462\n95. 3.55104624759406\n96. 2.10272489115596\n97. 5.62825468741357\n98. 3.51939185801893\n99. 2.5313421189785\n100. 5.80995525699109\n\n\n",
            "text/html": [
              "<style>\n",
              ".list-inline {list-style: none; margin:0; padding: 0}\n",
              ".list-inline>li {display: inline-block}\n",
              ".list-inline>li:not(:last-child)::after {content: \"\\00b7\"; padding: 0 .5ex}\n",
              "</style>\n",
              "<ol class=list-inline><li>2.55406878236681</li><li>4.7431001169607</li><li>2.63335849624127</li><li>5.05410785414279</li><li>5.63225600868464</li><li>3.69676285237074</li><li>5.69707710016519</li><li>2.19867381360382</li><li>5.49698900897056</li><li>3.69205101393163</li><li>2.04246062692255</li><li>5.70144501328468</li><li>3.6886728964746</li><li>2.28641117550433</li><li>4.64404560532421</li><li>4.09250256046653</li><li>2.97314120363444</li><li>2.62903442699462</li><li>5.13311715330929</li><li>3.5146550051868</li><li>3.72972102090716</li><li>2.23350857198238</li><li>5.44832444842905</li><li>3.09597280155867</li><li>2.90290570259094</li><li>2.91127696540207</li><li>5.54455485008657</li><li>4.99429624248296</li><li>4.57620956376195</li><li>5.91447859816253</li><li>3.34419508371502</li><li>3.15653148945421</li><li>4.20969642698765</li><li>2.6341711524874</li><li>4.0577004365623</li><li>4.79434900637716</li><li>3.18927922099829</li><li>2.78096702788025</li><li>5.23126079887152</li><li>3.60458992421627</li><li>3.0108684329316</li><li>2.04784778505564</li><li>4.94038618076593</li><li>3.94635986164212</li><li>2.35978227294981</li><li>5.05955045111477</li><li>5.46437280531973</li><li>2.60010025277734</li><li>3.18392418324947</li><li>2.96306254900992</li><li>4.79209128208458</li><li>4.7811671057716</li><li>2.17067376896739</li><li>5.02997912932187</li><li>5.91641450487077</li><li>5.84203806240112</li><li>4.07944239675999</li><li>3.13498784415424</li><li>5.18104620091617</li><li>5.60210172086954</li><li>5.35695392172784</li><li>4.67012100480497</li><li>2.72311212308705</li><li>4.63071831967682</li><li>3.27621518168598</li><li>5.1650818195194</li><li>4.06717200577259</li><li>4.84627602063119</li><li>2.99541839491576</li><li>4.67732172459364</li><li>5.86460779234767</li><li>2.97132089920342</li><li>2.94420764502138</li><li>3.60617377981544</li><li>3.97025714349002</li><li>4.97705778945237</li><li>5.2917571682483</li><li>2.21212160307914</li><li>4.7348116831854</li><li>3.53364852443337</li><li>5.91067841276526</li><li>2.02461530081928</li><li>5.96303311176598</li><li>3.38670100923628</li><li>4.56343181151897</li><li>2.1842149393633</li><li>2.53488775156438</li><li>2.34933622833341</li><li>2.74100107233971</li><li>5.45106501504779</li><li>2.11951392609626</li><li>4.76292586512864</li><li>5.39289344009012</li><li>4.80699802469462</li><li>3.55104624759406</li><li>2.10272489115596</li><li>5.62825468741357</li><li>3.51939185801893</li><li>2.5313421189785</li><li>5.80995525699109</li></ol>\n"
            ]
          },
          "metadata": {
            "tags": []
          }
        }
      ]
    },
    {
      "cell_type": "code",
      "metadata": {
        "id": "IszF8Q75yaW5",
        "outputId": "22491f30-a82b-4670-86c2-c13ec14424f6",
        "colab": {
          "base_uri": "https://localhost:8080/",
          "height": 544
        }
      },
      "source": [
        "# distribución normal\n",
        "muestra_normal <- rnorm(n = 1000, mean = 18, sd = 2)\n",
        "muestra_normal\n"
      ],
      "execution_count": 28,
      "outputs": [
        {
          "output_type": "display_data",
          "data": {
            "text/plain": [
              "   [1] 17.83707 19.36670 18.00348 16.11051 16.78062 18.43825 16.01162 14.49244\n",
              "   [9] 16.71431 17.88680 19.70491 19.34681 16.03534 15.34252 22.18227 16.49042\n",
              "  [17] 21.01566 20.74833 17.62427 18.81732 16.59577 19.22244 16.45659 15.50067\n",
              "  [25] 22.91964 19.05031 16.33618 18.63332 16.31441 16.91440 17.80758 18.21130\n",
              "  [33] 17.27251 22.50976 18.46933 15.87883 15.88290 20.66538 17.40052 17.16176\n",
              "  [41] 16.92844 14.94256 19.03268 14.92666 16.93507 19.63440 17.31429 23.77694\n",
              "  [49] 18.35912 20.68546 18.71133 18.11097 17.92853 17.05648 20.51591 17.26692\n",
              "  [57] 13.91666 17.99321 18.38386 18.45721 13.48269 16.89960 16.52704 15.80335\n",
              "  [65] 17.64136 20.61447 19.37178 19.08497 15.14552 17.63543 21.27132 12.60683\n",
              "  [73] 18.22878 19.55909 21.60110 18.63857 16.54091 17.19130 16.73018 21.15939\n",
              "  [81] 15.98268 18.66793 15.68889 21.61985 20.82813 17.84128 16.59106 19.57052\n",
              "  [89] 16.66704 17.69055 14.76823 16.65997 17.31258 21.64854 12.65931 20.06837\n",
              "  [97] 19.20954 18.44936 18.89877 20.09813 19.55835 17.90487 21.42765 16.61203\n",
              " [105] 17.43476 20.74826 19.34562 18.22876 18.85130 18.68317 15.45259 17.73418\n",
              " [113] 17.71284 16.53635 19.24366 15.05023 18.46614 15.12727 17.57867 20.69796\n",
              " [121] 15.99925 13.48928 14.81028 17.64589 17.23075 18.76484 19.92981 19.29729\n",
              " [129] 17.58286 20.79595 18.60357 21.13018 18.89845 20.63383 18.89767 18.04230\n",
              " [137] 17.29364 12.10905 20.18220 17.64334 18.19682 17.24667 17.40561 17.33589\n",
              " [145] 18.43408 16.53731 17.47001 15.64698 16.00830 18.19156 20.08926 21.36134\n",
              " [153] 19.08360 23.52271 16.32705 20.48509 18.11610 18.16699 18.99158 21.88263\n",
              " [161] 19.13986 16.72023 17.78825 19.48353 17.05495 15.86756 15.73186 18.97362\n",
              " [169] 16.07641 18.63262 19.80202 22.28186 14.94713 16.09844 17.25165 16.78251\n",
              " [177] 15.65552 19.43233 20.89149 18.10245 17.57712 17.64109 20.87572 21.20825\n",
              " [185] 21.77276 16.13551 20.56591 19.26205 18.42676 15.13347 19.09554 17.87589\n",
              " [193] 20.90239 19.05187 18.70429 16.51423 19.94995 21.41643 17.83173 21.23828\n",
              " [201] 16.37124 17.89850 20.93411 15.90162 13.48748 16.50575 17.07811 19.98547\n",
              " [209] 17.36618 18.77956 20.68349 19.80863 17.80082 18.46293 15.93987 17.73260\n",
              " [217] 16.93845 19.09050 14.61486 21.00772 16.89000 20.12639 18.73915 18.99294\n",
              " [225] 15.54934 17.07970 21.30306 16.99902 18.67101 17.56505 15.06142 19.86613\n",
              " [233] 15.82789 20.66699 19.43623 17.74754 14.77001 16.91501 17.89105 18.63585\n",
              " [241] 18.95366 17.04565 20.15118 18.02892 18.80930 18.94099 17.03545 20.38671\n",
              " [249] 16.14578 13.76757 17.30406 21.13433 19.31131 19.61376 16.53031 22.14930\n",
              " [257] 16.21403 18.33059 15.66812 17.17075 17.79315 17.55510 20.16379 20.01765\n",
              " [265] 19.26665 18.13412 19.04982 18.86310 16.06186 17.60141 17.60894 16.09926\n",
              " [273] 19.13428 18.09323 18.01066 17.62965 19.76307 20.51934 18.23285 17.57491\n",
              " [281] 17.88115 17.53516 19.95687 17.10960 20.02024 16.98143 20.78454 17.43081\n",
              " [289] 19.28779 18.85160 16.81639 18.17583 19.97196 21.30267 17.90336 14.36935\n",
              " [297] 18.89813 18.80753 19.15908 18.80589 18.32585 18.78427 18.26852 17.97256\n",
              " [305] 20.71585 19.99204 17.92205 17.94411 18.75445 14.69383 16.32752 18.26693\n",
              " [313] 20.06500 19.33331 16.70636 18.65027 17.10210 18.09668 20.68203 17.08482\n",
              " [321] 20.14093 21.61027 18.43643 17.92647 19.80993 20.15483 21.17827 20.74840\n",
              " [329] 18.41710 17.31834 20.53796 19.78675 18.68397 18.94646 19.39237 13.81814\n",
              " [337] 17.32671 17.42208 16.79363 19.23658 16.38068 19.01778 16.62528 16.08067\n",
              " [345] 19.13181 20.66920 16.69762 16.65455 21.23315 16.16264 12.16477 19.45827\n",
              " [353] 17.70318 18.52198 16.96990 17.10397 20.12357 17.17278 16.40131 17.55917\n",
              " [361] 20.73003 18.18558 17.67241 18.11777 21.44690 16.96568 20.88033 16.94203\n",
              " [369] 19.59900 21.28689 17.15241 21.59885 14.61404 15.01261 16.69813 20.81108\n",
              " [377] 18.09339 18.49487 16.87839 18.60633 16.49482 18.75991 19.24463 19.62219\n",
              " [385] 16.57696 18.51828 18.99493 17.90338 18.76495 16.80207 17.00636 13.79844\n",
              " [393] 14.94816 15.87157 17.77153 19.79804 19.08856 19.28207 16.04566 17.01256\n",
              " [401] 16.66895 19.07655 17.55126 18.96444 17.18181 12.78749 16.68777 19.16166\n",
              " [409] 20.46002 16.78908 19.24524 18.99785 16.93706 16.33922 17.68268 17.29887\n",
              " [417] 17.09720 20.46849 16.73071 17.74240 20.01744 15.48545 16.00238 19.19117\n",
              " [425] 15.59407 19.15565 20.30276 20.07915 17.82307 14.61067 16.82527 17.26709\n",
              " [433] 18.36761 20.91190 18.71732 19.64845 19.56432 15.70854 20.47557 15.74882\n",
              " [441] 16.15602 19.14664 18.49379 14.81918 17.43376 14.57246 19.67393 16.31710\n",
              " [449] 18.85407 16.95314 19.39325 18.92394 17.06661 17.17372 18.48040 17.28732\n",
              " [457] 20.19904 19.89639 20.16326 18.03583 18.15286 13.43129 16.02777 21.12399\n",
              " [465] 21.21919 19.46897 19.20442 16.91651 17.77997 17.13780 16.34221 15.55557\n",
              " [473] 17.14394 19.32547 18.10981 17.74224 20.03901 18.85987 16.31101 15.34211\n",
              " [481] 19.46857 15.19376 16.62750 20.85011 15.74838 15.52923 20.80187 19.06731\n",
              " [489] 17.88553 18.08975 18.17622 18.66875 17.80671 16.37714 20.53562 16.13087\n",
              " [497] 20.00689 15.93837 21.47481 19.52782 22.52727 14.72813 17.49787 17.94576\n",
              " [505] 19.88920 19.70398 20.27119 19.15396 19.55892 20.47662 20.33739 17.26477\n",
              " [513] 13.15837 19.10104 17.77909 20.17624 18.77666 18.91174 17.45122 15.97667\n",
              " [521] 16.12509 18.51189 19.63857 19.48002 18.99338 18.49685 16.33181 17.74781\n",
              " [529] 19.50360 18.18339 17.38827 17.09438 16.04887 16.01128 19.02946 17.52564\n",
              " [537] 18.92619 18.70428 18.81007 16.71318 16.61918 20.82031 17.62697 17.32749\n",
              " [545] 17.15341 21.19719 19.99818 18.94145 20.50422 14.17675 17.61416 18.42914\n",
              " [553] 17.12614 18.60904 14.75282 18.58228 14.26259 20.48617 14.65737 17.23540\n",
              " [561] 22.08064 19.94728 20.79250 16.84617 18.19672 17.20057 15.18331 18.03254\n",
              " [569] 15.96459 17.57205 21.28777 13.86420 14.36537 20.69152 17.14467 18.43065\n",
              " [577] 19.08919 18.95853 19.44792 14.46843 18.07555 18.67961 22.63994 18.13451\n",
              " [585] 14.47356 17.59943 17.45095 20.60536 16.41538 21.69052 18.36197 19.53639\n",
              " [593] 19.72972 19.96494 18.27946 13.76440 16.98053 19.74225 20.66802 19.35663\n",
              " [601] 19.71297 17.38907 18.33178 16.58526 19.42799 18.05467 19.01947 17.29078\n",
              " [609] 17.94126 20.48846 17.56881 17.01511 19.65266 17.89293 17.93402 20.33394\n",
              " [617] 18.91219 14.07767 18.21650 21.00555 14.41096 14.06364 22.12237 18.69469\n",
              " [625] 19.70487 18.07820 18.92143 18.77966 18.58540 18.34768 19.81364 16.80288\n",
              " [633] 15.54072 17.57290 17.29776 20.22320 21.39913 19.19328 20.70364 19.54457\n",
              " [641] 13.54857 17.95224 19.70218 19.42347 18.53385 18.06354 19.71269 20.90674\n",
              " [649] 15.69563 20.57596 19.18832 15.66497 18.98633 16.34438 17.56371 16.22859\n",
              " [657] 20.12348 20.68230 19.49812 20.27366 19.68414 16.46347 18.32591 20.09908\n",
              " [665] 18.15718 19.67647 14.80973 17.78654 20.06714 13.37973 19.30888 21.79961\n",
              " [673] 18.09723 18.40798 16.32452 18.13208 17.13288 19.06367 15.70662 19.11923\n",
              " [681] 18.48094 18.09446 18.84333 18.99475 19.62040 20.88518 16.25815 17.28254\n",
              " [689] 18.53731 20.28565 17.00245 20.24690 19.24641 17.87599 15.61808 16.12114\n",
              " [697] 19.49191 20.18891 15.85333 21.35606 16.26391 17.08199 16.24076 18.78038\n",
              " [705] 18.56574 18.65986 16.59301 16.24658 18.72019 18.01766 15.57315 16.55071\n",
              " [713] 18.22366 19.80356 18.83541 15.97801 18.37024 18.99513 17.07298 17.48767\n",
              " [721] 15.33632 14.95344 15.83541 18.00401 17.06220 19.23670 19.89220 21.36963\n",
              " [729] 19.65939 18.57328 17.36547 21.78984 18.36758 14.75240 15.96471 16.67159\n",
              " [737] 17.79546 18.33564 22.03318 18.18233 20.10220 18.72074 19.91645 15.46172\n",
              " [745] 17.94061 12.19187 19.34054 15.43543 18.43569 16.37892 17.86472 19.17436\n",
              " [753] 20.44876 19.26197 16.60554 15.48539 18.79373 18.28976 17.70533 20.22342\n",
              " [761] 17.80656 17.32664 19.89908 20.50641 20.02520 18.07836 19.35839 17.13244\n",
              " [769] 17.63328 17.84478 20.73301 21.94045 17.00766 19.37540 19.61480 15.63199\n",
              " [777] 18.68512 18.26011 19.19265 16.06302 19.81022 17.49215 19.42560 17.47208\n",
              " [785] 15.56039 17.46172 19.58993 18.71599 15.39734 18.36547 17.91438 15.70887\n",
              " [793] 16.66087 12.45510 16.62744 20.23450 17.01081 16.21311 16.59949 18.27502\n",
              " [801] 20.47859 15.43201 15.73644 17.25865 17.79022 16.85877 19.48253 16.36031\n",
              " [809] 18.90508 16.60141 20.13166 20.27202 15.79149 16.60565 20.45684 18.68308\n",
              " [817] 15.47667 19.06624 18.56102 21.29533 18.44304 16.77059 19.32452 18.86920\n",
              " [825] 17.46312 20.46673 17.67071 18.09905 17.05803 14.57065 18.19744 18.01379\n",
              " [833] 18.04389 18.17462 19.17878 15.48472 18.75213 18.26925 19.15050 20.47233\n",
              " [841] 17.76522 17.34261 14.87189 12.80556 19.26988 17.85440 15.85714 21.72013\n",
              " [849] 18.96855 20.54311 16.28367 17.31684 18.84851 16.43843 19.91241 15.29181\n",
              " [857] 17.62832 13.73887 15.37478 19.69745 19.76565 18.17220 21.24430 18.43718\n",
              " [865] 19.34416 18.90155 16.50268 17.56530 12.69275 17.40986 19.47586 18.31864\n",
              " [873] 16.51286 18.03759 20.36558 19.70851 19.14858 15.96921 15.93308 20.80493\n",
              " [881] 15.42875 18.44393 18.22357 16.03402 17.01222 19.14416 18.81325 16.63577\n",
              " [889] 17.79492 18.46701 17.05645 18.55232 17.44301 18.57570 22.04544 17.59043\n",
              " [897] 17.80141 20.47218 14.58288 16.64800 17.05043 18.12952 15.64090 19.84194\n",
              " [905] 18.62363 23.26056 17.54248 17.04836 18.66255 17.63425 18.35312 12.96785\n",
              " [913] 16.39166 16.34041 17.14899 19.20720 20.08753 16.64297 16.61227 17.01092\n",
              " [921] 19.11356 17.73284 15.01540 21.24054 16.23237 16.59631 17.37808 16.74874\n",
              " [929] 16.64280 17.61584 16.58549 18.04434 15.03005 20.70753 16.76781 16.10703\n",
              " [937] 18.30798 20.25038 12.43228 16.86880 18.97671 18.33846 20.41181 20.01308\n",
              " [945] 22.08957 19.29411 17.82653 14.11394 19.84339 19.99214 18.39436 13.53786\n",
              " [953] 16.41200 16.68294 21.63064 17.45645 13.99206 19.30618 14.14326 18.11131\n",
              " [961] 17.64160 19.08947 18.70261 16.01218 16.39913 16.58539 20.04326 17.47650\n",
              " [969] 18.53075 16.81849 19.22393 19.25315 15.28898 15.76752 18.30463 16.12146\n",
              " [977] 19.04379 19.52349 20.76279 18.90116 18.28082 17.73316 16.23960 18.34791\n",
              " [985] 21.68563 19.66603 20.29164 15.04481 17.16886 20.22672 20.51270 18.82897\n",
              " [993] 16.97563 15.43663 16.93167 14.69112 14.63712 16.26513 17.13948 19.34588"
            ],
            "text/latex": "\\begin{enumerate*}\n\\item 17.8370677510643\n\\item 19.3667031885259\n\\item 18.0034847146605\n\\item 16.1105116518626\n\\item 16.7806240743337\n\\item 18.438253033346\n\\item 16.0116242753228\n\\item 14.4924421513231\n\\item 16.714311660787\n\\item 17.8868049387615\n\\item 19.7049069133412\n\\item 19.3468050644886\n\\item 16.0353398865606\n\\item 15.3425166238895\n\\item 22.1822713136907\n\\item 16.490424539248\n\\item 21.0156582691483\n\\item 20.7483311423373\n\\item 17.6242672372101\n\\item 18.8173236999743\n\\item 16.5957684922102\n\\item 19.2224377580635\n\\item 16.4565928379614\n\\item 15.5006701137259\n\\item 22.9196444436435\n\\item 19.0503118265766\n\\item 16.336181587561\n\\item 18.6333159524654\n\\item 16.3144127813214\n\\item 16.9144006991174\n\\item 17.8075823315592\n\\item 18.2113037499646\n\\item 17.2725078304572\n\\item 22.5097634840548\n\\item 18.4693314129468\n\\item 15.8788277391182\n\\item 15.8829020958744\n\\item 20.6653828327854\n\\item 17.4005167277859\n\\item 17.1617611962676\n\\item 16.9284364246568\n\\item 14.9425623078769\n\\item 19.0326816987478\n\\item 14.9266568183977\n\\item 16.9350713648609\n\\item 19.634398180361\n\\item 17.3142944677737\n\\item 23.7769402935563\n\\item 18.3591174922204\n\\item 20.685462841211\n\\item 18.7113314803204\n\\item 18.11097265725\n\\item 17.9285306304642\n\\item 17.0564804711779\n\\item 20.5159096887008\n\\item 17.2669249645552\n\\item 13.9166599244801\n\\item 17.993211438881\n\\item 18.383855549575\n\\item 18.4572095200767\n\\item 13.4826897576935\n\\item 16.899599295362\n\\item 16.5270437687094\n\\item 15.8033464759563\n\\item 17.6413576940641\n\\item 20.61446649508\n\\item 19.3717846480059\n\\item 19.0849667926353\n\\item 15.1455217428819\n\\item 17.6354337394316\n\\item 21.2713194186846\n\\item 12.6068318891142\n\\item 18.2287781197237\n\\item 19.5590935106325\n\\item 21.6010992415207\n\\item 18.6385686855195\n\\item 16.5409132103987\n\\item 17.1912979343019\n\\item 16.7301830907242\n\\item 21.1593916162397\n\\item 15.9826780816308\n\\item 18.6679327067482\n\\item 15.6888863991677\n\\item 21.6198507875418\n\\item 20.8281341871475\n\\item 17.8412804945248\n\\item 16.5910641432194\n\\item 19.5705206830596\n\\item 16.6670406482195\n\\item 17.6905513620714\n\\item 14.7682280478122\n\\item 16.6599734413239\n\\item 17.3125768470097\n\\item 21.6485444391275\n\\item 12.6593133809648\n\\item 20.068372524482\n\\item 19.2095417963614\n\\item 18.4493624981374\n\\item 18.898774000048\n\\item 20.0981269032397\n\\item 19.5583452097793\n\\item 17.9048708105037\n\\item 21.4276531052889\n\\item 16.6120264511424\n\\item 17.4347603242977\n\\item 20.7482628785275\n\\item 19.3456179347446\n\\item 18.2287621461642\n\\item 18.8513038083017\n\\item 18.6831732961346\n\\item 15.4525886937308\n\\item 17.7341831782052\n\\item 17.7128399917975\n\\item 16.5363547609456\n\\item 19.243663108564\n\\item 15.0502349874442\n\\item 18.4661380216946\n\\item 15.1272676146314\n\\item 17.5786748475914\n\\item 20.6979625812805\n\\item 15.9992469936902\n\\item 13.4892757386418\n\\item 14.8102831279191\n\\item 17.6458859065885\n\\item 17.2307488882708\n\\item 18.764837074824\n\\item 19.9298112010564\n\\item 19.2972875454217\n\\item 17.5828639308617\n\\item 20.7959516508981\n\\item 18.6035675677163\n\\item 21.1301843625597\n\\item 18.8984490070032\n\\item 20.6338329132191\n\\item 18.8976696802867\n\\item 18.0422954751528\n\\item 17.2936428350777\n\\item 12.1090506149242\n\\item 20.182200098767\n\\item 17.6433360599612\n\\item 18.1968218632168\n\\item 17.2466741282978\n\\item 17.4056147470758\n\\item 17.3358854007517\n\\item 18.4340787463393\n\\item 16.537314098118\n\\item 17.4700053233921\n\\item 15.6469834476762\n\\item 16.008297758207\n\\item 18.1915617574502\n\\item 20.0892614385894\n\\item 21.3613432237394\n\\item 19.0836011041862\n\\item 23.5227082326635\n\\item 16.3270468041692\n\\item 20.4850918466727\n\\item 18.116103849174\n\\item 18.1669901990796\n\\item 18.9915822693524\n\\item 21.8826341215581\n\\item 19.1398592694157\n\\item 16.720233606542\n\\item 17.7882542875505\n\\item 19.4835343575788\n\\item 17.0549515861194\n\\item 15.8675604020328\n\\item 15.7318553150603\n\\item 18.9736191101612\n\\item 16.0764120243391\n\\item 18.6326208398781\n\\item 19.8020226130187\n\\item 22.2818558368098\n\\item 14.9471250124924\n\\item 16.098439667873\n\\item 17.2516518311807\n\\item 16.7825110670668\n\\item 15.65551708289\n\\item 19.4323262946734\n\\item 20.8914938391603\n\\item 18.1024519058358\n\\item 17.5771222484641\n\\item 17.6410913809882\n\\item 20.8757150468097\n\\item 21.2082474376869\n\\item 21.7727600810032\n\\item 16.135510495227\n\\item 20.5659080207795\n\\item 19.2620544822807\n\\item 18.4267573353233\n\\item 15.1334724699346\n\\item 19.0955430077517\n\\item 17.875893211059\n\\item 20.9023890194429\n\\item 19.05187438977\n\\item 18.7042943745972\n\\item 16.5142334863892\n\\item 19.9499494276896\n\\item 21.4164254148945\n\\item 17.8317278027703\n\\item 21.2382847174817\n\\item ⋯\n\\item 20.4785927206682\n\\item 15.4320136923804\n\\item 15.7364352067923\n\\item 17.2586516572127\n\\item 17.790219002166\n\\item 16.8587673485186\n\\item 19.4825306305319\n\\item 16.3603102670419\n\\item 18.9050828056377\n\\item 16.6014071890589\n\\item 20.131655004714\n\\item 20.2720193060816\n\\item 15.7914899470788\n\\item 16.6056455790388\n\\item 20.4568436355806\n\\item 18.6830796373855\n\\item 15.4766685029028\n\\item 19.0662361767325\n\\item 18.5610154400185\n\\item 21.2953314200095\n\\item 18.4430382349051\n\\item 16.7705899258908\n\\item 19.3245185681326\n\\item 18.8691950879563\n\\item 17.463115494125\n\\item 20.4667273576021\n\\item 17.6707131420132\n\\item 18.0990528699649\n\\item 17.0580338464776\n\\item 14.5706476260245\n\\item 18.1974420821315\n\\item 18.0137924549274\n\\item 18.0438922375343\n\\item 18.1746232931896\n\\item 19.1787809392149\n\\item 15.484722242677\n\\item 18.7521299733894\n\\item 18.269247566959\n\\item 19.1505006541332\n\\item 20.4723305397286\n\\item 17.7652202734876\n\\item 17.3426112851683\n\\item 14.8718919513624\n\\item 12.8055642892611\n\\item 19.2698827464055\n\\item 17.8544009478158\n\\item 15.8571386757641\n\\item 21.7201308701646\n\\item 18.9685536902882\n\\item 20.5431115782445\n\\item 16.2836670869738\n\\item 17.3168409292506\n\\item 18.8485108136748\n\\item 16.4384281917508\n\\item 19.9124107775688\n\\item 15.2918080754963\n\\item 17.6283163975236\n\\item 13.738871314268\n\\item 15.3747838817252\n\\item 19.6974462856558\n\\item 19.7656461900461\n\\item 18.1721989622518\n\\item 21.2443014198391\n\\item 18.437182171807\n\\item 19.3441598713034\n\\item 18.9015456290763\n\\item 16.5026756422302\n\\item 17.5652954076577\n\\item 12.6927524366107\n\\item 17.4098627205902\n\\item 19.4758606859538\n\\item 18.3186418959286\n\\item 16.5128598767211\n\\item 18.0375937115746\n\\item 20.3655840385446\n\\item 19.7085099513208\n\\item 19.1485805242278\n\\item 15.9692112045666\n\\item 15.9330839430905\n\\item 20.8049251071086\n\\item 15.4287476622778\n\\item 18.4439293132085\n\\item 18.2235726911766\n\\item 16.034019107072\n\\item 17.0122157709925\n\\item 19.1441633688032\n\\item 18.8132473574279\n\\item 16.6357665718364\n\\item 17.7949233381601\n\\item 18.4670144126399\n\\item 17.0564485970572\n\\item 18.5523156143519\n\\item 17.443012381646\n\\item 18.5757023963983\n\\item 22.0454432902734\n\\item 17.590427650912\n\\item 17.8014080087176\n\\item 20.4721788240906\n\\item 14.5828826706272\n\\item 16.6479956727161\n\\item 17.0504293092321\n\\item 18.1295230862287\n\\item 15.6409042082687\n\\item 19.8419403407351\n\\item 18.6236335955293\n\\item 23.2605622036173\n\\item 17.5424846888906\n\\item 17.048358970718\n\\item 18.6625465838668\n\\item 17.6342488404459\n\\item 18.3531199748427\n\\item 12.9678479985871\n\\item 16.3916608376119\n\\item 16.3404141684125\n\\item 17.148989830289\n\\item 19.2071972587804\n\\item 20.0875309532422\n\\item 16.6429720210194\n\\item 16.6122727165149\n\\item 17.0109244804975\n\\item 19.1135583091058\n\\item 17.7328414827983\n\\item 15.0153981942876\n\\item 21.2405369052463\n\\item 16.2323651831032\n\\item 16.5963127010206\n\\item 17.3780801377478\n\\item 16.7487381469195\n\\item 16.6427955184331\n\\item 17.6158363176579\n\\item 16.5854935559219\n\\item 18.0443386352256\n\\item 15.0300534949792\n\\item 20.7075310096759\n\\item 16.7678098779892\n\\item 16.1070322159681\n\\item 18.3079789730505\n\\item 20.2503763505237\n\\item 12.4322834732247\n\\item 16.8688042861027\n\\item 18.9767121090912\n\\item 18.3384555728666\n\\item 20.4118061645379\n\\item 20.0130761904307\n\\item 22.08957392267\n\\item 19.2941071960974\n\\item 17.826532158482\n\\item 14.1139436903496\n\\item 19.8433863613967\n\\item 19.992140231246\n\\item 18.3943598121013\n\\item 13.5378630318512\n\\item 16.4120024345685\n\\item 16.6829400535454\n\\item 21.6306442821158\n\\item 17.4564460112458\n\\item 13.9920559246669\n\\item 19.3061829398875\n\\item 14.143258518024\n\\item 18.1113068311305\n\\item 17.641596267237\n\\item 19.0894748379617\n\\item 18.7026070707161\n\\item 16.0121848420771\n\\item 16.3991260948737\n\\item 16.5853877204818\n\\item 20.0432563559522\n\\item 17.4764969525334\n\\item 18.5307495199559\n\\item 16.8184897095524\n\\item 19.2239291662178\n\\item 19.253147269243\n\\item 15.2889786393274\n\\item 15.7675183130251\n\\item 18.3046280368323\n\\item 16.1214628921695\n\\item 19.0437930406861\n\\item 19.5234929822928\n\\item 20.762789428717\n\\item 18.901157205227\n\\item 18.2808243921235\n\\item 17.7331559749779\n\\item 16.2395974880114\n\\item 18.3479115294649\n\\item 21.6856267783493\n\\item 19.6660252182361\n\\item 20.2916420659419\n\\item 15.0448067692017\n\\item 17.1688636497664\n\\item 20.2267159659709\n\\item 20.5126975262962\n\\item 18.828965235428\n\\item 16.9756285347885\n\\item 15.4366325008588\n\\item 16.9316737752367\n\\item 14.6911208817499\n\\item 14.6371173655043\n\\item 16.2651255692721\n\\item 17.1394833936226\n\\item 19.3458787873595\n\\end{enumerate*}\n",
            "text/markdown": "1. 17.8370677510643\n2. 19.3667031885259\n3. 18.0034847146605\n4. 16.1105116518626\n5. 16.7806240743337\n6. 18.438253033346\n7. 16.0116242753228\n8. 14.4924421513231\n9. 16.714311660787\n10. 17.8868049387615\n11. 19.7049069133412\n12. 19.3468050644886\n13. 16.0353398865606\n14. 15.3425166238895\n15. 22.1822713136907\n16. 16.490424539248\n17. 21.0156582691483\n18. 20.7483311423373\n19. 17.6242672372101\n20. 18.8173236999743\n21. 16.5957684922102\n22. 19.2224377580635\n23. 16.4565928379614\n24. 15.5006701137259\n25. 22.9196444436435\n26. 19.0503118265766\n27. 16.336181587561\n28. 18.6333159524654\n29. 16.3144127813214\n30. 16.9144006991174\n31. 17.8075823315592\n32. 18.2113037499646\n33. 17.2725078304572\n34. 22.5097634840548\n35. 18.4693314129468\n36. 15.8788277391182\n37. 15.8829020958744\n38. 20.6653828327854\n39. 17.4005167277859\n40. 17.1617611962676\n41. 16.9284364246568\n42. 14.9425623078769\n43. 19.0326816987478\n44. 14.9266568183977\n45. 16.9350713648609\n46. 19.634398180361\n47. 17.3142944677737\n48. 23.7769402935563\n49. 18.3591174922204\n50. 20.685462841211\n51. 18.7113314803204\n52. 18.11097265725\n53. 17.9285306304642\n54. 17.0564804711779\n55. 20.5159096887008\n56. 17.2669249645552\n57. 13.9166599244801\n58. 17.993211438881\n59. 18.383855549575\n60. 18.4572095200767\n61. 13.4826897576935\n62. 16.899599295362\n63. 16.5270437687094\n64. 15.8033464759563\n65. 17.6413576940641\n66. 20.61446649508\n67. 19.3717846480059\n68. 19.0849667926353\n69. 15.1455217428819\n70. 17.6354337394316\n71. 21.2713194186846\n72. 12.6068318891142\n73. 18.2287781197237\n74. 19.5590935106325\n75. 21.6010992415207\n76. 18.6385686855195\n77. 16.5409132103987\n78. 17.1912979343019\n79. 16.7301830907242\n80. 21.1593916162397\n81. 15.9826780816308\n82. 18.6679327067482\n83. 15.6888863991677\n84. 21.6198507875418\n85. 20.8281341871475\n86. 17.8412804945248\n87. 16.5910641432194\n88. 19.5705206830596\n89. 16.6670406482195\n90. 17.6905513620714\n91. 14.7682280478122\n92. 16.6599734413239\n93. 17.3125768470097\n94. 21.6485444391275\n95. 12.6593133809648\n96. 20.068372524482\n97. 19.2095417963614\n98. 18.4493624981374\n99. 18.898774000048\n100. 20.0981269032397\n101. 19.5583452097793\n102. 17.9048708105037\n103. 21.4276531052889\n104. 16.6120264511424\n105. 17.4347603242977\n106. 20.7482628785275\n107. 19.3456179347446\n108. 18.2287621461642\n109. 18.8513038083017\n110. 18.6831732961346\n111. 15.4525886937308\n112. 17.7341831782052\n113. 17.7128399917975\n114. 16.5363547609456\n115. 19.243663108564\n116. 15.0502349874442\n117. 18.4661380216946\n118. 15.1272676146314\n119. 17.5786748475914\n120. 20.6979625812805\n121. 15.9992469936902\n122. 13.4892757386418\n123. 14.8102831279191\n124. 17.6458859065885\n125. 17.2307488882708\n126. 18.764837074824\n127. 19.9298112010564\n128. 19.2972875454217\n129. 17.5828639308617\n130. 20.7959516508981\n131. 18.6035675677163\n132. 21.1301843625597\n133. 18.8984490070032\n134. 20.6338329132191\n135. 18.8976696802867\n136. 18.0422954751528\n137. 17.2936428350777\n138. 12.1090506149242\n139. 20.182200098767\n140. 17.6433360599612\n141. 18.1968218632168\n142. 17.2466741282978\n143. 17.4056147470758\n144. 17.3358854007517\n145. 18.4340787463393\n146. 16.537314098118\n147. 17.4700053233921\n148. 15.6469834476762\n149. 16.008297758207\n150. 18.1915617574502\n151. 20.0892614385894\n152. 21.3613432237394\n153. 19.0836011041862\n154. 23.5227082326635\n155. 16.3270468041692\n156. 20.4850918466727\n157. 18.116103849174\n158. 18.1669901990796\n159. 18.9915822693524\n160. 21.8826341215581\n161. 19.1398592694157\n162. 16.720233606542\n163. 17.7882542875505\n164. 19.4835343575788\n165. 17.0549515861194\n166. 15.8675604020328\n167. 15.7318553150603\n168. 18.9736191101612\n169. 16.0764120243391\n170. 18.6326208398781\n171. 19.8020226130187\n172. 22.2818558368098\n173. 14.9471250124924\n174. 16.098439667873\n175. 17.2516518311807\n176. 16.7825110670668\n177. 15.65551708289\n178. 19.4323262946734\n179. 20.8914938391603\n180. 18.1024519058358\n181. 17.5771222484641\n182. 17.6410913809882\n183. 20.8757150468097\n184. 21.2082474376869\n185. 21.7727600810032\n186. 16.135510495227\n187. 20.5659080207795\n188. 19.2620544822807\n189. 18.4267573353233\n190. 15.1334724699346\n191. 19.0955430077517\n192. 17.875893211059\n193. 20.9023890194429\n194. 19.05187438977\n195. 18.7042943745972\n196. 16.5142334863892\n197. 19.9499494276896\n198. 21.4164254148945\n199. 17.8317278027703\n200. 21.2382847174817\n201. ⋯\n202. 20.4785927206682\n203. 15.4320136923804\n204. 15.7364352067923\n205. 17.2586516572127\n206. 17.790219002166\n207. 16.8587673485186\n208. 19.4825306305319\n209. 16.3603102670419\n210. 18.9050828056377\n211. 16.6014071890589\n212. 20.131655004714\n213. 20.2720193060816\n214. 15.7914899470788\n215. 16.6056455790388\n216. 20.4568436355806\n217. 18.6830796373855\n218. 15.4766685029028\n219. 19.0662361767325\n220. 18.5610154400185\n221. 21.2953314200095\n222. 18.4430382349051\n223. 16.7705899258908\n224. 19.3245185681326\n225. 18.8691950879563\n226. 17.463115494125\n227. 20.4667273576021\n228. 17.6707131420132\n229. 18.0990528699649\n230. 17.0580338464776\n231. 14.5706476260245\n232. 18.1974420821315\n233. 18.0137924549274\n234. 18.0438922375343\n235. 18.1746232931896\n236. 19.1787809392149\n237. 15.484722242677\n238. 18.7521299733894\n239. 18.269247566959\n240. 19.1505006541332\n241. 20.4723305397286\n242. 17.7652202734876\n243. 17.3426112851683\n244. 14.8718919513624\n245. 12.8055642892611\n246. 19.2698827464055\n247. 17.8544009478158\n248. 15.8571386757641\n249. 21.7201308701646\n250. 18.9685536902882\n251. 20.5431115782445\n252. 16.2836670869738\n253. 17.3168409292506\n254. 18.8485108136748\n255. 16.4384281917508\n256. 19.9124107775688\n257. 15.2918080754963\n258. 17.6283163975236\n259. 13.738871314268\n260. 15.3747838817252\n261. 19.6974462856558\n262. 19.7656461900461\n263. 18.1721989622518\n264. 21.2443014198391\n265. 18.437182171807\n266. 19.3441598713034\n267. 18.9015456290763\n268. 16.5026756422302\n269. 17.5652954076577\n270. 12.6927524366107\n271. 17.4098627205902\n272. 19.4758606859538\n273. 18.3186418959286\n274. 16.5128598767211\n275. 18.0375937115746\n276. 20.3655840385446\n277. 19.7085099513208\n278. 19.1485805242278\n279. 15.9692112045666\n280. 15.9330839430905\n281. 20.8049251071086\n282. 15.4287476622778\n283. 18.4439293132085\n284. 18.2235726911766\n285. 16.034019107072\n286. 17.0122157709925\n287. 19.1441633688032\n288. 18.8132473574279\n289. 16.6357665718364\n290. 17.7949233381601\n291. 18.4670144126399\n292. 17.0564485970572\n293. 18.5523156143519\n294. 17.443012381646\n295. 18.5757023963983\n296. 22.0454432902734\n297. 17.590427650912\n298. 17.8014080087176\n299. 20.4721788240906\n300. 14.5828826706272\n301. 16.6479956727161\n302. 17.0504293092321\n303. 18.1295230862287\n304. 15.6409042082687\n305. 19.8419403407351\n306. 18.6236335955293\n307. 23.2605622036173\n308. 17.5424846888906\n309. 17.048358970718\n310. 18.6625465838668\n311. 17.6342488404459\n312. 18.3531199748427\n313. 12.9678479985871\n314. 16.3916608376119\n315. 16.3404141684125\n316. 17.148989830289\n317. 19.2071972587804\n318. 20.0875309532422\n319. 16.6429720210194\n320. 16.6122727165149\n321. 17.0109244804975\n322. 19.1135583091058\n323. 17.7328414827983\n324. 15.0153981942876\n325. 21.2405369052463\n326. 16.2323651831032\n327. 16.5963127010206\n328. 17.3780801377478\n329. 16.7487381469195\n330. 16.6427955184331\n331. 17.6158363176579\n332. 16.5854935559219\n333. 18.0443386352256\n334. 15.0300534949792\n335. 20.7075310096759\n336. 16.7678098779892\n337. 16.1070322159681\n338. 18.3079789730505\n339. 20.2503763505237\n340. 12.4322834732247\n341. 16.8688042861027\n342. 18.9767121090912\n343. 18.3384555728666\n344. 20.4118061645379\n345. 20.0130761904307\n346. 22.08957392267\n347. 19.2941071960974\n348. 17.826532158482\n349. 14.1139436903496\n350. 19.8433863613967\n351. 19.992140231246\n352. 18.3943598121013\n353. 13.5378630318512\n354. 16.4120024345685\n355. 16.6829400535454\n356. 21.6306442821158\n357. 17.4564460112458\n358. 13.9920559246669\n359. 19.3061829398875\n360. 14.143258518024\n361. 18.1113068311305\n362. 17.641596267237\n363. 19.0894748379617\n364. 18.7026070707161\n365. 16.0121848420771\n366. 16.3991260948737\n367. 16.5853877204818\n368. 20.0432563559522\n369. 17.4764969525334\n370. 18.5307495199559\n371. 16.8184897095524\n372. 19.2239291662178\n373. 19.253147269243\n374. 15.2889786393274\n375. 15.7675183130251\n376. 18.3046280368323\n377. 16.1214628921695\n378. 19.0437930406861\n379. 19.5234929822928\n380. 20.762789428717\n381. 18.901157205227\n382. 18.2808243921235\n383. 17.7331559749779\n384. 16.2395974880114\n385. 18.3479115294649\n386. 21.6856267783493\n387. 19.6660252182361\n388. 20.2916420659419\n389. 15.0448067692017\n390. 17.1688636497664\n391. 20.2267159659709\n392. 20.5126975262962\n393. 18.828965235428\n394. 16.9756285347885\n395. 15.4366325008588\n396. 16.9316737752367\n397. 14.6911208817499\n398. 14.6371173655043\n399. 16.2651255692721\n400. 17.1394833936226\n401. 19.3458787873595\n\n\n",
            "text/html": [
              "<style>\n",
              ".list-inline {list-style: none; margin:0; padding: 0}\n",
              ".list-inline>li {display: inline-block}\n",
              ".list-inline>li:not(:last-child)::after {content: \"\\00b7\"; padding: 0 .5ex}\n",
              "</style>\n",
              "<ol class=list-inline><li>17.8370677510643</li><li>19.3667031885259</li><li>18.0034847146605</li><li>16.1105116518626</li><li>16.7806240743337</li><li>18.438253033346</li><li>16.0116242753228</li><li>14.4924421513231</li><li>16.714311660787</li><li>17.8868049387615</li><li>19.7049069133412</li><li>19.3468050644886</li><li>16.0353398865606</li><li>15.3425166238895</li><li>22.1822713136907</li><li>16.490424539248</li><li>21.0156582691483</li><li>20.7483311423373</li><li>17.6242672372101</li><li>18.8173236999743</li><li>16.5957684922102</li><li>19.2224377580635</li><li>16.4565928379614</li><li>15.5006701137259</li><li>22.9196444436435</li><li>19.0503118265766</li><li>16.336181587561</li><li>18.6333159524654</li><li>16.3144127813214</li><li>16.9144006991174</li><li>17.8075823315592</li><li>18.2113037499646</li><li>17.2725078304572</li><li>22.5097634840548</li><li>18.4693314129468</li><li>15.8788277391182</li><li>15.8829020958744</li><li>20.6653828327854</li><li>17.4005167277859</li><li>17.1617611962676</li><li>16.9284364246568</li><li>14.9425623078769</li><li>19.0326816987478</li><li>14.9266568183977</li><li>16.9350713648609</li><li>19.634398180361</li><li>17.3142944677737</li><li>23.7769402935563</li><li>18.3591174922204</li><li>20.685462841211</li><li>18.7113314803204</li><li>18.11097265725</li><li>17.9285306304642</li><li>17.0564804711779</li><li>20.5159096887008</li><li>17.2669249645552</li><li>13.9166599244801</li><li>17.993211438881</li><li>18.383855549575</li><li>18.4572095200767</li><li>13.4826897576935</li><li>16.899599295362</li><li>16.5270437687094</li><li>15.8033464759563</li><li>17.6413576940641</li><li>20.61446649508</li><li>19.3717846480059</li><li>19.0849667926353</li><li>15.1455217428819</li><li>17.6354337394316</li><li>21.2713194186846</li><li>12.6068318891142</li><li>18.2287781197237</li><li>19.5590935106325</li><li>21.6010992415207</li><li>18.6385686855195</li><li>16.5409132103987</li><li>17.1912979343019</li><li>16.7301830907242</li><li>21.1593916162397</li><li>15.9826780816308</li><li>18.6679327067482</li><li>15.6888863991677</li><li>21.6198507875418</li><li>20.8281341871475</li><li>17.8412804945248</li><li>16.5910641432194</li><li>19.5705206830596</li><li>16.6670406482195</li><li>17.6905513620714</li><li>14.7682280478122</li><li>16.6599734413239</li><li>17.3125768470097</li><li>21.6485444391275</li><li>12.6593133809648</li><li>20.068372524482</li><li>19.2095417963614</li><li>18.4493624981374</li><li>18.898774000048</li><li>20.0981269032397</li><li>19.5583452097793</li><li>17.9048708105037</li><li>21.4276531052889</li><li>16.6120264511424</li><li>17.4347603242977</li><li>20.7482628785275</li><li>19.3456179347446</li><li>18.2287621461642</li><li>18.8513038083017</li><li>18.6831732961346</li><li>15.4525886937308</li><li>17.7341831782052</li><li>17.7128399917975</li><li>16.5363547609456</li><li>19.243663108564</li><li>15.0502349874442</li><li>18.4661380216946</li><li>15.1272676146314</li><li>17.5786748475914</li><li>20.6979625812805</li><li>15.9992469936902</li><li>13.4892757386418</li><li>14.8102831279191</li><li>17.6458859065885</li><li>17.2307488882708</li><li>18.764837074824</li><li>19.9298112010564</li><li>19.2972875454217</li><li>17.5828639308617</li><li>20.7959516508981</li><li>18.6035675677163</li><li>21.1301843625597</li><li>18.8984490070032</li><li>20.6338329132191</li><li>18.8976696802867</li><li>18.0422954751528</li><li>17.2936428350777</li><li>12.1090506149242</li><li>20.182200098767</li><li>17.6433360599612</li><li>18.1968218632168</li><li>17.2466741282978</li><li>17.4056147470758</li><li>17.3358854007517</li><li>18.4340787463393</li><li>16.537314098118</li><li>17.4700053233921</li><li>15.6469834476762</li><li>16.008297758207</li><li>18.1915617574502</li><li>20.0892614385894</li><li>21.3613432237394</li><li>19.0836011041862</li><li>23.5227082326635</li><li>16.3270468041692</li><li>20.4850918466727</li><li>18.116103849174</li><li>18.1669901990796</li><li>18.9915822693524</li><li>21.8826341215581</li><li>19.1398592694157</li><li>16.720233606542</li><li>17.7882542875505</li><li>19.4835343575788</li><li>17.0549515861194</li><li>15.8675604020328</li><li>15.7318553150603</li><li>18.9736191101612</li><li>16.0764120243391</li><li>18.6326208398781</li><li>19.8020226130187</li><li>22.2818558368098</li><li>14.9471250124924</li><li>16.098439667873</li><li>17.2516518311807</li><li>16.7825110670668</li><li>15.65551708289</li><li>19.4323262946734</li><li>20.8914938391603</li><li>18.1024519058358</li><li>17.5771222484641</li><li>17.6410913809882</li><li>20.8757150468097</li><li>21.2082474376869</li><li>21.7727600810032</li><li>16.135510495227</li><li>20.5659080207795</li><li>19.2620544822807</li><li>18.4267573353233</li><li>15.1334724699346</li><li>19.0955430077517</li><li>17.875893211059</li><li>20.9023890194429</li><li>19.05187438977</li><li>18.7042943745972</li><li>16.5142334863892</li><li>19.9499494276896</li><li>21.4164254148945</li><li>17.8317278027703</li><li>21.2382847174817</li><li>⋯</li><li>20.4785927206682</li><li>15.4320136923804</li><li>15.7364352067923</li><li>17.2586516572127</li><li>17.790219002166</li><li>16.8587673485186</li><li>19.4825306305319</li><li>16.3603102670419</li><li>18.9050828056377</li><li>16.6014071890589</li><li>20.131655004714</li><li>20.2720193060816</li><li>15.7914899470788</li><li>16.6056455790388</li><li>20.4568436355806</li><li>18.6830796373855</li><li>15.4766685029028</li><li>19.0662361767325</li><li>18.5610154400185</li><li>21.2953314200095</li><li>18.4430382349051</li><li>16.7705899258908</li><li>19.3245185681326</li><li>18.8691950879563</li><li>17.463115494125</li><li>20.4667273576021</li><li>17.6707131420132</li><li>18.0990528699649</li><li>17.0580338464776</li><li>14.5706476260245</li><li>18.1974420821315</li><li>18.0137924549274</li><li>18.0438922375343</li><li>18.1746232931896</li><li>19.1787809392149</li><li>15.484722242677</li><li>18.7521299733894</li><li>18.269247566959</li><li>19.1505006541332</li><li>20.4723305397286</li><li>17.7652202734876</li><li>17.3426112851683</li><li>14.8718919513624</li><li>12.8055642892611</li><li>19.2698827464055</li><li>17.8544009478158</li><li>15.8571386757641</li><li>21.7201308701646</li><li>18.9685536902882</li><li>20.5431115782445</li><li>16.2836670869738</li><li>17.3168409292506</li><li>18.8485108136748</li><li>16.4384281917508</li><li>19.9124107775688</li><li>15.2918080754963</li><li>17.6283163975236</li><li>13.738871314268</li><li>15.3747838817252</li><li>19.6974462856558</li><li>19.7656461900461</li><li>18.1721989622518</li><li>21.2443014198391</li><li>18.437182171807</li><li>19.3441598713034</li><li>18.9015456290763</li><li>16.5026756422302</li><li>17.5652954076577</li><li>12.6927524366107</li><li>17.4098627205902</li><li>19.4758606859538</li><li>18.3186418959286</li><li>16.5128598767211</li><li>18.0375937115746</li><li>20.3655840385446</li><li>19.7085099513208</li><li>19.1485805242278</li><li>15.9692112045666</li><li>15.9330839430905</li><li>20.8049251071086</li><li>15.4287476622778</li><li>18.4439293132085</li><li>18.2235726911766</li><li>16.034019107072</li><li>17.0122157709925</li><li>19.1441633688032</li><li>18.8132473574279</li><li>16.6357665718364</li><li>17.7949233381601</li><li>18.4670144126399</li><li>17.0564485970572</li><li>18.5523156143519</li><li>17.443012381646</li><li>18.5757023963983</li><li>22.0454432902734</li><li>17.590427650912</li><li>17.8014080087176</li><li>20.4721788240906</li><li>14.5828826706272</li><li>16.6479956727161</li><li>17.0504293092321</li><li>18.1295230862287</li><li>15.6409042082687</li><li>19.8419403407351</li><li>18.6236335955293</li><li>23.2605622036173</li><li>17.5424846888906</li><li>17.048358970718</li><li>18.6625465838668</li><li>17.6342488404459</li><li>18.3531199748427</li><li>12.9678479985871</li><li>16.3916608376119</li><li>16.3404141684125</li><li>17.148989830289</li><li>19.2071972587804</li><li>20.0875309532422</li><li>16.6429720210194</li><li>16.6122727165149</li><li>17.0109244804975</li><li>19.1135583091058</li><li>17.7328414827983</li><li>15.0153981942876</li><li>21.2405369052463</li><li>16.2323651831032</li><li>16.5963127010206</li><li>17.3780801377478</li><li>16.7487381469195</li><li>16.6427955184331</li><li>17.6158363176579</li><li>16.5854935559219</li><li>18.0443386352256</li><li>15.0300534949792</li><li>20.7075310096759</li><li>16.7678098779892</li><li>16.1070322159681</li><li>18.3079789730505</li><li>20.2503763505237</li><li>12.4322834732247</li><li>16.8688042861027</li><li>18.9767121090912</li><li>18.3384555728666</li><li>20.4118061645379</li><li>20.0130761904307</li><li>22.08957392267</li><li>19.2941071960974</li><li>17.826532158482</li><li>14.1139436903496</li><li>19.8433863613967</li><li>19.992140231246</li><li>18.3943598121013</li><li>13.5378630318512</li><li>16.4120024345685</li><li>16.6829400535454</li><li>21.6306442821158</li><li>17.4564460112458</li><li>13.9920559246669</li><li>19.3061829398875</li><li>14.143258518024</li><li>18.1113068311305</li><li>17.641596267237</li><li>19.0894748379617</li><li>18.7026070707161</li><li>16.0121848420771</li><li>16.3991260948737</li><li>16.5853877204818</li><li>20.0432563559522</li><li>17.4764969525334</li><li>18.5307495199559</li><li>16.8184897095524</li><li>19.2239291662178</li><li>19.253147269243</li><li>15.2889786393274</li><li>15.7675183130251</li><li>18.3046280368323</li><li>16.1214628921695</li><li>19.0437930406861</li><li>19.5234929822928</li><li>20.762789428717</li><li>18.901157205227</li><li>18.2808243921235</li><li>17.7331559749779</li><li>16.2395974880114</li><li>18.3479115294649</li><li>21.6856267783493</li><li>19.6660252182361</li><li>20.2916420659419</li><li>15.0448067692017</li><li>17.1688636497664</li><li>20.2267159659709</li><li>20.5126975262962</li><li>18.828965235428</li><li>16.9756285347885</li><li>15.4366325008588</li><li>16.9316737752367</li><li>14.6911208817499</li><li>14.6371173655043</li><li>16.2651255692721</li><li>17.1394833936226</li><li>19.3458787873595</li></ol>\n"
            ]
          },
          "metadata": {
            "tags": []
          }
        }
      ]
    },
    {
      "cell_type": "code",
      "metadata": {
        "id": "z2JZQuHryEoZ",
        "outputId": "e31d1168-f41a-4622-af45-a375a67af5de",
        "colab": {
          "base_uri": "https://localhost:8080/",
          "height": 857
        }
      },
      "source": [
        "hist(muestra_unif)\n",
        "hist(muestra_normal)"
      ],
      "execution_count": 29,
      "outputs": [
        {
          "output_type": "display_data",
          "data": {
            "image/png": "[encoded data removed]",
            "text/plain": [
              "Plot with title “Histogram of muestra_unif”"
            ]
          },
          "metadata": {
            "tags": [],
            "image/png": {
              "width": 420,
              "height": 420
            }
          }
        },
        {
          "output_type": "display_data",
          "data": {
            "image/png": "[encoded data removed]",
            "text/plain": [
              "Plot with title “Histogram of muestra_normal”"
            ]
          },
          "metadata": {
            "tags": [],
            "image/png": {
              "width": 420,
              "height": 420
            }
          }
        }
      ]
    },
    {
      "cell_type": "markdown",
      "metadata": {
        "id": "TlnEINwUIgwP"
      },
      "source": [
        "### 3.2 Funciones (primera parte) \n",
        "\n",
        "#### 3.2.1 Funciones vectorizadas y operaciones con vectores\n",
        "\n",
        "R es un lenguaje funcional, en el sentido de que prácticamente cada llamada a R corresponde a una función que puede (o no) recibir argumentos de entrada.\n",
        "Una de las ventajas es que existe una amplia, muy amplia,... verdaderamente amplia!, variedad de funciones disponibles, tanto en las librerías que vienen con la instalación por defecto como las librerías disponibles en CRAN o en toda la comunidad R.\n",
        "\n",
        "En R, una función $f$ se dice vectorizada si dado un vector $\\mathbf{x}=(x_1,x_2,\\dots,x_n)$, se tiene que $f(\\mathbf{x})=(f(x_1),f(x_2),\\dots,f(x_n))$.\n",
        "Esto hace que, por ejemplo, la aritmética de vectores se más sencilla de implentar y con un menor tiempo de cómputo . Gran parte de las funciones disponibles en la librerías (bibliotecas o *packages*) de R corresponden a funciones vectorizadas.\n",
        "A modo de ejemplo, a cotinuación se muestran algunas funciones (de las más básicas) aritméticas, y funciones para trabajar con texto:\n",
        "    \n",
        "    +,-,*,/\n",
        "    abs()\n",
        "    sqrt()\n",
        "    cos()\n",
        "    sin()\n",
        "    tan()\n",
        "    nchar()\n",
        "    susbtr()\n",
        "    grepl()\n",
        "    gsub()\n",
        "    \n",
        "   \n",
        "   \n",
        "   "
      ]
    },
    {
      "cell_type": "code",
      "metadata": {
        "id": "tO3oB1bnIgwP",
        "outputId": "da02e424-b041-4ce6-85ee-1b22e1a8f6dd",
        "colab": {
          "base_uri": "https://localhost:8080/",
          "height": 51
        }
      },
      "source": [
        "# 3.2. Funciones (primera parte) ------------\n",
        "# 3.2.1 Funciones vectorizadas \n",
        "# Ejemplos básicos de funciones(vectorizadas)\n",
        "ej3 <- 10:20\n",
        "ej3\n",
        "sin(ej3)"
      ],
      "execution_count": 33,
      "outputs": [
        {
          "output_type": "display_data",
          "data": {
            "text/plain": [
              " [1] 10 11 12 13 14 15 16 17 18 19 20"
            ],
            "text/latex": "\\begin{enumerate*}\n\\item 10\n\\item 11\n\\item 12\n\\item 13\n\\item 14\n\\item 15\n\\item 16\n\\item 17\n\\item 18\n\\item 19\n\\item 20\n\\end{enumerate*}\n",
            "text/markdown": "1. 10\n2. 11\n3. 12\n4. 13\n5. 14\n6. 15\n7. 16\n8. 17\n9. 18\n10. 19\n11. 20\n\n\n",
            "text/html": [
              "<style>\n",
              ".list-inline {list-style: none; margin:0; padding: 0}\n",
              ".list-inline>li {display: inline-block}\n",
              ".list-inline>li:not(:last-child)::after {content: \"\\00b7\"; padding: 0 .5ex}\n",
              "</style>\n",
              "<ol class=list-inline><li>10</li><li>11</li><li>12</li><li>13</li><li>14</li><li>15</li><li>16</li><li>17</li><li>18</li><li>19</li><li>20</li></ol>\n"
            ]
          },
          "metadata": {
            "tags": []
          }
        },
        {
          "output_type": "display_data",
          "data": {
            "text/plain": [
              " [1] -0.5440211 -0.9999902 -0.5365729  0.4201670  0.9906074  0.6502878\n",
              " [7] -0.2879033 -0.9613975 -0.7509872  0.1498772  0.9129453"
            ],
            "text/latex": "\\begin{enumerate*}\n\\item -0.54402111088937\n\\item -0.999990206550703\n\\item -0.536572918000435\n\\item 0.420167036826641\n\\item 0.99060735569487\n\\item 0.650287840157117\n\\item -0.287903316665065\n\\item -0.961397491879557\n\\item -0.750987246771676\n\\item 0.149877209662952\n\\item 0.912945250727628\n\\end{enumerate*}\n",
            "text/markdown": "1. -0.54402111088937\n2. -0.999990206550703\n3. -0.536572918000435\n4. 0.420167036826641\n5. 0.99060735569487\n6. 0.650287840157117\n7. -0.287903316665065\n8. -0.961397491879557\n9. -0.750987246771676\n10. 0.149877209662952\n11. 0.912945250727628\n\n\n",
            "text/html": [
              "<style>\n",
              ".list-inline {list-style: none; margin:0; padding: 0}\n",
              ".list-inline>li {display: inline-block}\n",
              ".list-inline>li:not(:last-child)::after {content: \"\\00b7\"; padding: 0 .5ex}\n",
              "</style>\n",
              "<ol class=list-inline><li>-0.54402111088937</li><li>-0.999990206550703</li><li>-0.536572918000435</li><li>0.420167036826641</li><li>0.99060735569487</li><li>0.650287840157117</li><li>-0.287903316665065</li><li>-0.961397491879557</li><li>-0.750987246771676</li><li>0.149877209662952</li><li>0.912945250727628</li></ol>\n"
            ]
          },
          "metadata": {
            "tags": []
          }
        }
      ]
    },
    {
      "cell_type": "code",
      "metadata": {
        "id": "Z8L-KeGnIgwS"
      },
      "source": [
        ""
      ],
      "execution_count": null,
      "outputs": []
    },
    {
      "cell_type": "code",
      "metadata": {
        "id": "NivskO3jIgwT",
        "outputId": "a97437a8-765c-49bc-b0fc-3052dd3febdd",
        "colab": {
          "base_uri": "https://localhost:8080/",
          "height": 51
        }
      },
      "source": [
        "# funciones para manipular texto\n",
        " #cantidad de caracteres\n",
        "palabras <- c(\"hola\", \"miguel\")\n",
        "\n",
        "nchar(palabras)\n",
        "\n"
      ],
      "execution_count": 39,
      "outputs": [
        {
          "output_type": "display_data",
          "data": {
            "text/plain": [
              "[1] 4 6"
            ],
            "text/latex": "\\begin{enumerate*}\n\\item 4\n\\item 6\n\\end{enumerate*}\n",
            "text/markdown": "1. 4\n2. 6\n\n\n",
            "text/html": [
              "<style>\n",
              ".list-inline {list-style: none; margin:0; padding: 0}\n",
              ".list-inline>li {display: inline-block}\n",
              ".list-inline>li:not(:last-child)::after {content: \"\\00b7\"; padding: 0 .5ex}\n",
              "</style>\n",
              "<ol class=list-inline><li>4</li><li>6</li></ol>\n"
            ]
          },
          "metadata": {
            "tags": []
          }
        },
        {
          "output_type": "display_data",
          "data": {
            "text/plain": [
              "[1] \"ola\" \"igu\""
            ],
            "text/latex": "\\begin{enumerate*}\n\\item 'ola'\n\\item 'igu'\n\\end{enumerate*}\n",
            "text/markdown": "1. 'ola'\n2. 'igu'\n\n\n",
            "text/html": [
              "<style>\n",
              ".list-inline {list-style: none; margin:0; padding: 0}\n",
              ".list-inline>li {display: inline-block}\n",
              ".list-inline>li:not(:last-child)::after {content: \"\\00b7\"; padding: 0 .5ex}\n",
              "</style>\n",
              "<ol class=list-inline><li>'ola'</li><li>'igu'</li></ol>\n"
            ]
          },
          "metadata": {
            "tags": []
          }
        }
      ]
    },
    {
      "cell_type": "code",
      "metadata": {
        "id": "tA55foL1IgwX"
      },
      "source": [
        "# substring substr()\n",
        "substr(palabras, 2,4)\n"
      ],
      "execution_count": null,
      "outputs": []
    },
    {
      "cell_type": "code",
      "metadata": {
        "id": "vjRwdUbiIgwY",
        "outputId": "249a9c89-1b8d-4c6f-96a9-e473b8af7904",
        "colab": {
          "base_uri": "https://localhost:8080/",
          "height": 68
        }
      },
      "source": [
        "# grepl() evlaúa si un  caracter está contenido en otro. (LIKE)\n",
        "#?grepl()\n",
        "grepl(\"ala\", c(\"palabra\", \"perro\", \"malas\" ))\n",
        "grepl(\"alo\", \"palabra\")\n",
        "\n",
        "\n",
        "\n",
        "#gsub()\n",
        "#?gsub\n",
        "\n",
        "# si reemplazamos en un vector de palabras\n",
        "\n"
      ],
      "execution_count": 43,
      "outputs": [
        {
          "output_type": "display_data",
          "data": {
            "text/plain": [
              "[1]  TRUE FALSE  TRUE"
            ],
            "text/latex": "\\begin{enumerate*}\n\\item TRUE\n\\item FALSE\n\\item TRUE\n\\end{enumerate*}\n",
            "text/markdown": "1. TRUE\n2. FALSE\n3. TRUE\n\n\n",
            "text/html": [
              "<style>\n",
              ".list-inline {list-style: none; margin:0; padding: 0}\n",
              ".list-inline>li {display: inline-block}\n",
              ".list-inline>li:not(:last-child)::after {content: \"\\00b7\"; padding: 0 .5ex}\n",
              "</style>\n",
              "<ol class=list-inline><li>TRUE</li><li>FALSE</li><li>TRUE</li></ol>\n"
            ]
          },
          "metadata": {
            "tags": []
          }
        },
        {
          "output_type": "display_data",
          "data": {
            "text/plain": [
              "[1] FALSE"
            ],
            "text/latex": "FALSE",
            "text/markdown": "FALSE",
            "text/html": [
              "FALSE"
            ]
          },
          "metadata": {
            "tags": []
          }
        },
        {
          "output_type": "display_data",
          "data": {
            "text/plain": [
              "[1]  TRUE FALSE FALSE"
            ],
            "text/latex": "\\begin{enumerate*}\n\\item TRUE\n\\item FALSE\n\\item FALSE\n\\end{enumerate*}\n",
            "text/markdown": "1. TRUE\n2. FALSE\n3. FALSE\n\n\n",
            "text/html": [
              "<style>\n",
              ".list-inline {list-style: none; margin:0; padding: 0}\n",
              ".list-inline>li {display: inline-block}\n",
              ".list-inline>li:not(:last-child)::after {content: \"\\00b7\"; padding: 0 .5ex}\n",
              "</style>\n",
              "<ol class=list-inline><li>TRUE</li><li>FALSE</li><li>FALSE</li></ol>\n"
            ]
          },
          "metadata": {
            "tags": []
          }
        }
      ]
    },
    {
      "cell_type": "code",
      "metadata": {
        "id": "PG2E4XSR1Bnu"
      },
      "source": [
        "startsWith(c(\"palabra\", \"perro\", \"malas\" ), \"pa\") # Otro ejemplo, para evaluar si una palabra (vector de..) comienza con un  determinado prefijo."
      ],
      "execution_count": null,
      "outputs": []
    },
    {
      "cell_type": "code",
      "metadata": {
        "id": "0j9kKUbzIgwZ"
      },
      "source": [
        "#gsub() reemplaza caracteres dentro de un texto\n",
        "#https://www.tidytextmining.com/\n"
      ],
      "execution_count": null,
      "outputs": []
    }
  ]
}