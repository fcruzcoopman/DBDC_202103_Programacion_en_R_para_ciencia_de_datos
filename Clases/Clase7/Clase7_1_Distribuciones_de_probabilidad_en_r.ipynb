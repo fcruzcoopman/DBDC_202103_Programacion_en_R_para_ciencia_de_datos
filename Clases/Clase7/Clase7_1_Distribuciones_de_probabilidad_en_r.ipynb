{
  "nbformat": 4,
  "nbformat_minor": 0,
  "metadata": {
    "colab": {
      "name": "Clase7_1_Distribuciones_de_probabilidad_en_r.ipynb",
      "provenance": [],
      "include_colab_link": true
    },
    "kernelspec": {
      "name": "ir",
      "display_name": "R"
    }
  },
  "cells": [
    {
      "cell_type": "markdown",
      "metadata": {
        "id": "view-in-github",
        "colab_type": "text"
      },
      "source": [
        "<a href=\"https://colab.research.google.com/github/majorquev/DBDC_202103_Programacion_en_R_para_ciencia_de_datos/blob/main/Clases/Clase7/Clase7_1_Distribuciones_de_probabilidad_en_r.ipynb\" target=\"_parent\"><img src=\"https://colab.research.google.com/assets/colab-badge.svg\" alt=\"Open In Colab\"/></a>"
      ]
    },
    {
      "cell_type": "markdown",
      "metadata": {
        "collapsed": true,
        "id": "OejoCTBMIzQV"
      },
      "source": [
        "# Parte 6: Distribuciones de probabilidad\n",
        "\n",
        "**Autor:** Miguel Jorquera Viguera.<br>\n",
        "**E-mail:** majorquev@gmail.com<br>\n",
        "**Ayudante:** Jorge Arévalo Labarca<br>\n",
        "**E-mail ayudante:** jorge.arevalol@usach.cl\n",
        "\n",
        "En R podemos obtener valores tanto de las funciones de densidad, distribución de probabilidad, cuantiles de una distribución o bien generar valores aleatorios de diversas distribuciones paramétricas.\n",
        "Casi todas las distribuciones que se encuentran implementadas en la librería base de R se referencian de la misma manera.\n",
        "\n",
        "* Funciones de densidad (PDFs) comienzan con la letra “d.”\n",
        "* Funciones de distribución acumulada comienzan con la letra “p.”\n",
        "* Funcioenes que retornan quantiles de una distribución comienzan con la letra “q.”\n",
        "* Funciones que generan valores aleatorios comienzan con la letra“r.” \n",
        "\n",
        "Por defecto, en R contamos con una amplia variedad familias de distribuciones enre las que destacan las siguientes.\n",
        "\n",
        "\n",
        "\n",
        "**Distribution**| **R name**| **additional arguments**\n",
        "-----| -----| -----\n",
        "beta |`beta` |shape1, shape2, ncp\n",
        "binomial| `binom`| size, prob\n",
        "Cauchy|`cauchy` |location, scale\n",
        "chi-squared| `chisq`| df, ncp\n",
        "exponential| `exp` |rate\n",
        "F| `f` |df1, df2, ncp\n",
        "gamma |`gamma` |shape, scale\n",
        "geometric |`geom` |prob\n",
        "hypergeometric| `hyper`| m, n, k\n",
        "log-normal| `lnorm` |meanlog, sdlog\n",
        "logistic |`logis` |location, scale\n",
        "negative| `binomial`| nbinom size, prob\n",
        "normal |`norm` |mean, sd\n",
        "Poisson| `pois`| lambda\n",
        "signed rank |`signrank`| n\n",
        "Student’s t| `t`| df, ncp\n",
        "uniform |`unif`| min, max\n",
        "Weibull| `weibull`| shape, scale\n",
        "Wilcoxon |`wilcox`|m, n\n",
        "\n",
        "\n"
      ]
    },
    {
      "cell_type": "code",
      "metadata": {
        "colab": {
          "base_uri": "https://localhost:8080/"
        },
        "id": "bgseMGWOGIcy",
        "outputId": "c959994c-05b1-4018-b4c7-6126fa51fbd0"
      },
      "source": [
        "library(ggplot2)\n",
        "library(dplyr)"
      ],
      "execution_count": 37,
      "outputs": [
        {
          "output_type": "stream",
          "text": [
            "\n",
            "Attaching package: ‘dplyr’\n",
            "\n",
            "\n",
            "The following objects are masked from ‘package:stats’:\n",
            "\n",
            "    filter, lag\n",
            "\n",
            "\n",
            "The following objects are masked from ‘package:base’:\n",
            "\n",
            "    intersect, setdiff, setequal, union\n",
            "\n",
            "\n"
          ],
          "name": "stderr"
        }
      ]
    },
    {
      "cell_type": "markdown",
      "metadata": {
        "id": "-PTP0v_EIzQV"
      },
      "source": [
        "# I) Distribución normal\n",
        "\n",
        "## Función de densidad\n",
        "$$f(x) = \\frac{1}{\\sqrt{2 π \\sigma^2}} e^{-\\frac{1}{2\\sigma^2}(x - \\mu)^2}$$\n",
        "\n",
        "## En R...\n",
        "\n",
        "* `dnorm(x, mean = 0, sd = 1, log = FALSE)`: Evalúa la función de densidad.\n",
        "* `pnorm(q, mean = 0, sd = 1, lower.tail = TRUE, log.p = FALSE)`: Calcula la probabilidad acumulada (función de distribución).\n",
        "* `qnorm(p, mean = 0, sd = 1, lower.tail = TRUE, log.p = FALSE)`: Calcula los quantiles de la distribución. (Función inversa de la función de distribución de probabilidad).\n",
        "* `rnorm(n, mean = 0, sd = 1)`: Genera muestras aleatroias.\n",
        "\n",
        "\n",
        "\n",
        "\n",
        "**P1.** Se sabe que la estatura de la población adulta de género masculino chilena sigue una distribución normal con media 171,8 cms y una desviación estándar de 5cms\n",
        "\n",
        "**a)** ¿Cuál es la probabilidad de encontrar de que una persona hombre  adulta tenga una estatura\n",
        "menor o igual a 160 cms?"
      ]
    },
    {
      "cell_type": "code",
      "metadata": {
        "trusted": true,
        "id": "ToHwVVRJIzQV",
        "colab": {
          "base_uri": "https://localhost:8080/",
          "height": 35
        },
        "outputId": "1c2f81ef-cbb2-4ae9-acc8-319e4492ee63"
      },
      "source": [
        "# pnorm()\n",
        "#?pnorm\n",
        "pnorm(160, mean = 171.8, sd = 5)\n",
        "# Hay un 0.9% de probabilidad de que la persona mida menos de 1.60 mts.\n",
        "\n"
      ],
      "execution_count": null,
      "outputs": [
        {
          "output_type": "display_data",
          "data": {
            "text/plain": [
              "[1] 0.009137468"
            ],
            "text/latex": "0.00913746753057262",
            "text/markdown": "0.00913746753057262",
            "text/html": [
              "0.00913746753057262"
            ]
          },
          "metadata": {
            "tags": []
          }
        }
      ]
    },
    {
      "cell_type": "code",
      "metadata": {
        "trusted": true,
        "id": "aurFMEakIzQW"
      },
      "source": [
        "?pnorm"
      ],
      "execution_count": null,
      "outputs": []
    },
    {
      "cell_type": "markdown",
      "metadata": {
        "id": "h-zASRnGIzQW"
      },
      "source": [
        "  \n",
        "**b)** ¿Cuál es la probabilidad de encontrar de que una persona adulta tenga una estatura mayor  a 160 cms?\n",
        "  "
      ]
    },
    {
      "cell_type": "code",
      "metadata": {
        "trusted": true,
        "id": "jQ8cahkIIzQW",
        "colab": {
          "base_uri": "https://localhost:8080/",
          "height": 52
        },
        "outputId": "2a52efc6-935c-4f01-cc4b-f508a8e29514"
      },
      "source": [
        "#P(estatura > 160) = 1 - P(estatura <= 160)\n",
        "1-pnorm(160, mean = 171.8, sd = 5)\n",
        "\n",
        "#NOTA \n",
        "# lower.tail \n",
        "pnorm(160, mean = 171.8, sd = 5, lower.tail = F)"
      ],
      "execution_count": null,
      "outputs": [
        {
          "output_type": "display_data",
          "data": {
            "text/plain": [
              "[1] 0.9908625"
            ],
            "text/latex": "0.990862532469427",
            "text/markdown": "0.990862532469427",
            "text/html": [
              "0.990862532469427"
            ]
          },
          "metadata": {
            "tags": []
          }
        },
        {
          "output_type": "display_data",
          "data": {
            "text/plain": [
              "[1] 0.9908625"
            ],
            "text/latex": "0.990862532469427",
            "text/markdown": "0.990862532469427",
            "text/html": [
              "0.990862532469427"
            ]
          },
          "metadata": {
            "tags": []
          }
        }
      ]
    },
    {
      "cell_type": "markdown",
      "metadata": {
        "id": "RW1a4CYOIzQW"
      },
      "source": [
        "**c)** ¿Cuál es la probabilidad de encontrar una persona con estatura entre 180cms y 190 cms?"
      ]
    },
    {
      "cell_type": "code",
      "metadata": {
        "trusted": true,
        "id": "OvapQgJnIzQW",
        "colab": {
          "base_uri": "https://localhost:8080/",
          "height": 35
        },
        "outputId": "a259cdc7-597b-45cf-b670-01836381b23d"
      },
      "source": [
        "# P(est <= 190) - P(est <= 180) = P(180 <= est <= 190)\n",
        "pnorm(190, mean = 171.8, sd = 5) - pnorm(180, mean = 171.8, sd = 5)\n",
        "\n",
        "# Hay un 5% de probabilidad de encontrar una persona con estatura entre 180 y 190."
      ],
      "execution_count": null,
      "outputs": [
        {
          "output_type": "display_data",
          "data": {
            "text/plain": [
              "[1] 0.05036626"
            ],
            "text/latex": "0.0503662644536582",
            "text/markdown": "0.0503662644536582",
            "text/html": [
              "0.0503662644536582"
            ]
          },
          "metadata": {
            "tags": []
          }
        }
      ]
    },
    {
      "cell_type": "markdown",
      "metadata": {
        "id": "wKeJk1S1IzQX"
      },
      "source": [
        "**d)** ¿Cuál es la estatura que corresponde al percentil 90?"
      ]
    },
    {
      "cell_type": "code",
      "metadata": {
        "trusted": true,
        "id": "uH4r-tSjIzQX",
        "colab": {
          "base_uri": "https://localhost:8080/",
          "height": 35
        },
        "outputId": "b9069c0e-6981-4681-90c7-74a97955ed36"
      },
      "source": [
        "qnorm(0.9, mean = 171.8, sd = 5)\n",
        "# Cómo interpretamos este valor\n",
        "# El 90% de las personas de género masculino,en chile, tiene una estatura menor o igual a 178.2 cms."
      ],
      "execution_count": null,
      "outputs": [
        {
          "output_type": "display_data",
          "data": {
            "text/plain": [
              "[1] 178.2078"
            ],
            "text/latex": "178.207757827723",
            "text/markdown": "178.207757827723",
            "text/html": [
              "178.207757827723"
            ]
          },
          "metadata": {
            "tags": []
          }
        }
      ]
    },
    {
      "cell_type": "markdown",
      "metadata": {
        "id": "8BETYF90IzQX"
      },
      "source": [
        "**d)**  Genere una muestra aleatoria de tamaño 1000 y guárdela en un vector llamado _estaturas_, provenientes de una distribución normal con media 171,8 y desviación estandar igual a 5."
      ]
    },
    {
      "cell_type": "code",
      "metadata": {
        "trusted": true,
        "id": "_jaKERD8IzQX"
      },
      "source": [
        "# estaturas\n",
        "estaturas <- rnorm(n = 1000, mean = 171.8, sd = 5)"
      ],
      "execution_count": null,
      "outputs": []
    },
    {
      "cell_type": "markdown",
      "metadata": {
        "id": "xcbBK1N0IzQX"
      },
      "source": [
        "**e)** Mediante la función _hist()_ y la función _curve()_  genere un histograma de la muestra creada y añada la curva de distribución normal con la media y desviación estandar reales."
      ]
    },
    {
      "cell_type": "code",
      "metadata": {
        "id": "YqqPyEqUcoZL",
        "colab": {
          "base_uri": "https://localhost:8080/",
          "height": 437
        },
        "outputId": "0c0428b6-d70a-4c61-d39d-7c7dd7e3a109"
      },
      "source": [
        "hist(estaturas, freq = F)"
      ],
      "execution_count": null,
      "outputs": [
        {
          "output_type": "display_data",
          "data": {
            "image/png": "[encoded data removed]",
            "text/plain": [
              "Plot with title “Histogram of estaturas”"
            ]
          },
          "metadata": {
            "tags": [],
            "image/png": {
              "width": 420,
              "height": 420
            }
          }
        }
      ]
    },
    {
      "cell_type": "code",
      "metadata": {
        "trusted": true,
        "id": "2iZisxlHIzQX",
        "colab": {
          "base_uri": "https://localhost:8080/",
          "height": 35
        },
        "outputId": "28519b80-905e-4118-fa16-daee640bf560"
      },
      "source": [
        "## NOTA\n",
        "# dnorm() evalúa la función de densidad en el argumento dado\n",
        "dnorm(1.2, mean = 0, sd = 1) # evaluación de la densidad en el punto 1.2, de una distrib. normal con media 1 y sd 0."
      ],
      "execution_count": null,
      "outputs": [
        {
          "output_type": "display_data",
          "data": {
            "text/plain": [
              "[1] 0.1941861"
            ],
            "text/latex": "0.194186054983213",
            "text/markdown": "0.194186054983213",
            "text/html": [
              "0.194186054983213"
            ]
          },
          "metadata": {
            "tags": []
          }
        }
      ]
    },
    {
      "cell_type": "code",
      "metadata": {
        "trusted": true,
        "id": "EDPAiGwpIzQX",
        "colab": {
          "base_uri": "https://localhost:8080/",
          "height": 52
        },
        "outputId": "938f7339-ff4a-4f33-cafc-d8d33153122d"
      },
      "source": [
        "(mu_est <- mean(estaturas))\n",
        "(sd_est <- sd(estaturas))"
      ],
      "execution_count": null,
      "outputs": [
        {
          "output_type": "display_data",
          "data": {
            "text/plain": [
              "[1] 171.57"
            ],
            "text/latex": "171.570033815029",
            "text/markdown": "171.570033815029",
            "text/html": [
              "171.570033815029"
            ]
          },
          "metadata": {
            "tags": []
          }
        },
        {
          "output_type": "display_data",
          "data": {
            "text/plain": [
              "[1] 4.962069"
            ],
            "text/latex": "4.96206921931116",
            "text/markdown": "4.96206921931116",
            "text/html": [
              "4.96206921931116"
            ]
          },
          "metadata": {
            "tags": []
          }
        }
      ]
    },
    {
      "cell_type": "code",
      "metadata": {
        "id": "f_c5kSNgdVhw",
        "colab": {
          "base_uri": "https://localhost:8080/",
          "height": 437
        },
        "outputId": "6a1713fa-d32b-484a-9923-6e6f927559f9"
      },
      "source": [
        "hist(estaturas, freq = F,main = \"HISTOGRAMA\", xlab = \"Estatura hombres chilenos adultos\")\n",
        "curve(dnorm(x,mean = 171.8, sd = 5), add = T, col = \"red\" )\n",
        "curve(dnorm(x,mean = mu_est, sd = sd_est), add = T, col = \"blue\" )\n"
      ],
      "execution_count": null,
      "outputs": [
        {
          "output_type": "display_data",
          "data": {
            "image/png": "[encoded data removed]",
            "text/plain": [
              "Plot with title “HISTOGRAMA”"
            ]
          },
          "metadata": {
            "tags": [],
            "image/png": {
              "width": 420,
              "height": 420
            }
          }
        }
      ]
    },
    {
      "cell_type": "code",
      "metadata": {
        "trusted": true,
        "id": "R0pEKJLdIzQX"
      },
      "source": [
        "?hist"
      ],
      "execution_count": null,
      "outputs": []
    },
    {
      "cell_type": "code",
      "metadata": {
        "trusted": true,
        "id": "8GRr0dw3IzQX"
      },
      "source": [
        "# Podemos realizar lo mismo con ggplot, aunque con un poco de dificultad adicional\n",
        "library(dplyr)\n",
        "library(ggplot2)"
      ],
      "execution_count": null,
      "outputs": []
    },
    {
      "cell_type": "code",
      "metadata": {
        "trusted": true,
        "id": "sVh_j3WgIzQX",
        "colab": {
          "base_uri": "https://localhost:8080/",
          "height": 293
        },
        "outputId": "a46518b7-14a2-4bd4-c5a1-ec3530627f60"
      },
      "source": [
        "df <- data.frame(est = estaturas)\n",
        "head(df)"
      ],
      "execution_count": null,
      "outputs": [
        {
          "output_type": "display_data",
          "data": {
            "text/plain": [
              "  est     \n",
              "1 172.5522\n",
              "2 172.9562\n",
              "3 169.1699\n",
              "4 162.3354\n",
              "5 173.6790\n",
              "6 174.7242"
            ],
            "text/latex": "A data.frame: 6 × 1\n\\begin{tabular}{r|l}\n  & est\\\\\n  & <dbl>\\\\\n\\hline\n\t1 & 172.5522\\\\\n\t2 & 172.9562\\\\\n\t3 & 169.1699\\\\\n\t4 & 162.3354\\\\\n\t5 & 173.6790\\\\\n\t6 & 174.7242\\\\\n\\end{tabular}\n",
            "text/markdown": "\nA data.frame: 6 × 1\n\n| <!--/--> | est &lt;dbl&gt; |\n|---|---|\n| 1 | 172.5522 |\n| 2 | 172.9562 |\n| 3 | 169.1699 |\n| 4 | 162.3354 |\n| 5 | 173.6790 |\n| 6 | 174.7242 |\n\n",
            "text/html": [
              "<table class=\"dataframe\">\n",
              "<caption>A data.frame: 6 × 1</caption>\n",
              "<thead>\n",
              "\t<tr><th></th><th scope=col>est</th></tr>\n",
              "\t<tr><th></th><th scope=col>&lt;dbl&gt;</th></tr>\n",
              "</thead>\n",
              "<tbody>\n",
              "\t<tr><th scope=row>1</th><td>172.5522</td></tr>\n",
              "\t<tr><th scope=row>2</th><td>172.9562</td></tr>\n",
              "\t<tr><th scope=row>3</th><td>169.1699</td></tr>\n",
              "\t<tr><th scope=row>4</th><td>162.3354</td></tr>\n",
              "\t<tr><th scope=row>5</th><td>173.6790</td></tr>\n",
              "\t<tr><th scope=row>6</th><td>174.7242</td></tr>\n",
              "</tbody>\n",
              "</table>\n"
            ]
          },
          "metadata": {
            "tags": []
          }
        }
      ]
    },
    {
      "cell_type": "markdown",
      "metadata": {
        "id": "vHC5uwGvgnCh"
      },
      "source": [
        "## Paréntesis: Funciones\n",
        "En R se pueden definir funciones de la siguiente manera\n",
        "\n",
        "```\n",
        "f <- function(...){\n",
        "  # lo que se hace con ...\n",
        "  return(valor)\n",
        "}\n",
        "```\n",
        "\n",
        "\n",
        "`"
      ]
    },
    {
      "cell_type": "code",
      "metadata": {
        "id": "g1tTeFSCgl9u"
      },
      "source": [
        ""
      ],
      "execution_count": null,
      "outputs": []
    },
    {
      "cell_type": "code",
      "metadata": {
        "trusted": true,
        "id": "k3J42K9PIzQX",
        "colab": {
          "base_uri": "https://localhost:8080/",
          "height": 437
        },
        "outputId": "42e64054-08c5-49eb-9892-c53dda878ae5"
      },
      "source": [
        "df %>%\n",
        "  ggplot() +\n",
        "  aes(x = est) +\n",
        "  geom_histogram(\n",
        "    bins = 15,\n",
        "    color = \"black\",\n",
        "    fill = \"white\",\n",
        "    aes(y = ..density..)\n",
        "  ) + \n",
        "  stat_function(\n",
        "    fun = function(x){dnorm(x,mean = 171.8, sd = 5)},\n",
        "    col = \"red\"\n",
        "  ) +\n",
        "  stat_function(\n",
        "    fun = function(x){dnorm(x,mean = mu_est, sd = sd_est)},\n",
        "    col = \"blue\"\n",
        "  ) +\n",
        "  geom_density(color = \"green\")"
      ],
      "execution_count": null,
      "outputs": [
        {
          "output_type": "display_data",
          "data": {
            "image/png": "[encoded data removed]",
            "text/plain": [
              "plot without title"
            ]
          },
          "metadata": {
            "tags": [],
            "image/png": {
              "width": 420,
              "height": 420
            }
          }
        }
      ]
    },
    {
      "cell_type": "markdown",
      "metadata": {
        "id": "fMwNisC-IzQX"
      },
      "source": [
        "# II)Distribucion binomial\n",
        "## Contexto\n",
        "Cuando una variable aleatoria representa la cantidad de éxitos en $n$ ensayos independientes de tipo Bernoulli (0 o 1), se dice que dicha variable sigue una distribución binomial.\n",
        "\n",
        "## Función de probabilidad\n",
        "\n",
        "\n",
        "$$p(x) = {n\\choose x}p^x(1-p)^{n-x}$$\n",
        "Donde $n$ es el total de ensayos realizados y $x$ es la cantidad de éxitos observados y $p$ es la probabilidad de éxito del evento de interés.\n",
        "\n",
        "## En R...\n",
        "\n",
        "* `dbinom(x, size, prob, log = FALSE)`: Evalúa la función de masa. En el caso discreto corresponde a la probabilidad del evento.\n",
        "* `pbinom(q, size, prob, lower.tail = TRUE, log.p = FALSE)`: Calcula la probabilidad acumulada.\n",
        "* `qbinom(p, size, prob, lower.tail = TRUE, log.p = FALSE)`: Retorna cuantiles de la distribución.\n",
        "* `rbinom(n, size, prob)`: Genera muestras aleatorias.\n",
        "\n",
        "**P2.** Suponga que un spot publicitario de un artículo tiene una tasa de efectividad de 20% sobre una determinada población.\n",
        "\n",
        "**a)** Suponga que se logra llegar con el spot a 100 personas. ¿Cuál es la probabilidad de que \n",
        " al menos 30  personas compren el artículo ofrecido?"
      ]
    },
    {
      "cell_type": "code",
      "metadata": {
        "trusted": true,
        "id": "MOm-FppMIzQX",
        "colab": {
          "base_uri": "https://localhost:8080/",
          "height": 86
        },
        "outputId": "cd06887c-bf5d-4780-b45a-81d229735d91"
      },
      "source": [
        "# Identifiquemos algunos elementos como\n",
        "# Experimento : Hacer llegar el spot a las 100 personas y registrar el número de clientes que efectivamente compraron el artículo.\n",
        "# Variable aleatoria : X: \"el número de clientes (de los 100) que compraron el artículo\"\n",
        "# Espacio muestral : {0,1,2,...,100}\n",
        "#-------parámetros de pbinom ---------\n",
        "#size (n): 100\n",
        "#prob (p): 0.2\n",
        "\n",
        "# Observaciòn sobre P(X >= 30)\n",
        "pbinom(30, size = 100, prob = 0.2) # P(X <= 30) \n",
        "\n",
        "1-pbinom(30, size = 100, prob = 0.2) # P(X > 30)  = P(X >= 31) \n",
        "1-pbinom(29, size = 100, prob = 0.2) # P(X > 29)  = P(X >= 30) , con esto garantizamos que estamos evluando la probabilidad por la que se nos pregunta.\n",
        "\n",
        "# Usando lower.tail = F\n",
        "\n",
        "pbinom(29, size = 100, prob = 0.2, lower.tail = F) # P(X >= 30) \n",
        "# La probabilidad de que 30 o más personas compren el artículos es de 0.11%"
      ],
      "execution_count": 1,
      "outputs": [
        {
          "output_type": "display_data",
          "data": {
            "text/plain": [
              "[1] 0.9939407"
            ],
            "text/latex": "0.993940664518957",
            "text/markdown": "0.993940664518957",
            "text/html": [
              "0.993940664518957"
            ]
          },
          "metadata": {
            "tags": []
          }
        },
        {
          "output_type": "display_data",
          "data": {
            "text/plain": [
              "[1] 0.006059335"
            ],
            "text/latex": "0.00605933548104298",
            "text/markdown": "0.00605933548104298",
            "text/html": [
              "0.00605933548104298"
            ]
          },
          "metadata": {
            "tags": []
          }
        },
        {
          "output_type": "display_data",
          "data": {
            "text/plain": [
              "[1] 0.01124898"
            ],
            "text/latex": "0.0112489787209917",
            "text/markdown": "0.0112489787209917",
            "text/html": [
              "0.0112489787209917"
            ]
          },
          "metadata": {
            "tags": []
          }
        },
        {
          "output_type": "display_data",
          "data": {
            "text/plain": [
              "[1] 0.01124898"
            ],
            "text/latex": "0.0112489787209917",
            "text/markdown": "0.0112489787209917",
            "text/html": [
              "0.0112489787209917"
            ]
          },
          "metadata": {
            "tags": []
          }
        }
      ]
    },
    {
      "cell_type": "code",
      "metadata": {
        "trusted": true,
        "id": "hNMwMfgAIzQX",
        "colab": {
          "base_uri": "https://localhost:8080/",
          "height": 52
        },
        "outputId": "541bf89f-21a4-4c28-fc4b-60261e4ac171"
      },
      "source": [
        "\n",
        "# ¿Cuál es la probabilidad de que exactamente 30 personas compren el artículo ofrecido?\n",
        "dbinom(30, size = 100, prob = 0.2) # 0.5% de prob (En el caso discreto, la probabilidad puntual la podemos obtener con la función de masa/densidad)\n",
        "# ota alternativa\n",
        "pbinom(30, size = 100, prob = 0.2) - pbinom(29, size = 100, prob = 0.2)\n",
        "\n",
        "\n"
      ],
      "execution_count": 2,
      "outputs": [
        {
          "output_type": "display_data",
          "data": {
            "text/plain": [
              "[1] 0.005189643"
            ],
            "text/latex": "0.00518964323994865",
            "text/markdown": "0.00518964323994865",
            "text/html": [
              "0.00518964323994865"
            ]
          },
          "metadata": {
            "tags": []
          }
        },
        {
          "output_type": "display_data",
          "data": {
            "text/plain": [
              "[1] 0.005189643"
            ],
            "text/latex": "0.00518964323994875",
            "text/markdown": "0.00518964323994875",
            "text/html": [
              "0.00518964323994875"
            ]
          },
          "metadata": {
            "tags": []
          }
        }
      ]
    },
    {
      "cell_type": "markdown",
      "metadata": {
        "id": "cNebkKaeIzQX"
      },
      "source": [
        "**P3.** En una localidad se sabe que el 70% de las casas tienen un televisor.  Se quiere realizar una encuesta a 8 casas ¿cuál es la probabilidad de que 6 o más de ellas tengan televisor?"
      ]
    },
    {
      "cell_type": "code",
      "metadata": {
        "trusted": true,
        "id": "nb9XiMpSIzQX",
        "colab": {
          "base_uri": "https://localhost:8080/",
          "height": 35
        },
        "outputId": "cf50a8d2-6f21-438f-c2fe-0724ecdf1458"
      },
      "source": [
        "# size = 8 \n",
        "# prob = 0.7\n",
        "pbinom(5, size = 8, prob = 0.7, lower.tail = F)# 55% de prob de que 6 omás casa tengan televisor\n"
      ],
      "execution_count": 3,
      "outputs": [
        {
          "output_type": "display_data",
          "data": {
            "text/plain": [
              "[1] 0.5517738"
            ],
            "text/latex": "0.55177381",
            "text/markdown": "0.55177381",
            "text/html": [
              "0.55177381"
            ]
          },
          "metadata": {
            "tags": []
          }
        }
      ]
    },
    {
      "cell_type": "markdown",
      "metadata": {
        "id": "9SSV-KEkIzQX"
      },
      "source": [
        "## Lanzando una moneda \n",
        "**P4** Supongamos que una **honesta** se lanza 14 veces y se anota el número veces que se obtuvo cara.\n",
        "\n",
        "**a)** ¿Cuál es la probabilidad de obtener exactamente 4 caras? ¿y al menos 10?"
      ]
    },
    {
      "cell_type": "code",
      "metadata": {
        "trusted": true,
        "id": "MyXXdYQ8IzQX",
        "colab": {
          "base_uri": "https://localhost:8080/",
          "height": 52
        },
        "outputId": "a69915dd-0e5b-40b8-e361-31444cbdebb0"
      },
      "source": [
        "#size = n = 14, y prob = p = 0.5 ?\n",
        "\n",
        "dbinom(4, size = 14, prob = 0.5)\n",
        "pbinom(9, size = 14, prob = 0.5,lower.tail = F)"
      ],
      "execution_count": 6,
      "outputs": [
        {
          "output_type": "display_data",
          "data": {
            "text/plain": [
              "[1] 0.06109619"
            ],
            "text/latex": "0.0610961914062499",
            "text/markdown": "0.0610961914062499",
            "text/html": [
              "0.0610961914062499"
            ]
          },
          "metadata": {
            "tags": []
          }
        },
        {
          "output_type": "display_data",
          "data": {
            "text/plain": [
              "[1] 0.08978271"
            ],
            "text/latex": "0.08978271484375",
            "text/markdown": "0.08978271484375",
            "text/html": [
              "0.08978271484375"
            ]
          },
          "metadata": {
            "tags": []
          }
        }
      ]
    },
    {
      "cell_type": "markdown",
      "metadata": {
        "id": "AlXH-gaYIzQY"
      },
      "source": [
        "  \n",
        "**b)** Si se repite el experimento 5 veces. ¿Qué proporción de caras se debería esperar?¿y si se repite más veces?  Utillice la función rbinom para simular el experimento 100 veces."
      ]
    },
    {
      "cell_type": "code",
      "metadata": {
        "colab": {
          "base_uri": "https://localhost:8080/",
          "height": 35
        },
        "id": "S9DfZ0gYFG5-",
        "outputId": "8409bca8-2215-4642-cbc0-a23567d8d1ce"
      },
      "source": [
        "prob <- 0.5\n",
        "14*0.3"
      ],
      "execution_count": 58,
      "outputs": [
        {
          "output_type": "display_data",
          "data": {
            "text/plain": [
              "[1] 4.2"
            ],
            "text/latex": "4.2",
            "text/markdown": "4.2",
            "text/html": [
              "4.2"
            ]
          },
          "metadata": {
            "tags": []
          }
        }
      ]
    },
    {
      "cell_type": "code",
      "metadata": {
        "colab": {
          "base_uri": "https://localhost:8080/",
          "height": 52
        },
        "id": "_Ms8BP9WExZg",
        "outputId": "5923f1c0-8f7b-4742-8d99-c3c6f786328f"
      },
      "source": [
        "#(5 veces)\n",
        "(exp_5 <- rbinom(n = 5, size = 14, prob = prob))\n",
        "mean(exp_5)"
      ],
      "execution_count": 59,
      "outputs": [
        {
          "output_type": "display_data",
          "data": {
            "text/plain": [
              "[1]  9  8 10  7  9"
            ],
            "text/latex": "\\begin{enumerate*}\n\\item 9\n\\item 8\n\\item 10\n\\item 7\n\\item 9\n\\end{enumerate*}\n",
            "text/markdown": "1. 9\n2. 8\n3. 10\n4. 7\n5. 9\n\n\n",
            "text/html": [
              "<style>\n",
              ".list-inline {list-style: none; margin:0; padding: 0}\n",
              ".list-inline>li {display: inline-block}\n",
              ".list-inline>li:not(:last-child)::after {content: \"\\00b7\"; padding: 0 .5ex}\n",
              "</style>\n",
              "<ol class=list-inline><li>9</li><li>8</li><li>10</li><li>7</li><li>9</li></ol>\n"
            ]
          },
          "metadata": {
            "tags": []
          }
        },
        {
          "output_type": "display_data",
          "data": {
            "text/plain": [
              "[1] 8.6"
            ],
            "text/latex": "8.6",
            "text/markdown": "8.6",
            "text/html": [
              "8.6"
            ]
          },
          "metadata": {
            "tags": []
          }
        }
      ]
    },
    {
      "cell_type": "code",
      "metadata": {
        "trusted": true,
        "id": "bVAWrKGZIzQY",
        "colab": {
          "base_uri": "https://localhost:8080/",
          "height": 35
        },
        "outputId": "e0e35442-82ba-4889-8644-a40701aa1f48"
      },
      "source": [
        "# simulamos un experimento binomial (50 veces)\n",
        "exp_50 <- rbinom(n = 50, size = 14, prob = prob)\n",
        "mean(exp_50)"
      ],
      "execution_count": 60,
      "outputs": [
        {
          "output_type": "display_data",
          "data": {
            "text/plain": [
              "[1] 6.54"
            ],
            "text/latex": "6.54",
            "text/markdown": "6.54",
            "text/html": [
              "6.54"
            ]
          },
          "metadata": {
            "tags": []
          }
        }
      ]
    },
    {
      "cell_type": "code",
      "metadata": {
        "colab": {
          "base_uri": "https://localhost:8080/",
          "height": 35
        },
        "id": "6xL3VEojEoED",
        "outputId": "03827dac-d0d7-427f-f144-84ea1a162ae2"
      },
      "source": [
        "# simulamos un experimento binomial (100 veces)\n",
        "exp_100 <- rbinom(n = 100, size = 14, prob = prob)\n",
        "mean(exp_100)\n"
      ],
      "execution_count": 61,
      "outputs": [
        {
          "output_type": "display_data",
          "data": {
            "text/plain": [
              "[1] 7.15"
            ],
            "text/latex": "7.15",
            "text/markdown": "7.15",
            "text/html": [
              "7.15"
            ]
          },
          "metadata": {
            "tags": []
          }
        }
      ]
    },
    {
      "cell_type": "code",
      "metadata": {
        "colab": {
          "base_uri": "https://localhost:8080/",
          "height": 35
        },
        "id": "PF1-egr3FCky",
        "outputId": "0339e775-f810-4a42-eb6a-c5bdd2d6c264"
      },
      "source": [
        "# simulamos un experimento binomial (1000 veces)\n",
        "set.seed(112358)\n",
        "\n",
        "exp_1000 <- rbinom(n = 1000, size = 14, prob = prob)\n",
        "mean(exp_1000)\n"
      ],
      "execution_count": 69,
      "outputs": [
        {
          "output_type": "display_data",
          "data": {
            "text/plain": [
              "[1] 6.92"
            ],
            "text/latex": "6.92",
            "text/markdown": "6.92",
            "text/html": [
              "6.92"
            ]
          },
          "metadata": {
            "tags": []
          }
        }
      ]
    },
    {
      "cell_type": "code",
      "metadata": {
        "colab": {
          "base_uri": "https://localhost:8080/",
          "height": 121
        },
        "id": "KqcsQMFTFqcz",
        "outputId": "4eba93c9-606c-41da-fc76-9745a3ab14d9"
      },
      "source": [
        "(lanzamientos <- exp_1000)"
      ],
      "execution_count": 70,
      "outputs": [
        {
          "output_type": "display_data",
          "data": {
            "text/plain": [
              "   [1]  6  8  9  8  8  9  6  8  9  4  4  7  6  4  8  8  5  3  8  6  5 10  6  5\n",
              "  [25]  5  8  8  5 10  5 10  9  5 12  9  8  8 11  8  8  6  7  8  9  7  9  7  9\n",
              "  [49]  3  9 11  6  8 10  8 10  8  7  7  6  5  5  7  8  8  9  8 10  6  4  8  4\n",
              "  [73]  5  5  6  8  6  7  4  9  9  4  8  9  8  9  7  8  4  8  7  6 12  7  7  8\n",
              "  [97]  7  5  9  7  8  8  6  7  4  8  7  6 10  7  8  4  8  8  8  8  9  9  6  7\n",
              " [121]  7  6  7  4  7  7  6  5  7 11  9 11  7  8  4  7  8  8 11  6  5  5  5  8\n",
              " [145]  6  9  6  5  7  4  7  5 10  9  6  5  6  7  5  5  5  4 11  7  5  5  5  3\n",
              " [169]  8  7  7  3  5  6  7  7  7  7 10  4 10  6  5  5  7  5  8  7  4  6  7  6\n",
              " [193]  5  7  5  9  9  8  7  6  6  8  9  3  6  9  6  7  9  4  9  8  8  7  7  8\n",
              " [217]  6  7  6  7  4  7  7  8  5  8 10  4  5  3  4  4  5  6  7  5  9  6  5  3\n",
              " [241]  6  8  5  8  9  7  9 10  4  9  8  8  5  4  5  9  5  9  8  5  6  9  5  7\n",
              " [265]  7  7  8  9  7  8  8  8  9  7  6  7  5  8  4 10  9  8  8  9  7  7  7  5\n",
              " [289]  9  7 10  2  8  8  4  6  6  6  6  7  8  8  9  7  8  7  6  6  4  2  8  3\n",
              " [313]  8  5  5  8  3  7  4  6  9 10  4  6 10  5 11  7  6 10  8  4  9  9  7  6\n",
              " [337]  6 11 12  7  6  7  6  5  4 10  8  4  8  4  6  8  6  5  8  7  8  7  8  7\n",
              " [361]  7  6  7  9  6  9 10  7 10  7  6  5  6  5  8  7  9  8  5 10  8  5 10  6\n",
              " [385] 10  7  9  7  5 10  9  4  5  7  6  7  4  6 10  6  4  7  4  5  7  8  9  5\n",
              " [409]  8  6  7  7  8  5  6  4  6  7  2  8  6  3  7 10  6  8  6  6  8  5  5  7\n",
              " [433]  5  8  7  5  7  5  5  5  6  5  7  8  6  8 10  9  6  6  4  5  8  7  4  9\n",
              " [457]  6  6  7  5  7  6  4  6  9  6  3  8 10  6  7  5  8 12  6 11  6  7  5  7\n",
              " [481]  5  6  9  9  9  6  8  5  6  5  7  6  8  7  6  4  6  5  6  6 10  5  8 10\n",
              " [505] 10  7  9  7  6  7  6  5  9  8  6  4  7  8  6  6  6  6  6  4  6  9  6  7\n",
              " [529]  8  6  7  8  5  8  6  7  7 10  5  9  4  9  6  7  8  8  5  7  6  7  9  8\n",
              " [553]  4  6  8 10  8 10  8  8  9  7  6  3  6  5  6  8  6  6  5  5  7  6  6  9\n",
              " [577] 10  5  5  8  7  6  5  9  9 10  5  3  8  4  6  5  8  6 10  9  7  7  8  9\n",
              " [601]  9  6  4  8  5  9  7  7 10  9  6 11  8  6  7  5  6  6  8  6  5  6  7  8\n",
              " [625]  8  9  8  4  9 11  4  6  7  7  9  8  6  7 10  5  8  8 11  2  8 10  8  6\n",
              " [649]  6  5  8  8  6  8  7 10  4  6  6  5  6  6 10  8  9  9 10  9  8  8  9  7\n",
              " [673]  6  8  9  8  9  8  6  5  6  8  9  8  7  8  8  6  5  6  5  9  5 10 10  7\n",
              " [697]  7  7  7  8  4  5  6  4  8  6  8  7  8  6  7  6  9 10  8  4  7  9  8  9\n",
              " [721]  2 10  6  9  7  8  9 10  9  6  7  7  6 10  7  9  7  7  4  8  8  7  8  7\n",
              " [745]  4 10  8  7 11  8  8  6  8  7  8  8  5  7  5  8  8  7  5  6 10  7  8  6\n",
              " [769]  6  3  8  7  9  4  6  8  9  6  4  5  7  7  5  4  7  7  9  8  4  8  5  6\n",
              " [793]  9  7  8  9  7  3  9  8  5  7  7  6  8  5 10  6  6  7  4  8  9  5  9  7\n",
              " [817]  7  5  8  7  7  7  9  7  6  7  3  4  9  5  7 11  6  9  8  8  9  8  4  9\n",
              " [841] 10  5  4  5  8  4  5  9  5  7  6  4  6  8  7  7  7  9  9  6  7  6  8  8\n",
              " [865]  6  9  8  6  8  6  9  8  6  6  7  5  9  5  7  7  8  8  5  7  3  5  7  5\n",
              " [889]  6  8  7  4  7  6  5 11  4  7  6  8  5  8  7  9  9  9  6 10  5  9  6  7\n",
              " [913]  8  6  7 10 10  6  8  5  8  4  7  4  9  6  7  8  5  5 10  8  7  8  9  7\n",
              " [937]  8  1  7  6  9  6  8  5  8  7  7  4  4  7  7  6  3  8  7  2  3  7  4  8\n",
              " [961]  9  5  6  7  6  6  9  7  9  8  6  8  6  5  7  8  6  7  3  6  8  7  5  9\n",
              " [985]  9  9  7  7  6 10  7  8  8  9  6  7  6  8  7  8"
            ],
            "text/latex": "\\begin{enumerate*}\n\\item 6\n\\item 8\n\\item 9\n\\item 8\n\\item 8\n\\item 9\n\\item 6\n\\item 8\n\\item 9\n\\item 4\n\\item 4\n\\item 7\n\\item 6\n\\item 4\n\\item 8\n\\item 8\n\\item 5\n\\item 3\n\\item 8\n\\item 6\n\\item 5\n\\item 10\n\\item 6\n\\item 5\n\\item 5\n\\item 8\n\\item 8\n\\item 5\n\\item 10\n\\item 5\n\\item 10\n\\item 9\n\\item 5\n\\item 12\n\\item 9\n\\item 8\n\\item 8\n\\item 11\n\\item 8\n\\item 8\n\\item 6\n\\item 7\n\\item 8\n\\item 9\n\\item 7\n\\item 9\n\\item 7\n\\item 9\n\\item 3\n\\item 9\n\\item 11\n\\item 6\n\\item 8\n\\item 10\n\\item 8\n\\item 10\n\\item 8\n\\item 7\n\\item 7\n\\item 6\n\\item 5\n\\item 5\n\\item 7\n\\item 8\n\\item 8\n\\item 9\n\\item 8\n\\item 10\n\\item 6\n\\item 4\n\\item 8\n\\item 4\n\\item 5\n\\item 5\n\\item 6\n\\item 8\n\\item 6\n\\item 7\n\\item 4\n\\item 9\n\\item 9\n\\item 4\n\\item 8\n\\item 9\n\\item 8\n\\item 9\n\\item 7\n\\item 8\n\\item 4\n\\item 8\n\\item 7\n\\item 6\n\\item 12\n\\item 7\n\\item 7\n\\item 8\n\\item 7\n\\item 5\n\\item 9\n\\item 7\n\\item 8\n\\item 8\n\\item 6\n\\item 7\n\\item 4\n\\item 8\n\\item 7\n\\item 6\n\\item 10\n\\item 7\n\\item 8\n\\item 4\n\\item 8\n\\item 8\n\\item 8\n\\item 8\n\\item 9\n\\item 9\n\\item 6\n\\item 7\n\\item 7\n\\item 6\n\\item 7\n\\item 4\n\\item 7\n\\item 7\n\\item 6\n\\item 5\n\\item 7\n\\item 11\n\\item 9\n\\item 11\n\\item 7\n\\item 8\n\\item 4\n\\item 7\n\\item 8\n\\item 8\n\\item 11\n\\item 6\n\\item 5\n\\item 5\n\\item 5\n\\item 8\n\\item 6\n\\item 9\n\\item 6\n\\item 5\n\\item 7\n\\item 4\n\\item 7\n\\item 5\n\\item 10\n\\item 9\n\\item 6\n\\item 5\n\\item 6\n\\item 7\n\\item 5\n\\item 5\n\\item 5\n\\item 4\n\\item 11\n\\item 7\n\\item 5\n\\item 5\n\\item 5\n\\item 3\n\\item 8\n\\item 7\n\\item 7\n\\item 3\n\\item 5\n\\item 6\n\\item 7\n\\item 7\n\\item 7\n\\item 7\n\\item 10\n\\item 4\n\\item 10\n\\item 6\n\\item 5\n\\item 5\n\\item 7\n\\item 5\n\\item 8\n\\item 7\n\\item 4\n\\item 6\n\\item 7\n\\item 6\n\\item 5\n\\item 7\n\\item 5\n\\item 9\n\\item 9\n\\item 8\n\\item 7\n\\item 6\n\\item ⋯\n\\item 5\n\\item 7\n\\item 7\n\\item 6\n\\item 8\n\\item 5\n\\item 10\n\\item 6\n\\item 6\n\\item 7\n\\item 4\n\\item 8\n\\item 9\n\\item 5\n\\item 9\n\\item 7\n\\item 7\n\\item 5\n\\item 8\n\\item 7\n\\item 7\n\\item 7\n\\item 9\n\\item 7\n\\item 6\n\\item 7\n\\item 3\n\\item 4\n\\item 9\n\\item 5\n\\item 7\n\\item 11\n\\item 6\n\\item 9\n\\item 8\n\\item 8\n\\item 9\n\\item 8\n\\item 4\n\\item 9\n\\item 10\n\\item 5\n\\item 4\n\\item 5\n\\item 8\n\\item 4\n\\item 5\n\\item 9\n\\item 5\n\\item 7\n\\item 6\n\\item 4\n\\item 6\n\\item 8\n\\item 7\n\\item 7\n\\item 7\n\\item 9\n\\item 9\n\\item 6\n\\item 7\n\\item 6\n\\item 8\n\\item 8\n\\item 6\n\\item 9\n\\item 8\n\\item 6\n\\item 8\n\\item 6\n\\item 9\n\\item 8\n\\item 6\n\\item 6\n\\item 7\n\\item 5\n\\item 9\n\\item 5\n\\item 7\n\\item 7\n\\item 8\n\\item 8\n\\item 5\n\\item 7\n\\item 3\n\\item 5\n\\item 7\n\\item 5\n\\item 6\n\\item 8\n\\item 7\n\\item 4\n\\item 7\n\\item 6\n\\item 5\n\\item 11\n\\item 4\n\\item 7\n\\item 6\n\\item 8\n\\item 5\n\\item 8\n\\item 7\n\\item 9\n\\item 9\n\\item 9\n\\item 6\n\\item 10\n\\item 5\n\\item 9\n\\item 6\n\\item 7\n\\item 8\n\\item 6\n\\item 7\n\\item 10\n\\item 10\n\\item 6\n\\item 8\n\\item 5\n\\item 8\n\\item 4\n\\item 7\n\\item 4\n\\item 9\n\\item 6\n\\item 7\n\\item 8\n\\item 5\n\\item 5\n\\item 10\n\\item 8\n\\item 7\n\\item 8\n\\item 9\n\\item 7\n\\item 8\n\\item 1\n\\item 7\n\\item 6\n\\item 9\n\\item 6\n\\item 8\n\\item 5\n\\item 8\n\\item 7\n\\item 7\n\\item 4\n\\item 4\n\\item 7\n\\item 7\n\\item 6\n\\item 3\n\\item 8\n\\item 7\n\\item 2\n\\item 3\n\\item 7\n\\item 4\n\\item 8\n\\item 9\n\\item 5\n\\item 6\n\\item 7\n\\item 6\n\\item 6\n\\item 9\n\\item 7\n\\item 9\n\\item 8\n\\item 6\n\\item 8\n\\item 6\n\\item 5\n\\item 7\n\\item 8\n\\item 6\n\\item 7\n\\item 3\n\\item 6\n\\item 8\n\\item 7\n\\item 5\n\\item 9\n\\item 9\n\\item 9\n\\item 7\n\\item 7\n\\item 6\n\\item 10\n\\item 7\n\\item 8\n\\item 8\n\\item 9\n\\item 6\n\\item 7\n\\item 6\n\\item 8\n\\item 7\n\\item 8\n\\end{enumerate*}\n",
            "text/markdown": "1. 6\n2. 8\n3. 9\n4. 8\n5. 8\n6. 9\n7. 6\n8. 8\n9. 9\n10. 4\n11. 4\n12. 7\n13. 6\n14. 4\n15. 8\n16. 8\n17. 5\n18. 3\n19. 8\n20. 6\n21. 5\n22. 10\n23. 6\n24. 5\n25. 5\n26. 8\n27. 8\n28. 5\n29. 10\n30. 5\n31. 10\n32. 9\n33. 5\n34. 12\n35. 9\n36. 8\n37. 8\n38. 11\n39. 8\n40. 8\n41. 6\n42. 7\n43. 8\n44. 9\n45. 7\n46. 9\n47. 7\n48. 9\n49. 3\n50. 9\n51. 11\n52. 6\n53. 8\n54. 10\n55. 8\n56. 10\n57. 8\n58. 7\n59. 7\n60. 6\n61. 5\n62. 5\n63. 7\n64. 8\n65. 8\n66. 9\n67. 8\n68. 10\n69. 6\n70. 4\n71. 8\n72. 4\n73. 5\n74. 5\n75. 6\n76. 8\n77. 6\n78. 7\n79. 4\n80. 9\n81. 9\n82. 4\n83. 8\n84. 9\n85. 8\n86. 9\n87. 7\n88. 8\n89. 4\n90. 8\n91. 7\n92. 6\n93. 12\n94. 7\n95. 7\n96. 8\n97. 7\n98. 5\n99. 9\n100. 7\n101. 8\n102. 8\n103. 6\n104. 7\n105. 4\n106. 8\n107. 7\n108. 6\n109. 10\n110. 7\n111. 8\n112. 4\n113. 8\n114. 8\n115. 8\n116. 8\n117. 9\n118. 9\n119. 6\n120. 7\n121. 7\n122. 6\n123. 7\n124. 4\n125. 7\n126. 7\n127. 6\n128. 5\n129. 7\n130. 11\n131. 9\n132. 11\n133. 7\n134. 8\n135. 4\n136. 7\n137. 8\n138. 8\n139. 11\n140. 6\n141. 5\n142. 5\n143. 5\n144. 8\n145. 6\n146. 9\n147. 6\n148. 5\n149. 7\n150. 4\n151. 7\n152. 5\n153. 10\n154. 9\n155. 6\n156. 5\n157. 6\n158. 7\n159. 5\n160. 5\n161. 5\n162. 4\n163. 11\n164. 7\n165. 5\n166. 5\n167. 5\n168. 3\n169. 8\n170. 7\n171. 7\n172. 3\n173. 5\n174. 6\n175. 7\n176. 7\n177. 7\n178. 7\n179. 10\n180. 4\n181. 10\n182. 6\n183. 5\n184. 5\n185. 7\n186. 5\n187. 8\n188. 7\n189. 4\n190. 6\n191. 7\n192. 6\n193. 5\n194. 7\n195. 5\n196. 9\n197. 9\n198. 8\n199. 7\n200. 6\n201. ⋯\n202. 5\n203. 7\n204. 7\n205. 6\n206. 8\n207. 5\n208. 10\n209. 6\n210. 6\n211. 7\n212. 4\n213. 8\n214. 9\n215. 5\n216. 9\n217. 7\n218. 7\n219. 5\n220. 8\n221. 7\n222. 7\n223. 7\n224. 9\n225. 7\n226. 6\n227. 7\n228. 3\n229. 4\n230. 9\n231. 5\n232. 7\n233. 11\n234. 6\n235. 9\n236. 8\n237. 8\n238. 9\n239. 8\n240. 4\n241. 9\n242. 10\n243. 5\n244. 4\n245. 5\n246. 8\n247. 4\n248. 5\n249. 9\n250. 5\n251. 7\n252. 6\n253. 4\n254. 6\n255. 8\n256. 7\n257. 7\n258. 7\n259. 9\n260. 9\n261. 6\n262. 7\n263. 6\n264. 8\n265. 8\n266. 6\n267. 9\n268. 8\n269. 6\n270. 8\n271. 6\n272. 9\n273. 8\n274. 6\n275. 6\n276. 7\n277. 5\n278. 9\n279. 5\n280. 7\n281. 7\n282. 8\n283. 8\n284. 5\n285. 7\n286. 3\n287. 5\n288. 7\n289. 5\n290. 6\n291. 8\n292. 7\n293. 4\n294. 7\n295. 6\n296. 5\n297. 11\n298. 4\n299. 7\n300. 6\n301. 8\n302. 5\n303. 8\n304. 7\n305. 9\n306. 9\n307. 9\n308. 6\n309. 10\n310. 5\n311. 9\n312. 6\n313. 7\n314. 8\n315. 6\n316. 7\n317. 10\n318. 10\n319. 6\n320. 8\n321. 5\n322. 8\n323. 4\n324. 7\n325. 4\n326. 9\n327. 6\n328. 7\n329. 8\n330. 5\n331. 5\n332. 10\n333. 8\n334. 7\n335. 8\n336. 9\n337. 7\n338. 8\n339. 1\n340. 7\n341. 6\n342. 9\n343. 6\n344. 8\n345. 5\n346. 8\n347. 7\n348. 7\n349. 4\n350. 4\n351. 7\n352. 7\n353. 6\n354. 3\n355. 8\n356. 7\n357. 2\n358. 3\n359. 7\n360. 4\n361. 8\n362. 9\n363. 5\n364. 6\n365. 7\n366. 6\n367. 6\n368. 9\n369. 7\n370. 9\n371. 8\n372. 6\n373. 8\n374. 6\n375. 5\n376. 7\n377. 8\n378. 6\n379. 7\n380. 3\n381. 6\n382. 8\n383. 7\n384. 5\n385. 9\n386. 9\n387. 9\n388. 7\n389. 7\n390. 6\n391. 10\n392. 7\n393. 8\n394. 8\n395. 9\n396. 6\n397. 7\n398. 6\n399. 8\n400. 7\n401. 8\n\n\n",
            "text/html": [
              "<style>\n",
              ".list-inline {list-style: none; margin:0; padding: 0}\n",
              ".list-inline>li {display: inline-block}\n",
              ".list-inline>li:not(:last-child)::after {content: \"\\00b7\"; padding: 0 .5ex}\n",
              "</style>\n",
              "<ol class=list-inline><li>6</li><li>8</li><li>9</li><li>8</li><li>8</li><li>9</li><li>6</li><li>8</li><li>9</li><li>4</li><li>4</li><li>7</li><li>6</li><li>4</li><li>8</li><li>8</li><li>5</li><li>3</li><li>8</li><li>6</li><li>5</li><li>10</li><li>6</li><li>5</li><li>5</li><li>8</li><li>8</li><li>5</li><li>10</li><li>5</li><li>10</li><li>9</li><li>5</li><li>12</li><li>9</li><li>8</li><li>8</li><li>11</li><li>8</li><li>8</li><li>6</li><li>7</li><li>8</li><li>9</li><li>7</li><li>9</li><li>7</li><li>9</li><li>3</li><li>9</li><li>11</li><li>6</li><li>8</li><li>10</li><li>8</li><li>10</li><li>8</li><li>7</li><li>7</li><li>6</li><li>5</li><li>5</li><li>7</li><li>8</li><li>8</li><li>9</li><li>8</li><li>10</li><li>6</li><li>4</li><li>8</li><li>4</li><li>5</li><li>5</li><li>6</li><li>8</li><li>6</li><li>7</li><li>4</li><li>9</li><li>9</li><li>4</li><li>8</li><li>9</li><li>8</li><li>9</li><li>7</li><li>8</li><li>4</li><li>8</li><li>7</li><li>6</li><li>12</li><li>7</li><li>7</li><li>8</li><li>7</li><li>5</li><li>9</li><li>7</li><li>8</li><li>8</li><li>6</li><li>7</li><li>4</li><li>8</li><li>7</li><li>6</li><li>10</li><li>7</li><li>8</li><li>4</li><li>8</li><li>8</li><li>8</li><li>8</li><li>9</li><li>9</li><li>6</li><li>7</li><li>7</li><li>6</li><li>7</li><li>4</li><li>7</li><li>7</li><li>6</li><li>5</li><li>7</li><li>11</li><li>9</li><li>11</li><li>7</li><li>8</li><li>4</li><li>7</li><li>8</li><li>8</li><li>11</li><li>6</li><li>5</li><li>5</li><li>5</li><li>8</li><li>6</li><li>9</li><li>6</li><li>5</li><li>7</li><li>4</li><li>7</li><li>5</li><li>10</li><li>9</li><li>6</li><li>5</li><li>6</li><li>7</li><li>5</li><li>5</li><li>5</li><li>4</li><li>11</li><li>7</li><li>5</li><li>5</li><li>5</li><li>3</li><li>8</li><li>7</li><li>7</li><li>3</li><li>5</li><li>6</li><li>7</li><li>7</li><li>7</li><li>7</li><li>10</li><li>4</li><li>10</li><li>6</li><li>5</li><li>5</li><li>7</li><li>5</li><li>8</li><li>7</li><li>4</li><li>6</li><li>7</li><li>6</li><li>5</li><li>7</li><li>5</li><li>9</li><li>9</li><li>8</li><li>7</li><li>6</li><li>⋯</li><li>5</li><li>7</li><li>7</li><li>6</li><li>8</li><li>5</li><li>10</li><li>6</li><li>6</li><li>7</li><li>4</li><li>8</li><li>9</li><li>5</li><li>9</li><li>7</li><li>7</li><li>5</li><li>8</li><li>7</li><li>7</li><li>7</li><li>9</li><li>7</li><li>6</li><li>7</li><li>3</li><li>4</li><li>9</li><li>5</li><li>7</li><li>11</li><li>6</li><li>9</li><li>8</li><li>8</li><li>9</li><li>8</li><li>4</li><li>9</li><li>10</li><li>5</li><li>4</li><li>5</li><li>8</li><li>4</li><li>5</li><li>9</li><li>5</li><li>7</li><li>6</li><li>4</li><li>6</li><li>8</li><li>7</li><li>7</li><li>7</li><li>9</li><li>9</li><li>6</li><li>7</li><li>6</li><li>8</li><li>8</li><li>6</li><li>9</li><li>8</li><li>6</li><li>8</li><li>6</li><li>9</li><li>8</li><li>6</li><li>6</li><li>7</li><li>5</li><li>9</li><li>5</li><li>7</li><li>7</li><li>8</li><li>8</li><li>5</li><li>7</li><li>3</li><li>5</li><li>7</li><li>5</li><li>6</li><li>8</li><li>7</li><li>4</li><li>7</li><li>6</li><li>5</li><li>11</li><li>4</li><li>7</li><li>6</li><li>8</li><li>5</li><li>8</li><li>7</li><li>9</li><li>9</li><li>9</li><li>6</li><li>10</li><li>5</li><li>9</li><li>6</li><li>7</li><li>8</li><li>6</li><li>7</li><li>10</li><li>10</li><li>6</li><li>8</li><li>5</li><li>8</li><li>4</li><li>7</li><li>4</li><li>9</li><li>6</li><li>7</li><li>8</li><li>5</li><li>5</li><li>10</li><li>8</li><li>7</li><li>8</li><li>9</li><li>7</li><li>8</li><li>1</li><li>7</li><li>6</li><li>9</li><li>6</li><li>8</li><li>5</li><li>8</li><li>7</li><li>7</li><li>4</li><li>4</li><li>7</li><li>7</li><li>6</li><li>3</li><li>8</li><li>7</li><li>2</li><li>3</li><li>7</li><li>4</li><li>8</li><li>9</li><li>5</li><li>6</li><li>7</li><li>6</li><li>6</li><li>9</li><li>7</li><li>9</li><li>8</li><li>6</li><li>8</li><li>6</li><li>5</li><li>7</li><li>8</li><li>6</li><li>7</li><li>3</li><li>6</li><li>8</li><li>7</li><li>5</li><li>9</li><li>9</li><li>9</li><li>7</li><li>7</li><li>6</li><li>10</li><li>7</li><li>8</li><li>8</li><li>9</li><li>6</li><li>7</li><li>6</li><li>8</li><li>7</li><li>8</li></ol>\n"
            ]
          },
          "metadata": {
            "tags": []
          }
        }
      ]
    },
    {
      "cell_type": "code",
      "metadata": {
        "id": "wfgcbHUvGFQo"
      },
      "source": [
        ""
      ],
      "execution_count": 64,
      "outputs": []
    },
    {
      "cell_type": "code",
      "metadata": {
        "trusted": true,
        "id": "Xz05Mz7kIzQY",
        "colab": {
          "base_uri": "https://localhost:8080/",
          "height": 765
        },
        "outputId": "310c54e5-05d4-4b64-8ca5-aa608bd18ff7"
      },
      "source": [
        "# podemos construir un gráfico de barras con los conteos\n",
        "df <- data.frame(caras   = lanzamientos)\n",
        "head(df)\n",
        "\n",
        "df %>% \n",
        "  count(caras)\n"
      ],
      "execution_count": 71,
      "outputs": [
        {
          "output_type": "display_data",
          "data": {
            "text/plain": [
              "  caras\n",
              "1 6    \n",
              "2 8    \n",
              "3 9    \n",
              "4 8    \n",
              "5 8    \n",
              "6 9    "
            ],
            "text/latex": "A data.frame: 6 × 1\n\\begin{tabular}{r|l}\n  & caras\\\\\n  & <int>\\\\\n\\hline\n\t1 & 6\\\\\n\t2 & 8\\\\\n\t3 & 9\\\\\n\t4 & 8\\\\\n\t5 & 8\\\\\n\t6 & 9\\\\\n\\end{tabular}\n",
            "text/markdown": "\nA data.frame: 6 × 1\n\n| <!--/--> | caras &lt;int&gt; |\n|---|---|\n| 1 | 6 |\n| 2 | 8 |\n| 3 | 9 |\n| 4 | 8 |\n| 5 | 8 |\n| 6 | 9 |\n\n",
            "text/html": [
              "<table class=\"dataframe\">\n",
              "<caption>A data.frame: 6 × 1</caption>\n",
              "<thead>\n",
              "\t<tr><th></th><th scope=col>caras</th></tr>\n",
              "\t<tr><th></th><th scope=col>&lt;int&gt;</th></tr>\n",
              "</thead>\n",
              "<tbody>\n",
              "\t<tr><th scope=row>1</th><td>6</td></tr>\n",
              "\t<tr><th scope=row>2</th><td>8</td></tr>\n",
              "\t<tr><th scope=row>3</th><td>9</td></tr>\n",
              "\t<tr><th scope=row>4</th><td>8</td></tr>\n",
              "\t<tr><th scope=row>5</th><td>8</td></tr>\n",
              "\t<tr><th scope=row>6</th><td>9</td></tr>\n",
              "</tbody>\n",
              "</table>\n"
            ]
          },
          "metadata": {
            "tags": []
          }
        },
        {
          "output_type": "display_data",
          "data": {
            "text/plain": [
              "   caras n  \n",
              "1   1      1\n",
              "2   2      6\n",
              "3   3     20\n",
              "4   4     72\n",
              "5   5    128\n",
              "6   6    182\n",
              "7   7    198\n",
              "8   8    196\n",
              "9   9    120\n",
              "10 10     58\n",
              "11 11     15\n",
              "12 12      4"
            ],
            "text/latex": "A data.frame: 12 × 2\n\\begin{tabular}{ll}\n caras & n\\\\\n <int> & <int>\\\\\n\\hline\n\t  1 &   1\\\\\n\t  2 &   6\\\\\n\t  3 &  20\\\\\n\t  4 &  72\\\\\n\t  5 & 128\\\\\n\t  6 & 182\\\\\n\t  7 & 198\\\\\n\t  8 & 196\\\\\n\t  9 & 120\\\\\n\t 10 &  58\\\\\n\t 11 &  15\\\\\n\t 12 &   4\\\\\n\\end{tabular}\n",
            "text/markdown": "\nA data.frame: 12 × 2\n\n| caras &lt;int&gt; | n &lt;int&gt; |\n|---|---|\n|  1 |   1 |\n|  2 |   6 |\n|  3 |  20 |\n|  4 |  72 |\n|  5 | 128 |\n|  6 | 182 |\n|  7 | 198 |\n|  8 | 196 |\n|  9 | 120 |\n| 10 |  58 |\n| 11 |  15 |\n| 12 |   4 |\n\n",
            "text/html": [
              "<table class=\"dataframe\">\n",
              "<caption>A data.frame: 12 × 2</caption>\n",
              "<thead>\n",
              "\t<tr><th scope=col>caras</th><th scope=col>n</th></tr>\n",
              "\t<tr><th scope=col>&lt;int&gt;</th><th scope=col>&lt;int&gt;</th></tr>\n",
              "</thead>\n",
              "<tbody>\n",
              "\t<tr><td> 1</td><td>  1</td></tr>\n",
              "\t<tr><td> 2</td><td>  6</td></tr>\n",
              "\t<tr><td> 3</td><td> 20</td></tr>\n",
              "\t<tr><td> 4</td><td> 72</td></tr>\n",
              "\t<tr><td> 5</td><td>128</td></tr>\n",
              "\t<tr><td> 6</td><td>182</td></tr>\n",
              "\t<tr><td> 7</td><td>198</td></tr>\n",
              "\t<tr><td> 8</td><td>196</td></tr>\n",
              "\t<tr><td> 9</td><td>120</td></tr>\n",
              "\t<tr><td>10</td><td> 58</td></tr>\n",
              "\t<tr><td>11</td><td> 15</td></tr>\n",
              "\t<tr><td>12</td><td>  4</td></tr>\n",
              "</tbody>\n",
              "</table>\n"
            ]
          },
          "metadata": {
            "tags": []
          }
        }
      ]
    },
    {
      "cell_type": "code",
      "metadata": {
        "id": "XPHrOdzSGemU"
      },
      "source": [
        ""
      ],
      "execution_count": 66,
      "outputs": []
    },
    {
      "cell_type": "code",
      "metadata": {
        "trusted": true,
        "id": "hMv43FOOIzQY",
        "colab": {
          "base_uri": "https://localhost:8080/",
          "height": 437
        },
        "outputId": "2908712d-3734-4354-e590-6c4687d3a0ed"
      },
      "source": [
        "# gráfio ggplot \n",
        "\n",
        "df %>% \n",
        "    ggplot() +\n",
        "    aes(x = caras) +\n",
        "    geom_bar(stat = \"count\")\n",
        "\n"
      ],
      "execution_count": 72,
      "outputs": [
        {
          "output_type": "display_data",
          "data": {
            "image/png": "[encoded data removed]",
            "text/plain": [
              "plot without title"
            ]
          },
          "metadata": {
            "tags": [],
            "image/png": {
              "width": 420,
              "height": 420
            }
          }
        }
      ]
    },
    {
      "cell_type": "code",
      "metadata": {
        "trusted": true,
        "id": "Y85JLZ7NIzQY",
        "colab": {
          "base_uri": "https://localhost:8080/",
          "height": 455
        },
        "outputId": "2b32011b-ebf1-4000-beb2-fa0c8a9b0e64"
      },
      "source": [
        "# Pero si queremos visualizar las frecuencias relativas observadas?\n",
        "# Adicionalmente nos interesaría poder visualizar la función de masa de probabilidad.\n",
        "(N <- nrow(df))\n",
        "\n",
        "df %>% \n",
        "  group_by(caras) %>%\n",
        "  summarise(count = n(),\n",
        "            prob_obs = count/N) %>%\n",
        "  mutate(prob_real = dbinom(caras,size = 14, prob = 0.5)) %>%\n",
        "  ggplot() + \n",
        "  aes(x = caras, y = prob_obs) +\n",
        "  geom_bar(stat = \"identity\") +\n",
        "  geom_point(aes(y = prob_real), color = \"blue\", size = 5)\n",
        "\n",
        "\n"
      ],
      "execution_count": 75,
      "outputs": [
        {
          "output_type": "display_data",
          "data": {
            "text/plain": [
              "[1] 1000"
            ],
            "text/latex": "1000",
            "text/markdown": "1000",
            "text/html": [
              "1000"
            ]
          },
          "metadata": {
            "tags": []
          }
        },
        {
          "output_type": "display_data",
          "data": {
            "image/png": "[encoded data removed]",
            "text/plain": [
              "plot without title"
            ]
          },
          "metadata": {
            "tags": [],
            "image/png": {
              "width": 420,
              "height": 420
            }
          }
        }
      ]
    },
    {
      "cell_type": "code",
      "metadata": {
        "trusted": true,
        "id": "Rmq-HnPAIzQY"
      },
      "source": [
        ""
      ],
      "execution_count": null,
      "outputs": []
    },
    {
      "cell_type": "code",
      "metadata": {
        "trusted": true,
        "id": "mFBsXgatIzQY"
      },
      "source": [
        ""
      ],
      "execution_count": null,
      "outputs": []
    },
    {
      "cell_type": "markdown",
      "metadata": {
        "id": "4LDcECLUIzQY"
      },
      "source": [
        "# III) Distribución poisson\n",
        "## Contexto\n",
        "Usualmente una variable aleatoria poisson, representa la cantidad de eventos registrados en un interval fijo de tiempo con una cierta tasa de ocurrencia.\n",
        "## Función de probabilidad\n",
        "\n",
        "$$p(x) = \\lambda^x \\dfrac{e^{-\\lambda}}{x!}$$\n",
        "\n",
        "Donde $\\lambda$ corresponde a la tasa de ocurrencia y $x$ la cantida de eventos observados.\n",
        "\n",
        "## Funciones en R\n",
        " * `dpois(x, lambda, log = FALSE)`\n",
        " * `ppois(q, lambda, lower.tail = TRUE, log.p = FALSE)`\n",
        " * `qpois(p, lambda, lower.tail = TRUE, log.p = FALSE)`\n",
        " * `rpois(n, lambda)`"
      ]
    },
    {
      "cell_type": "markdown",
      "metadata": {
        "id": "9gR972O-IzQY"
      },
      "source": [
        "**P5.** Suponga que en un restaurant de comida se tiene una tasa de llegada de clientes de 2 clientes por cada 3 minutos en promedio. \n",
        "¿Cuál es la probabilidad de que 5 o más clientes lleguen en un período de 9 minutos?.\n"
      ]
    },
    {
      "cell_type": "code",
      "metadata": {
        "trusted": true,
        "id": "O57Ov87FIzQY",
        "colab": {
          "base_uri": "https://localhost:8080/",
          "height": 52
        },
        "outputId": "5dc54eec-fbd9-4d28-9ce5-6689634cda04"
      },
      "source": [
        "# La tasa de éxito en una dist. poisson es el parámetro lambda \n",
        "# Dada la info, se tiene una tasa de 6 clientes cada 9 minutos\n",
        "1-ppois(4, lambda = 6, lower.tail = T)\n",
        "\n",
        "\n",
        "ppois(4, lambda = 6, lower.tail = F) # Hay un 71% de prob  de que lleguen 5 o  más personas en un intervalo de 9 min.\n",
        "\n",
        "\n",
        "\n",
        "\n"
      ],
      "execution_count": 78,
      "outputs": [
        {
          "output_type": "display_data",
          "data": {
            "text/plain": [
              "[1] 0.7149435"
            ],
            "text/latex": "0.714943499683369",
            "text/markdown": "0.714943499683369",
            "text/html": [
              "0.714943499683369"
            ]
          },
          "metadata": {
            "tags": []
          }
        },
        {
          "output_type": "display_data",
          "data": {
            "text/plain": [
              "[1] 0.7149435"
            ],
            "text/latex": "0.714943499683369",
            "text/markdown": "0.714943499683369",
            "text/html": [
              "0.714943499683369"
            ]
          },
          "metadata": {
            "tags": []
          }
        }
      ]
    },
    {
      "cell_type": "markdown",
      "metadata": {
        "trusted": true,
        "id": "N3dXrqZSIzQY"
      },
      "source": [
        "**P6.** Se sabe que la tasa de falla en la elaboración de ampolletas sigue una distribución poisson, con una tasa de falla de 3 ampolletas defectuosas por semana.\n",
        "¿Cuál es la probabilidad de que al cabo de un mes se genere un total de 20 ampolletas defectuosas o más?\n",
        "\n"
      ]
    },
    {
      "cell_type": "code",
      "metadata": {
        "trusted": true,
        "id": "d8fs6wynIzQY",
        "colab": {
          "base_uri": "https://localhost:8080/",
          "height": 35
        },
        "outputId": "72fba6a3-0b21-49df-d2b4-e6b679fcb504"
      },
      "source": [
        "# lambda = 3*4 = 12 ampolletas defectuosas por mes\n",
        "ppois(19, lambda = 12, lower.tail = F) # Hay un 2% de prob de obtener 20 o más ampolletas defectuosas.\n"
      ],
      "execution_count": 80,
      "outputs": [
        {
          "output_type": "display_data",
          "data": {
            "text/plain": [
              "[1] 0.02127977"
            ],
            "text/latex": "0.0212797693830266",
            "text/markdown": "0.0212797693830266",
            "text/html": [
              "0.0212797693830266"
            ]
          },
          "metadata": {
            "tags": []
          }
        }
      ]
    },
    {
      "cell_type": "code",
      "metadata": {
        "trusted": true,
        "id": "D5uVa3ICIzQY",
        "colab": {
          "base_uri": "https://localhost:8080/",
          "height": 35
        },
        "outputId": "4ef820af-4eb2-4457-d349-947063009589"
      },
      "source": [
        "dpois(17, lambda = 12) # Hay un 3% de prob de obtener sólo 17 ampolletas defectuossas en un mes. (en este caso no spreguntamos por la probabilidad puntual del evento en cuestión)"
      ],
      "execution_count": 82,
      "outputs": [
        {
          "output_type": "display_data",
          "data": {
            "text/plain": [
              "[1] 0.03832471"
            ],
            "text/latex": "0.0383247106658675",
            "text/markdown": "0.0383247106658675",
            "text/html": [
              "0.0383247106658675"
            ]
          },
          "metadata": {
            "tags": []
          }
        }
      ]
    },
    {
      "cell_type": "code",
      "metadata": {
        "id": "dt_k_qI4N2rs",
        "outputId": "b778255c-fafe-4b42-cc34-14a9da541d18",
        "colab": {
          "base_uri": "https://localhost:8080/",
          "height": 35
        }
      },
      "source": [
        "qpois(0.9, lambda = 12) # El 90% de las veces (meses) se obtendrá como máximo 17 ampolletas defectuosas. "
      ],
      "execution_count": 83,
      "outputs": [
        {
          "output_type": "display_data",
          "data": {
            "text/plain": [
              "[1] 17"
            ],
            "text/latex": "17",
            "text/markdown": "17",
            "text/html": [
              "17"
            ]
          },
          "metadata": {
            "tags": []
          }
        }
      ]
    }
  ]
}