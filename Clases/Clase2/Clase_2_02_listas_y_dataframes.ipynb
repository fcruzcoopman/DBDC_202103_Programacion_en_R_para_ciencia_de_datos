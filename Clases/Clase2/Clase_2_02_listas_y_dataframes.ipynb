{
  "nbformat": 4,
  "nbformat_minor": 0,
  "metadata": {
    "colab": {
      "name": "Clase_2_02_listas_y_dataframes.ipynb",
      "provenance": [],
      "collapsed_sections": [],
      "include_colab_link": true
    },
    "kernelspec": {
      "name": "ir",
      "display_name": "R"
    }
  },
  "cells": [
    {
      "cell_type": "markdown",
      "metadata": {
        "id": "view-in-github",
        "colab_type": "text"
      },
      "source": [
        "<a href=\"https://colab.research.google.com/github/majorquev/DBDC_202103_Programacion_en_R_para_ciencia_de_datos/blob/main/Clases/Clase2/Clase_2_02_listas_y_dataframes.ipynb\" target=\"_parent\"><img src=\"https://colab.research.google.com/assets/colab-badge.svg\" alt=\"Open In Colab\"/></a>"
      ]
    },
    {
      "cell_type": "markdown",
      "metadata": {
        "collapsed": true,
        "id": "fgQ2azLwTpRn"
      },
      "source": [
        "# Parte 1: Introducción a R (continuación)\n",
        "\n",
        "**Autor:** Miguel Jorquera Viguera<br>\n",
        "**E-mail:** majorquev@gmail.com<br>\n",
        "**Ayudante:** Jorge Arévalo Labarca <br>\n",
        "**E-mail ayudante:** jorge.arevalol@usach.cl\n",
        "\n",
        "\n",
        "## 5. Listas y Dataframes\n",
        "\n",
        "### 5.1 Listas\n",
        "\n",
        "Hasta aquí contamos con dos tipos de objetos para almacenar datos; vectores y matrices. Sin embargo, en ambos casos se tiene la limitante de que no es posible combinar distintos tipos de datos en diferentes entradas. Un objeto que permite una mayor flexibilidad son las listas. En R, una lista es básicamente un arreglo unidimensional, donde en cada entrada es posible almacenar distintos **objetos** (los cuales a su vez pueden almacenar distintos tipos de datos (u otros objetos).\n",
        "En resumen,\n",
        "\n",
        "   * ¿Qué son?<br>\n",
        "    Arreglos unidimensionales que guardan distintos tipos de datos u objetos.<br>\n",
        "\n",
        "   * ¿Cómo se declaran?<br>\n",
        "    Se pueden declarar mediante el comando list() o combinando listas existentes. <br>\n",
        "    \n",
        "   * ¿Cómo se accede a sus elementos?<br>\n",
        "    Usando [ ] (retorna lista), o bien usando [ [ ] ] (retorna el objeto). \n",
        "    En cada caso se puede indicar la posición o nombre del objeto que se quiere rescatar.<br>\n",
        "    Otra manera es mediante el símbolo $ seguido del nombre del objeto.\n",
        "\n"
      ]
    },
    {
      "cell_type": "code",
      "metadata": {
        "trusted": true,
        "id": "zZHpLzzRTpRp",
        "colab": {
          "base_uri": "https://localhost:8080/",
          "height": 130
        },
        "outputId": "400f701a-d5c2-4566-ac50-535dc1666445"
      },
      "source": [
        "# 5. Listas y dataframes ------------\n",
        "# 5.1 Listas  ------------\n",
        "# Cómo declarar una lista (comando list() )\n",
        "#num,letra, pl, mat, lista\n",
        "l0 <- list(1, c(\"x\",\"y\"))\n",
        "l0\n",
        "\n",
        "str(l0)\n"
      ],
      "execution_count": 6,
      "outputs": [
        {
          "output_type": "display_data",
          "data": {
            "text/plain": [
              "[[1]]\n",
              "[1] 1\n",
              "\n",
              "[[2]]\n",
              "[1] \"x\" \"y\"\n"
            ],
            "text/latex": "\\begin{enumerate}\n\\item 1\n\\item \\begin{enumerate*}\n\\item 'x'\n\\item 'y'\n\\end{enumerate*}\n\n\\end{enumerate}\n",
            "text/markdown": "1. 1\n2. 1. 'x'\n2. 'y'\n\n\n\n\n\n",
            "text/html": [
              "<ol>\n",
              "\t<li>1</li>\n",
              "\t<li><style>\n",
              ".list-inline {list-style: none; margin:0; padding: 0}\n",
              ".list-inline>li {display: inline-block}\n",
              ".list-inline>li:not(:last-child)::after {content: \"\\00b7\"; padding: 0 .5ex}\n",
              "</style>\n",
              "<ol class=list-inline><li>'x'</li><li>'y'</li></ol>\n",
              "</li>\n",
              "</ol>\n"
            ]
          },
          "metadata": {
            "tags": []
          }
        },
        {
          "output_type": "stream",
          "text": [
            "List of 2\n",
            " $ : num 1\n",
            " $ : chr [1:2] \"x\" \"y\"\n"
          ],
          "name": "stdout"
        }
      ]
    },
    {
      "cell_type": "code",
      "metadata": {
        "id": "FdvLn67tBD5t"
      },
      "source": [
        "l1 <- list(num = c(1,1,2,3),\n",
        "           letra = c(\"a\",\"b\"),\n",
        "           mat = diag(c(10,11)),\n",
        "           lista = list(n1 = 2, let = \"j\") )\n",
        "\n",
        "l1"
      ],
      "execution_count": null,
      "outputs": []
    },
    {
      "cell_type": "code",
      "metadata": {
        "id": "urnRlr4OAtda"
      },
      "source": [
        ""
      ],
      "execution_count": null,
      "outputs": []
    },
    {
      "cell_type": "code",
      "metadata": {
        "id": "_iwOQA-xTzww",
        "colab": {
          "base_uri": "https://localhost:8080/"
        },
        "outputId": "94be0aa7-0a5a-482f-d3da-76398533b1b7"
      },
      "source": [
        "# estructura\n",
        "str(l1)"
      ],
      "execution_count": 3,
      "outputs": [
        {
          "output_type": "stream",
          "text": [
            "List of 4\n",
            " $ num  : num [1:4] 1 1 2 3\n",
            " $ letra: chr [1:2] \"a\" \"b\"\n",
            " $ mat  : num [1:2, 1:2] 10 0 0 11\n",
            " $ lista:List of 2\n",
            "  ..$ n1 : num 2\n",
            "  ..$ let: chr \"j\"\n"
          ],
          "name": "stdout"
        }
      ]
    },
    {
      "cell_type": "code",
      "metadata": {
        "trusted": true,
        "id": "Ao1wFCByTpRx"
      },
      "source": [
        "# Podemos guardar los objetos en slots con nombres\n"
      ],
      "execution_count": null,
      "outputs": []
    },
    {
      "cell_type": "code",
      "metadata": {
        "trusted": true,
        "id": "GBuxGL4cTpR0",
        "colab": {
          "base_uri": "https://localhost:8080/",
          "height": 113
        },
        "outputId": "8aae579c-ffed-4e6b-dae0-902572f35192"
      },
      "source": [
        "# Podemos combinar listas\n",
        "l2 <- list(res1 = 100,\n",
        "           id = c(\"miguel\",\"jorge\") )\n",
        "l2"
      ],
      "execution_count": 7,
      "outputs": [
        {
          "output_type": "display_data",
          "data": {
            "text/plain": [
              "$res1\n",
              "[1] 100\n",
              "\n",
              "$id\n",
              "[1] \"miguel\" \"jorge\" \n"
            ],
            "text/latex": "\\begin{description}\n\\item[\\$res1] 100\n\\item[\\$id] \\begin{enumerate*}\n\\item 'miguel'\n\\item 'jorge'\n\\end{enumerate*}\n\n\\end{description}\n",
            "text/markdown": "$res1\n:   100\n$id\n:   1. 'miguel'\n2. 'jorge'\n\n\n\n\n\n",
            "text/html": [
              "<dl>\n",
              "\t<dt>$res1</dt>\n",
              "\t\t<dd>100</dd>\n",
              "\t<dt>$id</dt>\n",
              "\t\t<dd><style>\n",
              ".list-inline {list-style: none; margin:0; padding: 0}\n",
              ".list-inline>li {display: inline-block}\n",
              ".list-inline>li:not(:last-child)::after {content: \"\\00b7\"; padding: 0 .5ex}\n",
              "</style>\n",
              "<ol class=list-inline><li>'miguel'</li><li>'jorge'</li></ol>\n",
              "</dd>\n",
              "</dl>\n"
            ]
          },
          "metadata": {
            "tags": []
          }
        }
      ]
    },
    {
      "cell_type": "code",
      "metadata": {
        "colab": {
          "base_uri": "https://localhost:8080/",
          "height": 424
        },
        "id": "VOJuePj1BaWw",
        "outputId": "4ae9f27e-452d-4115-f487-8d69893d7e95"
      },
      "source": [
        "# Las combinamos\n",
        "list_combinada <- c(l1,l2)\n",
        "list_combinada"
      ],
      "execution_count": 10,
      "outputs": [
        {
          "output_type": "display_data",
          "data": {
            "text/plain": [
              "$num\n",
              "[1] 1 1 2 3\n",
              "\n",
              "$letra\n",
              "[1] \"a\" \"b\"\n",
              "\n",
              "$mat\n",
              "     [,1] [,2]\n",
              "[1,]   10    0\n",
              "[2,]    0   11\n",
              "\n",
              "$lista\n",
              "$lista$n1\n",
              "[1] 2\n",
              "\n",
              "$lista$let\n",
              "[1] \"j\"\n",
              "\n",
              "\n",
              "$res1\n",
              "[1] 100\n",
              "\n",
              "$id\n",
              "[1] \"miguel\" \"jorge\" \n"
            ],
            "text/latex": "\\begin{description}\n\\item[\\$num] \\begin{enumerate*}\n\\item 1\n\\item 1\n\\item 2\n\\item 3\n\\end{enumerate*}\n\n\\item[\\$letra] \\begin{enumerate*}\n\\item 'a'\n\\item 'b'\n\\end{enumerate*}\n\n\\item[\\$mat] A matrix: 2 × 2 of type dbl\n\\begin{tabular}{ll}\n\t 10 &  0\\\\\n\t  0 & 11\\\\\n\\end{tabular}\n\n\\item[\\$lista] \\begin{description}\n\\item[\\$n1] 2\n\\item[\\$let] 'j'\n\\end{description}\n\n\\item[\\$res1] 100\n\\item[\\$id] \\begin{enumerate*}\n\\item 'miguel'\n\\item 'jorge'\n\\end{enumerate*}\n\n\\end{description}\n",
            "text/markdown": "$num\n:   1. 1\n2. 1\n3. 2\n4. 3\n\n\n\n$letra\n:   1. 'a'\n2. 'b'\n\n\n\n$mat\n:   \nA matrix: 2 × 2 of type dbl\n\n| 10 |  0 |\n|  0 | 11 |\n\n\n$lista\n:   $n1\n:   2\n$let\n:   'j'\n\n\n\n$res1\n:   100\n$id\n:   1. 'miguel'\n2. 'jorge'\n\n\n\n\n\n",
            "text/html": [
              "<dl>\n",
              "\t<dt>$num</dt>\n",
              "\t\t<dd><style>\n",
              ".list-inline {list-style: none; margin:0; padding: 0}\n",
              ".list-inline>li {display: inline-block}\n",
              ".list-inline>li:not(:last-child)::after {content: \"\\00b7\"; padding: 0 .5ex}\n",
              "</style>\n",
              "<ol class=list-inline><li>1</li><li>1</li><li>2</li><li>3</li></ol>\n",
              "</dd>\n",
              "\t<dt>$letra</dt>\n",
              "\t\t<dd><style>\n",
              ".list-inline {list-style: none; margin:0; padding: 0}\n",
              ".list-inline>li {display: inline-block}\n",
              ".list-inline>li:not(:last-child)::after {content: \"\\00b7\"; padding: 0 .5ex}\n",
              "</style>\n",
              "<ol class=list-inline><li>'a'</li><li>'b'</li></ol>\n",
              "</dd>\n",
              "\t<dt>$mat</dt>\n",
              "\t\t<dd><table class=\"dataframe\">\n",
              "<caption>A matrix: 2 × 2 of type dbl</caption>\n",
              "<tbody>\n",
              "\t<tr><td>10</td><td> 0</td></tr>\n",
              "\t<tr><td> 0</td><td>11</td></tr>\n",
              "</tbody>\n",
              "</table>\n",
              "</dd>\n",
              "\t<dt>$lista</dt>\n",
              "\t\t<dd><dl>\n",
              "\t<dt>$n1</dt>\n",
              "\t\t<dd>2</dd>\n",
              "\t<dt>$let</dt>\n",
              "\t\t<dd>'j'</dd>\n",
              "</dl>\n",
              "</dd>\n",
              "\t<dt>$res1</dt>\n",
              "\t\t<dd>100</dd>\n",
              "\t<dt>$id</dt>\n",
              "\t\t<dd><style>\n",
              ".list-inline {list-style: none; margin:0; padding: 0}\n",
              ".list-inline>li {display: inline-block}\n",
              ".list-inline>li:not(:last-child)::after {content: \"\\00b7\"; padding: 0 .5ex}\n",
              "</style>\n",
              "<ol class=list-inline><li>'miguel'</li><li>'jorge'</li></ol>\n",
              "</dd>\n",
              "</dl>\n"
            ]
          },
          "metadata": {
            "tags": []
          }
        }
      ]
    },
    {
      "cell_type": "code",
      "metadata": {
        "colab": {
          "base_uri": "https://localhost:8080/",
          "height": 34
        },
        "id": "M9-B59FOBl1J",
        "outputId": "0ba60557-3868-44ea-dacf-8b37e8a7172f"
      },
      "source": [
        "length(list_combinada) # Es una lista de 6 elementos"
      ],
      "execution_count": 11,
      "outputs": [
        {
          "output_type": "display_data",
          "data": {
            "text/plain": [
              "[1] 6"
            ],
            "text/latex": "6",
            "text/markdown": "6",
            "text/html": [
              "6"
            ]
          },
          "metadata": {
            "tags": []
          }
        }
      ]
    },
    {
      "cell_type": "code",
      "metadata": {
        "trusted": true,
        "id": "uUv7BQfnTpR3",
        "colab": {
          "base_uri": "https://localhost:8080/",
          "height": 51
        },
        "outputId": "2f8dabc5-e08e-4dfc-d73c-aa3b595743ac"
      },
      "source": [
        "# Acceso mediante posición\n",
        "l_segundo_elem <- list_combinada[2]\n",
        "l_segundo_elem"
      ],
      "execution_count": 13,
      "outputs": [
        {
          "output_type": "display_data",
          "data": {
            "text/plain": [
              "$letra\n",
              "[1] \"a\" \"b\"\n"
            ],
            "text/latex": "\\textbf{\\$letra} = \\begin{enumerate*}\n\\item 'a'\n\\item 'b'\n\\end{enumerate*}\n",
            "text/markdown": "**$letra** = 1. 'a'\n2. 'b'\n\n\n",
            "text/html": [
              "<strong>$letra</strong> = <style>\n",
              ".list-inline {list-style: none; margin:0; padding: 0}\n",
              ".list-inline>li {display: inline-block}\n",
              ".list-inline>li:not(:last-child)::after {content: \"\\00b7\"; padding: 0 .5ex}\n",
              "</style>\n",
              "<ol class=list-inline><li>'a'</li><li>'b'</li></ol>\n"
            ]
          },
          "metadata": {
            "tags": []
          }
        }
      ]
    },
    {
      "cell_type": "code",
      "metadata": {
        "trusted": true,
        "id": "L3RDKUqOTpR5",
        "colab": {
          "base_uri": "https://localhost:8080/",
          "height": 51
        },
        "outputId": "933075fd-4db0-4bf8-f70a-11d04629a65f"
      },
      "source": [
        "class(l_segundo_elem)\n",
        "typeof(l_segundo_elem)"
      ],
      "execution_count": 15,
      "outputs": [
        {
          "output_type": "display_data",
          "data": {
            "text/plain": [
              "[1] \"list\""
            ],
            "text/latex": "'list'",
            "text/markdown": "'list'",
            "text/html": [
              "'list'"
            ]
          },
          "metadata": {
            "tags": []
          }
        },
        {
          "output_type": "display_data",
          "data": {
            "text/plain": [
              "[1] \"list\""
            ],
            "text/latex": "'list'",
            "text/markdown": "'list'",
            "text/html": [
              "'list'"
            ]
          },
          "metadata": {
            "tags": []
          }
        }
      ]
    },
    {
      "cell_type": "code",
      "metadata": {
        "trusted": true,
        "id": "QbQ8QHARTpR7",
        "colab": {
          "base_uri": "https://localhost:8080/",
          "height": 51
        },
        "outputId": "7cb59b1e-d469-4113-cff8-e82feefe39cd"
      },
      "source": [
        "# NOTA lista[.] retorna un lista con un elemento,\n",
        "list_combinada[2] # Es una lista (de largo 1) con un elemento (vector de strings de largo 2)\n",
        "\n",
        "\n"
      ],
      "execution_count": 16,
      "outputs": [
        {
          "output_type": "display_data",
          "data": {
            "text/plain": [
              "$letra\n",
              "[1] \"a\" \"b\"\n"
            ],
            "text/latex": "\\textbf{\\$letra} = \\begin{enumerate*}\n\\item 'a'\n\\item 'b'\n\\end{enumerate*}\n",
            "text/markdown": "**$letra** = 1. 'a'\n2. 'b'\n\n\n",
            "text/html": [
              "<strong>$letra</strong> = <style>\n",
              ".list-inline {list-style: none; margin:0; padding: 0}\n",
              ".list-inline>li {display: inline-block}\n",
              ".list-inline>li:not(:last-child)::after {content: \"\\00b7\"; padding: 0 .5ex}\n",
              "</style>\n",
              "<ol class=list-inline><li>'a'</li><li>'b'</li></ol>\n"
            ]
          },
          "metadata": {
            "tags": []
          }
        }
      ]
    },
    {
      "cell_type": "code",
      "metadata": {
        "colab": {
          "base_uri": "https://localhost:8080/",
          "height": 68
        },
        "id": "dF-qkID3ChvW",
        "outputId": "0e01563f-426c-47cc-9753-205e42a9af89"
      },
      "source": [
        "# lista[[.]] retorna el elmento de la lista lista[.]\n",
        "segundo_elem <- list_combinada[[2]]\n",
        "segundo_elem\n",
        "class(segundo_elem)\n",
        "typeof(segundo_elem)"
      ],
      "execution_count": 19,
      "outputs": [
        {
          "output_type": "display_data",
          "data": {
            "text/plain": [
              "[1] \"a\" \"b\""
            ],
            "text/latex": "\\begin{enumerate*}\n\\item 'a'\n\\item 'b'\n\\end{enumerate*}\n",
            "text/markdown": "1. 'a'\n2. 'b'\n\n\n",
            "text/html": [
              "<style>\n",
              ".list-inline {list-style: none; margin:0; padding: 0}\n",
              ".list-inline>li {display: inline-block}\n",
              ".list-inline>li:not(:last-child)::after {content: \"\\00b7\"; padding: 0 .5ex}\n",
              "</style>\n",
              "<ol class=list-inline><li>'a'</li><li>'b'</li></ol>\n"
            ]
          },
          "metadata": {
            "tags": []
          }
        },
        {
          "output_type": "display_data",
          "data": {
            "text/plain": [
              "[1] \"character\""
            ],
            "text/latex": "'character'",
            "text/markdown": "'character'",
            "text/html": [
              "'character'"
            ]
          },
          "metadata": {
            "tags": []
          }
        },
        {
          "output_type": "display_data",
          "data": {
            "text/plain": [
              "[1] \"character\""
            ],
            "text/latex": "'character'",
            "text/markdown": "'character'",
            "text/html": [
              "'character'"
            ]
          },
          "metadata": {
            "tags": []
          }
        }
      ]
    },
    {
      "cell_type": "code",
      "metadata": {
        "colab": {
          "base_uri": "https://localhost:8080/",
          "height": 51
        },
        "id": "4mqUCSLZC88w",
        "outputId": "97829cf7-91b1-4ce0-9e81-c02ebedacf76"
      },
      "source": [
        "#Por eje: Queremos obtener el primer elmento del vector alojado en la segunda entrada de la lista\n",
        "segundo_elem[1]\n",
        "list_combinada[[2]][1]"
      ],
      "execution_count": 22,
      "outputs": [
        {
          "output_type": "display_data",
          "data": {
            "text/plain": [
              "[1] \"a\""
            ],
            "text/latex": "'a'",
            "text/markdown": "'a'",
            "text/html": [
              "'a'"
            ]
          },
          "metadata": {
            "tags": []
          }
        },
        {
          "output_type": "display_data",
          "data": {
            "text/plain": [
              "[1] \"a\""
            ],
            "text/latex": "'a'",
            "text/markdown": "'a'",
            "text/html": [
              "'a'"
            ]
          },
          "metadata": {
            "tags": []
          }
        }
      ]
    },
    {
      "cell_type": "code",
      "metadata": {
        "trusted": true,
        "id": "jYFKb27-TpSG",
        "colab": {
          "base_uri": "https://localhost:8080/",
          "height": 51
        },
        "outputId": "f1a8d46a-aae1-4368-f212-9bad8929e64b"
      },
      "source": [
        "# Acceso mediante nombre\n",
        "list_combinada[\"letra\"] # lista con el objeto\n",
        "\n"
      ],
      "execution_count": 26,
      "outputs": [
        {
          "output_type": "display_data",
          "data": {
            "text/plain": [
              "$letra\n",
              "[1] \"a\" \"b\"\n"
            ],
            "text/latex": "\\textbf{\\$letra} = \\begin{enumerate*}\n\\item 'a'\n\\item 'b'\n\\end{enumerate*}\n",
            "text/markdown": "**$letra** = 1. 'a'\n2. 'b'\n\n\n",
            "text/html": [
              "<strong>$letra</strong> = <style>\n",
              ".list-inline {list-style: none; margin:0; padding: 0}\n",
              ".list-inline>li {display: inline-block}\n",
              ".list-inline>li:not(:last-child)::after {content: \"\\00b7\"; padding: 0 .5ex}\n",
              "</style>\n",
              "<ol class=list-inline><li>'a'</li><li>'b'</li></ol>\n"
            ]
          },
          "metadata": {
            "tags": []
          }
        }
      ]
    },
    {
      "cell_type": "code",
      "metadata": {
        "colab": {
          "base_uri": "https://localhost:8080/",
          "height": 34
        },
        "id": "1LPm2MmhDgdr",
        "outputId": "55f8ad05-851d-4ef5-ecc8-d9d6173f66e0"
      },
      "source": [
        "list_combinada[[\"letra\"]] # El objeto directamente"
      ],
      "execution_count": 25,
      "outputs": [
        {
          "output_type": "display_data",
          "data": {
            "text/plain": [
              "[1] \"a\" \"b\""
            ],
            "text/latex": "\\begin{enumerate*}\n\\item 'a'\n\\item 'b'\n\\end{enumerate*}\n",
            "text/markdown": "1. 'a'\n2. 'b'\n\n\n",
            "text/html": [
              "<style>\n",
              ".list-inline {list-style: none; margin:0; padding: 0}\n",
              ".list-inline>li {display: inline-block}\n",
              ".list-inline>li:not(:last-child)::after {content: \"\\00b7\"; padding: 0 .5ex}\n",
              "</style>\n",
              "<ol class=list-inline><li>'a'</li><li>'b'</li></ol>\n"
            ]
          },
          "metadata": {
            "tags": []
          }
        }
      ]
    },
    {
      "cell_type": "code",
      "metadata": {
        "colab": {
          "base_uri": "https://localhost:8080/",
          "height": 209
        },
        "id": "MhgQNFIkDoLC",
        "outputId": "cc747057-071f-4137-fdb6-92e67c4fc0da"
      },
      "source": [
        "# Si queremos más de una entrada\n",
        "list_combinada[c(\"letra\", \"mat\")]"
      ],
      "execution_count": 27,
      "outputs": [
        {
          "output_type": "display_data",
          "data": {
            "text/plain": [
              "$letra\n",
              "[1] \"a\" \"b\"\n",
              "\n",
              "$mat\n",
              "     [,1] [,2]\n",
              "[1,]   10    0\n",
              "[2,]    0   11\n"
            ],
            "text/latex": "\\begin{description}\n\\item[\\$letra] \\begin{enumerate*}\n\\item 'a'\n\\item 'b'\n\\end{enumerate*}\n\n\\item[\\$mat] A matrix: 2 × 2 of type dbl\n\\begin{tabular}{ll}\n\t 10 &  0\\\\\n\t  0 & 11\\\\\n\\end{tabular}\n\n\\end{description}\n",
            "text/markdown": "$letra\n:   1. 'a'\n2. 'b'\n\n\n\n$mat\n:   \nA matrix: 2 × 2 of type dbl\n\n| 10 |  0 |\n|  0 | 11 |\n\n\n\n\n",
            "text/html": [
              "<dl>\n",
              "\t<dt>$letra</dt>\n",
              "\t\t<dd><style>\n",
              ".list-inline {list-style: none; margin:0; padding: 0}\n",
              ".list-inline>li {display: inline-block}\n",
              ".list-inline>li:not(:last-child)::after {content: \"\\00b7\"; padding: 0 .5ex}\n",
              "</style>\n",
              "<ol class=list-inline><li>'a'</li><li>'b'</li></ol>\n",
              "</dd>\n",
              "\t<dt>$mat</dt>\n",
              "\t\t<dd><table class=\"dataframe\">\n",
              "<caption>A matrix: 2 × 2 of type dbl</caption>\n",
              "<tbody>\n",
              "\t<tr><td>10</td><td> 0</td></tr>\n",
              "\t<tr><td> 0</td><td>11</td></tr>\n",
              "</tbody>\n",
              "</table>\n",
              "</dd>\n",
              "</dl>\n"
            ]
          },
          "metadata": {
            "tags": []
          }
        }
      ]
    },
    {
      "cell_type": "code",
      "metadata": {
        "trusted": true,
        "id": "a9UBaNOuTpSI",
        "colab": {
          "base_uri": "https://localhost:8080/",
          "height": 68
        },
        "outputId": "2db8c813-032b-4c53-da0f-893da9ff2ad7"
      },
      "source": [
        "# acceso vía \"$\"\n",
        "list_combinada$letra # Retorna directamente el elemento a consultar, es decir , es lo mismo que\n",
        "list_combinada[[\"letra\"]]\n",
        "list_combinada[[2]]\n",
        "\n",
        "\n"
      ],
      "execution_count": 30,
      "outputs": [
        {
          "output_type": "display_data",
          "data": {
            "text/plain": [
              "[1] \"a\" \"b\""
            ],
            "text/latex": "\\begin{enumerate*}\n\\item 'a'\n\\item 'b'\n\\end{enumerate*}\n",
            "text/markdown": "1. 'a'\n2. 'b'\n\n\n",
            "text/html": [
              "<style>\n",
              ".list-inline {list-style: none; margin:0; padding: 0}\n",
              ".list-inline>li {display: inline-block}\n",
              ".list-inline>li:not(:last-child)::after {content: \"\\00b7\"; padding: 0 .5ex}\n",
              "</style>\n",
              "<ol class=list-inline><li>'a'</li><li>'b'</li></ol>\n"
            ]
          },
          "metadata": {
            "tags": []
          }
        },
        {
          "output_type": "display_data",
          "data": {
            "text/plain": [
              "[1] \"a\" \"b\""
            ],
            "text/latex": "\\begin{enumerate*}\n\\item 'a'\n\\item 'b'\n\\end{enumerate*}\n",
            "text/markdown": "1. 'a'\n2. 'b'\n\n\n",
            "text/html": [
              "<style>\n",
              ".list-inline {list-style: none; margin:0; padding: 0}\n",
              ".list-inline>li {display: inline-block}\n",
              ".list-inline>li:not(:last-child)::after {content: \"\\00b7\"; padding: 0 .5ex}\n",
              "</style>\n",
              "<ol class=list-inline><li>'a'</li><li>'b'</li></ol>\n"
            ]
          },
          "metadata": {
            "tags": []
          }
        },
        {
          "output_type": "display_data",
          "data": {
            "text/plain": [
              "[1] \"a\" \"b\""
            ],
            "text/latex": "\\begin{enumerate*}\n\\item 'a'\n\\item 'b'\n\\end{enumerate*}\n",
            "text/markdown": "1. 'a'\n2. 'b'\n\n\n",
            "text/html": [
              "<style>\n",
              ".list-inline {list-style: none; margin:0; padding: 0}\n",
              ".list-inline>li {display: inline-block}\n",
              ".list-inline>li:not(:last-child)::after {content: \"\\00b7\"; padding: 0 .5ex}\n",
              "</style>\n",
              "<ol class=list-inline><li>'a'</li><li>'b'</li></ol>\n"
            ]
          },
          "metadata": {
            "tags": []
          }
        }
      ]
    },
    {
      "cell_type": "code",
      "metadata": {
        "trusted": true,
        "id": "Dumeo0-NTpSM",
        "colab": {
          "base_uri": "https://localhost:8080/",
          "height": 51
        },
        "outputId": "337f08ce-9483-4d7f-e5ca-3b75181d7d37"
      },
      "source": [
        "# para saber el largo de la lista/vector\n",
        "length(list_combinada)\n",
        "# Para obtener los nombres de la lista\n",
        "names(list_combinada)\n",
        "# si quisiéramos renombrar los slots: Ej. queremos cambiar la entrada llamada \"id\" por \"nombre\"\n",
        "\n",
        "names(list_combinada)[6] <- \"nombre\"\n"
      ],
      "execution_count": 33,
      "outputs": [
        {
          "output_type": "display_data",
          "data": {
            "text/plain": [
              "[1] 6"
            ],
            "text/latex": "6",
            "text/markdown": "6",
            "text/html": [
              "6"
            ]
          },
          "metadata": {
            "tags": []
          }
        },
        {
          "output_type": "display_data",
          "data": {
            "text/plain": [
              "[1] \"num\"   \"letra\" \"mat\"   \"lista\" \"res1\"  \"id\"   "
            ],
            "text/latex": "\\begin{enumerate*}\n\\item 'num'\n\\item 'letra'\n\\item 'mat'\n\\item 'lista'\n\\item 'res1'\n\\item 'id'\n\\end{enumerate*}\n",
            "text/markdown": "1. 'num'\n2. 'letra'\n3. 'mat'\n4. 'lista'\n5. 'res1'\n6. 'id'\n\n\n",
            "text/html": [
              "<style>\n",
              ".list-inline {list-style: none; margin:0; padding: 0}\n",
              ".list-inline>li {display: inline-block}\n",
              ".list-inline>li:not(:last-child)::after {content: \"\\00b7\"; padding: 0 .5ex}\n",
              "</style>\n",
              "<ol class=list-inline><li>'num'</li><li>'letra'</li><li>'mat'</li><li>'lista'</li><li>'res1'</li><li>'id'</li></ol>\n"
            ]
          },
          "metadata": {
            "tags": []
          }
        }
      ]
    },
    {
      "cell_type": "code",
      "metadata": {
        "colab": {
          "base_uri": "https://localhost:8080/",
          "height": 424
        },
        "id": "cepS8o8HE1zT",
        "outputId": "795b0f5b-f51c-42ca-b89a-80d7e7a6ba0f"
      },
      "source": [
        "list_combinada"
      ],
      "execution_count": 34,
      "outputs": [
        {
          "output_type": "display_data",
          "data": {
            "text/plain": [
              "$num\n",
              "[1] 1 1 2 3\n",
              "\n",
              "$letra\n",
              "[1] \"a\" \"b\"\n",
              "\n",
              "$mat\n",
              "     [,1] [,2]\n",
              "[1,]   10    0\n",
              "[2,]    0   11\n",
              "\n",
              "$lista\n",
              "$lista$n1\n",
              "[1] 2\n",
              "\n",
              "$lista$let\n",
              "[1] \"j\"\n",
              "\n",
              "\n",
              "$res1\n",
              "[1] 100\n",
              "\n",
              "$nombre\n",
              "[1] \"miguel\" \"jorge\" \n"
            ],
            "text/latex": "\\begin{description}\n\\item[\\$num] \\begin{enumerate*}\n\\item 1\n\\item 1\n\\item 2\n\\item 3\n\\end{enumerate*}\n\n\\item[\\$letra] \\begin{enumerate*}\n\\item 'a'\n\\item 'b'\n\\end{enumerate*}\n\n\\item[\\$mat] A matrix: 2 × 2 of type dbl\n\\begin{tabular}{ll}\n\t 10 &  0\\\\\n\t  0 & 11\\\\\n\\end{tabular}\n\n\\item[\\$lista] \\begin{description}\n\\item[\\$n1] 2\n\\item[\\$let] 'j'\n\\end{description}\n\n\\item[\\$res1] 100\n\\item[\\$nombre] \\begin{enumerate*}\n\\item 'miguel'\n\\item 'jorge'\n\\end{enumerate*}\n\n\\end{description}\n",
            "text/markdown": "$num\n:   1. 1\n2. 1\n3. 2\n4. 3\n\n\n\n$letra\n:   1. 'a'\n2. 'b'\n\n\n\n$mat\n:   \nA matrix: 2 × 2 of type dbl\n\n| 10 |  0 |\n|  0 | 11 |\n\n\n$lista\n:   $n1\n:   2\n$let\n:   'j'\n\n\n\n$res1\n:   100\n$nombre\n:   1. 'miguel'\n2. 'jorge'\n\n\n\n\n\n",
            "text/html": [
              "<dl>\n",
              "\t<dt>$num</dt>\n",
              "\t\t<dd><style>\n",
              ".list-inline {list-style: none; margin:0; padding: 0}\n",
              ".list-inline>li {display: inline-block}\n",
              ".list-inline>li:not(:last-child)::after {content: \"\\00b7\"; padding: 0 .5ex}\n",
              "</style>\n",
              "<ol class=list-inline><li>1</li><li>1</li><li>2</li><li>3</li></ol>\n",
              "</dd>\n",
              "\t<dt>$letra</dt>\n",
              "\t\t<dd><style>\n",
              ".list-inline {list-style: none; margin:0; padding: 0}\n",
              ".list-inline>li {display: inline-block}\n",
              ".list-inline>li:not(:last-child)::after {content: \"\\00b7\"; padding: 0 .5ex}\n",
              "</style>\n",
              "<ol class=list-inline><li>'a'</li><li>'b'</li></ol>\n",
              "</dd>\n",
              "\t<dt>$mat</dt>\n",
              "\t\t<dd><table class=\"dataframe\">\n",
              "<caption>A matrix: 2 × 2 of type dbl</caption>\n",
              "<tbody>\n",
              "\t<tr><td>10</td><td> 0</td></tr>\n",
              "\t<tr><td> 0</td><td>11</td></tr>\n",
              "</tbody>\n",
              "</table>\n",
              "</dd>\n",
              "\t<dt>$lista</dt>\n",
              "\t\t<dd><dl>\n",
              "\t<dt>$n1</dt>\n",
              "\t\t<dd>2</dd>\n",
              "\t<dt>$let</dt>\n",
              "\t\t<dd>'j'</dd>\n",
              "</dl>\n",
              "</dd>\n",
              "\t<dt>$res1</dt>\n",
              "\t\t<dd>100</dd>\n",
              "\t<dt>$nombre</dt>\n",
              "\t\t<dd><style>\n",
              ".list-inline {list-style: none; margin:0; padding: 0}\n",
              ".list-inline>li {display: inline-block}\n",
              ".list-inline>li:not(:last-child)::after {content: \"\\00b7\"; padding: 0 .5ex}\n",
              "</style>\n",
              "<ol class=list-inline><li>'miguel'</li><li>'jorge'</li></ol>\n",
              "</dd>\n",
              "</dl>\n"
            ]
          },
          "metadata": {
            "tags": []
          }
        }
      ]
    },
    {
      "cell_type": "code",
      "metadata": {
        "colab": {
          "base_uri": "https://localhost:8080/",
          "height": 34
        },
        "id": "Tp1kdn4CFJFR",
        "outputId": "95f35b0d-b6b8-4860-98a8-b700a94fcb36"
      },
      "source": [
        "# Otro ejemplo de acceso.\n",
        "# Rescatar la \"j\"\n",
        "\n",
        "list_combinada$lista$let"
      ],
      "execution_count": 45,
      "outputs": [
        {
          "output_type": "display_data",
          "data": {
            "text/plain": [
              "[1] \"j\""
            ],
            "text/latex": "'j'",
            "text/markdown": "'j'",
            "text/html": [
              "'j'"
            ]
          },
          "metadata": {
            "tags": []
          }
        }
      ]
    },
    {
      "cell_type": "code",
      "metadata": {
        "colab": {
          "base_uri": "https://localhost:8080/",
          "height": 51
        },
        "id": "9imjg--JFiED",
        "outputId": "2d0ccee7-c263-4e1f-cf9b-f9938f5ffd05"
      },
      "source": [
        "list_combinada[[\"lista\"]][[\"let\"]]\n",
        "list_combinada$lista[[2]]"
      ],
      "execution_count": 43,
      "outputs": [
        {
          "output_type": "display_data",
          "data": {
            "text/plain": [
              "[1] \"j\""
            ],
            "text/latex": "'j'",
            "text/markdown": "'j'",
            "text/html": [
              "'j'"
            ]
          },
          "metadata": {
            "tags": []
          }
        },
        {
          "output_type": "display_data",
          "data": {
            "text/plain": [
              "[1] \"j\""
            ],
            "text/latex": "'j'",
            "text/markdown": "'j'",
            "text/html": [
              "'j'"
            ]
          },
          "metadata": {
            "tags": []
          }
        }
      ]
    },
    {
      "cell_type": "code",
      "metadata": {
        "trusted": true,
        "id": "Uij1PdVrTpSO"
      },
      "source": [
        "# También podemos crear nuevos \"slots\"\n",
        "## Indicando nombre en [[]] y luego asignando\n",
        "## Indicando nombre luedo del \"$\"\" y luego asignando\n",
        "\n",
        "list_combinada[[\"nuevo1\"]] <- c(5,7)\n"
      ],
      "execution_count": 49,
      "outputs": []
    },
    {
      "cell_type": "code",
      "metadata": {
        "id": "R3-cZCXyGl6u"
      },
      "source": [
        "list_combinada$nuevo2 <- \"Una frase completa\""
      ],
      "execution_count": 52,
      "outputs": []
    },
    {
      "cell_type": "code",
      "metadata": {
        "colab": {
          "base_uri": "https://localhost:8080/",
          "height": 492
        },
        "id": "sGDt6xz8GjFi",
        "outputId": "9ede98bd-fd7c-4e1a-89e2-69e240d4691a"
      },
      "source": [
        "list_combinada"
      ],
      "execution_count": 53,
      "outputs": [
        {
          "output_type": "display_data",
          "data": {
            "text/plain": [
              "$num\n",
              "[1] 1 1 2 3\n",
              "\n",
              "$letra\n",
              "[1] \"a\" \"b\"\n",
              "\n",
              "$mat\n",
              "     [,1] [,2]\n",
              "[1,]   10    0\n",
              "[2,]    0   11\n",
              "\n",
              "$lista\n",
              "$lista$n1\n",
              "[1] 2\n",
              "\n",
              "$lista$let\n",
              "[1] \"j\"\n",
              "\n",
              "\n",
              "$res1\n",
              "[1] 100\n",
              "\n",
              "$nombre\n",
              "[1] \"miguel\" \"jorge\" \n",
              "\n",
              "$nuevo1\n",
              "[1] 5 7\n",
              "\n",
              "$nuevo2\n",
              "[1] \"Una frase completa\"\n"
            ],
            "text/latex": "\\begin{description}\n\\item[\\$num] \\begin{enumerate*}\n\\item 1\n\\item 1\n\\item 2\n\\item 3\n\\end{enumerate*}\n\n\\item[\\$letra] \\begin{enumerate*}\n\\item 'a'\n\\item 'b'\n\\end{enumerate*}\n\n\\item[\\$mat] A matrix: 2 × 2 of type dbl\n\\begin{tabular}{ll}\n\t 10 &  0\\\\\n\t  0 & 11\\\\\n\\end{tabular}\n\n\\item[\\$lista] \\begin{description}\n\\item[\\$n1] 2\n\\item[\\$let] 'j'\n\\end{description}\n\n\\item[\\$res1] 100\n\\item[\\$nombre] \\begin{enumerate*}\n\\item 'miguel'\n\\item 'jorge'\n\\end{enumerate*}\n\n\\item[\\$nuevo1] \\begin{enumerate*}\n\\item 5\n\\item 7\n\\end{enumerate*}\n\n\\item[\\$nuevo2] 'Una frase completa'\n\\end{description}\n",
            "text/markdown": "$num\n:   1. 1\n2. 1\n3. 2\n4. 3\n\n\n\n$letra\n:   1. 'a'\n2. 'b'\n\n\n\n$mat\n:   \nA matrix: 2 × 2 of type dbl\n\n| 10 |  0 |\n|  0 | 11 |\n\n\n$lista\n:   $n1\n:   2\n$let\n:   'j'\n\n\n\n$res1\n:   100\n$nombre\n:   1. 'miguel'\n2. 'jorge'\n\n\n\n$nuevo1\n:   1. 5\n2. 7\n\n\n\n$nuevo2\n:   'Una frase completa'\n\n\n",
            "text/html": [
              "<dl>\n",
              "\t<dt>$num</dt>\n",
              "\t\t<dd><style>\n",
              ".list-inline {list-style: none; margin:0; padding: 0}\n",
              ".list-inline>li {display: inline-block}\n",
              ".list-inline>li:not(:last-child)::after {content: \"\\00b7\"; padding: 0 .5ex}\n",
              "</style>\n",
              "<ol class=list-inline><li>1</li><li>1</li><li>2</li><li>3</li></ol>\n",
              "</dd>\n",
              "\t<dt>$letra</dt>\n",
              "\t\t<dd><style>\n",
              ".list-inline {list-style: none; margin:0; padding: 0}\n",
              ".list-inline>li {display: inline-block}\n",
              ".list-inline>li:not(:last-child)::after {content: \"\\00b7\"; padding: 0 .5ex}\n",
              "</style>\n",
              "<ol class=list-inline><li>'a'</li><li>'b'</li></ol>\n",
              "</dd>\n",
              "\t<dt>$mat</dt>\n",
              "\t\t<dd><table class=\"dataframe\">\n",
              "<caption>A matrix: 2 × 2 of type dbl</caption>\n",
              "<tbody>\n",
              "\t<tr><td>10</td><td> 0</td></tr>\n",
              "\t<tr><td> 0</td><td>11</td></tr>\n",
              "</tbody>\n",
              "</table>\n",
              "</dd>\n",
              "\t<dt>$lista</dt>\n",
              "\t\t<dd><dl>\n",
              "\t<dt>$n1</dt>\n",
              "\t\t<dd>2</dd>\n",
              "\t<dt>$let</dt>\n",
              "\t\t<dd>'j'</dd>\n",
              "</dl>\n",
              "</dd>\n",
              "\t<dt>$res1</dt>\n",
              "\t\t<dd>100</dd>\n",
              "\t<dt>$nombre</dt>\n",
              "\t\t<dd><style>\n",
              ".list-inline {list-style: none; margin:0; padding: 0}\n",
              ".list-inline>li {display: inline-block}\n",
              ".list-inline>li:not(:last-child)::after {content: \"\\00b7\"; padding: 0 .5ex}\n",
              "</style>\n",
              "<ol class=list-inline><li>'miguel'</li><li>'jorge'</li></ol>\n",
              "</dd>\n",
              "\t<dt>$nuevo1</dt>\n",
              "\t\t<dd><style>\n",
              ".list-inline {list-style: none; margin:0; padding: 0}\n",
              ".list-inline>li {display: inline-block}\n",
              ".list-inline>li:not(:last-child)::after {content: \"\\00b7\"; padding: 0 .5ex}\n",
              "</style>\n",
              "<ol class=list-inline><li>5</li><li>7</li></ol>\n",
              "</dd>\n",
              "\t<dt>$nuevo2</dt>\n",
              "\t\t<dd>'Una frase completa'</dd>\n",
              "</dl>\n"
            ]
          },
          "metadata": {
            "tags": []
          }
        }
      ]
    },
    {
      "cell_type": "code",
      "metadata": {
        "trusted": true,
        "id": "rBB4hT9RTpSQ"
      },
      "source": [
        "# podemos modificar elementos dentro de un slot\n",
        "\n"
      ],
      "execution_count": null,
      "outputs": []
    },
    {
      "cell_type": "markdown",
      "metadata": {
        "id": "128wI4ZoTpSS"
      },
      "source": [
        "### 5.2 Dataframes\n",
        "\n",
        "Un dataframe es un caso particular de una lista, donde los objetos de cada entrada corresponden a vectores de datos del mismo largo. E este caso cada vector corresponde a una columna del data.frame, mientras que la cantidad de filas corresponde al largo común de los vectores de cada entrada. El objeto resultante es una *tabla*, de ahora en adelante *data.frame*, cuyas columnas poseen distintos tipos de datos entre sí. \n",
        "\n",
        " * ¿Cómo se declara un dataframe?<br>\n",
        "     Mediante la función data.frame(), indicando los vectores que conformarán las columnas.\n",
        " \n",
        " * ¿Cómo se accede a los datos de un data.frame?<br>\n",
        "    Al ser una lista, se puede acceder de la misma manera. Sin embargo también es posible acceder del modo en que se accede a los elementos de una matriz."
      ]
    },
    {
      "cell_type": "code",
      "metadata": {
        "trusted": true,
        "id": "qJ-2zVWVTpST",
        "colab": {
          "base_uri": "https://localhost:8080/",
          "height": 407
        },
        "outputId": "5392adc6-9c9b-429d-ebe8-5776ac07e0b1"
      },
      "source": [
        "# 5.2 Dataframes ----------\n",
        "# Ejemplo sencillo de definición de un data.frame\n",
        "# recordar que 1:3 es lo mismo que c(1,2,3)\n",
        "d1 <- data.frame(id = 1:10,\n",
        "                 nombre =  paste(\"nombre\",1:10,sep = \"_\") ,\n",
        "                 edad = 20:29)\n",
        "d1"
      ],
      "execution_count": 62,
      "outputs": [
        {
          "output_type": "display_data",
          "data": {
            "text/plain": [
              "   id nombre    edad\n",
              "1   1 nombre_1  20  \n",
              "2   2 nombre_2  21  \n",
              "3   3 nombre_3  22  \n",
              "4   4 nombre_4  23  \n",
              "5   5 nombre_5  24  \n",
              "6   6 nombre_6  25  \n",
              "7   7 nombre_7  26  \n",
              "8   8 nombre_8  27  \n",
              "9   9 nombre_9  28  \n",
              "10 10 nombre_10 29  "
            ],
            "text/latex": "A data.frame: 10 × 3\n\\begin{tabular}{lll}\n id & nombre & edad\\\\\n <int> & <chr> & <int>\\\\\n\\hline\n\t  1 & nombre\\_1  & 20\\\\\n\t  2 & nombre\\_2  & 21\\\\\n\t  3 & nombre\\_3  & 22\\\\\n\t  4 & nombre\\_4  & 23\\\\\n\t  5 & nombre\\_5  & 24\\\\\n\t  6 & nombre\\_6  & 25\\\\\n\t  7 & nombre\\_7  & 26\\\\\n\t  8 & nombre\\_8  & 27\\\\\n\t  9 & nombre\\_9  & 28\\\\\n\t 10 & nombre\\_10 & 29\\\\\n\\end{tabular}\n",
            "text/markdown": "\nA data.frame: 10 × 3\n\n| id &lt;int&gt; | nombre &lt;chr&gt; | edad &lt;int&gt; |\n|---|---|---|\n|  1 | nombre_1  | 20 |\n|  2 | nombre_2  | 21 |\n|  3 | nombre_3  | 22 |\n|  4 | nombre_4  | 23 |\n|  5 | nombre_5  | 24 |\n|  6 | nombre_6  | 25 |\n|  7 | nombre_7  | 26 |\n|  8 | nombre_8  | 27 |\n|  9 | nombre_9  | 28 |\n| 10 | nombre_10 | 29 |\n\n",
            "text/html": [
              "<table class=\"dataframe\">\n",
              "<caption>A data.frame: 10 × 3</caption>\n",
              "<thead>\n",
              "\t<tr><th scope=col>id</th><th scope=col>nombre</th><th scope=col>edad</th></tr>\n",
              "\t<tr><th scope=col>&lt;int&gt;</th><th scope=col>&lt;chr&gt;</th><th scope=col>&lt;int&gt;</th></tr>\n",
              "</thead>\n",
              "<tbody>\n",
              "\t<tr><td> 1</td><td>nombre_1 </td><td>20</td></tr>\n",
              "\t<tr><td> 2</td><td>nombre_2 </td><td>21</td></tr>\n",
              "\t<tr><td> 3</td><td>nombre_3 </td><td>22</td></tr>\n",
              "\t<tr><td> 4</td><td>nombre_4 </td><td>23</td></tr>\n",
              "\t<tr><td> 5</td><td>nombre_5 </td><td>24</td></tr>\n",
              "\t<tr><td> 6</td><td>nombre_6 </td><td>25</td></tr>\n",
              "\t<tr><td> 7</td><td>nombre_7 </td><td>26</td></tr>\n",
              "\t<tr><td> 8</td><td>nombre_8 </td><td>27</td></tr>\n",
              "\t<tr><td> 9</td><td>nombre_9 </td><td>28</td></tr>\n",
              "\t<tr><td>10</td><td>nombre_10</td><td>29</td></tr>\n",
              "</tbody>\n",
              "</table>\n"
            ]
          },
          "metadata": {
            "tags": []
          }
        }
      ]
    },
    {
      "cell_type": "code",
      "metadata": {
        "colab": {
          "base_uri": "https://localhost:8080/"
        },
        "id": "7xSnAiLzIERX",
        "outputId": "8025e84a-ff6f-4941-9f74-947b64f4152b"
      },
      "source": [
        "str(d1)"
      ],
      "execution_count": 70,
      "outputs": [
        {
          "output_type": "stream",
          "text": [
            "'data.frame':\t10 obs. of  3 variables:\n",
            " $ id    : int  1 2 3 4 5 6 7 8 9 10\n",
            " $ nombre: chr  \"nombre_1\" \"nombre_2\" \"nombre_3\" \"nombre_4\" ...\n",
            " $ edad  : int  20 21 22 23 24 25 26 27 28 29\n"
          ],
          "name": "stdout"
        }
      ]
    },
    {
      "cell_type": "code",
      "metadata": {
        "trusted": true,
        "id": "nv7stC8ITpSY",
        "colab": {
          "base_uri": "https://localhost:8080/",
          "height": 475
        },
        "outputId": "b040ecfd-e6ac-4aeb-9169-63d7dfe7fb08"
      },
      "source": [
        "# Acceso a columnas de un data.frame\n",
        "## Igual que en una lista\n",
        "\n",
        "d1$edad\n",
        "#Es lo mismo que :\n",
        "d1[\"edad\"] # Dataframe con el vector edad\n",
        "d1[[\"edad\"]] # Vector con las edades"
      ],
      "execution_count": 65,
      "outputs": [
        {
          "output_type": "display_data",
          "data": {
            "text/plain": [
              " [1] 20 21 22 23 24 25 26 27 28 29"
            ],
            "text/latex": "\\begin{enumerate*}\n\\item 20\n\\item 21\n\\item 22\n\\item 23\n\\item 24\n\\item 25\n\\item 26\n\\item 27\n\\item 28\n\\item 29\n\\end{enumerate*}\n",
            "text/markdown": "1. 20\n2. 21\n3. 22\n4. 23\n5. 24\n6. 25\n7. 26\n8. 27\n9. 28\n10. 29\n\n\n",
            "text/html": [
              "<style>\n",
              ".list-inline {list-style: none; margin:0; padding: 0}\n",
              ".list-inline>li {display: inline-block}\n",
              ".list-inline>li:not(:last-child)::after {content: \"\\00b7\"; padding: 0 .5ex}\n",
              "</style>\n",
              "<ol class=list-inline><li>20</li><li>21</li><li>22</li><li>23</li><li>24</li><li>25</li><li>26</li><li>27</li><li>28</li><li>29</li></ol>\n"
            ]
          },
          "metadata": {
            "tags": []
          }
        },
        {
          "output_type": "display_data",
          "data": {
            "text/plain": [
              "   edad\n",
              "1  20  \n",
              "2  21  \n",
              "3  22  \n",
              "4  23  \n",
              "5  24  \n",
              "6  25  \n",
              "7  26  \n",
              "8  27  \n",
              "9  28  \n",
              "10 29  "
            ],
            "text/latex": "A data.frame: 10 × 1\n\\begin{tabular}{l}\n edad\\\\\n <int>\\\\\n\\hline\n\t 20\\\\\n\t 21\\\\\n\t 22\\\\\n\t 23\\\\\n\t 24\\\\\n\t 25\\\\\n\t 26\\\\\n\t 27\\\\\n\t 28\\\\\n\t 29\\\\\n\\end{tabular}\n",
            "text/markdown": "\nA data.frame: 10 × 1\n\n| edad &lt;int&gt; |\n|---|\n| 20 |\n| 21 |\n| 22 |\n| 23 |\n| 24 |\n| 25 |\n| 26 |\n| 27 |\n| 28 |\n| 29 |\n\n",
            "text/html": [
              "<table class=\"dataframe\">\n",
              "<caption>A data.frame: 10 × 1</caption>\n",
              "<thead>\n",
              "\t<tr><th scope=col>edad</th></tr>\n",
              "\t<tr><th scope=col>&lt;int&gt;</th></tr>\n",
              "</thead>\n",
              "<tbody>\n",
              "\t<tr><td>20</td></tr>\n",
              "\t<tr><td>21</td></tr>\n",
              "\t<tr><td>22</td></tr>\n",
              "\t<tr><td>23</td></tr>\n",
              "\t<tr><td>24</td></tr>\n",
              "\t<tr><td>25</td></tr>\n",
              "\t<tr><td>26</td></tr>\n",
              "\t<tr><td>27</td></tr>\n",
              "\t<tr><td>28</td></tr>\n",
              "\t<tr><td>29</td></tr>\n",
              "</tbody>\n",
              "</table>\n"
            ]
          },
          "metadata": {
            "tags": []
          }
        },
        {
          "output_type": "display_data",
          "data": {
            "text/plain": [
              " [1] 20 21 22 23 24 25 26 27 28 29"
            ],
            "text/latex": "\\begin{enumerate*}\n\\item 20\n\\item 21\n\\item 22\n\\item 23\n\\item 24\n\\item 25\n\\item 26\n\\item 27\n\\item 28\n\\item 29\n\\end{enumerate*}\n",
            "text/markdown": "1. 20\n2. 21\n3. 22\n4. 23\n5. 24\n6. 25\n7. 26\n8. 27\n9. 28\n10. 29\n\n\n",
            "text/html": [
              "<style>\n",
              ".list-inline {list-style: none; margin:0; padding: 0}\n",
              ".list-inline>li {display: inline-block}\n",
              ".list-inline>li:not(:last-child)::after {content: \"\\00b7\"; padding: 0 .5ex}\n",
              "</style>\n",
              "<ol class=list-inline><li>20</li><li>21</li><li>22</li><li>23</li><li>24</li><li>25</li><li>26</li><li>27</li><li>28</li><li>29</li></ol>\n"
            ]
          },
          "metadata": {
            "tags": []
          }
        }
      ]
    },
    {
      "cell_type": "code",
      "metadata": {
        "trusted": true,
        "id": "3t6_J3BHTpSb",
        "colab": {
          "base_uri": "https://localhost:8080/",
          "height": 407
        },
        "outputId": "c1012f31-4ba0-4d2b-f8c4-e01b6890e60f"
      },
      "source": [
        "d1"
      ],
      "execution_count": 66,
      "outputs": [
        {
          "output_type": "display_data",
          "data": {
            "text/plain": [
              "   id nombre    edad\n",
              "1   1 nombre_1  20  \n",
              "2   2 nombre_2  21  \n",
              "3   3 nombre_3  22  \n",
              "4   4 nombre_4  23  \n",
              "5   5 nombre_5  24  \n",
              "6   6 nombre_6  25  \n",
              "7   7 nombre_7  26  \n",
              "8   8 nombre_8  27  \n",
              "9   9 nombre_9  28  \n",
              "10 10 nombre_10 29  "
            ],
            "text/latex": "A data.frame: 10 × 3\n\\begin{tabular}{lll}\n id & nombre & edad\\\\\n <int> & <chr> & <int>\\\\\n\\hline\n\t  1 & nombre\\_1  & 20\\\\\n\t  2 & nombre\\_2  & 21\\\\\n\t  3 & nombre\\_3  & 22\\\\\n\t  4 & nombre\\_4  & 23\\\\\n\t  5 & nombre\\_5  & 24\\\\\n\t  6 & nombre\\_6  & 25\\\\\n\t  7 & nombre\\_7  & 26\\\\\n\t  8 & nombre\\_8  & 27\\\\\n\t  9 & nombre\\_9  & 28\\\\\n\t 10 & nombre\\_10 & 29\\\\\n\\end{tabular}\n",
            "text/markdown": "\nA data.frame: 10 × 3\n\n| id &lt;int&gt; | nombre &lt;chr&gt; | edad &lt;int&gt; |\n|---|---|---|\n|  1 | nombre_1  | 20 |\n|  2 | nombre_2  | 21 |\n|  3 | nombre_3  | 22 |\n|  4 | nombre_4  | 23 |\n|  5 | nombre_5  | 24 |\n|  6 | nombre_6  | 25 |\n|  7 | nombre_7  | 26 |\n|  8 | nombre_8  | 27 |\n|  9 | nombre_9  | 28 |\n| 10 | nombre_10 | 29 |\n\n",
            "text/html": [
              "<table class=\"dataframe\">\n",
              "<caption>A data.frame: 10 × 3</caption>\n",
              "<thead>\n",
              "\t<tr><th scope=col>id</th><th scope=col>nombre</th><th scope=col>edad</th></tr>\n",
              "\t<tr><th scope=col>&lt;int&gt;</th><th scope=col>&lt;chr&gt;</th><th scope=col>&lt;int&gt;</th></tr>\n",
              "</thead>\n",
              "<tbody>\n",
              "\t<tr><td> 1</td><td>nombre_1 </td><td>20</td></tr>\n",
              "\t<tr><td> 2</td><td>nombre_2 </td><td>21</td></tr>\n",
              "\t<tr><td> 3</td><td>nombre_3 </td><td>22</td></tr>\n",
              "\t<tr><td> 4</td><td>nombre_4 </td><td>23</td></tr>\n",
              "\t<tr><td> 5</td><td>nombre_5 </td><td>24</td></tr>\n",
              "\t<tr><td> 6</td><td>nombre_6 </td><td>25</td></tr>\n",
              "\t<tr><td> 7</td><td>nombre_7 </td><td>26</td></tr>\n",
              "\t<tr><td> 8</td><td>nombre_8 </td><td>27</td></tr>\n",
              "\t<tr><td> 9</td><td>nombre_9 </td><td>28</td></tr>\n",
              "\t<tr><td>10</td><td>nombre_10</td><td>29</td></tr>\n",
              "</tbody>\n",
              "</table>\n"
            ]
          },
          "metadata": {
            "tags": []
          }
        }
      ]
    },
    {
      "cell_type": "code",
      "metadata": {
        "trusted": true,
        "id": "CojdmEs9TpSd",
        "colab": {
          "base_uri": "https://localhost:8080/",
          "height": 162
        },
        "outputId": "535669db-045f-43f5-d559-29f342e34a03"
      },
      "source": [
        "##  Ganamos acceso como matriz\n",
        "# segundafila de d1\n",
        "d1[2,]\n",
        "\n",
        "# segunda fila y tercera columna\n",
        "d1[2,3]\n",
        "# lo anterior es lo mismo que\n",
        "d1[2,\"edad\"]\n",
        "\n",
        "\n"
      ],
      "execution_count": 69,
      "outputs": [
        {
          "output_type": "display_data",
          "data": {
            "text/plain": [
              "  id nombre   edad\n",
              "2 2  nombre_2 21  "
            ],
            "text/latex": "A data.frame: 1 × 3\n\\begin{tabular}{r|lll}\n  & id & nombre & edad\\\\\n  & <int> & <chr> & <int>\\\\\n\\hline\n\t2 & 2 & nombre\\_2 & 21\\\\\n\\end{tabular}\n",
            "text/markdown": "\nA data.frame: 1 × 3\n\n| <!--/--> | id &lt;int&gt; | nombre &lt;chr&gt; | edad &lt;int&gt; |\n|---|---|---|---|\n| 2 | 2 | nombre_2 | 21 |\n\n",
            "text/html": [
              "<table class=\"dataframe\">\n",
              "<caption>A data.frame: 1 × 3</caption>\n",
              "<thead>\n",
              "\t<tr><th></th><th scope=col>id</th><th scope=col>nombre</th><th scope=col>edad</th></tr>\n",
              "\t<tr><th></th><th scope=col>&lt;int&gt;</th><th scope=col>&lt;chr&gt;</th><th scope=col>&lt;int&gt;</th></tr>\n",
              "</thead>\n",
              "<tbody>\n",
              "\t<tr><th scope=row>2</th><td>2</td><td>nombre_2</td><td>21</td></tr>\n",
              "</tbody>\n",
              "</table>\n"
            ]
          },
          "metadata": {
            "tags": []
          }
        },
        {
          "output_type": "display_data",
          "data": {
            "text/plain": [
              "[1] 21"
            ],
            "text/latex": "21",
            "text/markdown": "21",
            "text/html": [
              "21"
            ]
          },
          "metadata": {
            "tags": []
          }
        },
        {
          "output_type": "display_data",
          "data": {
            "text/plain": [
              "[1] 21"
            ],
            "text/latex": "21",
            "text/markdown": "21",
            "text/html": [
              "21"
            ]
          },
          "metadata": {
            "tags": []
          }
        }
      ]
    },
    {
      "cell_type": "code",
      "metadata": {
        "trusted": true,
        "id": "FgD5Q8hFTpSf"
      },
      "source": [
        "#Podemos crear nuevas columnas , del mismmo modo que creamos \"slots\" en una lista\n",
        "d1$salario <- rnorm(10,50000,20)\n"
      ],
      "execution_count": 71,
      "outputs": []
    },
    {
      "cell_type": "code",
      "metadata": {
        "colab": {
          "base_uri": "https://localhost:8080/",
          "height": 407
        },
        "id": "8RKxITtpJ00Z",
        "outputId": "937df3ed-9417-4751-a5b7-6f1e60f840ba"
      },
      "source": [
        "d1"
      ],
      "execution_count": 72,
      "outputs": [
        {
          "output_type": "display_data",
          "data": {
            "text/plain": [
              "   id nombre    edad salario \n",
              "1   1 nombre_1  20   49986.25\n",
              "2   2 nombre_2  21   50000.13\n",
              "3   3 nombre_3  22   49972.34\n",
              "4   4 nombre_4  23   50033.72\n",
              "5   5 nombre_5  24   49999.71\n",
              "6   6 nombre_6  25   50007.24\n",
              "7   7 nombre_7  26   50006.86\n",
              "8   8 nombre_8  27   49988.64\n",
              "9   9 nombre_9  28   49989.62\n",
              "10 10 nombre_10 29   49994.52"
            ],
            "text/latex": "A data.frame: 10 × 4\n\\begin{tabular}{llll}\n id & nombre & edad & salario\\\\\n <int> & <chr> & <int> & <dbl>\\\\\n\\hline\n\t  1 & nombre\\_1  & 20 & 49986.25\\\\\n\t  2 & nombre\\_2  & 21 & 50000.13\\\\\n\t  3 & nombre\\_3  & 22 & 49972.34\\\\\n\t  4 & nombre\\_4  & 23 & 50033.72\\\\\n\t  5 & nombre\\_5  & 24 & 49999.71\\\\\n\t  6 & nombre\\_6  & 25 & 50007.24\\\\\n\t  7 & nombre\\_7  & 26 & 50006.86\\\\\n\t  8 & nombre\\_8  & 27 & 49988.64\\\\\n\t  9 & nombre\\_9  & 28 & 49989.62\\\\\n\t 10 & nombre\\_10 & 29 & 49994.52\\\\\n\\end{tabular}\n",
            "text/markdown": "\nA data.frame: 10 × 4\n\n| id &lt;int&gt; | nombre &lt;chr&gt; | edad &lt;int&gt; | salario &lt;dbl&gt; |\n|---|---|---|---|\n|  1 | nombre_1  | 20 | 49986.25 |\n|  2 | nombre_2  | 21 | 50000.13 |\n|  3 | nombre_3  | 22 | 49972.34 |\n|  4 | nombre_4  | 23 | 50033.72 |\n|  5 | nombre_5  | 24 | 49999.71 |\n|  6 | nombre_6  | 25 | 50007.24 |\n|  7 | nombre_7  | 26 | 50006.86 |\n|  8 | nombre_8  | 27 | 49988.64 |\n|  9 | nombre_9  | 28 | 49989.62 |\n| 10 | nombre_10 | 29 | 49994.52 |\n\n",
            "text/html": [
              "<table class=\"dataframe\">\n",
              "<caption>A data.frame: 10 × 4</caption>\n",
              "<thead>\n",
              "\t<tr><th scope=col>id</th><th scope=col>nombre</th><th scope=col>edad</th><th scope=col>salario</th></tr>\n",
              "\t<tr><th scope=col>&lt;int&gt;</th><th scope=col>&lt;chr&gt;</th><th scope=col>&lt;int&gt;</th><th scope=col>&lt;dbl&gt;</th></tr>\n",
              "</thead>\n",
              "<tbody>\n",
              "\t<tr><td> 1</td><td>nombre_1 </td><td>20</td><td>49986.25</td></tr>\n",
              "\t<tr><td> 2</td><td>nombre_2 </td><td>21</td><td>50000.13</td></tr>\n",
              "\t<tr><td> 3</td><td>nombre_3 </td><td>22</td><td>49972.34</td></tr>\n",
              "\t<tr><td> 4</td><td>nombre_4 </td><td>23</td><td>50033.72</td></tr>\n",
              "\t<tr><td> 5</td><td>nombre_5 </td><td>24</td><td>49999.71</td></tr>\n",
              "\t<tr><td> 6</td><td>nombre_6 </td><td>25</td><td>50007.24</td></tr>\n",
              "\t<tr><td> 7</td><td>nombre_7 </td><td>26</td><td>50006.86</td></tr>\n",
              "\t<tr><td> 8</td><td>nombre_8 </td><td>27</td><td>49988.64</td></tr>\n",
              "\t<tr><td> 9</td><td>nombre_9 </td><td>28</td><td>49989.62</td></tr>\n",
              "\t<tr><td>10</td><td>nombre_10</td><td>29</td><td>49994.52</td></tr>\n",
              "</tbody>\n",
              "</table>\n"
            ]
          },
          "metadata": {
            "tags": []
          }
        }
      ]
    },
    {
      "cell_type": "code",
      "metadata": {
        "id": "7EpN-CKIJ7VW"
      },
      "source": [
        "# Podemos crear columnas a partir de otras \n",
        "d1$ratio <- d1$salario/d1$edad  #salario/edad"
      ],
      "execution_count": 76,
      "outputs": []
    },
    {
      "cell_type": "code",
      "metadata": {
        "colab": {
          "base_uri": "https://localhost:8080/",
          "height": 407
        },
        "id": "-gkHXkeuKDvS",
        "outputId": "f40715d2-bd8a-4e9a-bae3-5cef4abe5f97"
      },
      "source": [
        "d1"
      ],
      "execution_count": 77,
      "outputs": [
        {
          "output_type": "display_data",
          "data": {
            "text/plain": [
              "   id nombre    edad salario  id2 ratio   \n",
              "1   1 nombre_1  20   49986.25 5   2499.313\n",
              "2   2 nombre_2  21   50000.13 5   2380.959\n",
              "3   3 nombre_3  22   49972.34 5   2271.470\n",
              "4   4 nombre_4  23   50033.72 5   2175.379\n",
              "5   5 nombre_5  24   49999.71 5   2083.321\n",
              "6   6 nombre_6  25   50007.24 5   2000.290\n",
              "7   7 nombre_7  26   50006.86 5   1923.341\n",
              "8   8 nombre_8  27   49988.64 5   1851.431\n",
              "9   9 nombre_9  28   49989.62 5   1785.343\n",
              "10 10 nombre_10 29   49994.52 5   1723.949"
            ],
            "text/latex": "A data.frame: 10 × 6\n\\begin{tabular}{llllll}\n id & nombre & edad & salario & id2 & ratio\\\\\n <int> & <chr> & <int> & <dbl> & <dbl> & <dbl>\\\\\n\\hline\n\t  1 & nombre\\_1  & 20 & 49986.25 & 5 & 2499.313\\\\\n\t  2 & nombre\\_2  & 21 & 50000.13 & 5 & 2380.959\\\\\n\t  3 & nombre\\_3  & 22 & 49972.34 & 5 & 2271.470\\\\\n\t  4 & nombre\\_4  & 23 & 50033.72 & 5 & 2175.379\\\\\n\t  5 & nombre\\_5  & 24 & 49999.71 & 5 & 2083.321\\\\\n\t  6 & nombre\\_6  & 25 & 50007.24 & 5 & 2000.290\\\\\n\t  7 & nombre\\_7  & 26 & 50006.86 & 5 & 1923.341\\\\\n\t  8 & nombre\\_8  & 27 & 49988.64 & 5 & 1851.431\\\\\n\t  9 & nombre\\_9  & 28 & 49989.62 & 5 & 1785.343\\\\\n\t 10 & nombre\\_10 & 29 & 49994.52 & 5 & 1723.949\\\\\n\\end{tabular}\n",
            "text/markdown": "\nA data.frame: 10 × 6\n\n| id &lt;int&gt; | nombre &lt;chr&gt; | edad &lt;int&gt; | salario &lt;dbl&gt; | id2 &lt;dbl&gt; | ratio &lt;dbl&gt; |\n|---|---|---|---|---|---|\n|  1 | nombre_1  | 20 | 49986.25 | 5 | 2499.313 |\n|  2 | nombre_2  | 21 | 50000.13 | 5 | 2380.959 |\n|  3 | nombre_3  | 22 | 49972.34 | 5 | 2271.470 |\n|  4 | nombre_4  | 23 | 50033.72 | 5 | 2175.379 |\n|  5 | nombre_5  | 24 | 49999.71 | 5 | 2083.321 |\n|  6 | nombre_6  | 25 | 50007.24 | 5 | 2000.290 |\n|  7 | nombre_7  | 26 | 50006.86 | 5 | 1923.341 |\n|  8 | nombre_8  | 27 | 49988.64 | 5 | 1851.431 |\n|  9 | nombre_9  | 28 | 49989.62 | 5 | 1785.343 |\n| 10 | nombre_10 | 29 | 49994.52 | 5 | 1723.949 |\n\n",
            "text/html": [
              "<table class=\"dataframe\">\n",
              "<caption>A data.frame: 10 × 6</caption>\n",
              "<thead>\n",
              "\t<tr><th scope=col>id</th><th scope=col>nombre</th><th scope=col>edad</th><th scope=col>salario</th><th scope=col>id2</th><th scope=col>ratio</th></tr>\n",
              "\t<tr><th scope=col>&lt;int&gt;</th><th scope=col>&lt;chr&gt;</th><th scope=col>&lt;int&gt;</th><th scope=col>&lt;dbl&gt;</th><th scope=col>&lt;dbl&gt;</th><th scope=col>&lt;dbl&gt;</th></tr>\n",
              "</thead>\n",
              "<tbody>\n",
              "\t<tr><td> 1</td><td>nombre_1 </td><td>20</td><td>49986.25</td><td>5</td><td>2499.313</td></tr>\n",
              "\t<tr><td> 2</td><td>nombre_2 </td><td>21</td><td>50000.13</td><td>5</td><td>2380.959</td></tr>\n",
              "\t<tr><td> 3</td><td>nombre_3 </td><td>22</td><td>49972.34</td><td>5</td><td>2271.470</td></tr>\n",
              "\t<tr><td> 4</td><td>nombre_4 </td><td>23</td><td>50033.72</td><td>5</td><td>2175.379</td></tr>\n",
              "\t<tr><td> 5</td><td>nombre_5 </td><td>24</td><td>49999.71</td><td>5</td><td>2083.321</td></tr>\n",
              "\t<tr><td> 6</td><td>nombre_6 </td><td>25</td><td>50007.24</td><td>5</td><td>2000.290</td></tr>\n",
              "\t<tr><td> 7</td><td>nombre_7 </td><td>26</td><td>50006.86</td><td>5</td><td>1923.341</td></tr>\n",
              "\t<tr><td> 8</td><td>nombre_8 </td><td>27</td><td>49988.64</td><td>5</td><td>1851.431</td></tr>\n",
              "\t<tr><td> 9</td><td>nombre_9 </td><td>28</td><td>49989.62</td><td>5</td><td>1785.343</td></tr>\n",
              "\t<tr><td>10</td><td>nombre_10</td><td>29</td><td>49994.52</td><td>5</td><td>1723.949</td></tr>\n",
              "</tbody>\n",
              "</table>\n"
            ]
          },
          "metadata": {
            "tags": []
          }
        }
      ]
    },
    {
      "cell_type": "code",
      "metadata": {
        "trusted": true,
        "id": "LcNQ5JHVTpSh",
        "colab": {
          "base_uri": "https://localhost:8080/",
          "height": 407
        },
        "outputId": "ee8077d5-b0fb-4b30-e6a1-32a1228e0630"
      },
      "source": [
        "# podemos seleccionar más de una columna a la vez. Ej: seleccionar nombre salario\n",
        "\n",
        "# Referenciando el nombre de las columnas\n",
        "d1[c(\"nombre\",\"salario\")]"
      ],
      "execution_count": 78,
      "outputs": [
        {
          "output_type": "display_data",
          "data": {
            "text/plain": [
              "   nombre    salario \n",
              "1  nombre_1  49986.25\n",
              "2  nombre_2  50000.13\n",
              "3  nombre_3  49972.34\n",
              "4  nombre_4  50033.72\n",
              "5  nombre_5  49999.71\n",
              "6  nombre_6  50007.24\n",
              "7  nombre_7  50006.86\n",
              "8  nombre_8  49988.64\n",
              "9  nombre_9  49989.62\n",
              "10 nombre_10 49994.52"
            ],
            "text/latex": "A data.frame: 10 × 2\n\\begin{tabular}{ll}\n nombre & salario\\\\\n <chr> & <dbl>\\\\\n\\hline\n\t nombre\\_1  & 49986.25\\\\\n\t nombre\\_2  & 50000.13\\\\\n\t nombre\\_3  & 49972.34\\\\\n\t nombre\\_4  & 50033.72\\\\\n\t nombre\\_5  & 49999.71\\\\\n\t nombre\\_6  & 50007.24\\\\\n\t nombre\\_7  & 50006.86\\\\\n\t nombre\\_8  & 49988.64\\\\\n\t nombre\\_9  & 49989.62\\\\\n\t nombre\\_10 & 49994.52\\\\\n\\end{tabular}\n",
            "text/markdown": "\nA data.frame: 10 × 2\n\n| nombre &lt;chr&gt; | salario &lt;dbl&gt; |\n|---|---|\n| nombre_1  | 49986.25 |\n| nombre_2  | 50000.13 |\n| nombre_3  | 49972.34 |\n| nombre_4  | 50033.72 |\n| nombre_5  | 49999.71 |\n| nombre_6  | 50007.24 |\n| nombre_7  | 50006.86 |\n| nombre_8  | 49988.64 |\n| nombre_9  | 49989.62 |\n| nombre_10 | 49994.52 |\n\n",
            "text/html": [
              "<table class=\"dataframe\">\n",
              "<caption>A data.frame: 10 × 2</caption>\n",
              "<thead>\n",
              "\t<tr><th scope=col>nombre</th><th scope=col>salario</th></tr>\n",
              "\t<tr><th scope=col>&lt;chr&gt;</th><th scope=col>&lt;dbl&gt;</th></tr>\n",
              "</thead>\n",
              "<tbody>\n",
              "\t<tr><td>nombre_1 </td><td>49986.25</td></tr>\n",
              "\t<tr><td>nombre_2 </td><td>50000.13</td></tr>\n",
              "\t<tr><td>nombre_3 </td><td>49972.34</td></tr>\n",
              "\t<tr><td>nombre_4 </td><td>50033.72</td></tr>\n",
              "\t<tr><td>nombre_5 </td><td>49999.71</td></tr>\n",
              "\t<tr><td>nombre_6 </td><td>50007.24</td></tr>\n",
              "\t<tr><td>nombre_7 </td><td>50006.86</td></tr>\n",
              "\t<tr><td>nombre_8 </td><td>49988.64</td></tr>\n",
              "\t<tr><td>nombre_9 </td><td>49989.62</td></tr>\n",
              "\t<tr><td>nombre_10</td><td>49994.52</td></tr>\n",
              "</tbody>\n",
              "</table>\n"
            ]
          },
          "metadata": {
            "tags": []
          }
        }
      ]
    },
    {
      "cell_type": "code",
      "metadata": {
        "trusted": true,
        "id": "NHtO3MHwTpSj",
        "colab": {
          "base_uri": "https://localhost:8080/",
          "height": 407
        },
        "outputId": "72fa059d-f510-444f-da0d-50b62c92a4a1"
      },
      "source": [
        "# Referenciando las posiciones de las columnas (pensado como matriz)\n",
        "d1[,c(2,4)] # todas las filas, y solo las columnas 2 y 4"
      ],
      "execution_count": 79,
      "outputs": [
        {
          "output_type": "display_data",
          "data": {
            "text/plain": [
              "   nombre    salario \n",
              "1  nombre_1  49986.25\n",
              "2  nombre_2  50000.13\n",
              "3  nombre_3  49972.34\n",
              "4  nombre_4  50033.72\n",
              "5  nombre_5  49999.71\n",
              "6  nombre_6  50007.24\n",
              "7  nombre_7  50006.86\n",
              "8  nombre_8  49988.64\n",
              "9  nombre_9  49989.62\n",
              "10 nombre_10 49994.52"
            ],
            "text/latex": "A data.frame: 10 × 2\n\\begin{tabular}{ll}\n nombre & salario\\\\\n <chr> & <dbl>\\\\\n\\hline\n\t nombre\\_1  & 49986.25\\\\\n\t nombre\\_2  & 50000.13\\\\\n\t nombre\\_3  & 49972.34\\\\\n\t nombre\\_4  & 50033.72\\\\\n\t nombre\\_5  & 49999.71\\\\\n\t nombre\\_6  & 50007.24\\\\\n\t nombre\\_7  & 50006.86\\\\\n\t nombre\\_8  & 49988.64\\\\\n\t nombre\\_9  & 49989.62\\\\\n\t nombre\\_10 & 49994.52\\\\\n\\end{tabular}\n",
            "text/markdown": "\nA data.frame: 10 × 2\n\n| nombre &lt;chr&gt; | salario &lt;dbl&gt; |\n|---|---|\n| nombre_1  | 49986.25 |\n| nombre_2  | 50000.13 |\n| nombre_3  | 49972.34 |\n| nombre_4  | 50033.72 |\n| nombre_5  | 49999.71 |\n| nombre_6  | 50007.24 |\n| nombre_7  | 50006.86 |\n| nombre_8  | 49988.64 |\n| nombre_9  | 49989.62 |\n| nombre_10 | 49994.52 |\n\n",
            "text/html": [
              "<table class=\"dataframe\">\n",
              "<caption>A data.frame: 10 × 2</caption>\n",
              "<thead>\n",
              "\t<tr><th scope=col>nombre</th><th scope=col>salario</th></tr>\n",
              "\t<tr><th scope=col>&lt;chr&gt;</th><th scope=col>&lt;dbl&gt;</th></tr>\n",
              "</thead>\n",
              "<tbody>\n",
              "\t<tr><td>nombre_1 </td><td>49986.25</td></tr>\n",
              "\t<tr><td>nombre_2 </td><td>50000.13</td></tr>\n",
              "\t<tr><td>nombre_3 </td><td>49972.34</td></tr>\n",
              "\t<tr><td>nombre_4 </td><td>50033.72</td></tr>\n",
              "\t<tr><td>nombre_5 </td><td>49999.71</td></tr>\n",
              "\t<tr><td>nombre_6 </td><td>50007.24</td></tr>\n",
              "\t<tr><td>nombre_7 </td><td>50006.86</td></tr>\n",
              "\t<tr><td>nombre_8 </td><td>49988.64</td></tr>\n",
              "\t<tr><td>nombre_9 </td><td>49989.62</td></tr>\n",
              "\t<tr><td>nombre_10</td><td>49994.52</td></tr>\n",
              "</tbody>\n",
              "</table>\n"
            ]
          },
          "metadata": {
            "tags": []
          }
        }
      ]
    },
    {
      "cell_type": "code",
      "metadata": {
        "trusted": true,
        "id": "RmsAhhsWTpSm"
      },
      "source": [
        "# Se mantiene la lógica de acceso a los sots de una lista.\n",
        "# Por posición\n",
        "# Por nombre\n",
        "# Con \"$\""
      ],
      "execution_count": null,
      "outputs": []
    },
    {
      "cell_type": "code",
      "metadata": {
        "colab": {
          "base_uri": "https://localhost:8080/",
          "height": 238
        },
        "id": "OmI0QCrSLIyv",
        "outputId": "34985a8b-9f25-406c-a649-182ab2579e47"
      },
      "source": [
        "# de la tabla d1, ¿Qué registros tienen un salario mayor 50000?\n",
        "\n",
        "\n",
        "d1$salario > 50000 \n",
        "\n",
        "d1[d1$salario > 50000 ,]"
      ],
      "execution_count": 81,
      "outputs": [
        {
          "output_type": "display_data",
          "data": {
            "text/plain": [
              " [1] FALSE  TRUE FALSE  TRUE FALSE  TRUE  TRUE FALSE FALSE FALSE"
            ],
            "text/latex": "\\begin{enumerate*}\n\\item FALSE\n\\item TRUE\n\\item FALSE\n\\item TRUE\n\\item FALSE\n\\item TRUE\n\\item TRUE\n\\item FALSE\n\\item FALSE\n\\item FALSE\n\\end{enumerate*}\n",
            "text/markdown": "1. FALSE\n2. TRUE\n3. FALSE\n4. TRUE\n5. FALSE\n6. TRUE\n7. TRUE\n8. FALSE\n9. FALSE\n10. FALSE\n\n\n",
            "text/html": [
              "<style>\n",
              ".list-inline {list-style: none; margin:0; padding: 0}\n",
              ".list-inline>li {display: inline-block}\n",
              ".list-inline>li:not(:last-child)::after {content: \"\\00b7\"; padding: 0 .5ex}\n",
              "</style>\n",
              "<ol class=list-inline><li>FALSE</li><li>TRUE</li><li>FALSE</li><li>TRUE</li><li>FALSE</li><li>TRUE</li><li>TRUE</li><li>FALSE</li><li>FALSE</li><li>FALSE</li></ol>\n"
            ]
          },
          "metadata": {
            "tags": []
          }
        },
        {
          "output_type": "display_data",
          "data": {
            "text/plain": [
              "  id nombre   edad salario  id2 ratio   \n",
              "2 2  nombre_2 21   50000.13 5   2380.959\n",
              "4 4  nombre_4 23   50033.72 5   2175.379\n",
              "6 6  nombre_6 25   50007.24 5   2000.290\n",
              "7 7  nombre_7 26   50006.86 5   1923.341"
            ],
            "text/latex": "A data.frame: 4 × 6\n\\begin{tabular}{r|llllll}\n  & id & nombre & edad & salario & id2 & ratio\\\\\n  & <int> & <chr> & <int> & <dbl> & <dbl> & <dbl>\\\\\n\\hline\n\t2 & 2 & nombre\\_2 & 21 & 50000.13 & 5 & 2380.959\\\\\n\t4 & 4 & nombre\\_4 & 23 & 50033.72 & 5 & 2175.379\\\\\n\t6 & 6 & nombre\\_6 & 25 & 50007.24 & 5 & 2000.290\\\\\n\t7 & 7 & nombre\\_7 & 26 & 50006.86 & 5 & 1923.341\\\\\n\\end{tabular}\n",
            "text/markdown": "\nA data.frame: 4 × 6\n\n| <!--/--> | id &lt;int&gt; | nombre &lt;chr&gt; | edad &lt;int&gt; | salario &lt;dbl&gt; | id2 &lt;dbl&gt; | ratio &lt;dbl&gt; |\n|---|---|---|---|---|---|---|\n| 2 | 2 | nombre_2 | 21 | 50000.13 | 5 | 2380.959 |\n| 4 | 4 | nombre_4 | 23 | 50033.72 | 5 | 2175.379 |\n| 6 | 6 | nombre_6 | 25 | 50007.24 | 5 | 2000.290 |\n| 7 | 7 | nombre_7 | 26 | 50006.86 | 5 | 1923.341 |\n\n",
            "text/html": [
              "<table class=\"dataframe\">\n",
              "<caption>A data.frame: 4 × 6</caption>\n",
              "<thead>\n",
              "\t<tr><th></th><th scope=col>id</th><th scope=col>nombre</th><th scope=col>edad</th><th scope=col>salario</th><th scope=col>id2</th><th scope=col>ratio</th></tr>\n",
              "\t<tr><th></th><th scope=col>&lt;int&gt;</th><th scope=col>&lt;chr&gt;</th><th scope=col>&lt;int&gt;</th><th scope=col>&lt;dbl&gt;</th><th scope=col>&lt;dbl&gt;</th><th scope=col>&lt;dbl&gt;</th></tr>\n",
              "</thead>\n",
              "<tbody>\n",
              "\t<tr><th scope=row>2</th><td>2</td><td>nombre_2</td><td>21</td><td>50000.13</td><td>5</td><td>2380.959</td></tr>\n",
              "\t<tr><th scope=row>4</th><td>4</td><td>nombre_4</td><td>23</td><td>50033.72</td><td>5</td><td>2175.379</td></tr>\n",
              "\t<tr><th scope=row>6</th><td>6</td><td>nombre_6</td><td>25</td><td>50007.24</td><td>5</td><td>2000.290</td></tr>\n",
              "\t<tr><th scope=row>7</th><td>7</td><td>nombre_7</td><td>26</td><td>50006.86</td><td>5</td><td>1923.341</td></tr>\n",
              "</tbody>\n",
              "</table>\n"
            ]
          },
          "metadata": {
            "tags": []
          }
        }
      ]
    },
    {
      "cell_type": "code",
      "metadata": {
        "colab": {
          "base_uri": "https://localhost:8080/",
          "height": 68
        },
        "id": "85McYJ2PMHCq",
        "outputId": "d7b31808-0b22-453e-b977-7ade8a96d81b"
      },
      "source": [
        "# Si de la consulta anterior, quisiéramos sólo el ratio\n",
        "d1[d1$salario > 50000 ,\"ratio\"]\n",
        "d1[d1$salario > 50000 ,]$ratio\n",
        "d1$ratio[d1$salario > 50000]\n"
      ],
      "execution_count": 84,
      "outputs": [
        {
          "output_type": "display_data",
          "data": {
            "text/plain": [
              "[1] 2380.959 2175.379 2000.290 1923.341"
            ],
            "text/latex": "\\begin{enumerate*}\n\\item 2380.95859287737\n\\item 2175.37921229046\n\\item 2000.2897056974\n\\item 1923.34084278239\n\\end{enumerate*}\n",
            "text/markdown": "1. 2380.95859287737\n2. 2175.37921229046\n3. 2000.2897056974\n4. 1923.34084278239\n\n\n",
            "text/html": [
              "<style>\n",
              ".list-inline {list-style: none; margin:0; padding: 0}\n",
              ".list-inline>li {display: inline-block}\n",
              ".list-inline>li:not(:last-child)::after {content: \"\\00b7\"; padding: 0 .5ex}\n",
              "</style>\n",
              "<ol class=list-inline><li>2380.95859287737</li><li>2175.37921229046</li><li>2000.2897056974</li><li>1923.34084278239</li></ol>\n"
            ]
          },
          "metadata": {
            "tags": []
          }
        },
        {
          "output_type": "display_data",
          "data": {
            "text/plain": [
              "[1] 2380.959 2175.379 2000.290 1923.341"
            ],
            "text/latex": "\\begin{enumerate*}\n\\item 2380.95859287737\n\\item 2175.37921229046\n\\item 2000.2897056974\n\\item 1923.34084278239\n\\end{enumerate*}\n",
            "text/markdown": "1. 2380.95859287737\n2. 2175.37921229046\n3. 2000.2897056974\n4. 1923.34084278239\n\n\n",
            "text/html": [
              "<style>\n",
              ".list-inline {list-style: none; margin:0; padding: 0}\n",
              ".list-inline>li {display: inline-block}\n",
              ".list-inline>li:not(:last-child)::after {content: \"\\00b7\"; padding: 0 .5ex}\n",
              "</style>\n",
              "<ol class=list-inline><li>2380.95859287737</li><li>2175.37921229046</li><li>2000.2897056974</li><li>1923.34084278239</li></ol>\n"
            ]
          },
          "metadata": {
            "tags": []
          }
        },
        {
          "output_type": "display_data",
          "data": {
            "text/plain": [
              "[1] 2380.959 2175.379 2000.290 1923.341"
            ],
            "text/latex": "\\begin{enumerate*}\n\\item 2380.95859287737\n\\item 2175.37921229046\n\\item 2000.2897056974\n\\item 1923.34084278239\n\\end{enumerate*}\n",
            "text/markdown": "1. 2380.95859287737\n2. 2175.37921229046\n3. 2000.2897056974\n4. 1923.34084278239\n\n\n",
            "text/html": [
              "<style>\n",
              ".list-inline {list-style: none; margin:0; padding: 0}\n",
              ".list-inline>li {display: inline-block}\n",
              ".list-inline>li:not(:last-child)::after {content: \"\\00b7\"; padding: 0 .5ex}\n",
              "</style>\n",
              "<ol class=list-inline><li>2380.95859287737</li><li>2175.37921229046</li><li>2000.2897056974</li><li>1923.34084278239</li></ol>\n"
            ]
          },
          "metadata": {
            "tags": []
          }
        }
      ]
    },
    {
      "cell_type": "code",
      "metadata": {
        "id": "yEjJSOzhPU1O"
      },
      "source": [
        "Consulra"
      ],
      "execution_count": null,
      "outputs": []
    },
    {
      "cell_type": "markdown",
      "metadata": {
        "id": "jZjd9lvnPWdG"
      },
      "source": [
        "#Consultas \n",
        "1. Elminiar columnasen un data.frame\n",
        "2. Eliminar filas\n",
        "3. rnorm"
      ]
    },
    {
      "cell_type": "code",
      "metadata": {
        "id": "k2TII3xUPkdB"
      },
      "source": [
        "# 1.- \n",
        "# Primero creamos una columna a borrar\n",
        "d1$id2 <- 5"
      ],
      "execution_count": 86,
      "outputs": []
    },
    {
      "cell_type": "code",
      "metadata": {
        "id": "a8lwBZ0-P4Ng"
      },
      "source": [
        "d1$id2 <- NULL "
      ],
      "execution_count": 88,
      "outputs": []
    },
    {
      "cell_type": "code",
      "metadata": {
        "id": "FhFhbDpQQHAQ",
        "outputId": "a7e83fe5-600f-4a25-9281-4df88343cb76",
        "colab": {
          "base_uri": "https://localhost:8080/",
          "height": 407
        }
      },
      "source": [
        "d1"
      ],
      "execution_count": 89,
      "outputs": [
        {
          "output_type": "display_data",
          "data": {
            "text/plain": [
              "   id nombre    edad salario  ratio   \n",
              "1   1 nombre_1  20   49986.25 2499.313\n",
              "2   2 nombre_2  21   50000.13 2380.959\n",
              "3   3 nombre_3  22   49972.34 2271.470\n",
              "4   4 nombre_4  23   50033.72 2175.379\n",
              "5   5 nombre_5  24   49999.71 2083.321\n",
              "6   6 nombre_6  25   50007.24 2000.290\n",
              "7   7 nombre_7  26   50006.86 1923.341\n",
              "8   8 nombre_8  27   49988.64 1851.431\n",
              "9   9 nombre_9  28   49989.62 1785.343\n",
              "10 10 nombre_10 29   49994.52 1723.949"
            ],
            "text/latex": "A data.frame: 10 × 5\n\\begin{tabular}{lllll}\n id & nombre & edad & salario & ratio\\\\\n <int> & <chr> & <int> & <dbl> & <dbl>\\\\\n\\hline\n\t  1 & nombre\\_1  & 20 & 49986.25 & 2499.313\\\\\n\t  2 & nombre\\_2  & 21 & 50000.13 & 2380.959\\\\\n\t  3 & nombre\\_3  & 22 & 49972.34 & 2271.470\\\\\n\t  4 & nombre\\_4  & 23 & 50033.72 & 2175.379\\\\\n\t  5 & nombre\\_5  & 24 & 49999.71 & 2083.321\\\\\n\t  6 & nombre\\_6  & 25 & 50007.24 & 2000.290\\\\\n\t  7 & nombre\\_7  & 26 & 50006.86 & 1923.341\\\\\n\t  8 & nombre\\_8  & 27 & 49988.64 & 1851.431\\\\\n\t  9 & nombre\\_9  & 28 & 49989.62 & 1785.343\\\\\n\t 10 & nombre\\_10 & 29 & 49994.52 & 1723.949\\\\\n\\end{tabular}\n",
            "text/markdown": "\nA data.frame: 10 × 5\n\n| id &lt;int&gt; | nombre &lt;chr&gt; | edad &lt;int&gt; | salario &lt;dbl&gt; | ratio &lt;dbl&gt; |\n|---|---|---|---|---|\n|  1 | nombre_1  | 20 | 49986.25 | 2499.313 |\n|  2 | nombre_2  | 21 | 50000.13 | 2380.959 |\n|  3 | nombre_3  | 22 | 49972.34 | 2271.470 |\n|  4 | nombre_4  | 23 | 50033.72 | 2175.379 |\n|  5 | nombre_5  | 24 | 49999.71 | 2083.321 |\n|  6 | nombre_6  | 25 | 50007.24 | 2000.290 |\n|  7 | nombre_7  | 26 | 50006.86 | 1923.341 |\n|  8 | nombre_8  | 27 | 49988.64 | 1851.431 |\n|  9 | nombre_9  | 28 | 49989.62 | 1785.343 |\n| 10 | nombre_10 | 29 | 49994.52 | 1723.949 |\n\n",
            "text/html": [
              "<table class=\"dataframe\">\n",
              "<caption>A data.frame: 10 × 5</caption>\n",
              "<thead>\n",
              "\t<tr><th scope=col>id</th><th scope=col>nombre</th><th scope=col>edad</th><th scope=col>salario</th><th scope=col>ratio</th></tr>\n",
              "\t<tr><th scope=col>&lt;int&gt;</th><th scope=col>&lt;chr&gt;</th><th scope=col>&lt;int&gt;</th><th scope=col>&lt;dbl&gt;</th><th scope=col>&lt;dbl&gt;</th></tr>\n",
              "</thead>\n",
              "<tbody>\n",
              "\t<tr><td> 1</td><td>nombre_1 </td><td>20</td><td>49986.25</td><td>2499.313</td></tr>\n",
              "\t<tr><td> 2</td><td>nombre_2 </td><td>21</td><td>50000.13</td><td>2380.959</td></tr>\n",
              "\t<tr><td> 3</td><td>nombre_3 </td><td>22</td><td>49972.34</td><td>2271.470</td></tr>\n",
              "\t<tr><td> 4</td><td>nombre_4 </td><td>23</td><td>50033.72</td><td>2175.379</td></tr>\n",
              "\t<tr><td> 5</td><td>nombre_5 </td><td>24</td><td>49999.71</td><td>2083.321</td></tr>\n",
              "\t<tr><td> 6</td><td>nombre_6 </td><td>25</td><td>50007.24</td><td>2000.290</td></tr>\n",
              "\t<tr><td> 7</td><td>nombre_7 </td><td>26</td><td>50006.86</td><td>1923.341</td></tr>\n",
              "\t<tr><td> 8</td><td>nombre_8 </td><td>27</td><td>49988.64</td><td>1851.431</td></tr>\n",
              "\t<tr><td> 9</td><td>nombre_9 </td><td>28</td><td>49989.62</td><td>1785.343</td></tr>\n",
              "\t<tr><td>10</td><td>nombre_10</td><td>29</td><td>49994.52</td><td>1723.949</td></tr>\n",
              "</tbody>\n",
              "</table>\n"
            ]
          },
          "metadata": {
            "tags": []
          }
        }
      ]
    },
    {
      "cell_type": "code",
      "metadata": {
        "id": "Uj39ZF1aQJac"
      },
      "source": [
        "#2.- Ej: Eliminar todos los registros de d1 que tengan salario menor o igual a 50000\n",
        "d1 <- d1[d1$salario > 50000 ,]\n"
      ],
      "execution_count": 91,
      "outputs": []
    },
    {
      "cell_type": "code",
      "metadata": {
        "id": "ufjT955xQupi",
        "outputId": "f7932ae1-710c-428e-9f50-ce3e8a4468f4",
        "colab": {
          "base_uri": "https://localhost:8080/",
          "height": 221
        }
      },
      "source": [
        "d1"
      ],
      "execution_count": 92,
      "outputs": [
        {
          "output_type": "display_data",
          "data": {
            "text/plain": [
              "  id nombre   edad salario  ratio   \n",
              "2 2  nombre_2 21   50000.13 2380.959\n",
              "4 4  nombre_4 23   50033.72 2175.379\n",
              "6 6  nombre_6 25   50007.24 2000.290\n",
              "7 7  nombre_7 26   50006.86 1923.341"
            ],
            "text/latex": "A data.frame: 4 × 5\n\\begin{tabular}{r|lllll}\n  & id & nombre & edad & salario & ratio\\\\\n  & <int> & <chr> & <int> & <dbl> & <dbl>\\\\\n\\hline\n\t2 & 2 & nombre\\_2 & 21 & 50000.13 & 2380.959\\\\\n\t4 & 4 & nombre\\_4 & 23 & 50033.72 & 2175.379\\\\\n\t6 & 6 & nombre\\_6 & 25 & 50007.24 & 2000.290\\\\\n\t7 & 7 & nombre\\_7 & 26 & 50006.86 & 1923.341\\\\\n\\end{tabular}\n",
            "text/markdown": "\nA data.frame: 4 × 5\n\n| <!--/--> | id &lt;int&gt; | nombre &lt;chr&gt; | edad &lt;int&gt; | salario &lt;dbl&gt; | ratio &lt;dbl&gt; |\n|---|---|---|---|---|---|\n| 2 | 2 | nombre_2 | 21 | 50000.13 | 2380.959 |\n| 4 | 4 | nombre_4 | 23 | 50033.72 | 2175.379 |\n| 6 | 6 | nombre_6 | 25 | 50007.24 | 2000.290 |\n| 7 | 7 | nombre_7 | 26 | 50006.86 | 1923.341 |\n\n",
            "text/html": [
              "<table class=\"dataframe\">\n",
              "<caption>A data.frame: 4 × 5</caption>\n",
              "<thead>\n",
              "\t<tr><th></th><th scope=col>id</th><th scope=col>nombre</th><th scope=col>edad</th><th scope=col>salario</th><th scope=col>ratio</th></tr>\n",
              "\t<tr><th></th><th scope=col>&lt;int&gt;</th><th scope=col>&lt;chr&gt;</th><th scope=col>&lt;int&gt;</th><th scope=col>&lt;dbl&gt;</th><th scope=col>&lt;dbl&gt;</th></tr>\n",
              "</thead>\n",
              "<tbody>\n",
              "\t<tr><th scope=row>2</th><td>2</td><td>nombre_2</td><td>21</td><td>50000.13</td><td>2380.959</td></tr>\n",
              "\t<tr><th scope=row>4</th><td>4</td><td>nombre_4</td><td>23</td><td>50033.72</td><td>2175.379</td></tr>\n",
              "\t<tr><th scope=row>6</th><td>6</td><td>nombre_6</td><td>25</td><td>50007.24</td><td>2000.290</td></tr>\n",
              "\t<tr><th scope=row>7</th><td>7</td><td>nombre_7</td><td>26</td><td>50006.86</td><td>1923.341</td></tr>\n",
              "</tbody>\n",
              "</table>\n"
            ]
          },
          "metadata": {
            "tags": []
          }
        }
      ]
    }
  ]
}