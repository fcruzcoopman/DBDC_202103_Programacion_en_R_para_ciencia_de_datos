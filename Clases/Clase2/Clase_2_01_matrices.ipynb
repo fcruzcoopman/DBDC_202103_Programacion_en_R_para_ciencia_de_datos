{
  "nbformat": 4,
  "nbformat_minor": 0,
  "metadata": {
    "colab": {
      "name": "Clase_2_01_matrices.ipynb",
      "provenance": [],
      "include_colab_link": true
    },
    "kernelspec": {
      "name": "ir",
      "display_name": "R"
    }
  },
  "cells": [
    {
      "cell_type": "markdown",
      "metadata": {
        "id": "view-in-github",
        "colab_type": "text"
      },
      "source": [
        "<a href=\"https://colab.research.google.com/github/majorquev/DBDC_202103_Programacion_en_R_para_ciencia_de_datos/blob/main/Clases/Clase2/Clase_2_01_matrices.ipynb\" target=\"_parent\"><img src=\"https://colab.research.google.com/assets/colab-badge.svg\" alt=\"Open In Colab\"/></a>"
      ]
    },
    {
      "cell_type": "markdown",
      "metadata": {
        "collapsed": true,
        "id": "qGvtNqVzSqoX"
      },
      "source": [
        "# Parte 1: Introducción a R (continuación)\n",
        "\n",
        "**Autor:** Miguel Jorquera Viguera<br>\n",
        "**E-mail:** majorquev@gmail.com<br>\n",
        "**Ayudante:** Jorge Arévalo Labarca <br>\n",
        "**E-mail ayudante:** jorge.arevalol@usach.cl\n",
        "\n",
        "\n",
        "\n",
        "### 3.2 Matrices\n",
        "\n",
        "En R, así como en otros lenguajes de programación, una maztriz es básicamente un arreglo bi-dimensional, donde las entradas horizontales se entienden como filas y las verticales como columnas. Es posible imaginar una matriz como un arreglo de vectores como columnas (o filas) del mismo largo.\n",
        "\n",
        " * ¿Qué se guarda en una matriz?<br>\n",
        "    Sólo datos de un mismo tipo. \n",
        "     \n",
        " * ¿Cómo se declara una matriz?<br>\n",
        "    Se puede definir de varias maneras, indicando los elementos que la componen, o combinando vectores como filas o columnas.\n",
        " \n",
        " * ¿Cómo se accede a sus elementos?<br>\n",
        "    Indicando la posición del vector fila, seguido de la posición del vector columna (como es usual)."
      ]
    },
    {
      "cell_type": "code",
      "metadata": {
        "trusted": true,
        "id": "TKVO3cuZSqoY",
        "outputId": "02f4553a-d27e-4b3f-8932-c3330a518e47",
        "colab": {
          "base_uri": "https://localhost:8080/",
          "height": 243
        }
      },
      "source": [
        "# 3.2 Matrices ------------\n",
        "#?matrix de dos filas y 3 columnas, parametros ncol, nrow y byrow\n",
        "# recibe un vector de elementos\n",
        "\n",
        "M1 <- matrix(1:6,  nrow = 2, ncol = 3, byrow = FALSE)\n",
        "M1\n",
        "M2 <- matrix(1:6,  nrow = 2, ncol = 3, byrow = TRUE)\n",
        "M2"
      ],
      "execution_count": 2,
      "outputs": [
        {
          "output_type": "display_data",
          "data": {
            "text/plain": [
              "     [,1] [,2] [,3]\n",
              "[1,] 1    3    5   \n",
              "[2,] 2    4    6   "
            ],
            "text/latex": "A matrix: 2 × 3 of type int\n\\begin{tabular}{lll}\n\t 1 & 3 & 5\\\\\n\t 2 & 4 & 6\\\\\n\\end{tabular}\n",
            "text/markdown": "\nA matrix: 2 × 3 of type int\n\n| 1 | 3 | 5 |\n| 2 | 4 | 6 |\n\n",
            "text/html": [
              "<table class=\"dataframe\">\n",
              "<caption>A matrix: 2 × 3 of type int</caption>\n",
              "<tbody>\n",
              "\t<tr><td>1</td><td>3</td><td>5</td></tr>\n",
              "\t<tr><td>2</td><td>4</td><td>6</td></tr>\n",
              "</tbody>\n",
              "</table>\n"
            ]
          },
          "metadata": {
            "tags": []
          }
        },
        {
          "output_type": "display_data",
          "data": {
            "text/plain": [
              "     [,1] [,2] [,3]\n",
              "[1,] 1    2    3   \n",
              "[2,] 4    5    6   "
            ],
            "text/latex": "A matrix: 2 × 3 of type int\n\\begin{tabular}{lll}\n\t 1 & 2 & 3\\\\\n\t 4 & 5 & 6\\\\\n\\end{tabular}\n",
            "text/markdown": "\nA matrix: 2 × 3 of type int\n\n| 1 | 2 | 3 |\n| 4 | 5 | 6 |\n\n",
            "text/html": [
              "<table class=\"dataframe\">\n",
              "<caption>A matrix: 2 × 3 of type int</caption>\n",
              "<tbody>\n",
              "\t<tr><td>1</td><td>2</td><td>3</td></tr>\n",
              "\t<tr><td>4</td><td>5</td><td>6</td></tr>\n",
              "</tbody>\n",
              "</table>\n"
            ]
          },
          "metadata": {
            "tags": []
          }
        }
      ]
    },
    {
      "cell_type": "code",
      "metadata": {
        "trusted": true,
        "id": "Gm3PDTciSqof",
        "outputId": "2f466fff-87cb-4303-c012-06a8d7316649",
        "colab": {
          "base_uri": "https://localhost:8080/",
          "height": 68
        }
      },
      "source": [
        "# clase y atributo dim\n",
        "class(M1)\n",
        "typeof(M1)\n",
        "\n",
        "dim(M1)# Nun de filas  y num de columnas. (2,3)"
      ],
      "execution_count": 5,
      "outputs": [
        {
          "output_type": "display_data",
          "data": {
            "text/plain": [
              "[1] \"matrix\" \"array\" "
            ],
            "text/latex": "\\begin{enumerate*}\n\\item 'matrix'\n\\item 'array'\n\\end{enumerate*}\n",
            "text/markdown": "1. 'matrix'\n2. 'array'\n\n\n",
            "text/html": [
              "<style>\n",
              ".list-inline {list-style: none; margin:0; padding: 0}\n",
              ".list-inline>li {display: inline-block}\n",
              ".list-inline>li:not(:last-child)::after {content: \"\\00b7\"; padding: 0 .5ex}\n",
              "</style>\n",
              "<ol class=list-inline><li>'matrix'</li><li>'array'</li></ol>\n"
            ]
          },
          "metadata": {
            "tags": []
          }
        },
        {
          "output_type": "display_data",
          "data": {
            "text/plain": [
              "[1] \"integer\""
            ],
            "text/latex": "'integer'",
            "text/markdown": "'integer'",
            "text/html": [
              "'integer'"
            ]
          },
          "metadata": {
            "tags": []
          }
        },
        {
          "output_type": "display_data",
          "data": {
            "text/plain": [
              "[1] 2 3"
            ],
            "text/latex": "\\begin{enumerate*}\n\\item 2\n\\item 3\n\\end{enumerate*}\n",
            "text/markdown": "1. 2\n2. 3\n\n\n",
            "text/html": [
              "<style>\n",
              ".list-inline {list-style: none; margin:0; padding: 0}\n",
              ".list-inline>li {display: inline-block}\n",
              ".list-inline>li:not(:last-child)::after {content: \"\\00b7\"; padding: 0 .5ex}\n",
              "</style>\n",
              "<ol class=list-inline><li>2</li><li>3</li></ol>\n"
            ]
          },
          "metadata": {
            "tags": []
          }
        }
      ]
    },
    {
      "cell_type": "code",
      "metadata": {
        "trusted": true,
        "id": "2TXNSoedSqoh"
      },
      "source": [
        "# Genere dos vectores del mismo largo y forme una matriz.\n",
        "v1 <- 1:10\n",
        "v2 <- 21:30\n",
        "\n"
      ],
      "execution_count": 6,
      "outputs": []
    },
    {
      "cell_type": "code",
      "metadata": {
        "trusted": true,
        "id": "W3g76XEkSqok",
        "outputId": "eca1b5af-d372-441a-b131-ea43e92f682d",
        "colab": {
          "base_uri": "https://localhost:8080/",
          "height": 489
        }
      },
      "source": [
        "# funciones cbind() [une vectores como columnas]\n",
        "# y rbind() [une vectores como filas] (pensadas para matrices)\n",
        "#?cbind\n",
        "cbind(v1,v2) # los vectores se disponen como columnas en la matriz definida.\n",
        "rbind(v1,v2) # los vectores se disponen como filas en la matriz definida.\n"
      ],
      "execution_count": 8,
      "outputs": [
        {
          "output_type": "display_data",
          "data": {
            "text/plain": [
              "      v1 v2\n",
              " [1,]  1 21\n",
              " [2,]  2 22\n",
              " [3,]  3 23\n",
              " [4,]  4 24\n",
              " [5,]  5 25\n",
              " [6,]  6 26\n",
              " [7,]  7 27\n",
              " [8,]  8 28\n",
              " [9,]  9 29\n",
              "[10,] 10 30"
            ],
            "text/latex": "A matrix: 10 × 2 of type int\n\\begin{tabular}{ll}\n v1 & v2\\\\\n\\hline\n\t  1 & 21\\\\\n\t  2 & 22\\\\\n\t  3 & 23\\\\\n\t  4 & 24\\\\\n\t  5 & 25\\\\\n\t  6 & 26\\\\\n\t  7 & 27\\\\\n\t  8 & 28\\\\\n\t  9 & 29\\\\\n\t 10 & 30\\\\\n\\end{tabular}\n",
            "text/markdown": "\nA matrix: 10 × 2 of type int\n\n| v1 | v2 |\n|---|---|\n|  1 | 21 |\n|  2 | 22 |\n|  3 | 23 |\n|  4 | 24 |\n|  5 | 25 |\n|  6 | 26 |\n|  7 | 27 |\n|  8 | 28 |\n|  9 | 29 |\n| 10 | 30 |\n\n",
            "text/html": [
              "<table class=\"dataframe\">\n",
              "<caption>A matrix: 10 × 2 of type int</caption>\n",
              "<thead>\n",
              "\t<tr><th scope=col>v1</th><th scope=col>v2</th></tr>\n",
              "</thead>\n",
              "<tbody>\n",
              "\t<tr><td> 1</td><td>21</td></tr>\n",
              "\t<tr><td> 2</td><td>22</td></tr>\n",
              "\t<tr><td> 3</td><td>23</td></tr>\n",
              "\t<tr><td> 4</td><td>24</td></tr>\n",
              "\t<tr><td> 5</td><td>25</td></tr>\n",
              "\t<tr><td> 6</td><td>26</td></tr>\n",
              "\t<tr><td> 7</td><td>27</td></tr>\n",
              "\t<tr><td> 8</td><td>28</td></tr>\n",
              "\t<tr><td> 9</td><td>29</td></tr>\n",
              "\t<tr><td>10</td><td>30</td></tr>\n",
              "</tbody>\n",
              "</table>\n"
            ]
          },
          "metadata": {
            "tags": []
          }
        },
        {
          "output_type": "display_data",
          "data": {
            "text/plain": [
              "   [,1] [,2] [,3] [,4] [,5] [,6] [,7] [,8] [,9] [,10]\n",
              "v1  1    2    3    4    5    6    7    8    9   10   \n",
              "v2 21   22   23   24   25   26   27   28   29   30   "
            ],
            "text/latex": "A matrix: 2 × 10 of type int\n\\begin{tabular}{r|llllllllll}\n\tv1 &  1 &  2 &  3 &  4 &  5 &  6 &  7 &  8 &  9 & 10\\\\\n\tv2 & 21 & 22 & 23 & 24 & 25 & 26 & 27 & 28 & 29 & 30\\\\\n\\end{tabular}\n",
            "text/markdown": "\nA matrix: 2 × 10 of type int\n\n| v1 |  1 |  2 |  3 |  4 |  5 |  6 |  7 |  8 |  9 | 10 |\n| v2 | 21 | 22 | 23 | 24 | 25 | 26 | 27 | 28 | 29 | 30 |\n\n",
            "text/html": [
              "<table class=\"dataframe\">\n",
              "<caption>A matrix: 2 × 10 of type int</caption>\n",
              "<tbody>\n",
              "\t<tr><th scope=row>v1</th><td> 1</td><td> 2</td><td> 3</td><td> 4</td><td> 5</td><td> 6</td><td> 7</td><td> 8</td><td> 9</td><td>10</td></tr>\n",
              "\t<tr><th scope=row>v2</th><td>21</td><td>22</td><td>23</td><td>24</td><td>25</td><td>26</td><td>27</td><td>28</td><td>29</td><td>30</td></tr>\n",
              "</tbody>\n",
              "</table>\n"
            ]
          },
          "metadata": {
            "tags": []
          }
        }
      ]
    },
    {
      "cell_type": "code",
      "metadata": {
        "trusted": true,
        "id": "gDzbcsNVSqom",
        "outputId": "bb8a1600-5f3a-4cee-a5ae-0470381caa69",
        "colab": {
          "base_uri": "https://localhost:8080/",
          "height": 444
        }
      },
      "source": [
        "# si combinamos vectores de distinto largo?\n",
        "# R recicla valores (recordar explicación)\n",
        "v3 <- 25:30\n",
        "\n",
        "cbind(v1,v3)\n"
      ],
      "execution_count": 10,
      "outputs": [
        {
          "output_type": "stream",
          "text": [
            "Warning message in cbind(v1, v3):\n",
            "“number of rows of result is not a multiple of vector length (arg 2)”\n"
          ],
          "name": "stderr"
        },
        {
          "output_type": "display_data",
          "data": {
            "text/plain": [
              "      v1 v3\n",
              " [1,]  1 25\n",
              " [2,]  2 26\n",
              " [3,]  3 27\n",
              " [4,]  4 28\n",
              " [5,]  5 29\n",
              " [6,]  6 30\n",
              " [7,]  7 25\n",
              " [8,]  8 26\n",
              " [9,]  9 27\n",
              "[10,] 10 28"
            ],
            "text/latex": "A matrix: 10 × 2 of type int\n\\begin{tabular}{ll}\n v1 & v3\\\\\n\\hline\n\t  1 & 25\\\\\n\t  2 & 26\\\\\n\t  3 & 27\\\\\n\t  4 & 28\\\\\n\t  5 & 29\\\\\n\t  6 & 30\\\\\n\t  7 & 25\\\\\n\t  8 & 26\\\\\n\t  9 & 27\\\\\n\t 10 & 28\\\\\n\\end{tabular}\n",
            "text/markdown": "\nA matrix: 10 × 2 of type int\n\n| v1 | v3 |\n|---|---|\n|  1 | 25 |\n|  2 | 26 |\n|  3 | 27 |\n|  4 | 28 |\n|  5 | 29 |\n|  6 | 30 |\n|  7 | 25 |\n|  8 | 26 |\n|  9 | 27 |\n| 10 | 28 |\n\n",
            "text/html": [
              "<table class=\"dataframe\">\n",
              "<caption>A matrix: 10 × 2 of type int</caption>\n",
              "<thead>\n",
              "\t<tr><th scope=col>v1</th><th scope=col>v3</th></tr>\n",
              "</thead>\n",
              "<tbody>\n",
              "\t<tr><td> 1</td><td>25</td></tr>\n",
              "\t<tr><td> 2</td><td>26</td></tr>\n",
              "\t<tr><td> 3</td><td>27</td></tr>\n",
              "\t<tr><td> 4</td><td>28</td></tr>\n",
              "\t<tr><td> 5</td><td>29</td></tr>\n",
              "\t<tr><td> 6</td><td>30</td></tr>\n",
              "\t<tr><td> 7</td><td>25</td></tr>\n",
              "\t<tr><td> 8</td><td>26</td></tr>\n",
              "\t<tr><td> 9</td><td>27</td></tr>\n",
              "\t<tr><td>10</td><td>28</td></tr>\n",
              "</tbody>\n",
              "</table>\n"
            ]
          },
          "metadata": {
            "tags": []
          }
        }
      ]
    },
    {
      "cell_type": "code",
      "metadata": {
        "trusted": true,
        "id": "QLOH0514Sqoo",
        "outputId": "bae0ef75-17f3-4d67-edb3-025283518275",
        "colab": {
          "base_uri": "https://localhost:8080/",
          "height": 175
        }
      },
      "source": [
        "# función diag para la definición de matrices diagonales\n",
        "#?diag \n",
        "\n",
        "diag(c(1,2,5,10))\n",
        "\n"
      ],
      "execution_count": 11,
      "outputs": [
        {
          "output_type": "display_data",
          "data": {
            "text/plain": [
              "     [,1] [,2] [,3] [,4]\n",
              "[1,] 1    0    0     0  \n",
              "[2,] 0    2    0     0  \n",
              "[3,] 0    0    5     0  \n",
              "[4,] 0    0    0    10  "
            ],
            "text/latex": "A matrix: 4 × 4 of type dbl\n\\begin{tabular}{llll}\n\t 1 & 0 & 0 &  0\\\\\n\t 0 & 2 & 0 &  0\\\\\n\t 0 & 0 & 5 &  0\\\\\n\t 0 & 0 & 0 & 10\\\\\n\\end{tabular}\n",
            "text/markdown": "\nA matrix: 4 × 4 of type dbl\n\n| 1 | 0 | 0 |  0 |\n| 0 | 2 | 0 |  0 |\n| 0 | 0 | 5 |  0 |\n| 0 | 0 | 0 | 10 |\n\n",
            "text/html": [
              "<table class=\"dataframe\">\n",
              "<caption>A matrix: 4 × 4 of type dbl</caption>\n",
              "<tbody>\n",
              "\t<tr><td>1</td><td>0</td><td>0</td><td> 0</td></tr>\n",
              "\t<tr><td>0</td><td>2</td><td>0</td><td> 0</td></tr>\n",
              "\t<tr><td>0</td><td>0</td><td>5</td><td> 0</td></tr>\n",
              "\t<tr><td>0</td><td>0</td><td>0</td><td>10</td></tr>\n",
              "</tbody>\n",
              "</table>\n"
            ]
          },
          "metadata": {
            "tags": []
          }
        }
      ]
    },
    {
      "cell_type": "code",
      "metadata": {
        "trusted": true,
        "id": "xIfUV82ASqot",
        "outputId": "a23cf8d0-70ff-4180-9973-84d820c350aa",
        "colab": {
          "base_uri": "https://localhost:8080/",
          "height": 147
        }
      },
      "source": [
        "# Podemos acceder a los elementos de una matriz\n",
        "# indicando la posición de la fila y la columna de la casilla correspondiente.\n",
        "# Ejemplo:\n",
        "M1\n",
        "# quiero rescatar el elemento \"(2,1)\"\n",
        "M1[2,1]\n"
      ],
      "execution_count": 16,
      "outputs": [
        {
          "output_type": "display_data",
          "data": {
            "text/plain": [
              "     [,1] [,2] [,3]\n",
              "[1,] 1    3    5   \n",
              "[2,] 2    4    6   "
            ],
            "text/latex": "A matrix: 2 × 3 of type int\n\\begin{tabular}{lll}\n\t 1 & 3 & 5\\\\\n\t 2 & 4 & 6\\\\\n\\end{tabular}\n",
            "text/markdown": "\nA matrix: 2 × 3 of type int\n\n| 1 | 3 | 5 |\n| 2 | 4 | 6 |\n\n",
            "text/html": [
              "<table class=\"dataframe\">\n",
              "<caption>A matrix: 2 × 3 of type int</caption>\n",
              "<tbody>\n",
              "\t<tr><td>1</td><td>3</td><td>5</td></tr>\n",
              "\t<tr><td>2</td><td>4</td><td>6</td></tr>\n",
              "</tbody>\n",
              "</table>\n"
            ]
          },
          "metadata": {
            "tags": []
          }
        },
        {
          "output_type": "display_data",
          "data": {
            "text/plain": [
              "[1] 2"
            ],
            "text/latex": "2",
            "text/markdown": "2",
            "text/html": [
              "2"
            ]
          },
          "metadata": {
            "tags": []
          }
        }
      ]
    },
    {
      "cell_type": "code",
      "metadata": {
        "id": "HnCAyLx24SSz",
        "outputId": "5244e4e0-c9b3-4156-88bb-858ac5813cf8",
        "colab": {
          "base_uri": "https://localhost:8080/",
          "height": 34
        }
      },
      "source": [
        "# CUIDADO:No es lo mismo que \n",
        "M2[c(2,1)] # R entiende también la matriz como un gran vector (por columnas) y lo anterior retorna los elmentos 2 y 1 de dicho vector"
      ],
      "execution_count": 18,
      "outputs": [
        {
          "output_type": "display_data",
          "data": {
            "text/plain": [
              "[1] 4 1"
            ],
            "text/latex": "\\begin{enumerate*}\n\\item 4\n\\item 1\n\\end{enumerate*}\n",
            "text/markdown": "1. 4\n2. 1\n\n\n",
            "text/html": [
              "<style>\n",
              ".list-inline {list-style: none; margin:0; padding: 0}\n",
              ".list-inline>li {display: inline-block}\n",
              ".list-inline>li:not(:last-child)::after {content: \"\\00b7\"; padding: 0 .5ex}\n",
              "</style>\n",
              "<ol class=list-inline><li>4</li><li>1</li></ol>\n"
            ]
          },
          "metadata": {
            "tags": []
          }
        }
      ]
    },
    {
      "cell_type": "code",
      "metadata": {
        "trusted": true,
        "id": "0irI-CBJSqou",
        "outputId": "b938fcb8-fbd9-4465-d399-72d4ee628d87",
        "colab": {
          "base_uri": "https://localhost:8080/",
          "height": 51
        }
      },
      "source": [
        "# Para acceder a una fila completa\n",
        "M1[2,] # segunda fila\n",
        "\n",
        "\n",
        "# Para acceder a una columna completa\n",
        "M1[,3] # tercera columna\n"
      ],
      "execution_count": 20,
      "outputs": [
        {
          "output_type": "display_data",
          "data": {
            "text/plain": [
              "[1] 2 4 6"
            ],
            "text/latex": "\\begin{enumerate*}\n\\item 2\n\\item 4\n\\item 6\n\\end{enumerate*}\n",
            "text/markdown": "1. 2\n2. 4\n3. 6\n\n\n",
            "text/html": [
              "<style>\n",
              ".list-inline {list-style: none; margin:0; padding: 0}\n",
              ".list-inline>li {display: inline-block}\n",
              ".list-inline>li:not(:last-child)::after {content: \"\\00b7\"; padding: 0 .5ex}\n",
              "</style>\n",
              "<ol class=list-inline><li>2</li><li>4</li><li>6</li></ol>\n"
            ]
          },
          "metadata": {
            "tags": []
          }
        },
        {
          "output_type": "display_data",
          "data": {
            "text/plain": [
              "[1] 5 6"
            ],
            "text/latex": "\\begin{enumerate*}\n\\item 5\n\\item 6\n\\end{enumerate*}\n",
            "text/markdown": "1. 5\n2. 6\n\n\n",
            "text/html": [
              "<style>\n",
              ".list-inline {list-style: none; margin:0; padding: 0}\n",
              ".list-inline>li {display: inline-block}\n",
              ".list-inline>li:not(:last-child)::after {content: \"\\00b7\"; padding: 0 .5ex}\n",
              "</style>\n",
              "<ol class=list-inline><li>5</li><li>6</li></ol>\n"
            ]
          },
          "metadata": {
            "tags": []
          }
        }
      ]
    },
    {
      "cell_type": "code",
      "metadata": {
        "trusted": true,
        "id": "rkq7J4nLSqow",
        "outputId": "e2a6ff6d-a3d3-4e99-c9ca-dc9ee316f1f8",
        "colab": {
          "base_uri": "https://localhost:8080/",
          "height": 130
        }
      },
      "source": [
        "#Recordemos que podemos actualizar elementos de un vector como:\n",
        "\n",
        "# quiero cambiar el 5 por un 99 (el 5 de la pos 1,3)\n",
        "M1[1,3] <- 99\n",
        "M1"
      ],
      "execution_count": 21,
      "outputs": [
        {
          "output_type": "display_data",
          "data": {
            "text/plain": [
              "     [,1] [,2] [,3]\n",
              "[1,] 1    3    99  \n",
              "[2,] 2    4     6  "
            ],
            "text/latex": "A matrix: 2 × 3 of type dbl\n\\begin{tabular}{lll}\n\t 1 & 3 & 99\\\\\n\t 2 & 4 &  6\\\\\n\\end{tabular}\n",
            "text/markdown": "\nA matrix: 2 × 3 of type dbl\n\n| 1 | 3 | 99 |\n| 2 | 4 |  6 |\n\n",
            "text/html": [
              "<table class=\"dataframe\">\n",
              "<caption>A matrix: 2 × 3 of type dbl</caption>\n",
              "<tbody>\n",
              "\t<tr><td>1</td><td>3</td><td>99</td></tr>\n",
              "\t<tr><td>2</td><td>4</td><td> 6</td></tr>\n",
              "</tbody>\n",
              "</table>\n"
            ]
          },
          "metadata": {
            "tags": []
          }
        }
      ]
    },
    {
      "cell_type": "code",
      "metadata": {
        "id": "KstW38ylSkSV"
      },
      "source": [
        "# Acceso mediante nombres\n"
      ],
      "execution_count": null,
      "outputs": []
    },
    {
      "cell_type": "code",
      "metadata": {
        "id": "Q924mp4_SyAN"
      },
      "source": [
        ""
      ],
      "execution_count": null,
      "outputs": []
    },
    {
      "cell_type": "code",
      "metadata": {
        "id": "jFDW7dPASkmo"
      },
      "source": [
        "M2"
      ],
      "execution_count": null,
      "outputs": []
    },
    {
      "cell_type": "code",
      "metadata": {
        "id": "0mKL1vhcSkVc"
      },
      "source": [
        "# Acceso mediante nomnbres\n"
      ],
      "execution_count": null,
      "outputs": []
    },
    {
      "cell_type": "code",
      "metadata": {
        "trusted": true,
        "id": "qt9bcwQgSqo0"
      },
      "source": [
        "# Acceso mediante \"indicatrices\" lógicas \n",
        "#Quiero obtener los elementos (1,1) y (2,3) de M2\n",
        "# 1: Crear una matriz de 2x3 con TRUE en dichas posiciones y FALSE en las restantes.\n",
        "\n"
      ],
      "execution_count": null,
      "outputs": []
    },
    {
      "cell_type": "code",
      "metadata": {
        "trusted": true,
        "id": "m4DDikCTSqo2"
      },
      "source": [
        "# Podemos evaluar las casillas de una atriz mediante sentencias lógicas\n"
      ],
      "execution_count": null,
      "outputs": []
    },
    {
      "cell_type": "markdown",
      "metadata": {
        "id": "DtKi8VpVSqo8"
      },
      "source": [
        "**Álgebra de matrices**\n",
        "\n",
        "Las operaciones suma (resta) y ponderación por escalar se llevan cabo mediante los mismos operadores utilizados para valores numéricos y vectores (+,-,*, /). Para multiplicar matrices en cambio, se utiliza el operador %*%, mientras que para invertirlas se utiliza la función solve(), t() para transponer y det() para el cálculo del determinante en el caso de matrices cuadradas."
      ]
    },
    {
      "cell_type": "code",
      "metadata": {
        "trusted": true,
        "id": "yxrjsz27Sqo8"
      },
      "source": [
        "# transponer una matriz\n"
      ],
      "execution_count": null,
      "outputs": []
    },
    {
      "cell_type": "code",
      "metadata": {
        "trusted": true,
        "id": "tSphDch3Sqo-"
      },
      "source": [
        "# 3.2 Álgbra de matrices  ------------\n",
        "# Ejemplo simple de álgebra de matrices\n",
        "\n"
      ],
      "execution_count": null,
      "outputs": []
    },
    {
      "cell_type": "code",
      "metadata": {
        "trusted": true,
        "id": "crNocLSqSqpA"
      },
      "source": [
        "# Multiplicación de matrices\n",
        "M2 * M1 # multiplicación componente a componente\n"
      ],
      "execution_count": null,
      "outputs": []
    },
    {
      "cell_type": "code",
      "metadata": {
        "trusted": true,
        "id": "RdPKIzaySqpC"
      },
      "source": [
        "# podemos calcular determinantes\n",
        "# ?det\n",
        "\n"
      ],
      "execution_count": null,
      "outputs": []
    },
    {
      "cell_type": "code",
      "metadata": {
        "trusted": true,
        "id": "Tymq9t9NSqpH"
      },
      "source": [
        "# Podemos invertir matrices\n",
        "# ?solve\n"
      ],
      "execution_count": null,
      "outputs": []
    }
  ]
}