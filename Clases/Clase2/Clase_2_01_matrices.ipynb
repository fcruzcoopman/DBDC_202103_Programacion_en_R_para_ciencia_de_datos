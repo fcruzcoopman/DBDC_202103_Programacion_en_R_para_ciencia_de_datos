{
  "nbformat": 4,
  "nbformat_minor": 0,
  "metadata": {
    "colab": {
      "name": "Clase_2_01_matrices.ipynb",
      "provenance": [],
      "include_colab_link": true
    },
    "kernelspec": {
      "name": "ir",
      "display_name": "R"
    }
  },
  "cells": [
    {
      "cell_type": "markdown",
      "metadata": {
        "id": "view-in-github",
        "colab_type": "text"
      },
      "source": [
        "<a href=\"https://colab.research.google.com/github/majorquev/DBDC_202103_Programacion_en_R_para_ciencia_de_datos/blob/main/Clases/Clase2/Clase_2_01_matrices.ipynb\" target=\"_parent\"><img src=\"https://colab.research.google.com/assets/colab-badge.svg\" alt=\"Open In Colab\"/></a>"
      ]
    },
    {
      "cell_type": "markdown",
      "metadata": {
        "collapsed": true,
        "id": "qGvtNqVzSqoX"
      },
      "source": [
        "# Parte 1: Introducción a R (continuación)\n",
        "\n",
        "**Autor:** Miguel Jorquera Viguera<br>\n",
        "**E-mail:** majorquev@gmail.com<br>\n",
        "**Ayudante:** Jorge Arévalo Labarca <br>\n",
        "**E-mail ayudante:** jorge.arevalol@usach.cl\n",
        "\n",
        "\n",
        "\n",
        "### 3.2 Matrices\n",
        "\n",
        "En R, así como en otros lenguajes de programación, una maztriz es básicamente un arreglo bi-dimensional, donde las entradas horizontales se entienden como filas y las verticales como columnas. Es posible imaginar una matriz como un arreglo de vectores como columnas (o filas) del mismo largo.\n",
        "\n",
        " * ¿Qué se guarda en una matriz?<br>\n",
        "    Sólo datos de un mismo tipo. \n",
        "     \n",
        " * ¿Cómo se declara una matriz?<br>\n",
        "    Se puede definir de varias maneras, indicando los elementos que la componen, o combinando vectores como filas o columnas.\n",
        " \n",
        " * ¿Cómo se accede a sus elementos?<br>\n",
        "    Indicando la posición del vector fila, seguido de la posición del vector columna (como es usual)."
      ]
    },
    {
      "cell_type": "code",
      "metadata": {
        "trusted": true,
        "id": "TKVO3cuZSqoY",
        "colab": {
          "base_uri": "https://localhost:8080/",
          "height": 243
        },
        "outputId": "02f4553a-d27e-4b3f-8932-c3330a518e47"
      },
      "source": [
        "# 3.2 Matrices ------------\n",
        "#?matrix de dos filas y 3 columnas, parametros ncol, nrow y byrow\n",
        "# recibe un vector de elementos\n",
        "\n",
        "M1 <- matrix(1:6,  nrow = 2, ncol = 3, byrow = FALSE)\n",
        "M1\n",
        "M2 <- matrix(1:6,  nrow = 2, ncol = 3, byrow = TRUE)\n",
        "M2"
      ],
      "execution_count": 2,
      "outputs": [
        {
          "output_type": "display_data",
          "data": {
            "text/plain": [
              "     [,1] [,2] [,3]\n",
              "[1,] 1    3    5   \n",
              "[2,] 2    4    6   "
            ],
            "text/latex": "A matrix: 2 × 3 of type int\n\\begin{tabular}{lll}\n\t 1 & 3 & 5\\\\\n\t 2 & 4 & 6\\\\\n\\end{tabular}\n",
            "text/markdown": "\nA matrix: 2 × 3 of type int\n\n| 1 | 3 | 5 |\n| 2 | 4 | 6 |\n\n",
            "text/html": [
              "<table class=\"dataframe\">\n",
              "<caption>A matrix: 2 × 3 of type int</caption>\n",
              "<tbody>\n",
              "\t<tr><td>1</td><td>3</td><td>5</td></tr>\n",
              "\t<tr><td>2</td><td>4</td><td>6</td></tr>\n",
              "</tbody>\n",
              "</table>\n"
            ]
          },
          "metadata": {
            "tags": []
          }
        },
        {
          "output_type": "display_data",
          "data": {
            "text/plain": [
              "     [,1] [,2] [,3]\n",
              "[1,] 1    2    3   \n",
              "[2,] 4    5    6   "
            ],
            "text/latex": "A matrix: 2 × 3 of type int\n\\begin{tabular}{lll}\n\t 1 & 2 & 3\\\\\n\t 4 & 5 & 6\\\\\n\\end{tabular}\n",
            "text/markdown": "\nA matrix: 2 × 3 of type int\n\n| 1 | 2 | 3 |\n| 4 | 5 | 6 |\n\n",
            "text/html": [
              "<table class=\"dataframe\">\n",
              "<caption>A matrix: 2 × 3 of type int</caption>\n",
              "<tbody>\n",
              "\t<tr><td>1</td><td>2</td><td>3</td></tr>\n",
              "\t<tr><td>4</td><td>5</td><td>6</td></tr>\n",
              "</tbody>\n",
              "</table>\n"
            ]
          },
          "metadata": {
            "tags": []
          }
        }
      ]
    },
    {
      "cell_type": "code",
      "metadata": {
        "trusted": true,
        "id": "Gm3PDTciSqof",
        "colab": {
          "base_uri": "https://localhost:8080/",
          "height": 68
        },
        "outputId": "2f466fff-87cb-4303-c012-06a8d7316649"
      },
      "source": [
        "# clase y atributo dim\n",
        "class(M1)\n",
        "typeof(M1)\n",
        "\n",
        "dim(M1)# Nun de filas  y num de columnas. (2,3)"
      ],
      "execution_count": 5,
      "outputs": [
        {
          "output_type": "display_data",
          "data": {
            "text/plain": [
              "[1] \"matrix\" \"array\" "
            ],
            "text/latex": "\\begin{enumerate*}\n\\item 'matrix'\n\\item 'array'\n\\end{enumerate*}\n",
            "text/markdown": "1. 'matrix'\n2. 'array'\n\n\n",
            "text/html": [
              "<style>\n",
              ".list-inline {list-style: none; margin:0; padding: 0}\n",
              ".list-inline>li {display: inline-block}\n",
              ".list-inline>li:not(:last-child)::after {content: \"\\00b7\"; padding: 0 .5ex}\n",
              "</style>\n",
              "<ol class=list-inline><li>'matrix'</li><li>'array'</li></ol>\n"
            ]
          },
          "metadata": {
            "tags": []
          }
        },
        {
          "output_type": "display_data",
          "data": {
            "text/plain": [
              "[1] \"integer\""
            ],
            "text/latex": "'integer'",
            "text/markdown": "'integer'",
            "text/html": [
              "'integer'"
            ]
          },
          "metadata": {
            "tags": []
          }
        },
        {
          "output_type": "display_data",
          "data": {
            "text/plain": [
              "[1] 2 3"
            ],
            "text/latex": "\\begin{enumerate*}\n\\item 2\n\\item 3\n\\end{enumerate*}\n",
            "text/markdown": "1. 2\n2. 3\n\n\n",
            "text/html": [
              "<style>\n",
              ".list-inline {list-style: none; margin:0; padding: 0}\n",
              ".list-inline>li {display: inline-block}\n",
              ".list-inline>li:not(:last-child)::after {content: \"\\00b7\"; padding: 0 .5ex}\n",
              "</style>\n",
              "<ol class=list-inline><li>2</li><li>3</li></ol>\n"
            ]
          },
          "metadata": {
            "tags": []
          }
        }
      ]
    },
    {
      "cell_type": "code",
      "metadata": {
        "trusted": true,
        "id": "2TXNSoedSqoh"
      },
      "source": [
        "# Genere dos vectores del mismo largo y forme una matriz.\n",
        "v1 <- 1:10\n",
        "v2 <- 21:30\n",
        "\n"
      ],
      "execution_count": 6,
      "outputs": []
    },
    {
      "cell_type": "code",
      "metadata": {
        "trusted": true,
        "id": "W3g76XEkSqok",
        "colab": {
          "base_uri": "https://localhost:8080/",
          "height": 489
        },
        "outputId": "eca1b5af-d372-441a-b131-ea43e92f682d"
      },
      "source": [
        "# funciones cbind() [une vectores como columnas]\n",
        "# y rbind() [une vectores como filas] (pensadas para matrices)\n",
        "#?cbind\n",
        "cbind(v1,v2) # los vectores se disponen como columnas en la matriz definida.\n",
        "rbind(v1,v2) # los vectores se disponen como filas en la matriz definida.\n"
      ],
      "execution_count": 8,
      "outputs": [
        {
          "output_type": "display_data",
          "data": {
            "text/plain": [
              "      v1 v2\n",
              " [1,]  1 21\n",
              " [2,]  2 22\n",
              " [3,]  3 23\n",
              " [4,]  4 24\n",
              " [5,]  5 25\n",
              " [6,]  6 26\n",
              " [7,]  7 27\n",
              " [8,]  8 28\n",
              " [9,]  9 29\n",
              "[10,] 10 30"
            ],
            "text/latex": "A matrix: 10 × 2 of type int\n\\begin{tabular}{ll}\n v1 & v2\\\\\n\\hline\n\t  1 & 21\\\\\n\t  2 & 22\\\\\n\t  3 & 23\\\\\n\t  4 & 24\\\\\n\t  5 & 25\\\\\n\t  6 & 26\\\\\n\t  7 & 27\\\\\n\t  8 & 28\\\\\n\t  9 & 29\\\\\n\t 10 & 30\\\\\n\\end{tabular}\n",
            "text/markdown": "\nA matrix: 10 × 2 of type int\n\n| v1 | v2 |\n|---|---|\n|  1 | 21 |\n|  2 | 22 |\n|  3 | 23 |\n|  4 | 24 |\n|  5 | 25 |\n|  6 | 26 |\n|  7 | 27 |\n|  8 | 28 |\n|  9 | 29 |\n| 10 | 30 |\n\n",
            "text/html": [
              "<table class=\"dataframe\">\n",
              "<caption>A matrix: 10 × 2 of type int</caption>\n",
              "<thead>\n",
              "\t<tr><th scope=col>v1</th><th scope=col>v2</th></tr>\n",
              "</thead>\n",
              "<tbody>\n",
              "\t<tr><td> 1</td><td>21</td></tr>\n",
              "\t<tr><td> 2</td><td>22</td></tr>\n",
              "\t<tr><td> 3</td><td>23</td></tr>\n",
              "\t<tr><td> 4</td><td>24</td></tr>\n",
              "\t<tr><td> 5</td><td>25</td></tr>\n",
              "\t<tr><td> 6</td><td>26</td></tr>\n",
              "\t<tr><td> 7</td><td>27</td></tr>\n",
              "\t<tr><td> 8</td><td>28</td></tr>\n",
              "\t<tr><td> 9</td><td>29</td></tr>\n",
              "\t<tr><td>10</td><td>30</td></tr>\n",
              "</tbody>\n",
              "</table>\n"
            ]
          },
          "metadata": {
            "tags": []
          }
        },
        {
          "output_type": "display_data",
          "data": {
            "text/plain": [
              "   [,1] [,2] [,3] [,4] [,5] [,6] [,7] [,8] [,9] [,10]\n",
              "v1  1    2    3    4    5    6    7    8    9   10   \n",
              "v2 21   22   23   24   25   26   27   28   29   30   "
            ],
            "text/latex": "A matrix: 2 × 10 of type int\n\\begin{tabular}{r|llllllllll}\n\tv1 &  1 &  2 &  3 &  4 &  5 &  6 &  7 &  8 &  9 & 10\\\\\n\tv2 & 21 & 22 & 23 & 24 & 25 & 26 & 27 & 28 & 29 & 30\\\\\n\\end{tabular}\n",
            "text/markdown": "\nA matrix: 2 × 10 of type int\n\n| v1 |  1 |  2 |  3 |  4 |  5 |  6 |  7 |  8 |  9 | 10 |\n| v2 | 21 | 22 | 23 | 24 | 25 | 26 | 27 | 28 | 29 | 30 |\n\n",
            "text/html": [
              "<table class=\"dataframe\">\n",
              "<caption>A matrix: 2 × 10 of type int</caption>\n",
              "<tbody>\n",
              "\t<tr><th scope=row>v1</th><td> 1</td><td> 2</td><td> 3</td><td> 4</td><td> 5</td><td> 6</td><td> 7</td><td> 8</td><td> 9</td><td>10</td></tr>\n",
              "\t<tr><th scope=row>v2</th><td>21</td><td>22</td><td>23</td><td>24</td><td>25</td><td>26</td><td>27</td><td>28</td><td>29</td><td>30</td></tr>\n",
              "</tbody>\n",
              "</table>\n"
            ]
          },
          "metadata": {
            "tags": []
          }
        }
      ]
    },
    {
      "cell_type": "code",
      "metadata": {
        "trusted": true,
        "id": "gDzbcsNVSqom",
        "colab": {
          "base_uri": "https://localhost:8080/",
          "height": 444
        },
        "outputId": "bb8a1600-5f3a-4cee-a5ae-0470381caa69"
      },
      "source": [
        "# si combinamos vectores de distinto largo?\n",
        "# R recicla valores (recordar explicación)\n",
        "v3 <- 25:30\n",
        "\n",
        "cbind(v1,v3)\n"
      ],
      "execution_count": 10,
      "outputs": [
        {
          "output_type": "stream",
          "text": [
            "Warning message in cbind(v1, v3):\n",
            "“number of rows of result is not a multiple of vector length (arg 2)”\n"
          ],
          "name": "stderr"
        },
        {
          "output_type": "display_data",
          "data": {
            "text/plain": [
              "      v1 v3\n",
              " [1,]  1 25\n",
              " [2,]  2 26\n",
              " [3,]  3 27\n",
              " [4,]  4 28\n",
              " [5,]  5 29\n",
              " [6,]  6 30\n",
              " [7,]  7 25\n",
              " [8,]  8 26\n",
              " [9,]  9 27\n",
              "[10,] 10 28"
            ],
            "text/latex": "A matrix: 10 × 2 of type int\n\\begin{tabular}{ll}\n v1 & v3\\\\\n\\hline\n\t  1 & 25\\\\\n\t  2 & 26\\\\\n\t  3 & 27\\\\\n\t  4 & 28\\\\\n\t  5 & 29\\\\\n\t  6 & 30\\\\\n\t  7 & 25\\\\\n\t  8 & 26\\\\\n\t  9 & 27\\\\\n\t 10 & 28\\\\\n\\end{tabular}\n",
            "text/markdown": "\nA matrix: 10 × 2 of type int\n\n| v1 | v3 |\n|---|---|\n|  1 | 25 |\n|  2 | 26 |\n|  3 | 27 |\n|  4 | 28 |\n|  5 | 29 |\n|  6 | 30 |\n|  7 | 25 |\n|  8 | 26 |\n|  9 | 27 |\n| 10 | 28 |\n\n",
            "text/html": [
              "<table class=\"dataframe\">\n",
              "<caption>A matrix: 10 × 2 of type int</caption>\n",
              "<thead>\n",
              "\t<tr><th scope=col>v1</th><th scope=col>v3</th></tr>\n",
              "</thead>\n",
              "<tbody>\n",
              "\t<tr><td> 1</td><td>25</td></tr>\n",
              "\t<tr><td> 2</td><td>26</td></tr>\n",
              "\t<tr><td> 3</td><td>27</td></tr>\n",
              "\t<tr><td> 4</td><td>28</td></tr>\n",
              "\t<tr><td> 5</td><td>29</td></tr>\n",
              "\t<tr><td> 6</td><td>30</td></tr>\n",
              "\t<tr><td> 7</td><td>25</td></tr>\n",
              "\t<tr><td> 8</td><td>26</td></tr>\n",
              "\t<tr><td> 9</td><td>27</td></tr>\n",
              "\t<tr><td>10</td><td>28</td></tr>\n",
              "</tbody>\n",
              "</table>\n"
            ]
          },
          "metadata": {
            "tags": []
          }
        }
      ]
    },
    {
      "cell_type": "code",
      "metadata": {
        "trusted": true,
        "id": "QLOH0514Sqoo",
        "colab": {
          "base_uri": "https://localhost:8080/",
          "height": 175
        },
        "outputId": "bae0ef75-17f3-4d67-edb3-025283518275"
      },
      "source": [
        "# función diag para la definición de matrices diagonales\n",
        "#?diag \n",
        "\n",
        "diag(c(1,2,5,10))\n",
        "\n"
      ],
      "execution_count": 11,
      "outputs": [
        {
          "output_type": "display_data",
          "data": {
            "text/plain": [
              "     [,1] [,2] [,3] [,4]\n",
              "[1,] 1    0    0     0  \n",
              "[2,] 0    2    0     0  \n",
              "[3,] 0    0    5     0  \n",
              "[4,] 0    0    0    10  "
            ],
            "text/latex": "A matrix: 4 × 4 of type dbl\n\\begin{tabular}{llll}\n\t 1 & 0 & 0 &  0\\\\\n\t 0 & 2 & 0 &  0\\\\\n\t 0 & 0 & 5 &  0\\\\\n\t 0 & 0 & 0 & 10\\\\\n\\end{tabular}\n",
            "text/markdown": "\nA matrix: 4 × 4 of type dbl\n\n| 1 | 0 | 0 |  0 |\n| 0 | 2 | 0 |  0 |\n| 0 | 0 | 5 |  0 |\n| 0 | 0 | 0 | 10 |\n\n",
            "text/html": [
              "<table class=\"dataframe\">\n",
              "<caption>A matrix: 4 × 4 of type dbl</caption>\n",
              "<tbody>\n",
              "\t<tr><td>1</td><td>0</td><td>0</td><td> 0</td></tr>\n",
              "\t<tr><td>0</td><td>2</td><td>0</td><td> 0</td></tr>\n",
              "\t<tr><td>0</td><td>0</td><td>5</td><td> 0</td></tr>\n",
              "\t<tr><td>0</td><td>0</td><td>0</td><td>10</td></tr>\n",
              "</tbody>\n",
              "</table>\n"
            ]
          },
          "metadata": {
            "tags": []
          }
        }
      ]
    },
    {
      "cell_type": "code",
      "metadata": {
        "trusted": true,
        "id": "xIfUV82ASqot",
        "colab": {
          "base_uri": "https://localhost:8080/",
          "height": 147
        },
        "outputId": "a23cf8d0-70ff-4180-9973-84d820c350aa"
      },
      "source": [
        "# Podemos acceder a los elementos de una matriz\n",
        "# indicando la posición de la fila y la columna de la casilla correspondiente.\n",
        "# Ejemplo:\n",
        "M1\n",
        "# quiero rescatar el elemento \"(2,1)\"\n",
        "M1[2,1]\n"
      ],
      "execution_count": 16,
      "outputs": [
        {
          "output_type": "display_data",
          "data": {
            "text/plain": [
              "     [,1] [,2] [,3]\n",
              "[1,] 1    3    5   \n",
              "[2,] 2    4    6   "
            ],
            "text/latex": "A matrix: 2 × 3 of type int\n\\begin{tabular}{lll}\n\t 1 & 3 & 5\\\\\n\t 2 & 4 & 6\\\\\n\\end{tabular}\n",
            "text/markdown": "\nA matrix: 2 × 3 of type int\n\n| 1 | 3 | 5 |\n| 2 | 4 | 6 |\n\n",
            "text/html": [
              "<table class=\"dataframe\">\n",
              "<caption>A matrix: 2 × 3 of type int</caption>\n",
              "<tbody>\n",
              "\t<tr><td>1</td><td>3</td><td>5</td></tr>\n",
              "\t<tr><td>2</td><td>4</td><td>6</td></tr>\n",
              "</tbody>\n",
              "</table>\n"
            ]
          },
          "metadata": {
            "tags": []
          }
        },
        {
          "output_type": "display_data",
          "data": {
            "text/plain": [
              "[1] 2"
            ],
            "text/latex": "2",
            "text/markdown": "2",
            "text/html": [
              "2"
            ]
          },
          "metadata": {
            "tags": []
          }
        }
      ]
    },
    {
      "cell_type": "code",
      "metadata": {
        "colab": {
          "base_uri": "https://localhost:8080/",
          "height": 34
        },
        "id": "HnCAyLx24SSz",
        "outputId": "5244e4e0-c9b3-4156-88bb-858ac5813cf8"
      },
      "source": [
        "# CUIDADO:No es lo mismo que \n",
        "M2[c(2,1)] # R entiende también la matriz como un gran vector (por columnas) y lo anterior retorna los elmentos 2 y 1 de dicho vector"
      ],
      "execution_count": 18,
      "outputs": [
        {
          "output_type": "display_data",
          "data": {
            "text/plain": [
              "[1] 4 1"
            ],
            "text/latex": "\\begin{enumerate*}\n\\item 4\n\\item 1\n\\end{enumerate*}\n",
            "text/markdown": "1. 4\n2. 1\n\n\n",
            "text/html": [
              "<style>\n",
              ".list-inline {list-style: none; margin:0; padding: 0}\n",
              ".list-inline>li {display: inline-block}\n",
              ".list-inline>li:not(:last-child)::after {content: \"\\00b7\"; padding: 0 .5ex}\n",
              "</style>\n",
              "<ol class=list-inline><li>4</li><li>1</li></ol>\n"
            ]
          },
          "metadata": {
            "tags": []
          }
        }
      ]
    },
    {
      "cell_type": "code",
      "metadata": {
        "trusted": true,
        "id": "0irI-CBJSqou",
        "colab": {
          "base_uri": "https://localhost:8080/",
          "height": 51
        },
        "outputId": "b938fcb8-fbd9-4465-d399-72d4ee628d87"
      },
      "source": [
        "# Para acceder a una fila completa\n",
        "M1[2,] # segunda fila\n",
        "\n",
        "\n",
        "# Para acceder a una columna completa\n",
        "M1[,3] # tercera columna\n"
      ],
      "execution_count": 20,
      "outputs": [
        {
          "output_type": "display_data",
          "data": {
            "text/plain": [
              "[1] 2 4 6"
            ],
            "text/latex": "\\begin{enumerate*}\n\\item 2\n\\item 4\n\\item 6\n\\end{enumerate*}\n",
            "text/markdown": "1. 2\n2. 4\n3. 6\n\n\n",
            "text/html": [
              "<style>\n",
              ".list-inline {list-style: none; margin:0; padding: 0}\n",
              ".list-inline>li {display: inline-block}\n",
              ".list-inline>li:not(:last-child)::after {content: \"\\00b7\"; padding: 0 .5ex}\n",
              "</style>\n",
              "<ol class=list-inline><li>2</li><li>4</li><li>6</li></ol>\n"
            ]
          },
          "metadata": {
            "tags": []
          }
        },
        {
          "output_type": "display_data",
          "data": {
            "text/plain": [
              "[1] 5 6"
            ],
            "text/latex": "\\begin{enumerate*}\n\\item 5\n\\item 6\n\\end{enumerate*}\n",
            "text/markdown": "1. 5\n2. 6\n\n\n",
            "text/html": [
              "<style>\n",
              ".list-inline {list-style: none; margin:0; padding: 0}\n",
              ".list-inline>li {display: inline-block}\n",
              ".list-inline>li:not(:last-child)::after {content: \"\\00b7\"; padding: 0 .5ex}\n",
              "</style>\n",
              "<ol class=list-inline><li>5</li><li>6</li></ol>\n"
            ]
          },
          "metadata": {
            "tags": []
          }
        }
      ]
    },
    {
      "cell_type": "code",
      "metadata": {
        "trusted": true,
        "id": "rkq7J4nLSqow",
        "colab": {
          "base_uri": "https://localhost:8080/",
          "height": 130
        },
        "outputId": "e2a6ff6d-a3d3-4e99-c9ca-dc9ee316f1f8"
      },
      "source": [
        "#Recordemos que podemos actualizar elementos de un vector como:\n",
        "\n",
        "# quiero cambiar el 5 por un 99 (el 5 de la pos 1,3)\n",
        "M1[1,3] <- 99\n",
        "M1"
      ],
      "execution_count": 21,
      "outputs": [
        {
          "output_type": "display_data",
          "data": {
            "text/plain": [
              "     [,1] [,2] [,3]\n",
              "[1,] 1    3    99  \n",
              "[2,] 2    4     6  "
            ],
            "text/latex": "A matrix: 2 × 3 of type dbl\n\\begin{tabular}{lll}\n\t 1 & 3 & 99\\\\\n\t 2 & 4 &  6\\\\\n\\end{tabular}\n",
            "text/markdown": "\nA matrix: 2 × 3 of type dbl\n\n| 1 | 3 | 99 |\n| 2 | 4 |  6 |\n\n",
            "text/html": [
              "<table class=\"dataframe\">\n",
              "<caption>A matrix: 2 × 3 of type dbl</caption>\n",
              "<tbody>\n",
              "\t<tr><td>1</td><td>3</td><td>99</td></tr>\n",
              "\t<tr><td>2</td><td>4</td><td> 6</td></tr>\n",
              "</tbody>\n",
              "</table>\n"
            ]
          },
          "metadata": {
            "tags": []
          }
        }
      ]
    },
    {
      "cell_type": "code",
      "metadata": {
        "id": "KstW38ylSkSV",
        "colab": {
          "base_uri": "https://localhost:8080/",
          "height": 164
        },
        "outputId": "dbd3b829-2528-4d7b-8362-5a9053ff12b4"
      },
      "source": [
        "# Acceso mediante nombres\n",
        "M1\n",
        "rownames(M1)\n",
        "colnames(M1)"
      ],
      "execution_count": 23,
      "outputs": [
        {
          "output_type": "display_data",
          "data": {
            "text/plain": [
              "     [,1] [,2] [,3]\n",
              "[1,] 1    3    99  \n",
              "[2,] 2    4     6  "
            ],
            "text/latex": "A matrix: 2 × 3 of type dbl\n\\begin{tabular}{lll}\n\t 1 & 3 & 99\\\\\n\t 2 & 4 &  6\\\\\n\\end{tabular}\n",
            "text/markdown": "\nA matrix: 2 × 3 of type dbl\n\n| 1 | 3 | 99 |\n| 2 | 4 |  6 |\n\n",
            "text/html": [
              "<table class=\"dataframe\">\n",
              "<caption>A matrix: 2 × 3 of type dbl</caption>\n",
              "<tbody>\n",
              "\t<tr><td>1</td><td>3</td><td>99</td></tr>\n",
              "\t<tr><td>2</td><td>4</td><td> 6</td></tr>\n",
              "</tbody>\n",
              "</table>\n"
            ]
          },
          "metadata": {
            "tags": []
          }
        },
        {
          "output_type": "display_data",
          "data": {
            "text/plain": [
              "NULL"
            ]
          },
          "metadata": {
            "tags": []
          }
        },
        {
          "output_type": "display_data",
          "data": {
            "text/plain": [
              "NULL"
            ]
          },
          "metadata": {
            "tags": []
          }
        }
      ]
    },
    {
      "cell_type": "code",
      "metadata": {
        "id": "Q924mp4_SyAN"
      },
      "source": [
        "rownames(M1) <- c(\"f1\",\"f2\") "
      ],
      "execution_count": 24,
      "outputs": []
    },
    {
      "cell_type": "code",
      "metadata": {
        "id": "guS1eN1D8VKf",
        "outputId": "ff51d696-37a5-4494-d978-b809d66a7d06",
        "colab": {
          "base_uri": "https://localhost:8080/",
          "height": 113
        }
      },
      "source": [
        "M1"
      ],
      "execution_count": 25,
      "outputs": [
        {
          "output_type": "display_data",
          "data": {
            "text/plain": [
              "   [,1] [,2] [,3]\n",
              "f1 1    3    99  \n",
              "f2 2    4     6  "
            ],
            "text/latex": "A matrix: 2 × 3 of type dbl\n\\begin{tabular}{r|lll}\n\tf1 & 1 & 3 & 99\\\\\n\tf2 & 2 & 4 &  6\\\\\n\\end{tabular}\n",
            "text/markdown": "\nA matrix: 2 × 3 of type dbl\n\n| f1 | 1 | 3 | 99 |\n| f2 | 2 | 4 |  6 |\n\n",
            "text/html": [
              "<table class=\"dataframe\">\n",
              "<caption>A matrix: 2 × 3 of type dbl</caption>\n",
              "<tbody>\n",
              "\t<tr><th scope=row>f1</th><td>1</td><td>3</td><td>99</td></tr>\n",
              "\t<tr><th scope=row>f2</th><td>2</td><td>4</td><td> 6</td></tr>\n",
              "</tbody>\n",
              "</table>\n"
            ]
          },
          "metadata": {
            "tags": []
          }
        }
      ]
    },
    {
      "cell_type": "code",
      "metadata": {
        "id": "-bge4KPn8YWI"
      },
      "source": [
        "colnames(M1) <- c(\"c1\",\"c2\",\"c3\") "
      ],
      "execution_count": 26,
      "outputs": []
    },
    {
      "cell_type": "code",
      "metadata": {
        "id": "ysAhWsjS8do0",
        "outputId": "0ab94e34-c736-436c-de0c-e4310ecf3fe4",
        "colab": {
          "base_uri": "https://localhost:8080/",
          "height": 145
        }
      },
      "source": [
        "M1"
      ],
      "execution_count": 27,
      "outputs": [
        {
          "output_type": "display_data",
          "data": {
            "text/plain": [
              "   c1 c2 c3\n",
              "f1 1  3  99\n",
              "f2 2  4   6"
            ],
            "text/latex": "A matrix: 2 × 3 of type dbl\n\\begin{tabular}{r|lll}\n  & c1 & c2 & c3\\\\\n\\hline\n\tf1 & 1 & 3 & 99\\\\\n\tf2 & 2 & 4 &  6\\\\\n\\end{tabular}\n",
            "text/markdown": "\nA matrix: 2 × 3 of type dbl\n\n| <!--/--> | c1 | c2 | c3 |\n|---|---|---|---|\n| f1 | 1 | 3 | 99 |\n| f2 | 2 | 4 |  6 |\n\n",
            "text/html": [
              "<table class=\"dataframe\">\n",
              "<caption>A matrix: 2 × 3 of type dbl</caption>\n",
              "<thead>\n",
              "\t<tr><th></th><th scope=col>c1</th><th scope=col>c2</th><th scope=col>c3</th></tr>\n",
              "</thead>\n",
              "<tbody>\n",
              "\t<tr><th scope=row>f1</th><td>1</td><td>3</td><td>99</td></tr>\n",
              "\t<tr><th scope=row>f2</th><td>2</td><td>4</td><td> 6</td></tr>\n",
              "</tbody>\n",
              "</table>\n"
            ]
          },
          "metadata": {
            "tags": []
          }
        }
      ]
    },
    {
      "cell_type": "code",
      "metadata": {
        "id": "y8koZFkd8htb",
        "outputId": "cf776c00-271c-41ab-a515-0d248d160f8c",
        "colab": {
          "base_uri": "https://localhost:8080/",
          "height": 51
        }
      },
      "source": [
        "rownames(M1)\n",
        "colnames(M1)"
      ],
      "execution_count": 28,
      "outputs": [
        {
          "output_type": "display_data",
          "data": {
            "text/plain": [
              "[1] \"f1\" \"f2\""
            ],
            "text/latex": "\\begin{enumerate*}\n\\item 'f1'\n\\item 'f2'\n\\end{enumerate*}\n",
            "text/markdown": "1. 'f1'\n2. 'f2'\n\n\n",
            "text/html": [
              "<style>\n",
              ".list-inline {list-style: none; margin:0; padding: 0}\n",
              ".list-inline>li {display: inline-block}\n",
              ".list-inline>li:not(:last-child)::after {content: \"\\00b7\"; padding: 0 .5ex}\n",
              "</style>\n",
              "<ol class=list-inline><li>'f1'</li><li>'f2'</li></ol>\n"
            ]
          },
          "metadata": {
            "tags": []
          }
        },
        {
          "output_type": "display_data",
          "data": {
            "text/plain": [
              "[1] \"c1\" \"c2\" \"c3\""
            ],
            "text/latex": "\\begin{enumerate*}\n\\item 'c1'\n\\item 'c2'\n\\item 'c3'\n\\end{enumerate*}\n",
            "text/markdown": "1. 'c1'\n2. 'c2'\n3. 'c3'\n\n\n",
            "text/html": [
              "<style>\n",
              ".list-inline {list-style: none; margin:0; padding: 0}\n",
              ".list-inline>li {display: inline-block}\n",
              ".list-inline>li:not(:last-child)::after {content: \"\\00b7\"; padding: 0 .5ex}\n",
              "</style>\n",
              "<ol class=list-inline><li>'c1'</li><li>'c2'</li><li>'c3'</li></ol>\n"
            ]
          },
          "metadata": {
            "tags": []
          }
        }
      ]
    },
    {
      "cell_type": "code",
      "metadata": {
        "id": "0mKL1vhcSkVc",
        "colab": {
          "base_uri": "https://localhost:8080/",
          "height": 51
        },
        "outputId": "5a2182e2-ceaf-409a-f709-b52121c9cb2e"
      },
      "source": [
        "# Acceso mediante nombres\n",
        "# Queremos rescatar el '99'. El elemento que está en la fila 'f1' y columna 'c3'\n",
        "M1[\"f1\",\"c3\"]\n",
        "M1[1,3]"
      ],
      "execution_count": 30,
      "outputs": [
        {
          "output_type": "display_data",
          "data": {
            "text/plain": [
              "[1] 99"
            ],
            "text/latex": "99",
            "text/markdown": "99",
            "text/html": [
              "99"
            ]
          },
          "metadata": {
            "tags": []
          }
        },
        {
          "output_type": "display_data",
          "data": {
            "text/plain": [
              "[1] 99"
            ],
            "text/latex": "99",
            "text/markdown": "99",
            "text/html": [
              "99"
            ]
          },
          "metadata": {
            "tags": []
          }
        }
      ]
    },
    {
      "cell_type": "code",
      "metadata": {
        "trusted": true,
        "id": "qt9bcwQgSqo0",
        "colab": {
          "base_uri": "https://localhost:8080/",
          "height": 96
        },
        "outputId": "69ae4d10-7655-4d77-da5b-8f5579198481"
      },
      "source": [
        "# Acceso mediante \"indicatrices\" lógicas \n",
        "#Quiero obtener los elementos (1,1) y (2,3) de M2\n",
        "# 1: Crear una matriz de 2x3 con TRUE en dichas posiciones y FALSE en las restantes.\n",
        "ind <- matrix(c(T,F,F,F,F,T), nrow = 2, ncol = 3, byrow = T)\n",
        "ind\n"
      ],
      "execution_count": 31,
      "outputs": [
        {
          "output_type": "display_data",
          "data": {
            "text/plain": [
              "     [,1]  [,2]  [,3] \n",
              "[1,]  TRUE FALSE FALSE\n",
              "[2,] FALSE FALSE  TRUE"
            ],
            "text/latex": "A matrix: 2 × 3 of type lgl\n\\begin{tabular}{lll}\n\t  TRUE & FALSE & FALSE\\\\\n\t FALSE & FALSE &  TRUE\\\\\n\\end{tabular}\n",
            "text/markdown": "\nA matrix: 2 × 3 of type lgl\n\n|  TRUE | FALSE | FALSE |\n| FALSE | FALSE |  TRUE |\n\n",
            "text/html": [
              "<table class=\"dataframe\">\n",
              "<caption>A matrix: 2 × 3 of type lgl</caption>\n",
              "<tbody>\n",
              "\t<tr><td> TRUE</td><td>FALSE</td><td>FALSE</td></tr>\n",
              "\t<tr><td>FALSE</td><td>FALSE</td><td> TRUE</td></tr>\n",
              "</tbody>\n",
              "</table>\n"
            ]
          },
          "metadata": {
            "tags": []
          }
        }
      ]
    },
    {
      "cell_type": "code",
      "metadata": {
        "trusted": true,
        "id": "m4DDikCTSqo2",
        "colab": {
          "base_uri": "https://localhost:8080/",
          "height": 34
        },
        "outputId": "825f716e-b16b-49e4-8828-8442b08d2304"
      },
      "source": [
        "# Podemos evaluar las casillas de una atriz mediante sentencias lógicas\n",
        "M1[ind]"
      ],
      "execution_count": 32,
      "outputs": [
        {
          "output_type": "display_data",
          "data": {
            "text/plain": [
              "[1] 1 6"
            ],
            "text/latex": "\\begin{enumerate*}\n\\item 1\n\\item 6\n\\end{enumerate*}\n",
            "text/markdown": "1. 1\n2. 6\n\n\n",
            "text/html": [
              "<style>\n",
              ".list-inline {list-style: none; margin:0; padding: 0}\n",
              ".list-inline>li {display: inline-block}\n",
              ".list-inline>li:not(:last-child)::after {content: \"\\00b7\"; padding: 0 .5ex}\n",
              "</style>\n",
              "<ol class=list-inline><li>1</li><li>6</li></ol>\n"
            ]
          },
          "metadata": {
            "tags": []
          }
        }
      ]
    },
    {
      "cell_type": "code",
      "metadata": {
        "id": "tyIr9ess984i",
        "outputId": "c3f549f1-590b-410b-ddd8-56fff921485d",
        "colab": {
          "base_uri": "https://localhost:8080/",
          "height": 128
        }
      },
      "source": [
        "M1 > 5"
      ],
      "execution_count": 33,
      "outputs": [
        {
          "output_type": "display_data",
          "data": {
            "text/plain": [
              "   c1    c2    c3  \n",
              "f1 FALSE FALSE TRUE\n",
              "f2 FALSE FALSE TRUE"
            ],
            "text/latex": "A matrix: 2 × 3 of type lgl\n\\begin{tabular}{r|lll}\n  & c1 & c2 & c3\\\\\n\\hline\n\tf1 & FALSE & FALSE & TRUE\\\\\n\tf2 & FALSE & FALSE & TRUE\\\\\n\\end{tabular}\n",
            "text/markdown": "\nA matrix: 2 × 3 of type lgl\n\n| <!--/--> | c1 | c2 | c3 |\n|---|---|---|---|\n| f1 | FALSE | FALSE | TRUE |\n| f2 | FALSE | FALSE | TRUE |\n\n",
            "text/html": [
              "<table class=\"dataframe\">\n",
              "<caption>A matrix: 2 × 3 of type lgl</caption>\n",
              "<thead>\n",
              "\t<tr><th></th><th scope=col>c1</th><th scope=col>c2</th><th scope=col>c3</th></tr>\n",
              "</thead>\n",
              "<tbody>\n",
              "\t<tr><th scope=row>f1</th><td>FALSE</td><td>FALSE</td><td>TRUE</td></tr>\n",
              "\t<tr><th scope=row>f2</th><td>FALSE</td><td>FALSE</td><td>TRUE</td></tr>\n",
              "</tbody>\n",
              "</table>\n"
            ]
          },
          "metadata": {
            "tags": []
          }
        }
      ]
    },
    {
      "cell_type": "code",
      "metadata": {
        "id": "EfJWjHql-GRU",
        "outputId": "018df267-0efc-4f7b-d7d0-7757560b665d",
        "colab": {
          "base_uri": "https://localhost:8080/",
          "height": 34
        }
      },
      "source": [
        "M1[M1 > 5]"
      ],
      "execution_count": 34,
      "outputs": [
        {
          "output_type": "display_data",
          "data": {
            "text/plain": [
              "[1] 99  6"
            ],
            "text/latex": "\\begin{enumerate*}\n\\item 99\n\\item 6\n\\end{enumerate*}\n",
            "text/markdown": "1. 99\n2. 6\n\n\n",
            "text/html": [
              "<style>\n",
              ".list-inline {list-style: none; margin:0; padding: 0}\n",
              ".list-inline>li {display: inline-block}\n",
              ".list-inline>li:not(:last-child)::after {content: \"\\00b7\"; padding: 0 .5ex}\n",
              "</style>\n",
              "<ol class=list-inline><li>99</li><li>6</li></ol>\n"
            ]
          },
          "metadata": {
            "tags": []
          }
        }
      ]
    },
    {
      "cell_type": "markdown",
      "metadata": {
        "id": "DtKi8VpVSqo8"
      },
      "source": [
        "**Álgebra de matrices**\n",
        "\n",
        "Las operaciones suma (resta) y ponderación por escalar se llevan cabo mediante los mismos operadores utilizados para valores numéricos y vectores (+,-,*, /). Para multiplicar matrices en cambio, se utiliza el operador %*%, mientras que para invertirlas se utiliza la función solve(), t() para transponer y det() para el cálculo del determinante en el caso de matrices cuadradas."
      ]
    },
    {
      "cell_type": "code",
      "metadata": {
        "trusted": true,
        "id": "yxrjsz27Sqo8",
        "colab": {
          "base_uri": "https://localhost:8080/",
          "height": 176
        },
        "outputId": "ad334e09-2e66-4994-f107-eac842af90fb"
      },
      "source": [
        "# transponer una matriz\n",
        "t(M1)"
      ],
      "execution_count": 36,
      "outputs": [
        {
          "output_type": "display_data",
          "data": {
            "text/plain": [
              "   f1 f2\n",
              "c1  1 2 \n",
              "c2  3 4 \n",
              "c3 99 6 "
            ],
            "text/latex": "A matrix: 3 × 2 of type dbl\n\\begin{tabular}{r|ll}\n  & f1 & f2\\\\\n\\hline\n\tc1 &  1 & 2\\\\\n\tc2 &  3 & 4\\\\\n\tc3 & 99 & 6\\\\\n\\end{tabular}\n",
            "text/markdown": "\nA matrix: 3 × 2 of type dbl\n\n| <!--/--> | f1 | f2 |\n|---|---|---|\n| c1 |  1 | 2 |\n| c2 |  3 | 4 |\n| c3 | 99 | 6 |\n\n",
            "text/html": [
              "<table class=\"dataframe\">\n",
              "<caption>A matrix: 3 × 2 of type dbl</caption>\n",
              "<thead>\n",
              "\t<tr><th></th><th scope=col>f1</th><th scope=col>f2</th></tr>\n",
              "</thead>\n",
              "<tbody>\n",
              "\t<tr><th scope=row>c1</th><td> 1</td><td>2</td></tr>\n",
              "\t<tr><th scope=row>c2</th><td> 3</td><td>4</td></tr>\n",
              "\t<tr><th scope=row>c3</th><td>99</td><td>6</td></tr>\n",
              "</tbody>\n",
              "</table>\n"
            ]
          },
          "metadata": {
            "tags": []
          }
        }
      ]
    },
    {
      "cell_type": "code",
      "metadata": {
        "trusted": true,
        "id": "tSphDch3Sqo-",
        "colab": {
          "base_uri": "https://localhost:8080/",
          "height": 273
        },
        "outputId": "123982e4-d01f-47cc-cad8-a51440a5dae6"
      },
      "source": [
        "# 3.2 Álgbra de matrices  ------------\n",
        "# Ejemplo simple de álgebra de matrices\n",
        "\n",
        "M1 + M1\n",
        "M1*3"
      ],
      "execution_count": 37,
      "outputs": [
        {
          "output_type": "display_data",
          "data": {
            "text/plain": [
              "   c1 c2 c3 \n",
              "f1 2  6  198\n",
              "f2 4  8   12"
            ],
            "text/latex": "A matrix: 2 × 3 of type dbl\n\\begin{tabular}{r|lll}\n  & c1 & c2 & c3\\\\\n\\hline\n\tf1 & 2 & 6 & 198\\\\\n\tf2 & 4 & 8 &  12\\\\\n\\end{tabular}\n",
            "text/markdown": "\nA matrix: 2 × 3 of type dbl\n\n| <!--/--> | c1 | c2 | c3 |\n|---|---|---|---|\n| f1 | 2 | 6 | 198 |\n| f2 | 4 | 8 |  12 |\n\n",
            "text/html": [
              "<table class=\"dataframe\">\n",
              "<caption>A matrix: 2 × 3 of type dbl</caption>\n",
              "<thead>\n",
              "\t<tr><th></th><th scope=col>c1</th><th scope=col>c2</th><th scope=col>c3</th></tr>\n",
              "</thead>\n",
              "<tbody>\n",
              "\t<tr><th scope=row>f1</th><td>2</td><td>6</td><td>198</td></tr>\n",
              "\t<tr><th scope=row>f2</th><td>4</td><td>8</td><td> 12</td></tr>\n",
              "</tbody>\n",
              "</table>\n"
            ]
          },
          "metadata": {
            "tags": []
          }
        },
        {
          "output_type": "display_data",
          "data": {
            "text/plain": [
              "   c1 c2 c3 \n",
              "f1 3   9 297\n",
              "f2 6  12  18"
            ],
            "text/latex": "A matrix: 2 × 3 of type dbl\n\\begin{tabular}{r|lll}\n  & c1 & c2 & c3\\\\\n\\hline\n\tf1 & 3 &  9 & 297\\\\\n\tf2 & 6 & 12 &  18\\\\\n\\end{tabular}\n",
            "text/markdown": "\nA matrix: 2 × 3 of type dbl\n\n| <!--/--> | c1 | c2 | c3 |\n|---|---|---|---|\n| f1 | 3 |  9 | 297 |\n| f2 | 6 | 12 |  18 |\n\n",
            "text/html": [
              "<table class=\"dataframe\">\n",
              "<caption>A matrix: 2 × 3 of type dbl</caption>\n",
              "<thead>\n",
              "\t<tr><th></th><th scope=col>c1</th><th scope=col>c2</th><th scope=col>c3</th></tr>\n",
              "</thead>\n",
              "<tbody>\n",
              "\t<tr><th scope=row>f1</th><td>3</td><td> 9</td><td>297</td></tr>\n",
              "\t<tr><th scope=row>f2</th><td>6</td><td>12</td><td> 18</td></tr>\n",
              "</tbody>\n",
              "</table>\n"
            ]
          },
          "metadata": {
            "tags": []
          }
        }
      ]
    },
    {
      "cell_type": "code",
      "metadata": {
        "trusted": true,
        "id": "crNocLSqSqpA",
        "colab": {
          "base_uri": "https://localhost:8080/",
          "height": 304
        },
        "outputId": "c43aa887-b2de-40aa-9981-f95c14eac3e3"
      },
      "source": [
        "# Multiplicación de matrices\n",
        "# multiplicación componente a componente\n",
        "M1\n",
        "M3 <- t(M1)\n",
        "M3"
      ],
      "execution_count": 40,
      "outputs": [
        {
          "output_type": "display_data",
          "data": {
            "text/plain": [
              "   c1 c2 c3\n",
              "f1 1  3  99\n",
              "f2 2  4   6"
            ],
            "text/latex": "A matrix: 2 × 3 of type dbl\n\\begin{tabular}{r|lll}\n  & c1 & c2 & c3\\\\\n\\hline\n\tf1 & 1 & 3 & 99\\\\\n\tf2 & 2 & 4 &  6\\\\\n\\end{tabular}\n",
            "text/markdown": "\nA matrix: 2 × 3 of type dbl\n\n| <!--/--> | c1 | c2 | c3 |\n|---|---|---|---|\n| f1 | 1 | 3 | 99 |\n| f2 | 2 | 4 |  6 |\n\n",
            "text/html": [
              "<table class=\"dataframe\">\n",
              "<caption>A matrix: 2 × 3 of type dbl</caption>\n",
              "<thead>\n",
              "\t<tr><th></th><th scope=col>c1</th><th scope=col>c2</th><th scope=col>c3</th></tr>\n",
              "</thead>\n",
              "<tbody>\n",
              "\t<tr><th scope=row>f1</th><td>1</td><td>3</td><td>99</td></tr>\n",
              "\t<tr><th scope=row>f2</th><td>2</td><td>4</td><td> 6</td></tr>\n",
              "</tbody>\n",
              "</table>\n"
            ]
          },
          "metadata": {
            "tags": []
          }
        },
        {
          "output_type": "display_data",
          "data": {
            "text/plain": [
              "   f1 f2\n",
              "c1  1 2 \n",
              "c2  3 4 \n",
              "c3 99 6 "
            ],
            "text/latex": "A matrix: 3 × 2 of type dbl\n\\begin{tabular}{r|ll}\n  & f1 & f2\\\\\n\\hline\n\tc1 &  1 & 2\\\\\n\tc2 &  3 & 4\\\\\n\tc3 & 99 & 6\\\\\n\\end{tabular}\n",
            "text/markdown": "\nA matrix: 3 × 2 of type dbl\n\n| <!--/--> | f1 | f2 |\n|---|---|---|\n| c1 |  1 | 2 |\n| c2 |  3 | 4 |\n| c3 | 99 | 6 |\n\n",
            "text/html": [
              "<table class=\"dataframe\">\n",
              "<caption>A matrix: 3 × 2 of type dbl</caption>\n",
              "<thead>\n",
              "\t<tr><th></th><th scope=col>f1</th><th scope=col>f2</th></tr>\n",
              "</thead>\n",
              "<tbody>\n",
              "\t<tr><th scope=row>c1</th><td> 1</td><td>2</td></tr>\n",
              "\t<tr><th scope=row>c2</th><td> 3</td><td>4</td></tr>\n",
              "\t<tr><th scope=row>c3</th><td>99</td><td>6</td></tr>\n",
              "</tbody>\n",
              "</table>\n"
            ]
          },
          "metadata": {
            "tags": []
          }
        }
      ]
    },
    {
      "cell_type": "code",
      "metadata": {
        "id": "d08bFozw-uih",
        "outputId": "9329e488-d8a5-46d0-e290-8e9651d77122",
        "colab": {
          "base_uri": "https://localhost:8080/",
          "height": 145
        }
      },
      "source": [
        "M1 %*% M3"
      ],
      "execution_count": 41,
      "outputs": [
        {
          "output_type": "display_data",
          "data": {
            "text/plain": [
              "   f1   f2 \n",
              "f1 9811 608\n",
              "f2  608  56"
            ],
            "text/latex": "A matrix: 2 × 2 of type dbl\n\\begin{tabular}{r|ll}\n  & f1 & f2\\\\\n\\hline\n\tf1 & 9811 & 608\\\\\n\tf2 &  608 &  56\\\\\n\\end{tabular}\n",
            "text/markdown": "\nA matrix: 2 × 2 of type dbl\n\n| <!--/--> | f1 | f2 |\n|---|---|---|\n| f1 | 9811 | 608 |\n| f2 |  608 |  56 |\n\n",
            "text/html": [
              "<table class=\"dataframe\">\n",
              "<caption>A matrix: 2 × 2 of type dbl</caption>\n",
              "<thead>\n",
              "\t<tr><th></th><th scope=col>f1</th><th scope=col>f2</th></tr>\n",
              "</thead>\n",
              "<tbody>\n",
              "\t<tr><th scope=row>f1</th><td>9811</td><td>608</td></tr>\n",
              "\t<tr><th scope=row>f2</th><td> 608</td><td> 56</td></tr>\n",
              "</tbody>\n",
              "</table>\n"
            ]
          },
          "metadata": {
            "tags": []
          }
        }
      ]
    },
    {
      "cell_type": "code",
      "metadata": {
        "id": "08GcBAQN-2kI",
        "outputId": "d7238649-8364-4f1f-a564-508cd74673f1",
        "colab": {
          "base_uri": "https://localhost:8080/",
          "height": 145
        }
      },
      "source": [
        "M1 * M1  # Multiplicacion componente a componente"
      ],
      "execution_count": 43,
      "outputs": [
        {
          "output_type": "display_data",
          "data": {
            "text/plain": [
              "   c1 c2 c3  \n",
              "f1 1   9 9801\n",
              "f2 4  16   36"
            ],
            "text/latex": "A matrix: 2 × 3 of type dbl\n\\begin{tabular}{r|lll}\n  & c1 & c2 & c3\\\\\n\\hline\n\tf1 & 1 &  9 & 9801\\\\\n\tf2 & 4 & 16 &   36\\\\\n\\end{tabular}\n",
            "text/markdown": "\nA matrix: 2 × 3 of type dbl\n\n| <!--/--> | c1 | c2 | c3 |\n|---|---|---|---|\n| f1 | 1 |  9 | 9801 |\n| f2 | 4 | 16 |   36 |\n\n",
            "text/html": [
              "<table class=\"dataframe\">\n",
              "<caption>A matrix: 2 × 3 of type dbl</caption>\n",
              "<thead>\n",
              "\t<tr><th></th><th scope=col>c1</th><th scope=col>c2</th><th scope=col>c3</th></tr>\n",
              "</thead>\n",
              "<tbody>\n",
              "\t<tr><th scope=row>f1</th><td>1</td><td> 9</td><td>9801</td></tr>\n",
              "\t<tr><th scope=row>f2</th><td>4</td><td>16</td><td>  36</td></tr>\n",
              "</tbody>\n",
              "</table>\n"
            ]
          },
          "metadata": {
            "tags": []
          }
        }
      ]
    },
    {
      "cell_type": "code",
      "metadata": {
        "trusted": true,
        "id": "RdPKIzaySqpC",
        "colab": {
          "base_uri": "https://localhost:8080/",
          "height": 34
        },
        "outputId": "385dda71-0540-42ee-d404-c16c534bf96f"
      },
      "source": [
        "# podemos calcular determinantes\n",
        "# ?det\n",
        "M4 <- M1 %*% M3\n",
        "det(M4)"
      ],
      "execution_count": 45,
      "outputs": [
        {
          "output_type": "display_data",
          "data": {
            "text/plain": [
              "[1] 179752"
            ],
            "text/latex": "179752",
            "text/markdown": "179752",
            "text/html": [
              "179752"
            ]
          },
          "metadata": {
            "tags": []
          }
        }
      ]
    },
    {
      "cell_type": "code",
      "metadata": {
        "trusted": true,
        "id": "Tymq9t9NSqpH",
        "colab": {
          "base_uri": "https://localhost:8080/",
          "height": 128
        },
        "outputId": "5a4cbcb0-563c-49a8-b8dd-56283ef2baa5"
      },
      "source": [
        "# Podemos invertir matrices\n",
        "# ?solve\n",
        "solve(M4) "
      ],
      "execution_count": 48,
      "outputs": [
        {
          "output_type": "display_data",
          "data": {
            "text/plain": [
              "   f1            f2          \n",
              "f1  0.0003115403 -0.003382438\n",
              "f2 -0.0033824380  0.054580756"
            ],
            "text/latex": "A matrix: 2 × 2 of type dbl\n\\begin{tabular}{r|ll}\n  & f1 & f2\\\\\n\\hline\n\tf1 &  0.0003115403 & -0.003382438\\\\\n\tf2 & -0.0033824380 &  0.054580756\\\\\n\\end{tabular}\n",
            "text/markdown": "\nA matrix: 2 × 2 of type dbl\n\n| <!--/--> | f1 | f2 |\n|---|---|---|\n| f1 |  0.0003115403 | -0.003382438 |\n| f2 | -0.0033824380 |  0.054580756 |\n\n",
            "text/html": [
              "<table class=\"dataframe\">\n",
              "<caption>A matrix: 2 × 2 of type dbl</caption>\n",
              "<thead>\n",
              "\t<tr><th></th><th scope=col>f1</th><th scope=col>f2</th></tr>\n",
              "</thead>\n",
              "<tbody>\n",
              "\t<tr><th scope=row>f1</th><td> 0.0003115403</td><td>-0.003382438</td></tr>\n",
              "\t<tr><th scope=row>f2</th><td>-0.0033824380</td><td> 0.054580756</td></tr>\n",
              "</tbody>\n",
              "</table>\n"
            ]
          },
          "metadata": {
            "tags": []
          }
        }
      ]
    },
    {
      "cell_type": "code",
      "metadata": {
        "id": "qqdy62yg_Qzu"
      },
      "source": [
        ""
      ],
      "execution_count": null,
      "outputs": []
    }
  ]
}