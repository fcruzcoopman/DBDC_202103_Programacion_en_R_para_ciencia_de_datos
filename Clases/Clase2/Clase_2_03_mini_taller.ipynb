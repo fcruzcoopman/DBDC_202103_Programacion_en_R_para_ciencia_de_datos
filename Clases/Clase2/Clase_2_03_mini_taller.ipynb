{
  "nbformat": 4,
  "nbformat_minor": 0,
  "metadata": {
    "colab": {
      "name": "Clase 2_03_mini_taller.ipynb",
      "provenance": [],
      "include_colab_link": true
    },
    "kernelspec": {
      "name": "ir",
      "display_name": "R"
    }
  },
  "cells": [
    {
      "cell_type": "markdown",
      "metadata": {
        "id": "view-in-github",
        "colab_type": "text"
      },
      "source": [
        "<a href=\"https://colab.research.google.com/github/majorquev/DBDC_202103_Programacion_en_R_para_ciencia_de_datos/blob/main/Clases/Clase2/Clase_2_03_mini_taller.ipynb\" target=\"_parent\"><img src=\"https://colab.research.google.com/assets/colab-badge.svg\" alt=\"Open In Colab\"/></a>"
      ]
    },
    {
      "cell_type": "markdown",
      "metadata": {
        "collapsed": true,
        "id": "EZ0yOlnfm5Zb"
      },
      "source": [
        "## Mini taller 1\n",
        "\n",
        "Los dataframes corresponden a uno de los objetos más utilizados en R para analizar datos tabulares,\n",
        "por lo que se hace necesario en muchos casos realizar consultas a los datos que contiene un dataframe,\n",
        "(filtros, cruces de tablas, creación de columnas, etc). Por ahora veremos una de las formas más \"primitivas\" para la manipulación de un data.frame.\n",
        "\n",
        "Para ello consideremos el siguiente ejercicio.\n",
        "\n",
        "**Paso 1**\n",
        "Mediante la función rnorm(), genere una muestra aleatoria de 100 datos , con media 21 y desviación estándar 8 (más adelante veremos esto con un poco más de detalle), y guárdela en una variable llamada temp.\n",
        "\n"
      ]
    },
    {
      "cell_type": "code",
      "metadata": {
        "trusted": true,
        "id": "9f6cXmN3m5Zc",
        "outputId": "047b6553-dbf0-41f4-bf73-7e1ada9cc0ac",
        "colab": {
          "base_uri": "https://localhost:8080/",
          "height": 153
        }
      },
      "source": [
        "# 5.3 Mini taller --------\n",
        "# Paso 1\n",
        "temp <- rnorm(n = 100, mean = 21, sd = 8)\n",
        "temp\n"
      ],
      "execution_count": 1,
      "outputs": [
        {
          "output_type": "display_data",
          "data": {
            "text/plain": [
              "  [1] 21.404267 16.989191 25.123286 15.293859 32.403083 23.449795 12.421490\n",
              "  [8] 26.165124 23.444824 23.499999 17.676355 23.979111 15.546266 18.655387\n",
              " [15] 26.854177 18.786970  9.632852 22.126403 18.139810 20.306987 19.865429\n",
              " [22] 21.689598 16.644206 10.037488 14.237523 13.787794 31.837975 23.314726\n",
              " [29] 26.268849 17.079457 30.711065 12.805680 21.432603 16.417362 18.356552\n",
              " [36] 20.906366 24.300871 29.640989 24.279443 25.197716 10.517644 22.121461\n",
              " [43] 29.661654 24.267770 19.670766 24.214623 19.914111 18.380059 13.578606\n",
              " [50] 28.347826 14.842402 20.499877 25.292811 21.454241 15.812281 22.651339\n",
              " [57] 24.698499 21.459203 24.535709 15.911745  8.483562 27.813213  9.387841\n",
              " [64]  7.404747 24.297495 32.154010 20.202734 14.732030 15.558275 25.770289\n",
              " [71] 18.922888 26.363042 15.331062 30.699430  7.992387 22.812170 33.078798\n",
              " [78] 33.277969  8.855762 40.903928 25.813025 24.047439 19.313516 21.403610\n",
              " [85] 26.618592 15.712587 17.302345 22.919570 23.889212 19.519187 22.114744\n",
              " [92] 28.034394 21.419958 28.451002 16.631229 26.531535 19.971575 26.086592\n",
              " [99] 25.111496 17.532577"
            ],
            "text/latex": "\\begin{enumerate*}\n\\item 21.4042673471917\n\\item 16.9891914864945\n\\item 25.123286143617\n\\item 15.2938586655338\n\\item 32.403082838026\n\\item 23.4497948048307\n\\item 12.4214898535953\n\\item 26.1651241875027\n\\item 23.4448235474367\n\\item 23.4999990209755\n\\item 17.6763550572113\n\\item 23.9791110164149\n\\item 15.5462655020399\n\\item 18.6553871455186\n\\item 26.8541769731362\n\\item 18.7869695870856\n\\item 9.63285174819999\n\\item 22.1264026550714\n\\item 18.1398099390283\n\\item 20.3069865073146\n\\item 19.8654291330636\n\\item 21.6895978465974\n\\item 16.6442064521892\n\\item 10.0374884942632\n\\item 14.2375226530081\n\\item 13.7877944943626\n\\item 31.8379745425508\n\\item 23.3147256877216\n\\item 26.2688493528155\n\\item 17.0794565879813\n\\item 30.7110646614983\n\\item 12.8056804239283\n\\item 21.4326028617214\n\\item 16.4173618477322\n\\item 18.3565515947141\n\\item 20.9063658455744\n\\item 24.3008710634269\n\\item 29.6409890821511\n\\item 24.2794426660605\n\\item 25.1977155455466\n\\item 10.517644451733\n\\item 22.1214609033474\n\\item 29.6616544073608\n\\item 24.2677695071113\n\\item 19.6707655643848\n\\item 24.214623174891\n\\item 19.9141109482806\n\\item 18.3800589020383\n\\item 13.5786059601094\n\\item 28.3478260305383\n\\item 14.8424017806192\n\\item 20.4998773924481\n\\item 25.292810982478\n\\item 21.4542409079831\n\\item 15.8122807417733\n\\item 22.6513387887285\n\\item 24.69849922174\n\\item 21.459203462891\n\\item 24.5357090213522\n\\item 15.9117454268052\n\\item 8.48356216980726\n\\item 27.8132131019403\n\\item 9.38784090965741\n\\item 7.40474675397964\n\\item 24.2974953922553\n\\item 32.1540095901878\n\\item 20.202734128367\n\\item 14.7320298268271\n\\item 15.55827534116\n\\item 25.7702887010951\n\\item 18.9228877344073\n\\item 26.3630419162282\n\\item 15.3310616240106\n\\item 30.6994303219271\n\\item 7.99238745537514\n\\item 22.8121697426623\n\\item 33.0787984564826\n\\item 33.2779685996032\n\\item 8.85576206642446\n\\item 40.9039276063522\n\\item 25.8130248688479\n\\item 24.0474394287631\n\\item 19.3135156987443\n\\item 21.403610311417\n\\item 26.6185924376586\n\\item 15.7125865314315\n\\item 17.3023450845699\n\\item 22.9195704128453\n\\item 23.8892118153639\n\\item 19.5191871366168\n\\item 22.1147444633037\n\\item 28.0343940616952\n\\item 21.4199581813086\n\\item 28.4510023158373\n\\item 16.6312287965942\n\\item 26.5315347583273\n\\item 19.9715747527222\n\\item 26.0865924789894\n\\item 25.1114964404624\n\\item 17.5325767123474\n\\end{enumerate*}\n",
            "text/markdown": "1. 21.4042673471917\n2. 16.9891914864945\n3. 25.123286143617\n4. 15.2938586655338\n5. 32.403082838026\n6. 23.4497948048307\n7. 12.4214898535953\n8. 26.1651241875027\n9. 23.4448235474367\n10. 23.4999990209755\n11. 17.6763550572113\n12. 23.9791110164149\n13. 15.5462655020399\n14. 18.6553871455186\n15. 26.8541769731362\n16. 18.7869695870856\n17. 9.63285174819999\n18. 22.1264026550714\n19. 18.1398099390283\n20. 20.3069865073146\n21. 19.8654291330636\n22. 21.6895978465974\n23. 16.6442064521892\n24. 10.0374884942632\n25. 14.2375226530081\n26. 13.7877944943626\n27. 31.8379745425508\n28. 23.3147256877216\n29. 26.2688493528155\n30. 17.0794565879813\n31. 30.7110646614983\n32. 12.8056804239283\n33. 21.4326028617214\n34. 16.4173618477322\n35. 18.3565515947141\n36. 20.9063658455744\n37. 24.3008710634269\n38. 29.6409890821511\n39. 24.2794426660605\n40. 25.1977155455466\n41. 10.517644451733\n42. 22.1214609033474\n43. 29.6616544073608\n44. 24.2677695071113\n45. 19.6707655643848\n46. 24.214623174891\n47. 19.9141109482806\n48. 18.3800589020383\n49. 13.5786059601094\n50. 28.3478260305383\n51. 14.8424017806192\n52. 20.4998773924481\n53. 25.292810982478\n54. 21.4542409079831\n55. 15.8122807417733\n56. 22.6513387887285\n57. 24.69849922174\n58. 21.459203462891\n59. 24.5357090213522\n60. 15.9117454268052\n61. 8.48356216980726\n62. 27.8132131019403\n63. 9.38784090965741\n64. 7.40474675397964\n65. 24.2974953922553\n66. 32.1540095901878\n67. 20.202734128367\n68. 14.7320298268271\n69. 15.55827534116\n70. 25.7702887010951\n71. 18.9228877344073\n72. 26.3630419162282\n73. 15.3310616240106\n74. 30.6994303219271\n75. 7.99238745537514\n76. 22.8121697426623\n77. 33.0787984564826\n78. 33.2779685996032\n79. 8.85576206642446\n80. 40.9039276063522\n81. 25.8130248688479\n82. 24.0474394287631\n83. 19.3135156987443\n84. 21.403610311417\n85. 26.6185924376586\n86. 15.7125865314315\n87. 17.3023450845699\n88. 22.9195704128453\n89. 23.8892118153639\n90. 19.5191871366168\n91. 22.1147444633037\n92. 28.0343940616952\n93. 21.4199581813086\n94. 28.4510023158373\n95. 16.6312287965942\n96. 26.5315347583273\n97. 19.9715747527222\n98. 26.0865924789894\n99. 25.1114964404624\n100. 17.5325767123474\n\n\n",
            "text/html": [
              "<style>\n",
              ".list-inline {list-style: none; margin:0; padding: 0}\n",
              ".list-inline>li {display: inline-block}\n",
              ".list-inline>li:not(:last-child)::after {content: \"\\00b7\"; padding: 0 .5ex}\n",
              "</style>\n",
              "<ol class=list-inline><li>21.4042673471917</li><li>16.9891914864945</li><li>25.123286143617</li><li>15.2938586655338</li><li>32.403082838026</li><li>23.4497948048307</li><li>12.4214898535953</li><li>26.1651241875027</li><li>23.4448235474367</li><li>23.4999990209755</li><li>17.6763550572113</li><li>23.9791110164149</li><li>15.5462655020399</li><li>18.6553871455186</li><li>26.8541769731362</li><li>18.7869695870856</li><li>9.63285174819999</li><li>22.1264026550714</li><li>18.1398099390283</li><li>20.3069865073146</li><li>19.8654291330636</li><li>21.6895978465974</li><li>16.6442064521892</li><li>10.0374884942632</li><li>14.2375226530081</li><li>13.7877944943626</li><li>31.8379745425508</li><li>23.3147256877216</li><li>26.2688493528155</li><li>17.0794565879813</li><li>30.7110646614983</li><li>12.8056804239283</li><li>21.4326028617214</li><li>16.4173618477322</li><li>18.3565515947141</li><li>20.9063658455744</li><li>24.3008710634269</li><li>29.6409890821511</li><li>24.2794426660605</li><li>25.1977155455466</li><li>10.517644451733</li><li>22.1214609033474</li><li>29.6616544073608</li><li>24.2677695071113</li><li>19.6707655643848</li><li>24.214623174891</li><li>19.9141109482806</li><li>18.3800589020383</li><li>13.5786059601094</li><li>28.3478260305383</li><li>14.8424017806192</li><li>20.4998773924481</li><li>25.292810982478</li><li>21.4542409079831</li><li>15.8122807417733</li><li>22.6513387887285</li><li>24.69849922174</li><li>21.459203462891</li><li>24.5357090213522</li><li>15.9117454268052</li><li>8.48356216980726</li><li>27.8132131019403</li><li>9.38784090965741</li><li>7.40474675397964</li><li>24.2974953922553</li><li>32.1540095901878</li><li>20.202734128367</li><li>14.7320298268271</li><li>15.55827534116</li><li>25.7702887010951</li><li>18.9228877344073</li><li>26.3630419162282</li><li>15.3310616240106</li><li>30.6994303219271</li><li>7.99238745537514</li><li>22.8121697426623</li><li>33.0787984564826</li><li>33.2779685996032</li><li>8.85576206642446</li><li>40.9039276063522</li><li>25.8130248688479</li><li>24.0474394287631</li><li>19.3135156987443</li><li>21.403610311417</li><li>26.6185924376586</li><li>15.7125865314315</li><li>17.3023450845699</li><li>22.9195704128453</li><li>23.8892118153639</li><li>19.5191871366168</li><li>22.1147444633037</li><li>28.0343940616952</li><li>21.4199581813086</li><li>28.4510023158373</li><li>16.6312287965942</li><li>26.5315347583273</li><li>19.9715747527222</li><li>26.0865924789894</li><li>25.1114964404624</li><li>17.5325767123474</li></ol>\n"
            ]
          },
          "metadata": {
            "tags": []
          }
        }
      ]
    },
    {
      "cell_type": "code",
      "metadata": {
        "trusted": true,
        "id": "Y6ILF-Szm5Zg",
        "outputId": "44c78914-0a91-4654-fd04-67f2f6e32e5e",
        "colab": {
          "base_uri": "https://localhost:8080/",
          "height": 34
        }
      },
      "source": [
        "# Dejar como parámetro el largo del vector temp\n",
        "N <- length(temp)\n",
        "N"
      ],
      "execution_count": 3,
      "outputs": [
        {
          "output_type": "display_data",
          "data": {
            "text/plain": [
              "[1] 100"
            ],
            "text/latex": "100",
            "text/markdown": "100",
            "text/html": [
              "100"
            ]
          },
          "metadata": {
            "tags": []
          }
        }
      ]
    },
    {
      "cell_type": "markdown",
      "metadata": {
        "id": "C4MEJWjBm5Zi"
      },
      "source": [
        "**Paso 2**\n",
        "\n",
        "Genere un vector llamado _dia_ del mismo largo que que *temp*, que contenga los días consecutivos de la semana, partiendo del lunes. (utilice la función _rep()_ )"
      ]
    },
    {
      "cell_type": "code",
      "metadata": {
        "trusted": true,
        "id": "1PWK1DPXm5Zj",
        "outputId": "0d84b8d8-3056-4561-c11d-8ff2bc96da26",
        "colab": {
          "base_uri": "https://localhost:8080/",
          "height": 34
        }
      },
      "source": [
        "# Paso 2\n",
        "#dia <- rep(c(\"L\",\"M\",\"W\",\"J\",\"V\",\"S\",\"D\"), N) repite el vector de largo7, 100 veces. Genera un vector resultante de largo 700\n",
        "dia <- rep(c(\"L\",\"M\",\"W\",\"J\",\"V\",\"S\",\"D\"), N )\n",
        "length(dia)"
      ],
      "execution_count": 4,
      "outputs": [
        {
          "output_type": "display_data",
          "data": {
            "text/plain": [
              "[1] 700"
            ],
            "text/latex": "700",
            "text/markdown": "700",
            "text/html": [
              "700"
            ]
          },
          "metadata": {
            "tags": []
          }
        }
      ]
    },
    {
      "cell_type": "code",
      "metadata": {
        "id": "UsjR2SMbS6MR",
        "outputId": "7b9de684-638e-47cf-af5a-14bff0d7dffd",
        "colab": {
          "base_uri": "https://localhost:8080/",
          "height": 68
        }
      },
      "source": [
        "dia <- rep(c(\"L\",\"M\",\"W\",\"J\",\"V\",\"S\",\"D\"), length.out = N)\n",
        "dia\n",
        "length(dia)"
      ],
      "execution_count": 5,
      "outputs": [
        {
          "output_type": "display_data",
          "data": {
            "text/plain": [
              "  [1] \"L\" \"M\" \"W\" \"J\" \"V\" \"S\" \"D\" \"L\" \"M\" \"W\" \"J\" \"V\" \"S\" \"D\" \"L\" \"M\" \"W\" \"J\"\n",
              " [19] \"V\" \"S\" \"D\" \"L\" \"M\" \"W\" \"J\" \"V\" \"S\" \"D\" \"L\" \"M\" \"W\" \"J\" \"V\" \"S\" \"D\" \"L\"\n",
              " [37] \"M\" \"W\" \"J\" \"V\" \"S\" \"D\" \"L\" \"M\" \"W\" \"J\" \"V\" \"S\" \"D\" \"L\" \"M\" \"W\" \"J\" \"V\"\n",
              " [55] \"S\" \"D\" \"L\" \"M\" \"W\" \"J\" \"V\" \"S\" \"D\" \"L\" \"M\" \"W\" \"J\" \"V\" \"S\" \"D\" \"L\" \"M\"\n",
              " [73] \"W\" \"J\" \"V\" \"S\" \"D\" \"L\" \"M\" \"W\" \"J\" \"V\" \"S\" \"D\" \"L\" \"M\" \"W\" \"J\" \"V\" \"S\"\n",
              " [91] \"D\" \"L\" \"M\" \"W\" \"J\" \"V\" \"S\" \"D\" \"L\" \"M\""
            ],
            "text/latex": "\\begin{enumerate*}\n\\item 'L'\n\\item 'M'\n\\item 'W'\n\\item 'J'\n\\item 'V'\n\\item 'S'\n\\item 'D'\n\\item 'L'\n\\item 'M'\n\\item 'W'\n\\item 'J'\n\\item 'V'\n\\item 'S'\n\\item 'D'\n\\item 'L'\n\\item 'M'\n\\item 'W'\n\\item 'J'\n\\item 'V'\n\\item 'S'\n\\item 'D'\n\\item 'L'\n\\item 'M'\n\\item 'W'\n\\item 'J'\n\\item 'V'\n\\item 'S'\n\\item 'D'\n\\item 'L'\n\\item 'M'\n\\item 'W'\n\\item 'J'\n\\item 'V'\n\\item 'S'\n\\item 'D'\n\\item 'L'\n\\item 'M'\n\\item 'W'\n\\item 'J'\n\\item 'V'\n\\item 'S'\n\\item 'D'\n\\item 'L'\n\\item 'M'\n\\item 'W'\n\\item 'J'\n\\item 'V'\n\\item 'S'\n\\item 'D'\n\\item 'L'\n\\item 'M'\n\\item 'W'\n\\item 'J'\n\\item 'V'\n\\item 'S'\n\\item 'D'\n\\item 'L'\n\\item 'M'\n\\item 'W'\n\\item 'J'\n\\item 'V'\n\\item 'S'\n\\item 'D'\n\\item 'L'\n\\item 'M'\n\\item 'W'\n\\item 'J'\n\\item 'V'\n\\item 'S'\n\\item 'D'\n\\item 'L'\n\\item 'M'\n\\item 'W'\n\\item 'J'\n\\item 'V'\n\\item 'S'\n\\item 'D'\n\\item 'L'\n\\item 'M'\n\\item 'W'\n\\item 'J'\n\\item 'V'\n\\item 'S'\n\\item 'D'\n\\item 'L'\n\\item 'M'\n\\item 'W'\n\\item 'J'\n\\item 'V'\n\\item 'S'\n\\item 'D'\n\\item 'L'\n\\item 'M'\n\\item 'W'\n\\item 'J'\n\\item 'V'\n\\item 'S'\n\\item 'D'\n\\item 'L'\n\\item 'M'\n\\end{enumerate*}\n",
            "text/markdown": "1. 'L'\n2. 'M'\n3. 'W'\n4. 'J'\n5. 'V'\n6. 'S'\n7. 'D'\n8. 'L'\n9. 'M'\n10. 'W'\n11. 'J'\n12. 'V'\n13. 'S'\n14. 'D'\n15. 'L'\n16. 'M'\n17. 'W'\n18. 'J'\n19. 'V'\n20. 'S'\n21. 'D'\n22. 'L'\n23. 'M'\n24. 'W'\n25. 'J'\n26. 'V'\n27. 'S'\n28. 'D'\n29. 'L'\n30. 'M'\n31. 'W'\n32. 'J'\n33. 'V'\n34. 'S'\n35. 'D'\n36. 'L'\n37. 'M'\n38. 'W'\n39. 'J'\n40. 'V'\n41. 'S'\n42. 'D'\n43. 'L'\n44. 'M'\n45. 'W'\n46. 'J'\n47. 'V'\n48. 'S'\n49. 'D'\n50. 'L'\n51. 'M'\n52. 'W'\n53. 'J'\n54. 'V'\n55. 'S'\n56. 'D'\n57. 'L'\n58. 'M'\n59. 'W'\n60. 'J'\n61. 'V'\n62. 'S'\n63. 'D'\n64. 'L'\n65. 'M'\n66. 'W'\n67. 'J'\n68. 'V'\n69. 'S'\n70. 'D'\n71. 'L'\n72. 'M'\n73. 'W'\n74. 'J'\n75. 'V'\n76. 'S'\n77. 'D'\n78. 'L'\n79. 'M'\n80. 'W'\n81. 'J'\n82. 'V'\n83. 'S'\n84. 'D'\n85. 'L'\n86. 'M'\n87. 'W'\n88. 'J'\n89. 'V'\n90. 'S'\n91. 'D'\n92. 'L'\n93. 'M'\n94. 'W'\n95. 'J'\n96. 'V'\n97. 'S'\n98. 'D'\n99. 'L'\n100. 'M'\n\n\n",
            "text/html": [
              "<style>\n",
              ".list-inline {list-style: none; margin:0; padding: 0}\n",
              ".list-inline>li {display: inline-block}\n",
              ".list-inline>li:not(:last-child)::after {content: \"\\00b7\"; padding: 0 .5ex}\n",
              "</style>\n",
              "<ol class=list-inline><li>'L'</li><li>'M'</li><li>'W'</li><li>'J'</li><li>'V'</li><li>'S'</li><li>'D'</li><li>'L'</li><li>'M'</li><li>'W'</li><li>'J'</li><li>'V'</li><li>'S'</li><li>'D'</li><li>'L'</li><li>'M'</li><li>'W'</li><li>'J'</li><li>'V'</li><li>'S'</li><li>'D'</li><li>'L'</li><li>'M'</li><li>'W'</li><li>'J'</li><li>'V'</li><li>'S'</li><li>'D'</li><li>'L'</li><li>'M'</li><li>'W'</li><li>'J'</li><li>'V'</li><li>'S'</li><li>'D'</li><li>'L'</li><li>'M'</li><li>'W'</li><li>'J'</li><li>'V'</li><li>'S'</li><li>'D'</li><li>'L'</li><li>'M'</li><li>'W'</li><li>'J'</li><li>'V'</li><li>'S'</li><li>'D'</li><li>'L'</li><li>'M'</li><li>'W'</li><li>'J'</li><li>'V'</li><li>'S'</li><li>'D'</li><li>'L'</li><li>'M'</li><li>'W'</li><li>'J'</li><li>'V'</li><li>'S'</li><li>'D'</li><li>'L'</li><li>'M'</li><li>'W'</li><li>'J'</li><li>'V'</li><li>'S'</li><li>'D'</li><li>'L'</li><li>'M'</li><li>'W'</li><li>'J'</li><li>'V'</li><li>'S'</li><li>'D'</li><li>'L'</li><li>'M'</li><li>'W'</li><li>'J'</li><li>'V'</li><li>'S'</li><li>'D'</li><li>'L'</li><li>'M'</li><li>'W'</li><li>'J'</li><li>'V'</li><li>'S'</li><li>'D'</li><li>'L'</li><li>'M'</li><li>'W'</li><li>'J'</li><li>'V'</li><li>'S'</li><li>'D'</li><li>'L'</li><li>'M'</li></ol>\n"
            ]
          },
          "metadata": {
            "tags": []
          }
        },
        {
          "output_type": "display_data",
          "data": {
            "text/plain": [
              "[1] 100"
            ],
            "text/latex": "100",
            "text/markdown": "100",
            "text/html": [
              "100"
            ]
          },
          "metadata": {
            "tags": []
          }
        }
      ]
    },
    {
      "cell_type": "markdown",
      "metadata": {
        "id": "n1n3ptOIm5Zm"
      },
      "source": [
        "**Paso 3**\n",
        "\n",
        "Genere un vector llamado _est_, del mismo largo que _temp_, que en el primer tercio contenga el valor \"E1\", en el segundo tercio \"E2\", y en el tercer tercio \"E3\". Por ejemplo, si _temp_ tuviese 10 datos, el vector _est_ se vería como \n",
        "\n",
        "\n",
        "<center> _est_ = (E1,E1,E1,E2,E2,E2,E3,E3,E3,E3) </center>"
      ]
    },
    {
      "cell_type": "code",
      "metadata": {
        "trusted": true,
        "id": "eobMVmXxm5Zn",
        "outputId": "3065ce54-6904-4d96-b9f3-632f6f0040e3",
        "colab": {
          "base_uri": "https://localhost:8080/",
          "height": 102
        }
      },
      "source": [
        "# Paso 3\n",
        "# Los creamos por separado y luego jjuntamos\n",
        "# E1\n",
        "e1 <- rep(\"E1\", N/3)\n",
        "# E2\n",
        "e2 <- rep(\"E2\", N/3)\n",
        "# E3\n",
        "e3 <- rep(\"E3\", N-(length(e1) + length(e2)) )\n",
        "\n",
        "\n",
        "length(e1)\n",
        "length(e2)\n",
        "length(e3)\n",
        "\n",
        "est <- c(e1,e2,e3)\n",
        "est"
      ],
      "execution_count": 10,
      "outputs": [
        {
          "output_type": "display_data",
          "data": {
            "text/plain": [
              "[1] 33"
            ],
            "text/latex": "33",
            "text/markdown": "33",
            "text/html": [
              "33"
            ]
          },
          "metadata": {
            "tags": []
          }
        },
        {
          "output_type": "display_data",
          "data": {
            "text/plain": [
              "[1] 33"
            ],
            "text/latex": "33",
            "text/markdown": "33",
            "text/html": [
              "33"
            ]
          },
          "metadata": {
            "tags": []
          }
        },
        {
          "output_type": "display_data",
          "data": {
            "text/plain": [
              "[1] 34"
            ],
            "text/latex": "34",
            "text/markdown": "34",
            "text/html": [
              "34"
            ]
          },
          "metadata": {
            "tags": []
          }
        },
        {
          "output_type": "display_data",
          "data": {
            "text/plain": [
              "  [1] \"E1\" \"E1\" \"E1\" \"E1\" \"E1\" \"E1\" \"E1\" \"E1\" \"E1\" \"E1\" \"E1\" \"E1\" \"E1\" \"E1\" \"E1\"\n",
              " [16] \"E1\" \"E1\" \"E1\" \"E1\" \"E1\" \"E1\" \"E1\" \"E1\" \"E1\" \"E1\" \"E1\" \"E1\" \"E1\" \"E1\" \"E1\"\n",
              " [31] \"E1\" \"E1\" \"E1\" \"E2\" \"E2\" \"E2\" \"E2\" \"E2\" \"E2\" \"E2\" \"E2\" \"E2\" \"E2\" \"E2\" \"E2\"\n",
              " [46] \"E2\" \"E2\" \"E2\" \"E2\" \"E2\" \"E2\" \"E2\" \"E2\" \"E2\" \"E2\" \"E2\" \"E2\" \"E2\" \"E2\" \"E2\"\n",
              " [61] \"E2\" \"E2\" \"E2\" \"E2\" \"E2\" \"E2\" \"E3\" \"E3\" \"E3\" \"E3\" \"E3\" \"E3\" \"E3\" \"E3\" \"E3\"\n",
              " [76] \"E3\" \"E3\" \"E3\" \"E3\" \"E3\" \"E3\" \"E3\" \"E3\" \"E3\" \"E3\" \"E3\" \"E3\" \"E3\" \"E3\" \"E3\"\n",
              " [91] \"E3\" \"E3\" \"E3\" \"E3\" \"E3\" \"E3\" \"E3\" \"E3\" \"E3\" \"E3\""
            ],
            "text/latex": "\\begin{enumerate*}\n\\item 'E1'\n\\item 'E1'\n\\item 'E1'\n\\item 'E1'\n\\item 'E1'\n\\item 'E1'\n\\item 'E1'\n\\item 'E1'\n\\item 'E1'\n\\item 'E1'\n\\item 'E1'\n\\item 'E1'\n\\item 'E1'\n\\item 'E1'\n\\item 'E1'\n\\item 'E1'\n\\item 'E1'\n\\item 'E1'\n\\item 'E1'\n\\item 'E1'\n\\item 'E1'\n\\item 'E1'\n\\item 'E1'\n\\item 'E1'\n\\item 'E1'\n\\item 'E1'\n\\item 'E1'\n\\item 'E1'\n\\item 'E1'\n\\item 'E1'\n\\item 'E1'\n\\item 'E1'\n\\item 'E1'\n\\item 'E2'\n\\item 'E2'\n\\item 'E2'\n\\item 'E2'\n\\item 'E2'\n\\item 'E2'\n\\item 'E2'\n\\item 'E2'\n\\item 'E2'\n\\item 'E2'\n\\item 'E2'\n\\item 'E2'\n\\item 'E2'\n\\item 'E2'\n\\item 'E2'\n\\item 'E2'\n\\item 'E2'\n\\item 'E2'\n\\item 'E2'\n\\item 'E2'\n\\item 'E2'\n\\item 'E2'\n\\item 'E2'\n\\item 'E2'\n\\item 'E2'\n\\item 'E2'\n\\item 'E2'\n\\item 'E2'\n\\item 'E2'\n\\item 'E2'\n\\item 'E2'\n\\item 'E2'\n\\item 'E2'\n\\item 'E3'\n\\item 'E3'\n\\item 'E3'\n\\item 'E3'\n\\item 'E3'\n\\item 'E3'\n\\item 'E3'\n\\item 'E3'\n\\item 'E3'\n\\item 'E3'\n\\item 'E3'\n\\item 'E3'\n\\item 'E3'\n\\item 'E3'\n\\item 'E3'\n\\item 'E3'\n\\item 'E3'\n\\item 'E3'\n\\item 'E3'\n\\item 'E3'\n\\item 'E3'\n\\item 'E3'\n\\item 'E3'\n\\item 'E3'\n\\item 'E3'\n\\item 'E3'\n\\item 'E3'\n\\item 'E3'\n\\item 'E3'\n\\item 'E3'\n\\item 'E3'\n\\item 'E3'\n\\item 'E3'\n\\item 'E3'\n\\end{enumerate*}\n",
            "text/markdown": "1. 'E1'\n2. 'E1'\n3. 'E1'\n4. 'E1'\n5. 'E1'\n6. 'E1'\n7. 'E1'\n8. 'E1'\n9. 'E1'\n10. 'E1'\n11. 'E1'\n12. 'E1'\n13. 'E1'\n14. 'E1'\n15. 'E1'\n16. 'E1'\n17. 'E1'\n18. 'E1'\n19. 'E1'\n20. 'E1'\n21. 'E1'\n22. 'E1'\n23. 'E1'\n24. 'E1'\n25. 'E1'\n26. 'E1'\n27. 'E1'\n28. 'E1'\n29. 'E1'\n30. 'E1'\n31. 'E1'\n32. 'E1'\n33. 'E1'\n34. 'E2'\n35. 'E2'\n36. 'E2'\n37. 'E2'\n38. 'E2'\n39. 'E2'\n40. 'E2'\n41. 'E2'\n42. 'E2'\n43. 'E2'\n44. 'E2'\n45. 'E2'\n46. 'E2'\n47. 'E2'\n48. 'E2'\n49. 'E2'\n50. 'E2'\n51. 'E2'\n52. 'E2'\n53. 'E2'\n54. 'E2'\n55. 'E2'\n56. 'E2'\n57. 'E2'\n58. 'E2'\n59. 'E2'\n60. 'E2'\n61. 'E2'\n62. 'E2'\n63. 'E2'\n64. 'E2'\n65. 'E2'\n66. 'E2'\n67. 'E3'\n68. 'E3'\n69. 'E3'\n70. 'E3'\n71. 'E3'\n72. 'E3'\n73. 'E3'\n74. 'E3'\n75. 'E3'\n76. 'E3'\n77. 'E3'\n78. 'E3'\n79. 'E3'\n80. 'E3'\n81. 'E3'\n82. 'E3'\n83. 'E3'\n84. 'E3'\n85. 'E3'\n86. 'E3'\n87. 'E3'\n88. 'E3'\n89. 'E3'\n90. 'E3'\n91. 'E3'\n92. 'E3'\n93. 'E3'\n94. 'E3'\n95. 'E3'\n96. 'E3'\n97. 'E3'\n98. 'E3'\n99. 'E3'\n100. 'E3'\n\n\n",
            "text/html": [
              "<style>\n",
              ".list-inline {list-style: none; margin:0; padding: 0}\n",
              ".list-inline>li {display: inline-block}\n",
              ".list-inline>li:not(:last-child)::after {content: \"\\00b7\"; padding: 0 .5ex}\n",
              "</style>\n",
              "<ol class=list-inline><li>'E1'</li><li>'E1'</li><li>'E1'</li><li>'E1'</li><li>'E1'</li><li>'E1'</li><li>'E1'</li><li>'E1'</li><li>'E1'</li><li>'E1'</li><li>'E1'</li><li>'E1'</li><li>'E1'</li><li>'E1'</li><li>'E1'</li><li>'E1'</li><li>'E1'</li><li>'E1'</li><li>'E1'</li><li>'E1'</li><li>'E1'</li><li>'E1'</li><li>'E1'</li><li>'E1'</li><li>'E1'</li><li>'E1'</li><li>'E1'</li><li>'E1'</li><li>'E1'</li><li>'E1'</li><li>'E1'</li><li>'E1'</li><li>'E1'</li><li>'E2'</li><li>'E2'</li><li>'E2'</li><li>'E2'</li><li>'E2'</li><li>'E2'</li><li>'E2'</li><li>'E2'</li><li>'E2'</li><li>'E2'</li><li>'E2'</li><li>'E2'</li><li>'E2'</li><li>'E2'</li><li>'E2'</li><li>'E2'</li><li>'E2'</li><li>'E2'</li><li>'E2'</li><li>'E2'</li><li>'E2'</li><li>'E2'</li><li>'E2'</li><li>'E2'</li><li>'E2'</li><li>'E2'</li><li>'E2'</li><li>'E2'</li><li>'E2'</li><li>'E2'</li><li>'E2'</li><li>'E2'</li><li>'E2'</li><li>'E3'</li><li>'E3'</li><li>'E3'</li><li>'E3'</li><li>'E3'</li><li>'E3'</li><li>'E3'</li><li>'E3'</li><li>'E3'</li><li>'E3'</li><li>'E3'</li><li>'E3'</li><li>'E3'</li><li>'E3'</li><li>'E3'</li><li>'E3'</li><li>'E3'</li><li>'E3'</li><li>'E3'</li><li>'E3'</li><li>'E3'</li><li>'E3'</li><li>'E3'</li><li>'E3'</li><li>'E3'</li><li>'E3'</li><li>'E3'</li><li>'E3'</li><li>'E3'</li><li>'E3'</li><li>'E3'</li><li>'E3'</li><li>'E3'</li><li>'E3'</li></ol>\n"
            ]
          },
          "metadata": {
            "tags": []
          }
        }
      ]
    },
    {
      "cell_type": "markdown",
      "metadata": {
        "id": "bZZScNwUm5Zp"
      },
      "source": [
        "**Paso 4**\n",
        "\n",
        "Genere una variable (vector) llamada _lluvia_ del mismo largo que _temp_, que sea TRUE en las posiciones en que _temp_ sea menor que 20, y FALSE en caso contrario. "
      ]
    },
    {
      "cell_type": "code",
      "metadata": {
        "trusted": true,
        "id": "AbtOs123m5Zq",
        "outputId": "d7ab798a-92a4-4253-f3bb-481e3bf0a48c",
        "colab": {
          "base_uri": "https://localhost:8080/",
          "height": 68
        }
      },
      "source": [
        "# Paso 4\n",
        "lluvia <- temp < 20\n",
        "lluvia"
      ],
      "execution_count": 14,
      "outputs": [
        {
          "output_type": "display_data",
          "data": {
            "text/plain": [
              "  [1] FALSE  TRUE FALSE  TRUE FALSE FALSE  TRUE FALSE FALSE FALSE  TRUE FALSE\n",
              " [13]  TRUE  TRUE FALSE  TRUE  TRUE FALSE  TRUE FALSE  TRUE FALSE  TRUE  TRUE\n",
              " [25]  TRUE  TRUE FALSE FALSE FALSE  TRUE FALSE  TRUE FALSE  TRUE  TRUE FALSE\n",
              " [37] FALSE FALSE FALSE FALSE  TRUE FALSE FALSE FALSE  TRUE FALSE  TRUE  TRUE\n",
              " [49]  TRUE FALSE  TRUE FALSE FALSE FALSE  TRUE FALSE FALSE FALSE FALSE  TRUE\n",
              " [61]  TRUE FALSE  TRUE  TRUE FALSE FALSE FALSE  TRUE  TRUE FALSE  TRUE FALSE\n",
              " [73]  TRUE FALSE  TRUE FALSE FALSE FALSE  TRUE FALSE FALSE FALSE  TRUE FALSE\n",
              " [85] FALSE  TRUE  TRUE FALSE FALSE  TRUE FALSE FALSE FALSE FALSE  TRUE FALSE\n",
              " [97]  TRUE FALSE FALSE  TRUE"
            ],
            "text/latex": "\\begin{enumerate*}\n\\item FALSE\n\\item TRUE\n\\item FALSE\n\\item TRUE\n\\item FALSE\n\\item FALSE\n\\item TRUE\n\\item FALSE\n\\item FALSE\n\\item FALSE\n\\item TRUE\n\\item FALSE\n\\item TRUE\n\\item TRUE\n\\item FALSE\n\\item TRUE\n\\item TRUE\n\\item FALSE\n\\item TRUE\n\\item FALSE\n\\item TRUE\n\\item FALSE\n\\item TRUE\n\\item TRUE\n\\item TRUE\n\\item TRUE\n\\item FALSE\n\\item FALSE\n\\item FALSE\n\\item TRUE\n\\item FALSE\n\\item TRUE\n\\item FALSE\n\\item TRUE\n\\item TRUE\n\\item FALSE\n\\item FALSE\n\\item FALSE\n\\item FALSE\n\\item FALSE\n\\item TRUE\n\\item FALSE\n\\item FALSE\n\\item FALSE\n\\item TRUE\n\\item FALSE\n\\item TRUE\n\\item TRUE\n\\item TRUE\n\\item FALSE\n\\item TRUE\n\\item FALSE\n\\item FALSE\n\\item FALSE\n\\item TRUE\n\\item FALSE\n\\item FALSE\n\\item FALSE\n\\item FALSE\n\\item TRUE\n\\item TRUE\n\\item FALSE\n\\item TRUE\n\\item TRUE\n\\item FALSE\n\\item FALSE\n\\item FALSE\n\\item TRUE\n\\item TRUE\n\\item FALSE\n\\item TRUE\n\\item FALSE\n\\item TRUE\n\\item FALSE\n\\item TRUE\n\\item FALSE\n\\item FALSE\n\\item FALSE\n\\item TRUE\n\\item FALSE\n\\item FALSE\n\\item FALSE\n\\item TRUE\n\\item FALSE\n\\item FALSE\n\\item TRUE\n\\item TRUE\n\\item FALSE\n\\item FALSE\n\\item TRUE\n\\item FALSE\n\\item FALSE\n\\item FALSE\n\\item FALSE\n\\item TRUE\n\\item FALSE\n\\item TRUE\n\\item FALSE\n\\item FALSE\n\\item TRUE\n\\end{enumerate*}\n",
            "text/markdown": "1. FALSE\n2. TRUE\n3. FALSE\n4. TRUE\n5. FALSE\n6. FALSE\n7. TRUE\n8. FALSE\n9. FALSE\n10. FALSE\n11. TRUE\n12. FALSE\n13. TRUE\n14. TRUE\n15. FALSE\n16. TRUE\n17. TRUE\n18. FALSE\n19. TRUE\n20. FALSE\n21. TRUE\n22. FALSE\n23. TRUE\n24. TRUE\n25. TRUE\n26. TRUE\n27. FALSE\n28. FALSE\n29. FALSE\n30. TRUE\n31. FALSE\n32. TRUE\n33. FALSE\n34. TRUE\n35. TRUE\n36. FALSE\n37. FALSE\n38. FALSE\n39. FALSE\n40. FALSE\n41. TRUE\n42. FALSE\n43. FALSE\n44. FALSE\n45. TRUE\n46. FALSE\n47. TRUE\n48. TRUE\n49. TRUE\n50. FALSE\n51. TRUE\n52. FALSE\n53. FALSE\n54. FALSE\n55. TRUE\n56. FALSE\n57. FALSE\n58. FALSE\n59. FALSE\n60. TRUE\n61. TRUE\n62. FALSE\n63. TRUE\n64. TRUE\n65. FALSE\n66. FALSE\n67. FALSE\n68. TRUE\n69. TRUE\n70. FALSE\n71. TRUE\n72. FALSE\n73. TRUE\n74. FALSE\n75. TRUE\n76. FALSE\n77. FALSE\n78. FALSE\n79. TRUE\n80. FALSE\n81. FALSE\n82. FALSE\n83. TRUE\n84. FALSE\n85. FALSE\n86. TRUE\n87. TRUE\n88. FALSE\n89. FALSE\n90. TRUE\n91. FALSE\n92. FALSE\n93. FALSE\n94. FALSE\n95. TRUE\n96. FALSE\n97. TRUE\n98. FALSE\n99. FALSE\n100. TRUE\n\n\n",
            "text/html": [
              "<style>\n",
              ".list-inline {list-style: none; margin:0; padding: 0}\n",
              ".list-inline>li {display: inline-block}\n",
              ".list-inline>li:not(:last-child)::after {content: \"\\00b7\"; padding: 0 .5ex}\n",
              "</style>\n",
              "<ol class=list-inline><li>FALSE</li><li>TRUE</li><li>FALSE</li><li>TRUE</li><li>FALSE</li><li>FALSE</li><li>TRUE</li><li>FALSE</li><li>FALSE</li><li>FALSE</li><li>TRUE</li><li>FALSE</li><li>TRUE</li><li>TRUE</li><li>FALSE</li><li>TRUE</li><li>TRUE</li><li>FALSE</li><li>TRUE</li><li>FALSE</li><li>TRUE</li><li>FALSE</li><li>TRUE</li><li>TRUE</li><li>TRUE</li><li>TRUE</li><li>FALSE</li><li>FALSE</li><li>FALSE</li><li>TRUE</li><li>FALSE</li><li>TRUE</li><li>FALSE</li><li>TRUE</li><li>TRUE</li><li>FALSE</li><li>FALSE</li><li>FALSE</li><li>FALSE</li><li>FALSE</li><li>TRUE</li><li>FALSE</li><li>FALSE</li><li>FALSE</li><li>TRUE</li><li>FALSE</li><li>TRUE</li><li>TRUE</li><li>TRUE</li><li>FALSE</li><li>TRUE</li><li>FALSE</li><li>FALSE</li><li>FALSE</li><li>TRUE</li><li>FALSE</li><li>FALSE</li><li>FALSE</li><li>FALSE</li><li>TRUE</li><li>TRUE</li><li>FALSE</li><li>TRUE</li><li>TRUE</li><li>FALSE</li><li>FALSE</li><li>FALSE</li><li>TRUE</li><li>TRUE</li><li>FALSE</li><li>TRUE</li><li>FALSE</li><li>TRUE</li><li>FALSE</li><li>TRUE</li><li>FALSE</li><li>FALSE</li><li>FALSE</li><li>TRUE</li><li>FALSE</li><li>FALSE</li><li>FALSE</li><li>TRUE</li><li>FALSE</li><li>FALSE</li><li>TRUE</li><li>TRUE</li><li>FALSE</li><li>FALSE</li><li>TRUE</li><li>FALSE</li><li>FALSE</li><li>FALSE</li><li>FALSE</li><li>TRUE</li><li>FALSE</li><li>TRUE</li><li>FALSE</li><li>FALSE</li><li>TRUE</li></ol>\n"
            ]
          },
          "metadata": {
            "tags": []
          }
        }
      ]
    },
    {
      "cell_type": "markdown",
      "metadata": {
        "id": "i7p8FIdtm5Zs"
      },
      "source": [
        "**Paso 5**\n",
        "\n",
        "Finalmente cree un data frame llamado _precipitaciones_ con las siguientes columnas:<br>\n",
        "\n",
        "*Dia_semana* (con los valores del vector _dia_)<br>\n",
        "*Temperatura* (con los valores del vector _temp_)<br>\n",
        "*Llueve* (con los valores del vector _lluvia_)<br>\n",
        "*Estacion* (con los valores del vector _est_)<br>"
      ]
    },
    {
      "cell_type": "code",
      "metadata": {
        "trusted": true,
        "id": "o-TVm7uum5Zs"
      },
      "source": [
        "# Paso 5\n",
        "precipitaciones <- data.frame(\n",
        "                                Dia_semana = dia,\n",
        "                                Temperatura = temp,\n",
        "                                Llueve = lluvia,\n",
        "                                Estacion = est\n",
        "                              )"
      ],
      "execution_count": 15,
      "outputs": []
    },
    {
      "cell_type": "code",
      "metadata": {
        "id": "Fbf6PqCsVq-A",
        "outputId": "a062ca21-e9a9-4ada-e515-3853b51349a7",
        "colab": {
          "base_uri": "https://localhost:8080/",
          "height": 1000
        }
      },
      "source": [
        "precipitaciones"
      ],
      "execution_count": 17,
      "outputs": [
        {
          "output_type": "display_data",
          "data": {
            "text/plain": [
              "    Dia_semana Temperatura Llueve Estacion\n",
              "1   L          21.404267   FALSE  E1      \n",
              "2   M          16.989191    TRUE  E1      \n",
              "3   W          25.123286   FALSE  E1      \n",
              "4   J          15.293859    TRUE  E1      \n",
              "5   V          32.403083   FALSE  E1      \n",
              "6   S          23.449795   FALSE  E1      \n",
              "7   D          12.421490    TRUE  E1      \n",
              "8   L          26.165124   FALSE  E1      \n",
              "9   M          23.444824   FALSE  E1      \n",
              "10  W          23.499999   FALSE  E1      \n",
              "11  J          17.676355    TRUE  E1      \n",
              "12  V          23.979111   FALSE  E1      \n",
              "13  S          15.546266    TRUE  E1      \n",
              "14  D          18.655387    TRUE  E1      \n",
              "15  L          26.854177   FALSE  E1      \n",
              "16  M          18.786970    TRUE  E1      \n",
              "17  W           9.632852    TRUE  E1      \n",
              "18  J          22.126403   FALSE  E1      \n",
              "19  V          18.139810    TRUE  E1      \n",
              "20  S          20.306987   FALSE  E1      \n",
              "21  D          19.865429    TRUE  E1      \n",
              "22  L          21.689598   FALSE  E1      \n",
              "23  M          16.644206    TRUE  E1      \n",
              "24  W          10.037488    TRUE  E1      \n",
              "25  J          14.237523    TRUE  E1      \n",
              "26  V          13.787794    TRUE  E1      \n",
              "27  S          31.837975   FALSE  E1      \n",
              "28  D          23.314726   FALSE  E1      \n",
              "29  L          26.268849   FALSE  E1      \n",
              "30  M          17.079457    TRUE  E1      \n",
              "⋮   ⋮          ⋮           ⋮      ⋮       \n",
              "71  L          18.922888    TRUE  E3      \n",
              "72  M          26.363042   FALSE  E3      \n",
              "73  W          15.331062    TRUE  E3      \n",
              "74  J          30.699430   FALSE  E3      \n",
              "75  V           7.992387    TRUE  E3      \n",
              "76  S          22.812170   FALSE  E3      \n",
              "77  D          33.078798   FALSE  E3      \n",
              "78  L          33.277969   FALSE  E3      \n",
              "79  M           8.855762    TRUE  E3      \n",
              "80  W          40.903928   FALSE  E3      \n",
              "81  J          25.813025   FALSE  E3      \n",
              "82  V          24.047439   FALSE  E3      \n",
              "83  S          19.313516    TRUE  E3      \n",
              "84  D          21.403610   FALSE  E3      \n",
              "85  L          26.618592   FALSE  E3      \n",
              "86  M          15.712587    TRUE  E3      \n",
              "87  W          17.302345    TRUE  E3      \n",
              "88  J          22.919570   FALSE  E3      \n",
              "89  V          23.889212   FALSE  E3      \n",
              "90  S          19.519187    TRUE  E3      \n",
              "91  D          22.114744   FALSE  E3      \n",
              "92  L          28.034394   FALSE  E3      \n",
              "93  M          21.419958   FALSE  E3      \n",
              "94  W          28.451002   FALSE  E3      \n",
              "95  J          16.631229    TRUE  E3      \n",
              "96  V          26.531535   FALSE  E3      \n",
              "97  S          19.971575    TRUE  E3      \n",
              "98  D          26.086592   FALSE  E3      \n",
              "99  L          25.111496   FALSE  E3      \n",
              "100 M          17.532577    TRUE  E3      "
            ],
            "text/latex": "A data.frame: 100 × 4\n\\begin{tabular}{llll}\n Dia\\_semana & Temperatura & Llueve & Estacion\\\\\n <chr> & <dbl> & <lgl> & <chr>\\\\\n\\hline\n\t L & 21.404267 & FALSE & E1\\\\\n\t M & 16.989191 &  TRUE & E1\\\\\n\t W & 25.123286 & FALSE & E1\\\\\n\t J & 15.293859 &  TRUE & E1\\\\\n\t V & 32.403083 & FALSE & E1\\\\\n\t S & 23.449795 & FALSE & E1\\\\\n\t D & 12.421490 &  TRUE & E1\\\\\n\t L & 26.165124 & FALSE & E1\\\\\n\t M & 23.444824 & FALSE & E1\\\\\n\t W & 23.499999 & FALSE & E1\\\\\n\t J & 17.676355 &  TRUE & E1\\\\\n\t V & 23.979111 & FALSE & E1\\\\\n\t S & 15.546266 &  TRUE & E1\\\\\n\t D & 18.655387 &  TRUE & E1\\\\\n\t L & 26.854177 & FALSE & E1\\\\\n\t M & 18.786970 &  TRUE & E1\\\\\n\t W &  9.632852 &  TRUE & E1\\\\\n\t J & 22.126403 & FALSE & E1\\\\\n\t V & 18.139810 &  TRUE & E1\\\\\n\t S & 20.306987 & FALSE & E1\\\\\n\t D & 19.865429 &  TRUE & E1\\\\\n\t L & 21.689598 & FALSE & E1\\\\\n\t M & 16.644206 &  TRUE & E1\\\\\n\t W & 10.037488 &  TRUE & E1\\\\\n\t J & 14.237523 &  TRUE & E1\\\\\n\t V & 13.787794 &  TRUE & E1\\\\\n\t S & 31.837975 & FALSE & E1\\\\\n\t D & 23.314726 & FALSE & E1\\\\\n\t L & 26.268849 & FALSE & E1\\\\\n\t M & 17.079457 &  TRUE & E1\\\\\n\t ⋮ & ⋮ & ⋮ & ⋮\\\\\n\t L & 18.922888 &  TRUE & E3\\\\\n\t M & 26.363042 & FALSE & E3\\\\\n\t W & 15.331062 &  TRUE & E3\\\\\n\t J & 30.699430 & FALSE & E3\\\\\n\t V &  7.992387 &  TRUE & E3\\\\\n\t S & 22.812170 & FALSE & E3\\\\\n\t D & 33.078798 & FALSE & E3\\\\\n\t L & 33.277969 & FALSE & E3\\\\\n\t M &  8.855762 &  TRUE & E3\\\\\n\t W & 40.903928 & FALSE & E3\\\\\n\t J & 25.813025 & FALSE & E3\\\\\n\t V & 24.047439 & FALSE & E3\\\\\n\t S & 19.313516 &  TRUE & E3\\\\\n\t D & 21.403610 & FALSE & E3\\\\\n\t L & 26.618592 & FALSE & E3\\\\\n\t M & 15.712587 &  TRUE & E3\\\\\n\t W & 17.302345 &  TRUE & E3\\\\\n\t J & 22.919570 & FALSE & E3\\\\\n\t V & 23.889212 & FALSE & E3\\\\\n\t S & 19.519187 &  TRUE & E3\\\\\n\t D & 22.114744 & FALSE & E3\\\\\n\t L & 28.034394 & FALSE & E3\\\\\n\t M & 21.419958 & FALSE & E3\\\\\n\t W & 28.451002 & FALSE & E3\\\\\n\t J & 16.631229 &  TRUE & E3\\\\\n\t V & 26.531535 & FALSE & E3\\\\\n\t S & 19.971575 &  TRUE & E3\\\\\n\t D & 26.086592 & FALSE & E3\\\\\n\t L & 25.111496 & FALSE & E3\\\\\n\t M & 17.532577 &  TRUE & E3\\\\\n\\end{tabular}\n",
            "text/markdown": "\nA data.frame: 100 × 4\n\n| Dia_semana &lt;chr&gt; | Temperatura &lt;dbl&gt; | Llueve &lt;lgl&gt; | Estacion &lt;chr&gt; |\n|---|---|---|---|\n| L | 21.404267 | FALSE | E1 |\n| M | 16.989191 |  TRUE | E1 |\n| W | 25.123286 | FALSE | E1 |\n| J | 15.293859 |  TRUE | E1 |\n| V | 32.403083 | FALSE | E1 |\n| S | 23.449795 | FALSE | E1 |\n| D | 12.421490 |  TRUE | E1 |\n| L | 26.165124 | FALSE | E1 |\n| M | 23.444824 | FALSE | E1 |\n| W | 23.499999 | FALSE | E1 |\n| J | 17.676355 |  TRUE | E1 |\n| V | 23.979111 | FALSE | E1 |\n| S | 15.546266 |  TRUE | E1 |\n| D | 18.655387 |  TRUE | E1 |\n| L | 26.854177 | FALSE | E1 |\n| M | 18.786970 |  TRUE | E1 |\n| W |  9.632852 |  TRUE | E1 |\n| J | 22.126403 | FALSE | E1 |\n| V | 18.139810 |  TRUE | E1 |\n| S | 20.306987 | FALSE | E1 |\n| D | 19.865429 |  TRUE | E1 |\n| L | 21.689598 | FALSE | E1 |\n| M | 16.644206 |  TRUE | E1 |\n| W | 10.037488 |  TRUE | E1 |\n| J | 14.237523 |  TRUE | E1 |\n| V | 13.787794 |  TRUE | E1 |\n| S | 31.837975 | FALSE | E1 |\n| D | 23.314726 | FALSE | E1 |\n| L | 26.268849 | FALSE | E1 |\n| M | 17.079457 |  TRUE | E1 |\n| ⋮ | ⋮ | ⋮ | ⋮ |\n| L | 18.922888 |  TRUE | E3 |\n| M | 26.363042 | FALSE | E3 |\n| W | 15.331062 |  TRUE | E3 |\n| J | 30.699430 | FALSE | E3 |\n| V |  7.992387 |  TRUE | E3 |\n| S | 22.812170 | FALSE | E3 |\n| D | 33.078798 | FALSE | E3 |\n| L | 33.277969 | FALSE | E3 |\n| M |  8.855762 |  TRUE | E3 |\n| W | 40.903928 | FALSE | E3 |\n| J | 25.813025 | FALSE | E3 |\n| V | 24.047439 | FALSE | E3 |\n| S | 19.313516 |  TRUE | E3 |\n| D | 21.403610 | FALSE | E3 |\n| L | 26.618592 | FALSE | E3 |\n| M | 15.712587 |  TRUE | E3 |\n| W | 17.302345 |  TRUE | E3 |\n| J | 22.919570 | FALSE | E3 |\n| V | 23.889212 | FALSE | E3 |\n| S | 19.519187 |  TRUE | E3 |\n| D | 22.114744 | FALSE | E3 |\n| L | 28.034394 | FALSE | E3 |\n| M | 21.419958 | FALSE | E3 |\n| W | 28.451002 | FALSE | E3 |\n| J | 16.631229 |  TRUE | E3 |\n| V | 26.531535 | FALSE | E3 |\n| S | 19.971575 |  TRUE | E3 |\n| D | 26.086592 | FALSE | E3 |\n| L | 25.111496 | FALSE | E3 |\n| M | 17.532577 |  TRUE | E3 |\n\n",
            "text/html": [
              "<table class=\"dataframe\">\n",
              "<caption>A data.frame: 100 × 4</caption>\n",
              "<thead>\n",
              "\t<tr><th scope=col>Dia_semana</th><th scope=col>Temperatura</th><th scope=col>Llueve</th><th scope=col>Estacion</th></tr>\n",
              "\t<tr><th scope=col>&lt;chr&gt;</th><th scope=col>&lt;dbl&gt;</th><th scope=col>&lt;lgl&gt;</th><th scope=col>&lt;chr&gt;</th></tr>\n",
              "</thead>\n",
              "<tbody>\n",
              "\t<tr><td>L</td><td>21.404267</td><td>FALSE</td><td>E1</td></tr>\n",
              "\t<tr><td>M</td><td>16.989191</td><td> TRUE</td><td>E1</td></tr>\n",
              "\t<tr><td>W</td><td>25.123286</td><td>FALSE</td><td>E1</td></tr>\n",
              "\t<tr><td>J</td><td>15.293859</td><td> TRUE</td><td>E1</td></tr>\n",
              "\t<tr><td>V</td><td>32.403083</td><td>FALSE</td><td>E1</td></tr>\n",
              "\t<tr><td>S</td><td>23.449795</td><td>FALSE</td><td>E1</td></tr>\n",
              "\t<tr><td>D</td><td>12.421490</td><td> TRUE</td><td>E1</td></tr>\n",
              "\t<tr><td>L</td><td>26.165124</td><td>FALSE</td><td>E1</td></tr>\n",
              "\t<tr><td>M</td><td>23.444824</td><td>FALSE</td><td>E1</td></tr>\n",
              "\t<tr><td>W</td><td>23.499999</td><td>FALSE</td><td>E1</td></tr>\n",
              "\t<tr><td>J</td><td>17.676355</td><td> TRUE</td><td>E1</td></tr>\n",
              "\t<tr><td>V</td><td>23.979111</td><td>FALSE</td><td>E1</td></tr>\n",
              "\t<tr><td>S</td><td>15.546266</td><td> TRUE</td><td>E1</td></tr>\n",
              "\t<tr><td>D</td><td>18.655387</td><td> TRUE</td><td>E1</td></tr>\n",
              "\t<tr><td>L</td><td>26.854177</td><td>FALSE</td><td>E1</td></tr>\n",
              "\t<tr><td>M</td><td>18.786970</td><td> TRUE</td><td>E1</td></tr>\n",
              "\t<tr><td>W</td><td> 9.632852</td><td> TRUE</td><td>E1</td></tr>\n",
              "\t<tr><td>J</td><td>22.126403</td><td>FALSE</td><td>E1</td></tr>\n",
              "\t<tr><td>V</td><td>18.139810</td><td> TRUE</td><td>E1</td></tr>\n",
              "\t<tr><td>S</td><td>20.306987</td><td>FALSE</td><td>E1</td></tr>\n",
              "\t<tr><td>D</td><td>19.865429</td><td> TRUE</td><td>E1</td></tr>\n",
              "\t<tr><td>L</td><td>21.689598</td><td>FALSE</td><td>E1</td></tr>\n",
              "\t<tr><td>M</td><td>16.644206</td><td> TRUE</td><td>E1</td></tr>\n",
              "\t<tr><td>W</td><td>10.037488</td><td> TRUE</td><td>E1</td></tr>\n",
              "\t<tr><td>J</td><td>14.237523</td><td> TRUE</td><td>E1</td></tr>\n",
              "\t<tr><td>V</td><td>13.787794</td><td> TRUE</td><td>E1</td></tr>\n",
              "\t<tr><td>S</td><td>31.837975</td><td>FALSE</td><td>E1</td></tr>\n",
              "\t<tr><td>D</td><td>23.314726</td><td>FALSE</td><td>E1</td></tr>\n",
              "\t<tr><td>L</td><td>26.268849</td><td>FALSE</td><td>E1</td></tr>\n",
              "\t<tr><td>M</td><td>17.079457</td><td> TRUE</td><td>E1</td></tr>\n",
              "\t<tr><td>⋮</td><td>⋮</td><td>⋮</td><td>⋮</td></tr>\n",
              "\t<tr><td>L</td><td>18.922888</td><td> TRUE</td><td>E3</td></tr>\n",
              "\t<tr><td>M</td><td>26.363042</td><td>FALSE</td><td>E3</td></tr>\n",
              "\t<tr><td>W</td><td>15.331062</td><td> TRUE</td><td>E3</td></tr>\n",
              "\t<tr><td>J</td><td>30.699430</td><td>FALSE</td><td>E3</td></tr>\n",
              "\t<tr><td>V</td><td> 7.992387</td><td> TRUE</td><td>E3</td></tr>\n",
              "\t<tr><td>S</td><td>22.812170</td><td>FALSE</td><td>E3</td></tr>\n",
              "\t<tr><td>D</td><td>33.078798</td><td>FALSE</td><td>E3</td></tr>\n",
              "\t<tr><td>L</td><td>33.277969</td><td>FALSE</td><td>E3</td></tr>\n",
              "\t<tr><td>M</td><td> 8.855762</td><td> TRUE</td><td>E3</td></tr>\n",
              "\t<tr><td>W</td><td>40.903928</td><td>FALSE</td><td>E3</td></tr>\n",
              "\t<tr><td>J</td><td>25.813025</td><td>FALSE</td><td>E3</td></tr>\n",
              "\t<tr><td>V</td><td>24.047439</td><td>FALSE</td><td>E3</td></tr>\n",
              "\t<tr><td>S</td><td>19.313516</td><td> TRUE</td><td>E3</td></tr>\n",
              "\t<tr><td>D</td><td>21.403610</td><td>FALSE</td><td>E3</td></tr>\n",
              "\t<tr><td>L</td><td>26.618592</td><td>FALSE</td><td>E3</td></tr>\n",
              "\t<tr><td>M</td><td>15.712587</td><td> TRUE</td><td>E3</td></tr>\n",
              "\t<tr><td>W</td><td>17.302345</td><td> TRUE</td><td>E3</td></tr>\n",
              "\t<tr><td>J</td><td>22.919570</td><td>FALSE</td><td>E3</td></tr>\n",
              "\t<tr><td>V</td><td>23.889212</td><td>FALSE</td><td>E3</td></tr>\n",
              "\t<tr><td>S</td><td>19.519187</td><td> TRUE</td><td>E3</td></tr>\n",
              "\t<tr><td>D</td><td>22.114744</td><td>FALSE</td><td>E3</td></tr>\n",
              "\t<tr><td>L</td><td>28.034394</td><td>FALSE</td><td>E3</td></tr>\n",
              "\t<tr><td>M</td><td>21.419958</td><td>FALSE</td><td>E3</td></tr>\n",
              "\t<tr><td>W</td><td>28.451002</td><td>FALSE</td><td>E3</td></tr>\n",
              "\t<tr><td>J</td><td>16.631229</td><td> TRUE</td><td>E3</td></tr>\n",
              "\t<tr><td>V</td><td>26.531535</td><td>FALSE</td><td>E3</td></tr>\n",
              "\t<tr><td>S</td><td>19.971575</td><td> TRUE</td><td>E3</td></tr>\n",
              "\t<tr><td>D</td><td>26.086592</td><td>FALSE</td><td>E3</td></tr>\n",
              "\t<tr><td>L</td><td>25.111496</td><td>FALSE</td><td>E3</td></tr>\n",
              "\t<tr><td>M</td><td>17.532577</td><td> TRUE</td><td>E3</td></tr>\n",
              "</tbody>\n",
              "</table>\n"
            ]
          },
          "metadata": {
            "tags": []
          }
        }
      ]
    },
    {
      "cell_type": "code",
      "metadata": {
        "id": "w3qJK9AcV1Rj"
      },
      "source": [
        ""
      ],
      "execution_count": null,
      "outputs": []
    },
    {
      "cell_type": "markdown",
      "metadata": {
        "id": "kIjelA5sm5Zx"
      },
      "source": [
        "#### Strings como factores\n",
        "Cuando en R se declara una variable como factor, internamente se codifican sus categorías con valores 0 o 1. Por ejemplo, para las variables _Dia_ y _Estacion_ podemos generar sus matriz de diseño, indicando un 1 si el día (o estación) corresponde a la nueva columna generada, 0 si  no:\n",
        "\n",
        " |Dia |Temperatura    |Llueve| Estacion| | Dia.L|Dia.M|Dia.W|Dia.J|Dia.V|Dia.S|Dia.D|Est.1|Est.2|Est.3|\n",
        " |----|------------   |------|---------| |---   |---  |---  |---  |---  |---  |---  |---  |---  |---  |\n",
        " |L\t  |16.300201      |TRUE  |\tE1     | |1     |0    |0    |0    |0    |0    |0    |1    |0    |0    |\n",
        " |M   |21.042854      |FALSE |\tE1     | |0     |1    |0    |0    |0    |0    |0    |1    |0    |0    |\n",
        " |J\t  |31.256043      |FALSE |\tE3     | |0     |0    |0    |1    |0    |0    |0    |0    |0    |1    |\n",
        " |S\t  |40.083514      |FALSE |\tE3     | |0     |0    |0    |0    |0    |1    |0    |0    |0    |1    |\n",
        " \n",
        " Cuando se quiere generar un resumen de una variable categórica, o cuando se quiere incluir una variable de este tipo en el entrenamiento de un modelo será necesario declarar dicha variable como factor."
      ]
    },
    {
      "cell_type": "code",
      "metadata": {
        "trusted": true,
        "id": "UQN71LvGm5Z-"
      },
      "source": [
        "#podemos volver a coercionar las columnas a clase factor,  con la función as.factor\n"
      ],
      "execution_count": null,
      "outputs": []
    },
    {
      "cell_type": "code",
      "metadata": {
        "trusted": true,
        "id": "5kjmwaOUm5aA",
        "outputId": "de0d3bf5-5413-40ed-a9b0-85feb68642d3",
        "colab": {
          "base_uri": "https://localhost:8080/",
          "height": 68
        }
      },
      "source": [
        "# Un poco de exploración --------------------------------\n",
        "# NOTA: Todas las consultas deben ser aplciadas en el dataframe\n",
        "# ¿Cuál es la temperatura promedio cuando llovió?\n",
        "mean(precipitaciones$Temperatura) # Promedio de toda la columna\n",
        "mean(precipitaciones$Temperatura[precipitaciones$Llueve == TRUE])\n",
        "mean(precipitaciones$Temperatura[precipitaciones$Llueve])\n"
      ],
      "execution_count": 25,
      "outputs": [
        {
          "output_type": "display_data",
          "data": {
            "text/plain": [
              "[1] 21.21009"
            ],
            "text/latex": "21.2100937056634",
            "text/markdown": "21.2100937056634",
            "text/html": [
              "21.2100937056634"
            ]
          },
          "metadata": {
            "tags": []
          }
        },
        {
          "output_type": "display_data",
          "data": {
            "text/plain": [
              "[1] 15.32507"
            ],
            "text/latex": "15.3250679294374",
            "text/markdown": "15.3250679294374",
            "text/html": [
              "15.3250679294374"
            ]
          },
          "metadata": {
            "tags": []
          }
        },
        {
          "output_type": "display_data",
          "data": {
            "text/plain": [
              "[1] 15.32507"
            ],
            "text/latex": "15.3250679294374",
            "text/markdown": "15.3250679294374",
            "text/html": [
              "15.3250679294374"
            ]
          },
          "metadata": {
            "tags": []
          }
        }
      ]
    },
    {
      "cell_type": "code",
      "metadata": {
        "id": "rZ6xk-9iX6Ld",
        "outputId": "81c538aa-cc96-4475-c14f-67ae10d0313d",
        "colab": {
          "base_uri": "https://localhost:8080/",
          "height": 51
        }
      },
      "source": [
        "c(TRUE,FALSE,FALSE,TRUE)\n",
        "c(TRUE,FALSE,FALSE,TRUE) == TRUE"
      ],
      "execution_count": 28,
      "outputs": [
        {
          "output_type": "display_data",
          "data": {
            "text/plain": [
              "[1]  TRUE FALSE FALSE  TRUE"
            ],
            "text/latex": "\\begin{enumerate*}\n\\item TRUE\n\\item FALSE\n\\item FALSE\n\\item TRUE\n\\end{enumerate*}\n",
            "text/markdown": "1. TRUE\n2. FALSE\n3. FALSE\n4. TRUE\n\n\n",
            "text/html": [
              "<style>\n",
              ".list-inline {list-style: none; margin:0; padding: 0}\n",
              ".list-inline>li {display: inline-block}\n",
              ".list-inline>li:not(:last-child)::after {content: \"\\00b7\"; padding: 0 .5ex}\n",
              "</style>\n",
              "<ol class=list-inline><li>TRUE</li><li>FALSE</li><li>FALSE</li><li>TRUE</li></ol>\n"
            ]
          },
          "metadata": {
            "tags": []
          }
        },
        {
          "output_type": "display_data",
          "data": {
            "text/plain": [
              "[1]  TRUE FALSE FALSE  TRUE"
            ],
            "text/latex": "\\begin{enumerate*}\n\\item TRUE\n\\item FALSE\n\\item FALSE\n\\item TRUE\n\\end{enumerate*}\n",
            "text/markdown": "1. TRUE\n2. FALSE\n3. FALSE\n4. TRUE\n\n\n",
            "text/html": [
              "<style>\n",
              ".list-inline {list-style: none; margin:0; padding: 0}\n",
              ".list-inline>li {display: inline-block}\n",
              ".list-inline>li:not(:last-child)::after {content: \"\\00b7\"; padding: 0 .5ex}\n",
              "</style>\n",
              "<ol class=list-inline><li>TRUE</li><li>FALSE</li><li>FALSE</li><li>TRUE</li></ol>\n"
            ]
          },
          "metadata": {
            "tags": []
          }
        }
      ]
    },
    {
      "cell_type": "code",
      "metadata": {
        "id": "FaPHCz1bXWhX",
        "outputId": "b1215e67-f56b-4ca7-cde6-cd658acf154f",
        "colab": {
          "base_uri": "https://localhost:8080/",
          "height": 34
        }
      },
      "source": [
        "\n",
        "mean(precipitaciones[precipitaciones$Llueve == T,]$Temperatura)\n",
        "\n",
        "\n",
        "# ¿Cuál es la temperatura promedio cuando NO llovió?\n",
        "\n",
        "\n",
        "\n",
        "#Lo mismo pero sólo de los registros de E1\n"
      ],
      "execution_count": 24,
      "outputs": [
        {
          "output_type": "display_data",
          "data": {
            "text/plain": [
              "[1] 15.32507"
            ],
            "text/latex": "15.3250679294374",
            "text/markdown": "15.3250679294374",
            "text/html": [
              "15.3250679294374"
            ]
          },
          "metadata": {
            "tags": []
          }
        }
      ]
    },
    {
      "cell_type": "code",
      "metadata": {
        "trusted": true,
        "id": "TJuAlpPxm5aC"
      },
      "source": [
        "# ¿Qué día era cuando se alcanzó la mínima temperatura?¿y la ,máxima?\n",
        "#La función which.min #o .max . retorna la posición donde se alcanza el min/max de un vector.\n",
        "\n",
        "# opcion 1\n",
        "\n",
        "# opcion 2\n"
      ],
      "execution_count": null,
      "outputs": []
    },
    {
      "cell_type": "code",
      "metadata": {
        "trusted": true,
        "id": "K9Qv9n_nm5aJ"
      },
      "source": [
        "# Se sabe que la Estación E3 falla todos los días domingo, por lo que se quiere eliminar tales registros de la tabla. Elimínelos!\n",
        "\n"
      ],
      "execution_count": null,
      "outputs": []
    },
    {
      "cell_type": "code",
      "metadata": {
        "trusted": true,
        "id": "nuW7ux65m5aL"
      },
      "source": [
        "dim(precipitaciones)"
      ],
      "execution_count": null,
      "outputs": []
    },
    {
      "cell_type": "markdown",
      "metadata": {
        "id": "5fmGF0Qam5aN"
      },
      "source": [
        "## 5.4 Cómo guardar ambiente de trabajo o variables definidas en el\n",
        "\n",
        "### Directorio de trabajo\n",
        "\n",
        "El directorio de trabajo corresponde a la ubicación en el sistema de archivos, desde donde la sesión de R podrá acceder directamente para guardar o cargar datos.\n"
      ]
    },
    {
      "cell_type": "code",
      "metadata": {
        "trusted": true,
        "id": "OfyO5MKOm5aO"
      },
      "source": [
        "# para saber en qué directorio se está trabajando\n"
      ],
      "execution_count": null,
      "outputs": []
    },
    {
      "cell_type": "code",
      "metadata": {
        "trusted": true,
        "id": "fHZIjYhRm5aQ"
      },
      "source": [
        "# para cambiar el directorio de trabajo\n",
        "\n"
      ],
      "execution_count": null,
      "outputs": []
    },
    {
      "cell_type": "markdown",
      "metadata": {
        "id": "_M-D6sgRm5aU"
      },
      "source": [
        "### Formato rds \n",
        "\n",
        "Una manera de guardar variables creadas en el ambiente de la sessión de R, es mediante la utilización del formato *.rds. Este formato permite guardar los objetos declarados y leerlos rápidamente en cualquier otra sesión que se inicie posteriormente. Es últil por ejemplo para guardar en disco modelos entrenados para ser utilizados para predicciones futuras.\n"
      ]
    },
    {
      "cell_type": "code",
      "metadata": {
        "trusted": true,
        "id": "11jJ5B50m5aV"
      },
      "source": [
        "# Función saveRDS() # Guardar\n",
        "# guarde en el directorio actual el dataframe _precipitaciones_\n"
      ],
      "execution_count": null,
      "outputs": []
    },
    {
      "cell_type": "code",
      "metadata": {
        "trusted": true,
        "id": "DixES_Kjm5ah"
      },
      "source": [
        "# readRDS()  Leer, pero ojo que es necesario asignar  a una variable\n"
      ],
      "execution_count": null,
      "outputs": []
    },
    {
      "cell_type": "markdown",
      "metadata": {
        "id": "_4pmC4cBm5as"
      },
      "source": [
        "### Formato RData\n",
        "\n",
        "Cuando se quiere guardar el ambiente de trabajo completo, o bien un mayor número de objetos ya creados, se puede utilizar la función _save_\n"
      ]
    },
    {
      "cell_type": "code",
      "metadata": {
        "trusted": true,
        "id": "M5yFyJ27m5at"
      },
      "source": [
        "# Función save para guardar uno o más objetos del ambiente.\n",
        "\n"
      ],
      "execution_count": null,
      "outputs": []
    },
    {
      "cell_type": "code",
      "metadata": {
        "trusted": true,
        "id": "YDmd1Npmm5ay"
      },
      "source": [
        "# Eventualmente podemos \"cargar \" a sesión, con la función load()\n"
      ],
      "execution_count": null,
      "outputs": []
    }
  ]
}